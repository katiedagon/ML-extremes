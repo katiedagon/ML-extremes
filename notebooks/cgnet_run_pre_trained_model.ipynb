{
 "cells": [
  {
   "cell_type": "markdown",
   "metadata": {},
   "source": [
    "# Perform imports and environment setup"
   ]
  },
  {
   "cell_type": "code",
   "execution_count": 1,
   "metadata": {},
   "outputs": [
    {
     "name": "stdout",
     "output_type": "stream",
     "text": [
      "/glade/work/tking/cgnet/ClimateNet\n"
     ]
    }
   ],
   "source": [
    "cd /glade/work/tking/cgnet/ClimateNet"
   ]
  },
  {
   "cell_type": "code",
   "execution_count": 2,
   "metadata": {},
   "outputs": [],
   "source": [
    "import os\n",
    "import sys\n",
    "import numpy as np\n",
    "os.environ[\"PROJ_LIB\"] = \"/glade/p/cgd/amp/jet/collections/anaconda3/envs/climatenet/share/proj\"\n",
    "sys.path.append(\"/glade/u/home/tking/cgnet/ClimateNet\")\n",
    "\n",
    "from climatenet.utils.data import ClimateDatasetLabeled, ClimateDataset\n",
    "from climatenet.models import CGNet\n",
    "from climatenet.utils.utils import Config\n",
    "from climatenet.track_events import track_events\n",
    "from climatenet.analyze_events import analyze_events\n",
    "from climatenet.visualize_events import visualize_events\n",
    "\n",
    "from os import path"
   ]
  },
  {
   "cell_type": "markdown",
   "metadata": {},
   "source": [
    "# Functions for setting up configurations, using pre-trained model, and creating TC/AR masks"
   ]
  },
  {
   "cell_type": "code",
   "execution_count": 3,
   "metadata": {},
   "outputs": [],
   "source": [
    "def load_model_and_create_masks(year, inference_path, save_dir, config, cgnet, analyze=False, visualize=False):\n",
    "    \"\"\"Load a pre-trained model and use it to create masks of tropical cyclones (mask value = 1)\n",
    "    and atmospheric rivers (mask value = 2)\n",
    "    \n",
    "    Function will create NetCDF mask files and save them in the save_directory.\n",
    "\n",
    "    Parameters:\n",
    "    -----------\n",
    "    year: int\n",
    "        year at which to run model and create masks\n",
    "    inference_path: str\n",
    "        filepath to inference data. It is expected that the year is at the end of the filepath in the format ####\n",
    "    save_dir: str\n",
    "        filepath to where the masks will be saved as .nc files\n",
    "    config: Config object\n",
    "        output from setup_climatenet_config()\n",
    "    cgnet: CGNet object\n",
    "        output from setup_climatenet_config()\n",
    "    analyze: bool (optional)\n",
    "        default is False; if True, will save plots for analyzing events using climatenet.analyze_events().\n",
    "        Note that this can significantly increase the time to run.\n",
    "    visualize : bool (optional)\n",
    "        default is False; if True, will save plots for visualizing events using climatenet.visualize_events().\n",
    "        Note that this can significantly increase the time to run.\n",
    "    \n",
    "    \"\"\"\n",
    "    if not os.path.isdir(save_dir+str(year)):\n",
    "        os.mkdir(save_dir+str(year))\n",
    "    else:\n",
    "        print(\"Warning: might overwrite {}\".format(save_dir+str(year)))\n",
    "    inference = ClimateDataset(inference_path+str(year), config)\n",
    "    class_masks = cgnet.predict(inference) # masks with 1==TC, 2==AR\n",
    "    class_masks.to_netcdf(save_dir+str(year)+\"/class_masks.\"+str(year)+\".nc\")\n",
    "    event_masks = track_events(class_masks) # masks with event IDs\n",
    "    event_masks.to_netcdf(save_dir+str(year)+\"/event_masks.\"+str(year)+\".nc\")\n",
    "    if analyze:\n",
    "        analyze_events(event_masks, class_masks, save_dir+str(year)+\"/\")\n",
    "    if visualize:\n",
    "        visualize_events(event_masks, inference, save_dir+str(year)+\"/\")\n",
    "    print(\"Saved class and event masks to {}\".format(save_dir+str(year)))\n",
    "\n",
    "    return"
   ]
  },
  {
   "cell_type": "code",
   "execution_count": 4,
   "metadata": {},
   "outputs": [],
   "source": [
    "def setup_climatenet_config(config_path, trained_model):\n",
    "    \"\"\"Set up configuration file and load in a pre-trained model\n",
    "    \n",
    "    Parameters:\n",
    "    -----------\n",
    "    config_path: str\n",
    "        filepath to configuration file\n",
    "    trained_model: str\n",
    "        filepath to a pre-trained model\n",
    "    \"\"\"\n",
    "\n",
    "    config = Config(config_path)\n",
    "    cgnet = CGNet(config)\n",
    "    cgnet.load_model(trained_model)\n",
    "    cgnet.network.eval() # gives evaluation stats\n",
    "\n",
    "    return config, cgnet"
   ]
  },
  {
   "cell_type": "markdown",
   "metadata": {},
   "source": [
    "# Load pre-trained model which uses TMQ, V850, U850, and PSL"
   ]
  },
  {
   "cell_type": "code",
   "execution_count": null,
   "metadata": {},
   "outputs": [],
   "source": [
    "# config = Config('/glade/u/home/tking/cgnet/ClimateNet/config.json')  # tmq, v850, u850, and psl\n",
    "# cgnet = CGNet(config)\n",
    "# cgnet.load_model('/glade/u/home/tking/cgnet/trained_cgnet.042922')  # tmq, v850, u850, and psl\n",
    "# cgnet.network.eval() # gives evaluation stats\n",
    "\n",
    "# for year in range(2001, 2015):\n",
    "#     if not os.path.isdir(\"/glade/scratch/tking/results.tmq_psl_v850_u850.{}\".format(year)):\n",
    "#         os.mkdir(\"/glade/scratch/tking/results.tmq_psl_v850_u850.{}\".format(year))\n",
    "#     inference_path = \"/glade/campaign/cgd/amp/jet/ClimateNet/Climate_data_\"+str(year)\n",
    "#     inference = ClimateDataset(inference_path, config)\n",
    "#     class_masks = cgnet.predict(inference) # masks with 1==TC, 2==AR\n",
    "#     class_masks.to_netcdf(\"/glade/scratch/tking/results.tmq_psl_v850_u850.\"+str(year)+\"/class_masks.\"+str(year)+\".test.nc\")\n",
    "#     event_masks = track_events(class_masks) # masks with event IDs\n",
    "#     event_masks.to_netcdf(\"/glade/scratch/tking/results.tmq_psl_v850_u850.\"+str(year)+\"/event_masks.\"+str(year)+\".test.nc\")\n",
    "#     analyze_events(event_masks, class_masks, \"/glade/scratch/tking/results.tmq_psl_v850_u850.\"+str(year)+\"/\")\n",
    "#     # visualize_events(event_masks, inference, \"/glade/scratch/tking/results.tmq_psl_v850_u850.\"+str(year)+\"/\")               "
   ]
  },
  {
   "cell_type": "code",
   "execution_count": null,
   "metadata": {},
   "outputs": [],
   "source": [
    "# %%time\n",
    "\n",
    "# # parameters for setup_climatenet_config()\n",
    "# config_path = '/glade/u/home/tking/cgnet/ClimateNet/config.json'\n",
    "# trained_model = '/glade/u/home/tking/cgnet/trained_cgnet.042922'\n",
    "\n",
    "# # parameters for load_model_and_create_masks()\n",
    "# inference_path = \"/glade/campaign/cgd/amp/jet/ClimateNet/data_processing/extend/2006-2015-RCP26-3hr/\"  # expects year as #### format at end of data directory\n",
    "# save_dir = \"/glade/scratch/tking/results.tmq_psl_v850_u850.\"  # expects year as #### format at end of data directory\n",
    "\n",
    "\n",
    "# config, cgnet = setup_climatenet_config(config_path, trained_model)\n",
    "# for year in range(2006, 2015):\n",
    "#     load_model_and_create_masks(year, inference_path, save_dir, config, cgnet)"
   ]
  },
  {
   "cell_type": "code",
   "execution_count": null,
   "metadata": {},
   "outputs": [],
   "source": [
    "# %%time\n",
    "\n",
    "# # parameters for setup_climatenet_config()\n",
    "# config_path = '/glade/u/home/tking/cgnet/ClimateNet/config.json'\n",
    "# trained_model = '/glade/u/home/tking/cgnet/trained_cgnet.042922'\n",
    "\n",
    "# # parameters for load_model_and_create_masks()\n",
    "# inference_path = \"/glade/campaign/cgd/amp/jet/ClimateNet/data_processing/extend/2006-2015-RCP26-3hr/\"  # expects year as #### format at end of data directory\n",
    "# save_dir = \"/glade/scratch/tking/results.tmq_psl_v850_u850.\"  # expects year as #### format at end of data directory\n",
    "\n",
    "\n",
    "# config, cgnet = setup_climatenet_config(config_path, trained_model)\n",
    "# for year in range(2013, 2015):\n",
    "#     load_model_and_create_masks(year, inference_path, save_dir, config, cgnet)"
   ]
  },
  {
   "cell_type": "code",
   "execution_count": null,
   "metadata": {},
   "outputs": [],
   "source": [
    "# %%time\n",
    "\n",
    "# # parameters for setup_climatenet_config()\n",
    "# config_path = '/glade/u/home/tking/cgnet/ClimateNet/config.json'\n",
    "# trained_model = '/glade/u/home/tking/cgnet/trained_cgnet.042922'\n",
    "\n",
    "# # parameters for load_model_and_create_masks()\n",
    "# inference_path = \"/glade/campaign/cgd/amp/jet/ClimateNet/data_processing/extend/2006-2015-RCP26-3hr/\"  # expects year as #### format at end of data directory\n",
    "# save_dir = \"/glade/scratch/tking/results.tmq_psl_v850_u850.\"  # expects year as #### format at end of data directory\n",
    "\n",
    "\n",
    "# config, cgnet = setup_climatenet_config(config_path, trained_model)\n",
    "# load_model_and_create_masks(2015, inference_path, save_dir, config, cgnet)"
   ]
  },
  {
   "cell_type": "markdown",
   "metadata": {},
   "source": [
    "# Load pre-trained model which uses TMQ and V850"
   ]
  },
  {
   "cell_type": "code",
   "execution_count": 9,
   "metadata": {},
   "outputs": [],
   "source": [
    "# parameters for setup_climatenet_config()\n",
    "config_path = '/glade/work/tking/cgnet/ClimateNet/config.json'\n",
    "trained_model = '/glade/work/tking/cgnet/trained_cgnet.tmq_v850.092822'\n",
    "\n",
    "# parameters for load_model_and_create_masks()\n",
    "inference_path = \"/glade/campaign/cgd/amp/jet/ClimateNet/Climate_data_\"  # expects year as #### format at end of data directory\n",
    "save_dir = \"/glade/scratch/tking/results.tmq_v850.\"  # expects year as #### format at end of data directory"
   ]
  },
  {
   "cell_type": "code",
   "execution_count": 9,
   "metadata": {
    "collapsed": true,
    "jupyter": {
     "outputs_hidden": true
    }
   },
   "outputs": [
    {
     "name": "stderr",
     "output_type": "stream",
     "text": [
      "100%|██████████| 183/183 [06:02<00:00,  1.98s/it]\n"
     ]
    },
    {
     "name": "stdout",
     "output_type": "stream",
     "text": [
      "identifying connected components..\n",
      "tracking components across time..\n"
     ]
    },
    {
     "name": "stderr",
     "output_type": "stream",
     "text": [
      "100%|██████████| 2920/2920 [45:56<00:00,  1.06it/s]\n"
     ]
    },
    {
     "name": "stdout",
     "output_type": "stream",
     "text": [
      "num TCs: 364\n",
      "num ARs: 554\n"
     ]
    },
    {
     "name": "stderr",
     "output_type": "stream",
     "text": [
      "  0%|          | 0/183 [00:00<?, ?it/s]"
     ]
    },
    {
     "name": "stdout",
     "output_type": "stream",
     "text": [
      "Saved class and event masks to /glade/scratch/tking/results.tmq_v850.2001\n"
     ]
    },
    {
     "name": "stderr",
     "output_type": "stream",
     "text": [
      "100%|██████████| 183/183 [05:57<00:00,  1.95s/it]\n"
     ]
    },
    {
     "name": "stdout",
     "output_type": "stream",
     "text": [
      "identifying connected components..\n",
      "tracking components across time..\n"
     ]
    },
    {
     "name": "stderr",
     "output_type": "stream",
     "text": [
      "100%|██████████| 2920/2920 [46:50<00:00,  1.04it/s]\n"
     ]
    },
    {
     "name": "stdout",
     "output_type": "stream",
     "text": [
      "num TCs: 386\n",
      "num ARs: 533\n"
     ]
    },
    {
     "name": "stderr",
     "output_type": "stream",
     "text": [
      "  0%|          | 0/183 [00:00<?, ?it/s]"
     ]
    },
    {
     "name": "stdout",
     "output_type": "stream",
     "text": [
      "Saved class and event masks to /glade/scratch/tking/results.tmq_v850.2002\n"
     ]
    },
    {
     "name": "stderr",
     "output_type": "stream",
     "text": [
      "100%|██████████| 183/183 [06:00<00:00,  1.97s/it]\n"
     ]
    },
    {
     "name": "stdout",
     "output_type": "stream",
     "text": [
      "identifying connected components..\n",
      "tracking components across time..\n"
     ]
    },
    {
     "name": "stderr",
     "output_type": "stream",
     "text": [
      "100%|██████████| 2920/2920 [46:50<00:00,  1.04it/s]\n"
     ]
    },
    {
     "name": "stdout",
     "output_type": "stream",
     "text": [
      "num TCs: 354\n",
      "num ARs: 543\n"
     ]
    },
    {
     "name": "stderr",
     "output_type": "stream",
     "text": [
      "100%|██████████| 183/183 [05:58<00:00,  1.96s/it]\n"
     ]
    },
    {
     "name": "stdout",
     "output_type": "stream",
     "text": [
      "Saved class and event masks to /glade/scratch/tking/results.tmq_v850.2003\n",
      "identifying connected components..\n",
      "tracking components across time..\n"
     ]
    },
    {
     "name": "stderr",
     "output_type": "stream",
     "text": [
      "100%|██████████| 2920/2920 [46:59<00:00,  1.04it/s]\n"
     ]
    },
    {
     "name": "stdout",
     "output_type": "stream",
     "text": [
      "num TCs: 335\n",
      "num ARs: 525\n"
     ]
    },
    {
     "name": "stderr",
     "output_type": "stream",
     "text": [
      "  0%|          | 0/183 [00:00<?, ?it/s]"
     ]
    },
    {
     "name": "stdout",
     "output_type": "stream",
     "text": [
      "Saved class and event masks to /glade/scratch/tking/results.tmq_v850.2004\n"
     ]
    },
    {
     "name": "stderr",
     "output_type": "stream",
     "text": [
      "100%|██████████| 183/183 [06:02<00:00,  1.98s/it]\n"
     ]
    },
    {
     "name": "stdout",
     "output_type": "stream",
     "text": [
      "identifying connected components..\n",
      "tracking components across time..\n"
     ]
    },
    {
     "name": "stderr",
     "output_type": "stream",
     "text": [
      "100%|██████████| 2920/2920 [47:22<00:00,  1.03it/s]\n"
     ]
    },
    {
     "name": "stdout",
     "output_type": "stream",
     "text": [
      "num TCs: 322\n",
      "num ARs: 534\n",
      "Saved class and event masks to /glade/scratch/tking/results.tmq_v850.2005\n",
      "CPU times: user 4h 6min 20s, sys: 12min 33s, total: 4h 18min 53s\n",
      "Wall time: 5h 40min 49s\n"
     ]
    }
   ],
   "source": [
    "%%time\n",
    "config, cgnet = setup_climatenet_config(config_path, trained_model)\n",
    "\n",
    "for year in range(2001, 2006):\n",
    "    load_model_and_create_masks(year, inference_path, save_dir, config, cgnet)"
   ]
  },
  {
   "cell_type": "code",
   "execution_count": 10,
   "metadata": {},
   "outputs": [
    {
     "name": "stderr",
     "output_type": "stream",
     "text": [
      "  0%|          | 0/183 [00:00<?, ?it/s]"
     ]
    },
    {
     "name": "stdout",
     "output_type": "stream",
     "text": [
      "Warning: might overwrite /glade/scratch/tking/results.tmq_v850.2011\n"
     ]
    },
    {
     "name": "stderr",
     "output_type": "stream",
     "text": [
      "100%|██████████| 183/183 [09:25<00:00,  3.09s/it]\n"
     ]
    },
    {
     "name": "stdout",
     "output_type": "stream",
     "text": [
      "identifying connected components..\n",
      "tracking components across time..\n"
     ]
    },
    {
     "name": "stderr",
     "output_type": "stream",
     "text": [
      "100%|██████████| 2920/2920 [45:44<00:00,  1.06it/s]\n"
     ]
    },
    {
     "name": "stdout",
     "output_type": "stream",
     "text": [
      "num TCs: 370\n",
      "num ARs: 522\n"
     ]
    },
    {
     "name": "stderr",
     "output_type": "stream",
     "text": [
      "  0%|          | 0/183 [00:00<?, ?it/s]"
     ]
    },
    {
     "name": "stdout",
     "output_type": "stream",
     "text": [
      "Saved class and event masks to /glade/scratch/tking/results.tmq_v850.2011\n"
     ]
    },
    {
     "name": "stderr",
     "output_type": "stream",
     "text": [
      "100%|██████████| 183/183 [08:18<00:00,  2.72s/it]\n"
     ]
    },
    {
     "name": "stdout",
     "output_type": "stream",
     "text": [
      "identifying connected components..\n",
      "tracking components across time..\n"
     ]
    },
    {
     "name": "stderr",
     "output_type": "stream",
     "text": [
      "100%|██████████| 2920/2920 [45:13<00:00,  1.08it/s]\n"
     ]
    },
    {
     "name": "stdout",
     "output_type": "stream",
     "text": [
      "num TCs: 374\n",
      "num ARs: 554\n"
     ]
    },
    {
     "name": "stderr",
     "output_type": "stream",
     "text": [
      "  0%|          | 0/183 [00:00<?, ?it/s]"
     ]
    },
    {
     "name": "stdout",
     "output_type": "stream",
     "text": [
      "Saved class and event masks to /glade/scratch/tking/results.tmq_v850.2012\n"
     ]
    },
    {
     "name": "stderr",
     "output_type": "stream",
     "text": [
      "100%|██████████| 183/183 [08:31<00:00,  2.80s/it]\n"
     ]
    },
    {
     "name": "stdout",
     "output_type": "stream",
     "text": [
      "identifying connected components..\n",
      "tracking components across time..\n"
     ]
    },
    {
     "name": "stderr",
     "output_type": "stream",
     "text": [
      "100%|██████████| 2920/2920 [45:49<00:00,  1.06it/s]\n"
     ]
    },
    {
     "name": "stdout",
     "output_type": "stream",
     "text": [
      "num TCs: 375\n",
      "num ARs: 518\n"
     ]
    },
    {
     "name": "stderr",
     "output_type": "stream",
     "text": [
      "  0%|          | 0/183 [00:00<?, ?it/s]"
     ]
    },
    {
     "name": "stdout",
     "output_type": "stream",
     "text": [
      "Saved class and event masks to /glade/scratch/tking/results.tmq_v850.2013\n"
     ]
    },
    {
     "name": "stderr",
     "output_type": "stream",
     "text": [
      "100%|██████████| 183/183 [08:29<00:00,  2.79s/it]\n"
     ]
    },
    {
     "name": "stdout",
     "output_type": "stream",
     "text": [
      "identifying connected components..\n",
      "tracking components across time..\n"
     ]
    },
    {
     "name": "stderr",
     "output_type": "stream",
     "text": [
      "100%|██████████| 2920/2920 [46:26<00:00,  1.05it/s]\n"
     ]
    },
    {
     "name": "stdout",
     "output_type": "stream",
     "text": [
      "num TCs: 422\n",
      "num ARs: 545\n"
     ]
    },
    {
     "name": "stderr",
     "output_type": "stream",
     "text": [
      "  0%|          | 0/183 [00:00<?, ?it/s]"
     ]
    },
    {
     "name": "stdout",
     "output_type": "stream",
     "text": [
      "Saved class and event masks to /glade/scratch/tking/results.tmq_v850.2014\n"
     ]
    },
    {
     "name": "stderr",
     "output_type": "stream",
     "text": [
      "100%|██████████| 183/183 [08:34<00:00,  2.81s/it]\n"
     ]
    },
    {
     "name": "stdout",
     "output_type": "stream",
     "text": [
      "identifying connected components..\n",
      "tracking components across time..\n"
     ]
    },
    {
     "name": "stderr",
     "output_type": "stream",
     "text": [
      "100%|██████████| 2920/2920 [47:09<00:00,  1.03it/s]\n"
     ]
    },
    {
     "name": "stdout",
     "output_type": "stream",
     "text": [
      "num TCs: 414\n",
      "num ARs: 499\n",
      "Saved class and event masks to /glade/scratch/tking/results.tmq_v850.2015\n",
      "CPU times: user 4h 4min 27s, sys: 12min 32s, total: 4h 16min 59s\n",
      "Wall time: 5h 51min 15s\n"
     ]
    }
   ],
   "source": [
    "%%time\n",
    "config, cgnet = setup_climatenet_config(config_path, trained_model)\n",
    "inference_path = \"/glade/campaign/cgd/amp/jet/ClimateNet/data_processing/extend/2006-2015-RCP26-3hr/\"  # expects year as #### format at end of data directory\n",
    "\n",
    "# for year in range(2006, 2016):\n",
    "for year in range(2011, 2016):\n",
    "    load_model_and_create_masks(year, inference_path, save_dir, config, cgnet)"
   ]
  },
  {
   "cell_type": "code",
   "execution_count": null,
   "metadata": {},
   "outputs": [],
   "source": [
    "# for year in range(2086, 2100):\n",
    "#     load_model_and_create_masks(year, inference_path, save_dir, config, cgnet)\n"
   ]
  },
  {
   "cell_type": "code",
   "execution_count": null,
   "metadata": {},
   "outputs": [],
   "source": []
  },
  {
   "cell_type": "code",
   "execution_count": null,
   "metadata": {},
   "outputs": [],
   "source": []
  },
  {
   "cell_type": "code",
   "execution_count": null,
   "metadata": {},
   "outputs": [],
   "source": []
  },
  {
   "cell_type": "code",
   "execution_count": null,
   "metadata": {},
   "outputs": [],
   "source": []
  },
  {
   "cell_type": "code",
   "execution_count": null,
   "metadata": {},
   "outputs": [],
   "source": []
  },
  {
   "cell_type": "markdown",
   "metadata": {},
   "source": [
    "# Load pre-trained model which uses TMQ only"
   ]
  },
  {
   "cell_type": "code",
   "execution_count": 5,
   "metadata": {},
   "outputs": [],
   "source": [
    "# parameters for setup_climatenet_config()\n",
    "config_path_tmq = \"/glade/work/tking/cgnet/ClimateNet/config.json\"\n",
    "trained_model_tmq = \"/glade/work/tking/cgnet/trained_cgnet.tmq_only.091922\"  # USING NEW MODEL WITH CORRECT CONFIGS\n",
    "\n",
    "# parameters for load_model_and_create_masks()\n",
    "# up to 2005:\n",
    "# inference_path = \"/glade/campaign/cgd/amp/jet/ClimateNet/Climate_data_\"  # expects year as #### format at end of data directory\n",
    "# after 2006:\n",
    "inference_path = \"/glade/campaign/cgd/amp/jet/ClimateNet/data_processing/extend/2006-2015-RCP26-3hr/\"\n",
    "save_dir_tmq = \"/glade/scratch/tking/results.tmq_only.\"  # expects year as #### format at end of data directory"
   ]
  },
  {
   "cell_type": "code",
   "execution_count": 6,
   "metadata": {},
   "outputs": [
    {
     "name": "stdout",
     "output_type": "stream",
     "text": [
      "CPU times: user 1.52 s, sys: 881 ms, total: 2.4 s\n",
      "Wall time: 5.36 s\n"
     ]
    }
   ],
   "source": [
    "%%time\n",
    "config, cgnet = setup_climatenet_config(config_path_tmq, trained_model_tmq)"
   ]
  },
  {
   "cell_type": "code",
   "execution_count": 7,
   "metadata": {},
   "outputs": [
    {
     "name": "stderr",
     "output_type": "stream",
     "text": [
      "100%|██████████| 183/183 [08:45<00:00,  2.87s/it]\n"
     ]
    },
    {
     "name": "stdout",
     "output_type": "stream",
     "text": [
      "identifying connected components..\n",
      "tracking components across time..\n"
     ]
    },
    {
     "name": "stderr",
     "output_type": "stream",
     "text": [
      "100%|██████████| 2920/2920 [41:26<00:00,  1.17it/s]\n"
     ]
    },
    {
     "name": "stdout",
     "output_type": "stream",
     "text": [
      "num TCs: 263\n",
      "num ARs: 428\n",
      "Saved class and event masks to /glade/scratch/tking/results.tmq_only.2015\n"
     ]
    }
   ],
   "source": [
    "# for year in range(2000, 2005):\n",
    "# for year in range(2006, 2011):\n",
    "# for year in range(2013, 2015):\n",
    "#     load_model_and_create_masks(year, inference_path, save_dir_tmq, config, cgnet)\n",
    "# load_model_and_create_masks(2015, inference_path, save_dir_tmq, config, cgnet)"
   ]
  },
  {
   "cell_type": "code",
   "execution_count": null,
   "metadata": {},
   "outputs": [],
   "source": []
  },
  {
   "cell_type": "code",
   "execution_count": null,
   "metadata": {},
   "outputs": [],
   "source": []
  },
  {
   "cell_type": "code",
   "execution_count": null,
   "metadata": {},
   "outputs": [],
   "source": []
  },
  {
   "cell_type": "code",
   "execution_count": null,
   "metadata": {},
   "outputs": [],
   "source": []
  },
  {
   "cell_type": "code",
   "execution_count": 1,
   "metadata": {},
   "outputs": [
    {
     "name": "stdout",
     "output_type": "stream",
     "text": [
      "\u001b[0m\u001b[38;5;27mtmq_only\u001b[0m/  \u001b[38;5;27mtmq_psl_v850_u850\u001b[0m/  \u001b[38;5;27mtmq_v850\u001b[0m/\n"
     ]
    }
   ],
   "source": [
    "ls /glade/p/cgd/ccr/people/tking/cgnet_masks/"
   ]
  },
  {
   "cell_type": "code",
   "execution_count": 12,
   "metadata": {},
   "outputs": [],
   "source": [
    "# ls /glade/scratch/tking/results.tmq_only*/*mask*"
   ]
  },
  {
   "cell_type": "code",
   "execution_count": null,
   "metadata": {},
   "outputs": [],
   "source": []
  }
 ],
 "metadata": {
  "kernelspec": {
   "display_name": "lbltorchplus",
   "language": "python",
   "name": "lbltorchplus"
  },
  "language_info": {
   "codemirror_mode": {
    "name": "ipython",
    "version": 3
   },
   "file_extension": ".py",
   "mimetype": "text/x-python",
   "name": "python",
   "nbconvert_exporter": "python",
   "pygments_lexer": "ipython3",
   "version": "3.6.10"
  }
 },
 "nbformat": 4,
 "nbformat_minor": 4
}
