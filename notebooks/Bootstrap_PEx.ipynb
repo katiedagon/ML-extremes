{
 "cells": [
  {
   "cell_type": "markdown",
   "id": "9781fcfc-3301-46ef-86c5-fecb7520a41a",
   "metadata": {},
   "source": [
    "# Bootstrap Resampling for Extreme Precipitation Analysis"
   ]
  },
  {
   "cell_type": "code",
   "execution_count": 1,
   "id": "cef6e23d-80f0-4180-9230-e89e0fb8aec7",
   "metadata": {},
   "outputs": [],
   "source": [
    "import numpy as np\n",
    "import xarray as xr\n",
    "import matplotlib.pyplot as plt\n",
    "import matplotlib as mpl\n",
    "import xesmf as xe\n",
    "import nc_time_axis\n",
    "import cftime \n",
    "import cartopy.crs as ccrs\n",
    "import cartopy.feature as cfeature\n",
    "from cartopy.util import add_cyclic_point\n",
    "from scipy import stats"
   ]
  },
  {
   "cell_type": "code",
   "execution_count": 2,
   "id": "28c5e3af-ab6b-44f6-86ee-e75f692794fa",
   "metadata": {},
   "outputs": [
    {
     "name": "stderr",
     "output_type": "stream",
     "text": [
      "/glade/work/kdagon/miniconda/envs/PEx/lib/python3.9/site-packages/distributed/node.py:160: UserWarning: Port 8787 is already in use.\n",
      "Perhaps you already have a cluster running?\n",
      "Hosting the HTTP server on port 46371 instead\n",
      "  warnings.warn(\n"
     ]
    }
   ],
   "source": [
    "# Import dask\n",
    "import dask\n",
    "\n",
    "# Use dask jobqueue\n",
    "from dask_jobqueue import PBSCluster\n",
    "\n",
    "# Import a client\n",
    "from dask.distributed import Client\n",
    "\n",
    "# Setup your PBSCluster\n",
    "cluster = PBSCluster(\n",
    "    cores=1, # The number of cores you want\n",
    "    memory='10GB', # Amount of memory\n",
    "    processes=1, # How many processes\n",
    "    queue='casper', # The type of queue to utilize (/glade/u/apps/dav/opt/usr/bin/execcasper)\n",
    "    local_directory='/glade/scratch/kdagon/dask-local', # Use your dask-local directory\n",
    "    resource_spec='select=1:ncpus=1:mem=10GB', # Specify resources\n",
    "    project='P06010014', # Input your project ID here\n",
    "    walltime='04:00:00', # Amount of wall time\n",
    "    interface='ib0', # Interface to use\n",
    ")\n",
    "\n",
    "# Scale up -- how to determine this number?\n",
    "# Here asking for 10 or 20 nodes (10 or 20 dask workers)\n",
    "cluster.scale(10)\n",
    "\n",
    "# Adaptive scaling option!\n",
    "#cluster.adapt(minimum=1, maximum=100, wait_count=60)\n",
    "\n",
    "# Change your url to the dask dashboard so you can see it\n",
    "dask.config.set({'distributed.dashboard.link':'https://jupyterhub.hpc.ucar.edu/stable/user/{USER}/proxy/{port}/status'})\n",
    "\n",
    "# Setup your client\n",
    "client = Client(cluster)"
   ]
  },
  {
   "cell_type": "code",
   "execution_count": 3,
   "id": "e3809696-3840-478f-82d6-f437a53d72ae",
   "metadata": {},
   "outputs": [
    {
     "data": {
      "text/html": [
       "\n",
       "            <div>\n",
       "                <div style=\"\n",
       "                    width: 24px;\n",
       "                    height: 24px;\n",
       "                    background-color: #e1e1e1;\n",
       "                    border: 3px solid #9D9D9D;\n",
       "                    border-radius: 5px;\n",
       "                    position: absolute;\"> </div>\n",
       "                <div style=\"margin-left: 48px;\">\n",
       "                    <h3 style=\"margin-bottom: 0px;\">Client</h3>\n",
       "                    <p style=\"color: #9D9D9D; margin-bottom: 0px;\">Client-cd6c0786-150d-11ed-8221-3cecef1b11fa</p>\n",
       "                    <table style=\"width: 100%; text-align: left;\">\n",
       "                    \n",
       "                <tr>\n",
       "                    <td style=\"text-align: left;\"><strong>Connection method:</strong> Cluster object</td>\n",
       "                    <td style=\"text-align: left;\"><strong>Cluster type:</strong> PBSCluster</td>\n",
       "                </tr>\n",
       "                \n",
       "                <tr>\n",
       "                    <td style=\"text-align: left;\">\n",
       "                        <strong>Dashboard: </strong>\n",
       "                        <a href=\"https://jupyterhub.hpc.ucar.edu/stable/user/kdagon/proxy/46371/status\">https://jupyterhub.hpc.ucar.edu/stable/user/kdagon/proxy/46371/status</a>\n",
       "                    </td>\n",
       "                    <td style=\"text-align: left;\"></td>\n",
       "                </tr>\n",
       "                \n",
       "                    </table>\n",
       "                    \n",
       "                <details>\n",
       "                <summary style=\"margin-bottom: 20px;\"><h3 style=\"display: inline;\">Cluster Info</h3></summary>\n",
       "                \n",
       "            <div class=\"jp-RenderedHTMLCommon jp-RenderedHTML jp-mod-trusted jp-OutputArea-output\">\n",
       "                <div style=\"\n",
       "                    width: 24px;\n",
       "                    height: 24px;\n",
       "                    background-color: #e1e1e1;\n",
       "                    border: 3px solid #9D9D9D;\n",
       "                    border-radius: 5px;\n",
       "                    position: absolute;\"> </div>\n",
       "                <div style=\"margin-left: 48px;\">\n",
       "                    <h3 style=\"margin-bottom: 0px; margin-top: 0px;\">PBSCluster</h3>\n",
       "                    <p style=\"color: #9D9D9D; margin-bottom: 0px;\">5c7f8076</p>\n",
       "                    <table style=\"width: 100%; text-align: left;\">\n",
       "                    \n",
       "            <tr>\n",
       "                <td style=\"text-align: left;\">\n",
       "                    <strong>Dashboard:</strong> <a href=\"https://jupyterhub.hpc.ucar.edu/stable/user/kdagon/proxy/46371/status\">https://jupyterhub.hpc.ucar.edu/stable/user/kdagon/proxy/46371/status</a>\n",
       "                </td>\n",
       "                <td style=\"text-align: left;\"><strong>Workers:</strong> 0</td>\n",
       "            </tr>\n",
       "            <tr>\n",
       "                <td style=\"text-align: left;\">\n",
       "                    <strong>Total threads:</strong>\n",
       "                    0\n",
       "                </td>\n",
       "                <td style=\"text-align: left;\">\n",
       "                    <strong>Total memory:</strong>\n",
       "                    0 B\n",
       "                </td>\n",
       "            </tr>\n",
       "        \n",
       "                    </table>\n",
       "                    <details>\n",
       "                    <summary style=\"margin-bottom: 20px;\"><h3 style=\"display: inline;\">Scheduler Info</h3></summary>\n",
       "                    \n",
       "        <div style=\"\">\n",
       "            \n",
       "            <div>\n",
       "                <div style=\"\n",
       "                    width: 24px;\n",
       "                    height: 24px;\n",
       "                    background-color: #FFF7E5;\n",
       "                    border: 3px solid #FF6132;\n",
       "                    border-radius: 5px;\n",
       "                    position: absolute;\"> </div>\n",
       "                <div style=\"margin-left: 48px;\">\n",
       "                    <h3 style=\"margin-bottom: 0px;\">Scheduler</h3>\n",
       "                    <p style=\"color: #9D9D9D; margin-bottom: 0px;\">Scheduler-2b91dcc3-6a6d-40c9-b3e2-51d9d285b17c</p>\n",
       "                    <table style=\"width: 100%; text-align: left;\">\n",
       "                        <tr>\n",
       "                            <td style=\"text-align: left;\"><strong>Comm:</strong> tcp://10.12.206.54:41114</td>\n",
       "                            <td style=\"text-align: left;\"><strong>Workers:</strong> 0</td>\n",
       "                        </tr>\n",
       "                        <tr>\n",
       "                            <td style=\"text-align: left;\">\n",
       "                                <strong>Dashboard:</strong> <a href=\"https://jupyterhub.hpc.ucar.edu/stable/user/kdagon/proxy/46371/status\">https://jupyterhub.hpc.ucar.edu/stable/user/kdagon/proxy/46371/status</a>\n",
       "                            </td>\n",
       "                            <td style=\"text-align: left;\">\n",
       "                                <strong>Total threads:</strong>\n",
       "                                0\n",
       "                            </td>\n",
       "                        </tr>\n",
       "                        <tr>\n",
       "                            <td style=\"text-align: left;\">\n",
       "                                <strong>Started:</strong>\n",
       "                                Just now\n",
       "                            </td>\n",
       "                            <td style=\"text-align: left;\">\n",
       "                                <strong>Total memory:</strong>\n",
       "                                0 B\n",
       "                            </td>\n",
       "                        </tr>\n",
       "                    </table>\n",
       "                </div>\n",
       "            </div>\n",
       "        \n",
       "            <details style=\"margin-left: 48px;\">\n",
       "            <summary style=\"margin-bottom: 20px;\"><h3 style=\"display: inline;\">Workers</h3></summary>\n",
       "            \n",
       "            </details>\n",
       "        </div>\n",
       "        \n",
       "                    </details>\n",
       "                </div>\n",
       "            </div>\n",
       "        \n",
       "                </details>\n",
       "                \n",
       "                </div>\n",
       "            </div>\n",
       "        "
      ],
      "text/plain": [
       "<Client: 'tcp://10.12.206.54:41114' processes=0 threads=0, memory=0 B>"
      ]
     },
     "execution_count": 3,
     "metadata": {},
     "output_type": "execute_result"
    }
   ],
   "source": [
    "client"
   ]
  },
  {
   "cell_type": "markdown",
   "id": "c8186a2e-7332-4db2-b696-bc7466be60b4",
   "metadata": {},
   "source": [
    "## Read landfrac to subset land points"
   ]
  },
  {
   "cell_type": "code",
   "execution_count": 4,
   "id": "0d9e6289-e768-4c1d-8dc0-59c60c199e52",
   "metadata": {},
   "outputs": [],
   "source": [
    "postprocessing_filepath = '/glade/campaign/cgd/ccr/kdagon/dlfront/postprocessing/'\n",
    "landfrac_file = 'landfrac_1deg_bil.nc'"
   ]
  },
  {
   "cell_type": "code",
   "execution_count": 5,
   "id": "c38b794b-d796-4bef-b3c2-6004dae830c9",
   "metadata": {},
   "outputs": [],
   "source": [
    "landfrac = xr.open_dataarray(postprocessing_filepath+landfrac_file)"
   ]
  },
  {
   "cell_type": "markdown",
   "id": "9e5c0083-b569-4dc9-914c-46cf996a8617",
   "metadata": {},
   "source": [
    "## Read and process extreme precipitation given input file and percentile"
   ]
  },
  {
   "cell_type": "code",
   "execution_count": 29,
   "id": "931d9522-f141-48f4-888c-eda3545ba96a",
   "metadata": {},
   "outputs": [],
   "source": [
    "def process_PEx(path, file, landfrac, percentile):\n",
    "    PRECT_1deg = xr.open_dataarray(path+file, chunks={'time':600, 'lat':10, 'lon':20})\n",
    "    \n",
    "    # subset for a 15-year climatology (if applicable)\n",
    "    if PRECT_1deg.shape[0] > 43800:\n",
    "        PRECT_1deg = PRECT_1deg[:43800]\n",
    "    \n",
    "    # subset for land only (optional; comment out to use whole domain)\n",
    "    PRECT_1deg = PRECT_1deg.where(landfrac > 0)\n",
    "    \n",
    "    # subset for CONUS only\n",
    "    PRECT_CONUS = PRECT_1deg.sel(lat=slice(26,50), lon=slice(-125,-68))\n",
    "    \n",
    "    quantile = percentile/100\n",
    "    \n",
    "    # PEx by season\n",
    "    pX_season = PRECT_CONUS.chunk({'time': -1}).groupby(\"time.season\").quantile(quantile, dim='time')\n",
    "    PEx_season = PRECT_CONUS.groupby(\"time.season\").where(PRECT_CONUS.groupby(\"time.season\") > pX_season)\n",
    "    \n",
    "    # select seasonal values\n",
    "    PEx_DJF = PEx_season.sel(time=PEx_season.time.dt.season==\"DJF\")\n",
    "    PEx_MAM = PEx_season.sel(time=PEx_season.time.dt.season==\"MAM\")\n",
    "    PEx_JJA = PEx_season.sel(time=PEx_season.time.dt.season==\"JJA\")\n",
    "    PEx_SON = PEx_season.sel(time=PEx_season.time.dt.season==\"SON\")\n",
    "    \n",
    "    return(PEx_DJF, PEx_MAM, PEx_JJA, PEx_SON)"
   ]
  },
  {
   "cell_type": "markdown",
   "id": "ae11b8ae-9b31-497f-a706-65c18338b5a3",
   "metadata": {},
   "source": [
    "#### Set percentile"
   ]
  },
  {
   "cell_type": "code",
   "execution_count": 13,
   "id": "b0b3e96e-8028-4b53-b40d-85f13b441e33",
   "metadata": {},
   "outputs": [],
   "source": [
    "percentile = 90"
   ]
  },
  {
   "cell_type": "code",
   "execution_count": 30,
   "id": "ef5ba1e8-e03d-4c6c-a3a4-81f51841d813",
   "metadata": {},
   "outputs": [],
   "source": [
    "PRECT_file = 'PRECT_3hravg_NA_hist_rcp26_1deg_bil.nc' # bilinear interpolation, units are m/s\n",
    "#PRECT_file = 'PRECT_3hravg_NA_hist_rcp26_1deg_cons.nc' # conservative regridding\n",
    "PEx_DJF, PEx_MAM, PEx_JJA, PEx_SON = process_PEx(postprocessing_filepath, PRECT_file, landfrac, percentile)"
   ]
  },
  {
   "cell_type": "code",
   "execution_count": 31,
   "id": "87188969-1e50-4b86-90ab-b1e11b6289c4",
   "metadata": {},
   "outputs": [],
   "source": [
    "PRECT_file_rcp = 'PRECT_3hravg_NA_rcp85_1deg_bil.nc'\n",
    "PEx_DJF_rcp, PEx_MAM_rcp, PEx_JJA_rcp, PEx_SON_rcp = process_PEx(postprocessing_filepath, PRECT_file_rcp, landfrac, percentile)"
   ]
  },
  {
   "cell_type": "markdown",
   "id": "59596519-a3af-41a7-b038-b95ea1be320d",
   "metadata": {},
   "source": [
    "## Bootstrap resampling"
   ]
  },
  {
   "cell_type": "markdown",
   "id": "c843c180-2295-4ccf-960c-28d5128f36d9",
   "metadata": {},
   "source": [
    "### Create components for bootstrapping"
   ]
  },
  {
   "cell_type": "code",
   "execution_count": 20,
   "id": "434e0eec-b044-4134-b4bd-a896a2b2cde6",
   "metadata": {},
   "outputs": [],
   "source": [
    "def process_timeseries(P1, P2):\n",
    "\n",
    "    # extreme precipitation for each simulation\n",
    "    P_concat = xr.concat([P1, P2], dim='time')\n",
    "    \n",
    "    return(P_concat)"
   ]
  },
  {
   "cell_type": "code",
   "execution_count": 32,
   "id": "33cf0a4f-9e57-420e-aeb3-1918e66ee9fb",
   "metadata": {},
   "outputs": [],
   "source": [
    "# seasonal timeseries\n",
    "PEx_DJF_concat = process_timeseries(PEx_DJF, PEx_DJF_rcp)\n",
    "PEx_MAM_concat = process_timeseries(PEx_MAM, PEx_MAM_rcp)\n",
    "PEx_JJA_concat = process_timeseries(PEx_JJA, PEx_JJA_rcp)\n",
    "PEx_SON_concat = process_timeseries(PEx_SON, PEx_SON_rcp)"
   ]
  },
  {
   "cell_type": "code",
   "execution_count": 33,
   "id": "230a67c1-8804-4497-bf68-bbc935871810",
   "metadata": {},
   "outputs": [],
   "source": [
    "# delete to reset memory\n",
    "del PEx_DJF_concat_compute\n",
    "del PEx_MAM_concat_compute\n",
    "del PEx_JJA_concat_compute\n",
    "del PEx_SON_concat_compute"
   ]
  },
  {
   "cell_type": "code",
   "execution_count": 34,
   "id": "d0633334-fa14-49fb-b331-5057f14f136c",
   "metadata": {},
   "outputs": [
    {
     "name": "stdout",
     "output_type": "stream",
     "text": [
      "CPU times: user 10.2 s, sys: 791 ms, total: 11 s\n",
      "Wall time: 32.9 s\n"
     ]
    }
   ],
   "source": [
    "%%time\n",
    "# compute values to load into memory\n",
    "PEx_DJF_concat_compute = PEx_DJF_concat.compute()"
   ]
  },
  {
   "cell_type": "code",
   "execution_count": 35,
   "id": "0edaeace-2e3a-4716-8c55-434a3d6d2e98",
   "metadata": {},
   "outputs": [
    {
     "name": "stdout",
     "output_type": "stream",
     "text": [
      "CPU times: user 29.7 s, sys: 2.12 s, total: 31.8 s\n",
      "Wall time: 1min 34s\n"
     ]
    }
   ],
   "source": [
    "%%time\n",
    "# compute the rest of the seasons\n",
    "PEx_MAM_concat_compute = PEx_MAM_concat.compute()\n",
    "PEx_JJA_concat_compute = PEx_JJA_concat.compute()\n",
    "PEx_SON_concat_compute = PEx_SON_concat.compute()"
   ]
  },
  {
   "cell_type": "code",
   "execution_count": 36,
   "id": "93847984-8b73-4c33-804c-f68de08fb961",
   "metadata": {},
   "outputs": [],
   "source": [
    "# calculate number of timesteps for each season\n",
    "totalsize_DJF = PEx_DJF_concat.time.size\n",
    "totalsize_MAM = PEx_MAM_concat.time.size\n",
    "totalsize_JJA = PEx_JJA_concat.time.size\n",
    "totalsize_SON = PEx_SON_concat.time.size"
   ]
  },
  {
   "cell_type": "markdown",
   "id": "564da84f-7657-4713-b85b-b71646612194",
   "metadata": {},
   "source": [
    "### DJF"
   ]
  },
  {
   "cell_type": "code",
   "execution_count": 46,
   "id": "ca70bea3-30f2-456a-aa14-a18da552faa4",
   "metadata": {},
   "outputs": [
    {
     "name": "stdout",
     "output_type": "stream",
     "text": [
      "CPU times: user 2min 54s, sys: 3min 19s, total: 6min 13s\n",
      "Wall time: 8min 51s\n"
     ]
    }
   ],
   "source": [
    "%%time\n",
    "# NOTE: load the concatenated arrays into memory first\n",
    "\n",
    "#nsamps = 10\n",
    "nsamps = 1000\n",
    "\n",
    "# initialize a difference array\n",
    "diffs_DJF = xr.zeros_like(PEx_DJF_concat_compute[:nsamps,:,:]).reset_index('time', drop='True').rename({'time': 'sample'})\n",
    "\n",
    "for ind in range(nsamps):\n",
    "    \n",
    "    # sample 1 - set the random seed for reproducibility\n",
    "    np.random.seed(ind+1)\n",
    "    # create the random indices based on totalsize\n",
    "    rand_index = np.random.choice(totalsize_DJF, size=int(totalsize_DJF/2), replace=True)\n",
    "    # randomly sample the concatenated precip across hist/rcp\n",
    "    boot_1 = PEx_DJF_concat_compute.isel(time=rand_index).sum(dim='time') \n",
    "    \n",
    "    # sample 2 - different random seed\n",
    "    np.random.seed(ind+10)\n",
    "    rand_index = np.random.choice(totalsize_DJF, size=int(totalsize_DJF/2), replace=True)\n",
    "    boot_2 = PEx_DJF_concat_compute.isel(time=rand_index).sum(dim='time')\n",
    "       \n",
    "    # final bootstrap sample is the percent difference between sums of each sample\n",
    "    # does it matter which sample is used in the denominator here?\n",
    "    diffs_DJF[ind,...] = 100*(boot_1 - boot_2)/boot_2\n",
    "    \n",
    "    # test first iteration of loop\n",
    "    #break"
   ]
  },
  {
   "cell_type": "code",
   "execution_count": 47,
   "id": "d60565e0-8667-41b6-bc8d-084daa32536d",
   "metadata": {},
   "outputs": [
    {
     "data": {
      "text/plain": [
       "(1000, 25, 58)"
      ]
     },
     "execution_count": 47,
     "metadata": {},
     "output_type": "execute_result"
    }
   ],
   "source": [
    "diffs_DJF.shape"
   ]
  },
  {
   "cell_type": "code",
   "execution_count": 48,
   "id": "8debf4df-b1a0-43c1-b023-ecb2c4837f7b",
   "metadata": {},
   "outputs": [
    {
     "data": {
      "image/png": "[encoded data removed]",
      "text/plain": [
       "<Figure size 432x288 with 2 Axes>"
      ]
     },
     "metadata": {
      "needs_background": "light"
     },
     "output_type": "display_data"
    }
   ],
   "source": [
    "# distribution of values at first sample across space\n",
    "diffs_DJF.isel(sample=0).plot();"
   ]
  },
  {
   "cell_type": "code",
   "execution_count": 49,
   "id": "6da1f008-edb9-4b25-a214-07296fa8ddb4",
   "metadata": {},
   "outputs": [
    {
     "data": {
      "image/png": "[encoded data removed]",
      "text/plain": [
       "<Figure size 432x288 with 1 Axes>"
      ]
     },
     "metadata": {
      "needs_background": "light"
     },
     "output_type": "display_data"
    }
   ],
   "source": [
    "# distribution of values at random spatial point\n",
    "plt.hist(diffs_DJF[:,10,20]);"
   ]
  },
  {
   "cell_type": "code",
   "execution_count": 50,
   "id": "c064b0fb-669f-4313-a779-63bae23171ca",
   "metadata": {},
   "outputs": [
    {
     "name": "stderr",
     "output_type": "stream",
     "text": [
      "/glade/work/kdagon/miniconda/envs/PEx/lib/python3.9/site-packages/numpy/lib/nanfunctions.py:1395: RuntimeWarning: All-NaN slice encountered\n",
      "  result = np.apply_along_axis(_nanquantile_1d, axis, a, q,\n"
     ]
    }
   ],
   "source": [
    "lev_1 = 0.025\n",
    "lev_2 = 0.975\n",
    "\n",
    "DJF_quantiles = diffs_DJF.quantile([lev_1,lev_2], dim='sample')"
   ]
  },
  {
   "cell_type": "code",
   "execution_count": 51,
   "id": "1eff0bd3-bf8a-4560-ad47-80da8dd7ccf0",
   "metadata": {},
   "outputs": [
    {
     "data": {
      "image/png": "[encoded data removed]",
      "text/plain": [
       "<Figure size 432x288 with 2 Axes>"
      ]
     },
     "metadata": {
      "needs_background": "light"
     },
     "output_type": "display_data"
    }
   ],
   "source": [
    "DJF_quantiles.sel(quantile=lev_1).plot();"
   ]
  },
  {
   "cell_type": "code",
   "execution_count": 52,
   "id": "f5022759-6866-4a18-9d9c-027220916db4",
   "metadata": {},
   "outputs": [
    {
     "data": {
      "image/png": "[encoded data removed]",
      "text/plain": [
       "<Figure size 432x288 with 2 Axes>"
      ]
     },
     "metadata": {
      "needs_background": "light"
     },
     "output_type": "display_data"
    }
   ],
   "source": [
    "DJF_quantiles.sel(quantile=lev_2).plot();"
   ]
  },
  {
   "cell_type": "markdown",
   "id": "75e84a57-4356-456f-9dfe-05e30e9ca731",
   "metadata": {},
   "source": [
    "### MAM"
   ]
  },
  {
   "cell_type": "code",
   "execution_count": 53,
   "id": "efb57f0b-5b8b-40df-88d4-aae8ccbe9c70",
   "metadata": {},
   "outputs": [
    {
     "name": "stdout",
     "output_type": "stream",
     "text": [
      "CPU times: user 4min 23s, sys: 3min 29s, total: 7min 52s\n",
      "Wall time: 10min 53s\n"
     ]
    }
   ],
   "source": [
    "%%time\n",
    "# NOTE: load the concatenated arrays into memory first\n",
    "\n",
    "#nsamps = 10\n",
    "nsamps = 1000\n",
    "\n",
    "# initialize a difference array\n",
    "diffs_MAM = xr.zeros_like(PEx_MAM_concat_compute[:nsamps,:,:]).reset_index('time', drop='True').rename({'time': 'sample'})\n",
    "\n",
    "for ind in range(nsamps):\n",
    "    \n",
    "    # sample 1 - set the random seed for reproducibility\n",
    "    np.random.seed(ind+1)\n",
    "    # create the random indices based on totalsize\n",
    "    rand_index = np.random.choice(totalsize_MAM, size=int(totalsize_MAM/2), replace=True)\n",
    "    # randomly sample the concatenated precip across hist/rcp\n",
    "    boot_1 = PEx_MAM_concat_compute.isel(time=rand_index).mean(dim='time') \n",
    "    \n",
    "    # sample 2 - different random seed\n",
    "    np.random.seed(ind+10)\n",
    "    rand_index = np.random.choice(totalsize_MAM, size=int(totalsize_MAM/2), replace=True)\n",
    "    boot_2 = PEx_MAM_concat_compute.isel(time=rand_index).mean(dim='time')\n",
    "    \n",
    "    # final bootstrap sample is the percent difference between sums of each sample\n",
    "    diffs_MAM[ind,...] = 100*(boot_1 - boot_2)/boot_2\n",
    "    \n",
    "    # test first iteration of loop\n",
    "    #break"
   ]
  },
  {
   "cell_type": "code",
   "execution_count": 54,
   "id": "5642d867-09dc-470b-baf8-aa414f2a29fb",
   "metadata": {},
   "outputs": [
    {
     "name": "stderr",
     "output_type": "stream",
     "text": [
      "/glade/work/kdagon/miniconda/envs/PEx/lib/python3.9/site-packages/numpy/lib/nanfunctions.py:1395: RuntimeWarning: All-NaN slice encountered\n",
      "  result = np.apply_along_axis(_nanquantile_1d, axis, a, q,\n"
     ]
    }
   ],
   "source": [
    "MAM_quantiles = diffs_MAM.quantile([lev_1,lev_2], dim='sample')"
   ]
  },
  {
   "cell_type": "markdown",
   "id": "f3c88136-b493-4d64-a256-c4b07c66ce74",
   "metadata": {},
   "source": [
    "### JJA"
   ]
  },
  {
   "cell_type": "code",
   "execution_count": 55,
   "id": "c26f62f4-998a-45f0-85b9-56664c5360de",
   "metadata": {},
   "outputs": [
    {
     "name": "stdout",
     "output_type": "stream",
     "text": [
      "CPU times: user 4min 20s, sys: 3min 21s, total: 7min 41s\n",
      "Wall time: 9min 39s\n"
     ]
    }
   ],
   "source": [
    "%%time\n",
    "# NOTE: load the concatenated arrays into memory first\n",
    "\n",
    "#nsamps = 10\n",
    "nsamps = 1000\n",
    "\n",
    "# initialize a difference array\n",
    "diffs_JJA = xr.zeros_like(PEx_JJA_concat_compute[:nsamps,:,:]).reset_index('time', drop='True').rename({'time': 'sample'})\n",
    "\n",
    "for ind in range(nsamps):\n",
    "    \n",
    "    # sample 1 - set the random seed for reproducibility\n",
    "    np.random.seed(ind+1)\n",
    "    # create the random indices based on totalsize\n",
    "    rand_index = np.random.choice(totalsize_JJA, size=int(totalsize_JJA/2), replace=True)\n",
    "    # randomly sample the concatenated precip across hist/rcp\n",
    "    boot_1 = PEx_JJA_concat_compute.isel(time=rand_index).mean(dim='time') \n",
    "    \n",
    "    # sample 2 - different random seed\n",
    "    np.random.seed(ind+10)\n",
    "    rand_index = np.random.choice(totalsize_JJA, size=int(totalsize_JJA/2), replace=True)\n",
    "    boot_2 = PEx_JJA_concat_compute.isel(time=rand_index).mean(dim='time')\n",
    "    \n",
    "    # final bootstrap sample is the percent difference between sums of each sample\n",
    "    diffs_JJA[ind,...] = 100*(boot_1 - boot_2)/boot_2\n",
    "    \n",
    "    # test first iteration of loop\n",
    "    #break"
   ]
  },
  {
   "cell_type": "code",
   "execution_count": 56,
   "id": "16dbed11-35e4-47dd-b4d1-00a349cb5929",
   "metadata": {},
   "outputs": [
    {
     "name": "stderr",
     "output_type": "stream",
     "text": [
      "/glade/work/kdagon/miniconda/envs/PEx/lib/python3.9/site-packages/numpy/lib/nanfunctions.py:1395: RuntimeWarning: All-NaN slice encountered\n",
      "  result = np.apply_along_axis(_nanquantile_1d, axis, a, q,\n"
     ]
    }
   ],
   "source": [
    "JJA_quantiles = diffs_JJA.quantile([lev_1,lev_2], dim='sample')"
   ]
  },
  {
   "cell_type": "markdown",
   "id": "72321c22-aba5-4bfa-9dd7-c726b751de12",
   "metadata": {},
   "source": [
    "### SON"
   ]
  },
  {
   "cell_type": "code",
   "execution_count": 57,
   "id": "f574c6ef-9a31-4cc3-8713-34bd74801566",
   "metadata": {},
   "outputs": [
    {
     "name": "stdout",
     "output_type": "stream",
     "text": [
      "CPU times: user 4min 21s, sys: 3min 37s, total: 7min 59s\n",
      "Wall time: 9min 55s\n"
     ]
    }
   ],
   "source": [
    "%%time\n",
    "# NOTE: load the concatenated arrays into memory first\n",
    "\n",
    "#nsamps = 10\n",
    "nsamps = 1000\n",
    "\n",
    "# initialize a difference array\n",
    "diffs_SON = xr.zeros_like(PEx_SON_concat_compute[:nsamps,:,:]).reset_index('time', drop='True').rename({'time': 'sample'})\n",
    "\n",
    "for ind in range(nsamps):\n",
    "    \n",
    "    # sample 1 - set the random seed for reproducibility\n",
    "    np.random.seed(ind+1)\n",
    "    # create the random indices based on totalsize\n",
    "    rand_index = np.random.choice(totalsize_SON, size=int(totalsize_SON/2), replace=True)\n",
    "    # randomly sample the concatenated precip across hist/rcp\n",
    "    boot_1 = PEx_SON_concat_compute.isel(time=rand_index).mean(dim='time') \n",
    "    \n",
    "    # sample 2 - different random seed\n",
    "    np.random.seed(ind+10)\n",
    "    rand_index = np.random.choice(totalsize_SON, size=int(totalsize_SON/2), replace=True)\n",
    "    boot_2 = PEx_SON_concat_compute.isel(time=rand_index).mean(dim='time')\n",
    "    \n",
    "    # final bootstrap sample is the percent difference between sums of each sample\n",
    "    diffs_SON[ind,...] = 100*(boot_1 - boot_2)/boot_2\n",
    "    \n",
    "    # test first iteration of loop\n",
    "    #break"
   ]
  },
  {
   "cell_type": "code",
   "execution_count": 58,
   "id": "fc10c813-e855-4b14-84b6-4e3da1d05926",
   "metadata": {},
   "outputs": [
    {
     "name": "stderr",
     "output_type": "stream",
     "text": [
      "/glade/work/kdagon/miniconda/envs/PEx/lib/python3.9/site-packages/numpy/lib/nanfunctions.py:1395: RuntimeWarning: All-NaN slice encountered\n",
      "  result = np.apply_along_axis(_nanquantile_1d, axis, a, q,\n"
     ]
    }
   ],
   "source": [
    "SON_quantiles = diffs_SON.quantile([lev_1,lev_2], dim='sample')"
   ]
  },
  {
   "cell_type": "markdown",
   "id": "ae212a3c-aec1-4b68-b95f-482c4c13885f",
   "metadata": {},
   "source": [
    "## Save out quantile values for plotting in other notebooks"
   ]
  },
  {
   "cell_type": "markdown",
   "id": "c8780026-a573-4fd1-9794-76ba31a26279",
   "metadata": {},
   "source": [
    "### Concatenate across season for easier plotting"
   ]
  },
  {
   "cell_type": "code",
   "execution_count": 59,
   "id": "a9ff2ed5-721d-4af4-8cef-3166d84883ba",
   "metadata": {},
   "outputs": [
    {
     "data": {
      "text/html": [
       "<div><svg style=\"position: absolute; width: 0; height: 0; overflow: hidden\">\n",
       "<defs>\n",
       "<symbol id=\"icon-database\" viewBox=\"0 0 32 32\">\n",
       "<path d=\"M16 0c-8.837 0-16 2.239-16 5v4c0 2.761 7.163 5 16 5s16-2.239 16-5v-4c0-2.761-7.163-5-16-5z\"></path>\n",
       "<path d=\"M16 17c-8.837 0-16-2.239-16-5v6c0 2.761 7.163 5 16 5s16-2.239 16-5v-6c0 2.761-7.163 5-16 5z\"></path>\n",
       "<path d=\"M16 26c-8.837 0-16-2.239-16-5v6c0 2.761 7.163 5 16 5s16-2.239 16-5v-6c0 2.761-7.163 5-16 5z\"></path>\n",
       "</symbol>\n",
       "<symbol id=\"icon-file-text2\" viewBox=\"0 0 32 32\">\n",
       "<path d=\"M28.681 7.159c-0.694-0.947-1.662-2.053-2.724-3.116s-2.169-2.030-3.116-2.724c-1.612-1.182-2.393-1.319-2.841-1.319h-15.5c-1.378 0-2.5 1.121-2.5 2.5v27c0 1.378 1.122 2.5 2.5 2.5h23c1.378 0 2.5-1.122 2.5-2.5v-19.5c0-0.448-0.137-1.23-1.319-2.841zM24.543 5.457c0.959 0.959 1.712 1.825 2.268 2.543h-4.811v-4.811c0.718 0.556 1.584 1.309 2.543 2.268zM28 29.5c0 0.271-0.229 0.5-0.5 0.5h-23c-0.271 0-0.5-0.229-0.5-0.5v-27c0-0.271 0.229-0.5 0.5-0.5 0 0 15.499-0 15.5 0v7c0 0.552 0.448 1 1 1h7v19.5z\"></path>\n",
       "<path d=\"M23 26h-14c-0.552 0-1-0.448-1-1s0.448-1 1-1h14c0.552 0 1 0.448 1 1s-0.448 1-1 1z\"></path>\n",
       "<path d=\"M23 22h-14c-0.552 0-1-0.448-1-1s0.448-1 1-1h14c0.552 0 1 0.448 1 1s-0.448 1-1 1z\"></path>\n",
       "<path d=\"M23 18h-14c-0.552 0-1-0.448-1-1s0.448-1 1-1h14c0.552 0 1 0.448 1 1s-0.448 1-1 1z\"></path>\n",
       "</symbol>\n",
       "</defs>\n",
       "</svg>\n",
       "<style>/* CSS stylesheet for displaying xarray objects in jupyterlab.\n",
       " *\n",
       " */\n",
       "\n",
       ":root {\n",
       "  --xr-font-color0: var(--jp-content-font-color0, rgba(0, 0, 0, 1));\n",
       "  --xr-font-color2: var(--jp-content-font-color2, rgba(0, 0, 0, 0.54));\n",
       "  --xr-font-color3: var(--jp-content-font-color3, rgba(0, 0, 0, 0.38));\n",
       "  --xr-border-color: var(--jp-border-color2, #e0e0e0);\n",
       "  --xr-disabled-color: var(--jp-layout-color3, #bdbdbd);\n",
       "  --xr-background-color: var(--jp-layout-color0, white);\n",
       "  --xr-background-color-row-even: var(--jp-layout-color1, white);\n",
       "  --xr-background-color-row-odd: var(--jp-layout-color2, #eeeeee);\n",
       "}\n",
       "\n",
       "html[theme=dark],\n",
       "body.vscode-dark {\n",
       "  --xr-font-color0: rgba(255, 255, 255, 1);\n",
       "  --xr-font-color2: rgba(255, 255, 255, 0.54);\n",
       "  --xr-font-color3: rgba(255, 255, 255, 0.38);\n",
       "  --xr-border-color: #1F1F1F;\n",
       "  --xr-disabled-color: #515151;\n",
       "  --xr-background-color: #111111;\n",
       "  --xr-background-color-row-even: #111111;\n",
       "  --xr-background-color-row-odd: #313131;\n",
       "}\n",
       "\n",
       ".xr-wrap {\n",
       "  display: block;\n",
       "  min-width: 300px;\n",
       "  max-width: 700px;\n",
       "}\n",
       "\n",
       ".xr-text-repr-fallback {\n",
       "  /* fallback to plain text repr when CSS is not injected (untrusted notebook) */\n",
       "  display: none;\n",
       "}\n",
       "\n",
       ".xr-header {\n",
       "  padding-top: 6px;\n",
       "  padding-bottom: 6px;\n",
       "  margin-bottom: 4px;\n",
       "  border-bottom: solid 1px var(--xr-border-color);\n",
       "}\n",
       "\n",
       ".xr-header > div,\n",
       ".xr-header > ul {\n",
       "  display: inline;\n",
       "  margin-top: 0;\n",
       "  margin-bottom: 0;\n",
       "}\n",
       "\n",
       ".xr-obj-type,\n",
       ".xr-array-name {\n",
       "  margin-left: 2px;\n",
       "  margin-right: 10px;\n",
       "}\n",
       "\n",
       ".xr-obj-type {\n",
       "  color: var(--xr-font-color2);\n",
       "}\n",
       "\n",
       ".xr-sections {\n",
       "  padding-left: 0 !important;\n",
       "  display: grid;\n",
       "  grid-template-columns: 150px auto auto 1fr 20px 20px;\n",
       "}\n",
       "\n",
       ".xr-section-item {\n",
       "  display: contents;\n",
       "}\n",
       "\n",
       ".xr-section-item input {\n",
       "  display: none;\n",
       "}\n",
       "\n",
       ".xr-section-item input + label {\n",
       "  color: var(--xr-disabled-color);\n",
       "}\n",
       "\n",
       ".xr-section-item input:enabled + label {\n",
       "  cursor: pointer;\n",
       "  color: var(--xr-font-color2);\n",
       "}\n",
       "\n",
       ".xr-section-item input:enabled + label:hover {\n",
       "  color: var(--xr-font-color0);\n",
       "}\n",
       "\n",
       ".xr-section-summary {\n",
       "  grid-column: 1;\n",
       "  color: var(--xr-font-color2);\n",
       "  font-weight: 500;\n",
       "}\n",
       "\n",
       ".xr-section-summary > span {\n",
       "  display: inline-block;\n",
       "  padding-left: 0.5em;\n",
       "}\n",
       "\n",
       ".xr-section-summary-in:disabled + label {\n",
       "  color: var(--xr-font-color2);\n",
       "}\n",
       "\n",
       ".xr-section-summary-in + label:before {\n",
       "  display: inline-block;\n",
       "  content: '►';\n",
       "  font-size: 11px;\n",
       "  width: 15px;\n",
       "  text-align: center;\n",
       "}\n",
       "\n",
       ".xr-section-summary-in:disabled + label:before {\n",
       "  color: var(--xr-disabled-color);\n",
       "}\n",
       "\n",
       ".xr-section-summary-in:checked + label:before {\n",
       "  content: '▼';\n",
       "}\n",
       "\n",
       ".xr-section-summary-in:checked + label > span {\n",
       "  display: none;\n",
       "}\n",
       "\n",
       ".xr-section-summary,\n",
       ".xr-section-inline-details {\n",
       "  padding-top: 4px;\n",
       "  padding-bottom: 4px;\n",
       "}\n",
       "\n",
       ".xr-section-inline-details {\n",
       "  grid-column: 2 / -1;\n",
       "}\n",
       "\n",
       ".xr-section-details {\n",
       "  display: none;\n",
       "  grid-column: 1 / -1;\n",
       "  margin-bottom: 5px;\n",
       "}\n",
       "\n",
       ".xr-section-summary-in:checked ~ .xr-section-details {\n",
       "  display: contents;\n",
       "}\n",
       "\n",
       ".xr-array-wrap {\n",
       "  grid-column: 1 / -1;\n",
       "  display: grid;\n",
       "  grid-template-columns: 20px auto;\n",
       "}\n",
       "\n",
       ".xr-array-wrap > label {\n",
       "  grid-column: 1;\n",
       "  vertical-align: top;\n",
       "}\n",
       "\n",
       ".xr-preview {\n",
       "  color: var(--xr-font-color3);\n",
       "}\n",
       "\n",
       ".xr-array-preview,\n",
       ".xr-array-data {\n",
       "  padding: 0 5px !important;\n",
       "  grid-column: 2;\n",
       "}\n",
       "\n",
       ".xr-array-data,\n",
       ".xr-array-in:checked ~ .xr-array-preview {\n",
       "  display: none;\n",
       "}\n",
       "\n",
       ".xr-array-in:checked ~ .xr-array-data,\n",
       ".xr-array-preview {\n",
       "  display: inline-block;\n",
       "}\n",
       "\n",
       ".xr-dim-list {\n",
       "  display: inline-block !important;\n",
       "  list-style: none;\n",
       "  padding: 0 !important;\n",
       "  margin: 0;\n",
       "}\n",
       "\n",
       ".xr-dim-list li {\n",
       "  display: inline-block;\n",
       "  padding: 0;\n",
       "  margin: 0;\n",
       "}\n",
       "\n",
       ".xr-dim-list:before {\n",
       "  content: '(';\n",
       "}\n",
       "\n",
       ".xr-dim-list:after {\n",
       "  content: ')';\n",
       "}\n",
       "\n",
       ".xr-dim-list li:not(:last-child):after {\n",
       "  content: ',';\n",
       "  padding-right: 5px;\n",
       "}\n",
       "\n",
       ".xr-has-index {\n",
       "  font-weight: bold;\n",
       "}\n",
       "\n",
       ".xr-var-list,\n",
       ".xr-var-item {\n",
       "  display: contents;\n",
       "}\n",
       "\n",
       ".xr-var-item > div,\n",
       ".xr-var-item label,\n",
       ".xr-var-item > .xr-var-name span {\n",
       "  background-color: var(--xr-background-color-row-even);\n",
       "  margin-bottom: 0;\n",
       "}\n",
       "\n",
       ".xr-var-item > .xr-var-name:hover span {\n",
       "  padding-right: 5px;\n",
       "}\n",
       "\n",
       ".xr-var-list > li:nth-child(odd) > div,\n",
       ".xr-var-list > li:nth-child(odd) > label,\n",
       ".xr-var-list > li:nth-child(odd) > .xr-var-name span {\n",
       "  background-color: var(--xr-background-color-row-odd);\n",
       "}\n",
       "\n",
       ".xr-var-name {\n",
       "  grid-column: 1;\n",
       "}\n",
       "\n",
       ".xr-var-dims {\n",
       "  grid-column: 2;\n",
       "}\n",
       "\n",
       ".xr-var-dtype {\n",
       "  grid-column: 3;\n",
       "  text-align: right;\n",
       "  color: var(--xr-font-color2);\n",
       "}\n",
       "\n",
       ".xr-var-preview {\n",
       "  grid-column: 4;\n",
       "}\n",
       "\n",
       ".xr-var-name,\n",
       ".xr-var-dims,\n",
       ".xr-var-dtype,\n",
       ".xr-preview,\n",
       ".xr-attrs dt {\n",
       "  white-space: nowrap;\n",
       "  overflow: hidden;\n",
       "  text-overflow: ellipsis;\n",
       "  padding-right: 10px;\n",
       "}\n",
       "\n",
       ".xr-var-name:hover,\n",
       ".xr-var-dims:hover,\n",
       ".xr-var-dtype:hover,\n",
       ".xr-attrs dt:hover {\n",
       "  overflow: visible;\n",
       "  width: auto;\n",
       "  z-index: 1;\n",
       "}\n",
       "\n",
       ".xr-var-attrs,\n",
       ".xr-var-data {\n",
       "  display: none;\n",
       "  background-color: var(--xr-background-color) !important;\n",
       "  padding-bottom: 5px !important;\n",
       "}\n",
       "\n",
       ".xr-var-attrs-in:checked ~ .xr-var-attrs,\n",
       ".xr-var-data-in:checked ~ .xr-var-data {\n",
       "  display: block;\n",
       "}\n",
       "\n",
       ".xr-var-data > table {\n",
       "  float: right;\n",
       "}\n",
       "\n",
       ".xr-var-name span,\n",
       ".xr-var-data,\n",
       ".xr-attrs {\n",
       "  padding-left: 25px !important;\n",
       "}\n",
       "\n",
       ".xr-attrs,\n",
       ".xr-var-attrs,\n",
       ".xr-var-data {\n",
       "  grid-column: 1 / -1;\n",
       "}\n",
       "\n",
       "dl.xr-attrs {\n",
       "  padding: 0;\n",
       "  margin: 0;\n",
       "  display: grid;\n",
       "  grid-template-columns: 125px auto;\n",
       "}\n",
       "\n",
       ".xr-attrs dt,\n",
       ".xr-attrs dd {\n",
       "  padding: 0;\n",
       "  margin: 0;\n",
       "  float: left;\n",
       "  padding-right: 10px;\n",
       "  width: auto;\n",
       "}\n",
       "\n",
       ".xr-attrs dt {\n",
       "  font-weight: normal;\n",
       "  grid-column: 1;\n",
       "}\n",
       "\n",
       ".xr-attrs dt:hover span {\n",
       "  display: inline-block;\n",
       "  background: var(--xr-background-color);\n",
       "  padding-right: 10px;\n",
       "}\n",
       "\n",
       ".xr-attrs dd {\n",
       "  grid-column: 2;\n",
       "  white-space: pre-wrap;\n",
       "  word-break: break-all;\n",
       "}\n",
       "\n",
       ".xr-icon-database,\n",
       ".xr-icon-file-text2 {\n",
       "  display: inline-block;\n",
       "  vertical-align: middle;\n",
       "  width: 1em;\n",
       "  height: 1.5em !important;\n",
       "  stroke-width: 0;\n",
       "  stroke: currentColor;\n",
       "  fill: currentColor;\n",
       "}\n",
       "</style><pre class='xr-text-repr-fallback'>&lt;xarray.DataArray &#x27;PRECT&#x27; (season: 4, quantile: 2, lat: 25, lon: 58)&gt;\n",
       "array([[[[         nan,          nan,          nan, ...,          nan,\n",
       "                   nan,          nan],\n",
       "         [         nan,          nan,          nan, ...,          nan,\n",
       "                   nan,          nan],\n",
       "         [         nan,          nan,          nan, ...,          nan,\n",
       "                   nan,          nan],\n",
       "         ...,\n",
       "         [ -8.55363448,  -8.84402493, -10.22776825, ..., -10.38918797,\n",
       "           -9.83710806,  -9.74895669],\n",
       "         [ -8.73108712,  -8.23901727,  -8.12552187, ..., -10.07571281,\n",
       "           -9.73936751,  -9.80737487],\n",
       "         [ -8.64328078,  -8.35999932,  -8.60607591, ..., -10.10868234,\n",
       "           -9.85236572,  -9.73889156]],\n",
       "\n",
       "        [[         nan,          nan,          nan, ...,          nan,\n",
       "                   nan,          nan],\n",
       "         [         nan,          nan,          nan, ...,          nan,\n",
       "                   nan,          nan],\n",
       "         [         nan,          nan,          nan, ...,          nan,\n",
       "                   nan,          nan],\n",
       "...\n",
       "         [ -4.80366804,  -5.7739437 ,  -6.56154576, ...,  -8.68361426,\n",
       "           -8.70182198,  -8.59490772],\n",
       "         [ -4.36347119,  -5.07714678,  -4.91170322, ...,  -9.52481583,\n",
       "           -9.82405169,  -8.79117851],\n",
       "         [ -4.42921734,  -3.80476916,  -4.10447357, ...,  -7.89982205,\n",
       "           -8.89961877,  -7.71460561]],\n",
       "\n",
       "        [[         nan,          nan,          nan, ...,          nan,\n",
       "                   nan,          nan],\n",
       "         [         nan,          nan,          nan, ...,          nan,\n",
       "                   nan,          nan],\n",
       "         [         nan,          nan,          nan, ...,          nan,\n",
       "                   nan,          nan],\n",
       "         ...,\n",
       "         [  4.77361078,   5.95895114,   7.55653891, ...,   9.77491892,\n",
       "            9.57864437,   9.79243742],\n",
       "         [  4.48980987,   4.97833013,   4.72587853, ...,   9.75486755,\n",
       "            9.73724881,   9.35953864],\n",
       "         [  4.37703516,   3.83385983,   4.49451926, ...,   8.7455743 ,\n",
       "            8.91538618,   7.94926979]]]])\n",
       "Coordinates:\n",
       "  * lon       (lon) float64 -125.0 -124.0 -123.0 -122.0 ... -70.0 -69.0 -68.0\n",
       "  * lat       (lat) float64 26.0 27.0 28.0 29.0 30.0 ... 47.0 48.0 49.0 50.0\n",
       "  * quantile  (quantile) float64 0.025 0.975\n",
       "  * season    (season) &lt;U3 &#x27;DJF&#x27; &#x27;MAM&#x27; &#x27;JJA&#x27; &#x27;SON&#x27;</pre><div class='xr-wrap' hidden><div class='xr-header'><div class='xr-obj-type'>xarray.DataArray</div><div class='xr-array-name'>'PRECT'</div><ul class='xr-dim-list'><li><span class='xr-has-index'>season</span>: 4</li><li><span class='xr-has-index'>quantile</span>: 2</li><li><span class='xr-has-index'>lat</span>: 25</li><li><span class='xr-has-index'>lon</span>: 58</li></ul></div><ul class='xr-sections'><li class='xr-section-item'><div class='xr-array-wrap'><input id='section-bd52962f-4962-4f3e-b821-24e6522623fb' class='xr-array-in' type='checkbox' checked><label for='section-bd52962f-4962-4f3e-b821-24e6522623fb' title='Show/hide data repr'><svg class='icon xr-icon-database'><use xlink:href='#icon-database'></use></svg></label><div class='xr-array-preview xr-preview'><span>nan nan nan nan nan nan nan ... 9.595 9.176 8.535 8.746 8.915 7.949</span></div><div class='xr-array-data'><pre>array([[[[         nan,          nan,          nan, ...,          nan,\n",
       "                   nan,          nan],\n",
       "         [         nan,          nan,          nan, ...,          nan,\n",
       "                   nan,          nan],\n",
       "         [         nan,          nan,          nan, ...,          nan,\n",
       "                   nan,          nan],\n",
       "         ...,\n",
       "         [ -8.55363448,  -8.84402493, -10.22776825, ..., -10.38918797,\n",
       "           -9.83710806,  -9.74895669],\n",
       "         [ -8.73108712,  -8.23901727,  -8.12552187, ..., -10.07571281,\n",
       "           -9.73936751,  -9.80737487],\n",
       "         [ -8.64328078,  -8.35999932,  -8.60607591, ..., -10.10868234,\n",
       "           -9.85236572,  -9.73889156]],\n",
       "\n",
       "        [[         nan,          nan,          nan, ...,          nan,\n",
       "                   nan,          nan],\n",
       "         [         nan,          nan,          nan, ...,          nan,\n",
       "                   nan,          nan],\n",
       "         [         nan,          nan,          nan, ...,          nan,\n",
       "                   nan,          nan],\n",
       "...\n",
       "         [ -4.80366804,  -5.7739437 ,  -6.56154576, ...,  -8.68361426,\n",
       "           -8.70182198,  -8.59490772],\n",
       "         [ -4.36347119,  -5.07714678,  -4.91170322, ...,  -9.52481583,\n",
       "           -9.82405169,  -8.79117851],\n",
       "         [ -4.42921734,  -3.80476916,  -4.10447357, ...,  -7.89982205,\n",
       "           -8.89961877,  -7.71460561]],\n",
       "\n",
       "        [[         nan,          nan,          nan, ...,          nan,\n",
       "                   nan,          nan],\n",
       "         [         nan,          nan,          nan, ...,          nan,\n",
       "                   nan,          nan],\n",
       "         [         nan,          nan,          nan, ...,          nan,\n",
       "                   nan,          nan],\n",
       "         ...,\n",
       "         [  4.77361078,   5.95895114,   7.55653891, ...,   9.77491892,\n",
       "            9.57864437,   9.79243742],\n",
       "         [  4.48980987,   4.97833013,   4.72587853, ...,   9.75486755,\n",
       "            9.73724881,   9.35953864],\n",
       "         [  4.37703516,   3.83385983,   4.49451926, ...,   8.7455743 ,\n",
       "            8.91538618,   7.94926979]]]])</pre></div></div></li><li class='xr-section-item'><input id='section-fc3b9461-8d9b-4631-83ff-086ffab2a3cc' class='xr-section-summary-in' type='checkbox'  checked><label for='section-fc3b9461-8d9b-4631-83ff-086ffab2a3cc' class='xr-section-summary' >Coordinates: <span>(4)</span></label><div class='xr-section-inline-details'></div><div class='xr-section-details'><ul class='xr-var-list'><li class='xr-var-item'><div class='xr-var-name'><span class='xr-has-index'>lon</span></div><div class='xr-var-dims'>(lon)</div><div class='xr-var-dtype'>float64</div><div class='xr-var-preview xr-preview'>-125.0 -124.0 ... -69.0 -68.0</div><input id='attrs-acf27a7c-98ef-43da-b5cc-ee92139004ff' class='xr-var-attrs-in' type='checkbox' ><label for='attrs-acf27a7c-98ef-43da-b5cc-ee92139004ff' title='Show/Hide attributes'><svg class='icon xr-icon-file-text2'><use xlink:href='#icon-file-text2'></use></svg></label><input id='data-f50e2288-952f-4b5f-b09a-5f8e5f91f87c' class='xr-var-data-in' type='checkbox'><label for='data-f50e2288-952f-4b5f-b09a-5f8e5f91f87c' title='Show/Hide data repr'><svg class='icon xr-icon-database'><use xlink:href='#icon-database'></use></svg></label><div class='xr-var-attrs'><dl class='xr-attrs'><dt><span>axis :</span></dt><dd>X</dd><dt><span>long_name :</span></dt><dd>longitude</dd><dt><span>standard_name :</span></dt><dd>longitude</dd><dt><span>units :</span></dt><dd>degrees_east</dd></dl></div><div class='xr-var-data'><pre>array([-125., -124., -123., -122., -121., -120., -119., -118., -117., -116.,\n",
       "       -115., -114., -113., -112., -111., -110., -109., -108., -107., -106.,\n",
       "       -105., -104., -103., -102., -101., -100.,  -99.,  -98.,  -97.,  -96.,\n",
       "        -95.,  -94.,  -93.,  -92.,  -91.,  -90.,  -89.,  -88.,  -87.,  -86.,\n",
       "        -85.,  -84.,  -83.,  -82.,  -81.,  -80.,  -79.,  -78.,  -77.,  -76.,\n",
       "        -75.,  -74.,  -73.,  -72.,  -71.,  -70.,  -69.,  -68.])</pre></div></li><li class='xr-var-item'><div class='xr-var-name'><span class='xr-has-index'>lat</span></div><div class='xr-var-dims'>(lat)</div><div class='xr-var-dtype'>float64</div><div class='xr-var-preview xr-preview'>26.0 27.0 28.0 ... 48.0 49.0 50.0</div><input id='attrs-b337fc90-8d89-4409-982e-379cd19d4ae2' class='xr-var-attrs-in' type='checkbox' ><label for='attrs-b337fc90-8d89-4409-982e-379cd19d4ae2' title='Show/Hide attributes'><svg class='icon xr-icon-file-text2'><use xlink:href='#icon-file-text2'></use></svg></label><input id='data-99802515-72cf-448b-92ef-64d5246a24fa' class='xr-var-data-in' type='checkbox'><label for='data-99802515-72cf-448b-92ef-64d5246a24fa' title='Show/Hide data repr'><svg class='icon xr-icon-database'><use xlink:href='#icon-database'></use></svg></label><div class='xr-var-attrs'><dl class='xr-attrs'><dt><span>axis :</span></dt><dd>Y</dd><dt><span>long_name :</span></dt><dd>latitude</dd><dt><span>standard_name :</span></dt><dd>latitude</dd><dt><span>units :</span></dt><dd>degrees_north</dd></dl></div><div class='xr-var-data'><pre>array([26., 27., 28., 29., 30., 31., 32., 33., 34., 35., 36., 37., 38., 39.,\n",
       "       40., 41., 42., 43., 44., 45., 46., 47., 48., 49., 50.])</pre></div></li><li class='xr-var-item'><div class='xr-var-name'><span class='xr-has-index'>quantile</span></div><div class='xr-var-dims'>(quantile)</div><div class='xr-var-dtype'>float64</div><div class='xr-var-preview xr-preview'>0.025 0.975</div><input id='attrs-24de08d4-b587-478e-b7e4-470e4e3e5372' class='xr-var-attrs-in' type='checkbox' disabled><label for='attrs-24de08d4-b587-478e-b7e4-470e4e3e5372' title='Show/Hide attributes'><svg class='icon xr-icon-file-text2'><use xlink:href='#icon-file-text2'></use></svg></label><input id='data-02175f5e-4d5c-43dc-89a4-1a1c7798f730' class='xr-var-data-in' type='checkbox'><label for='data-02175f5e-4d5c-43dc-89a4-1a1c7798f730' title='Show/Hide data repr'><svg class='icon xr-icon-database'><use xlink:href='#icon-database'></use></svg></label><div class='xr-var-attrs'><dl class='xr-attrs'></dl></div><div class='xr-var-data'><pre>array([0.025, 0.975])</pre></div></li><li class='xr-var-item'><div class='xr-var-name'><span class='xr-has-index'>season</span></div><div class='xr-var-dims'>(season)</div><div class='xr-var-dtype'>&lt;U3</div><div class='xr-var-preview xr-preview'>&#x27;DJF&#x27; &#x27;MAM&#x27; &#x27;JJA&#x27; &#x27;SON&#x27;</div><input id='attrs-3b4cfc74-9b50-458e-b375-3c8affef16cd' class='xr-var-attrs-in' type='checkbox' disabled><label for='attrs-3b4cfc74-9b50-458e-b375-3c8affef16cd' title='Show/Hide attributes'><svg class='icon xr-icon-file-text2'><use xlink:href='#icon-file-text2'></use></svg></label><input id='data-09d59b70-805e-4a1e-8a58-a0cd81291b3a' class='xr-var-data-in' type='checkbox'><label for='data-09d59b70-805e-4a1e-8a58-a0cd81291b3a' title='Show/Hide data repr'><svg class='icon xr-icon-database'><use xlink:href='#icon-database'></use></svg></label><div class='xr-var-attrs'><dl class='xr-attrs'></dl></div><div class='xr-var-data'><pre>array([&#x27;DJF&#x27;, &#x27;MAM&#x27;, &#x27;JJA&#x27;, &#x27;SON&#x27;], dtype=&#x27;&lt;U3&#x27;)</pre></div></li></ul></div></li><li class='xr-section-item'><input id='section-e6880f91-12bf-47ea-b053-73fb42e80a74' class='xr-section-summary-in' type='checkbox' disabled ><label for='section-e6880f91-12bf-47ea-b053-73fb42e80a74' class='xr-section-summary'  title='Expand/collapse section'>Attributes: <span>(0)</span></label><div class='xr-section-inline-details'></div><div class='xr-section-details'><dl class='xr-attrs'></dl></div></li></ul></div></div>"
      ],
      "text/plain": [
       "<xarray.DataArray 'PRECT' (season: 4, quantile: 2, lat: 25, lon: 58)>\n",
       "array([[[[         nan,          nan,          nan, ...,          nan,\n",
       "                   nan,          nan],\n",
       "         [         nan,          nan,          nan, ...,          nan,\n",
       "                   nan,          nan],\n",
       "         [         nan,          nan,          nan, ...,          nan,\n",
       "                   nan,          nan],\n",
       "         ...,\n",
       "         [ -8.55363448,  -8.84402493, -10.22776825, ..., -10.38918797,\n",
       "           -9.83710806,  -9.74895669],\n",
       "         [ -8.73108712,  -8.23901727,  -8.12552187, ..., -10.07571281,\n",
       "           -9.73936751,  -9.80737487],\n",
       "         [ -8.64328078,  -8.35999932,  -8.60607591, ..., -10.10868234,\n",
       "           -9.85236572,  -9.73889156]],\n",
       "\n",
       "        [[         nan,          nan,          nan, ...,          nan,\n",
       "                   nan,          nan],\n",
       "         [         nan,          nan,          nan, ...,          nan,\n",
       "                   nan,          nan],\n",
       "         [         nan,          nan,          nan, ...,          nan,\n",
       "                   nan,          nan],\n",
       "...\n",
       "         [ -4.80366804,  -5.7739437 ,  -6.56154576, ...,  -8.68361426,\n",
       "           -8.70182198,  -8.59490772],\n",
       "         [ -4.36347119,  -5.07714678,  -4.91170322, ...,  -9.52481583,\n",
       "           -9.82405169,  -8.79117851],\n",
       "         [ -4.42921734,  -3.80476916,  -4.10447357, ...,  -7.89982205,\n",
       "           -8.89961877,  -7.71460561]],\n",
       "\n",
       "        [[         nan,          nan,          nan, ...,          nan,\n",
       "                   nan,          nan],\n",
       "         [         nan,          nan,          nan, ...,          nan,\n",
       "                   nan,          nan],\n",
       "         [         nan,          nan,          nan, ...,          nan,\n",
       "                   nan,          nan],\n",
       "         ...,\n",
       "         [  4.77361078,   5.95895114,   7.55653891, ...,   9.77491892,\n",
       "            9.57864437,   9.79243742],\n",
       "         [  4.48980987,   4.97833013,   4.72587853, ...,   9.75486755,\n",
       "            9.73724881,   9.35953864],\n",
       "         [  4.37703516,   3.83385983,   4.49451926, ...,   8.7455743 ,\n",
       "            8.91538618,   7.94926979]]]])\n",
       "Coordinates:\n",
       "  * lon       (lon) float64 -125.0 -124.0 -123.0 -122.0 ... -70.0 -69.0 -68.0\n",
       "  * lat       (lat) float64 26.0 27.0 28.0 29.0 30.0 ... 47.0 48.0 49.0 50.0\n",
       "  * quantile  (quantile) float64 0.025 0.975\n",
       "  * season    (season) <U3 'DJF' 'MAM' 'JJA' 'SON'"
      ]
     },
     "execution_count": 59,
     "metadata": {},
     "output_type": "execute_result"
    }
   ],
   "source": [
    "seasonal_quantiles = xr.concat([DJF_quantiles, MAM_quantiles, JJA_quantiles, SON_quantiles], dim='season')\n",
    "seasonal_quantiles.coords[\"season\"] = ['DJF','MAM','JJA','SON']\n",
    "seasonal_quantiles"
   ]
  },
  {
   "cell_type": "code",
   "execution_count": 60,
   "id": "d47985c0-9268-47f4-a84a-d21b0b7fd732",
   "metadata": {},
   "outputs": [],
   "source": [
    "seasonal_quantiles.to_netcdf(postprocessing_filepath+'PEx90_boot_diffs_byseason.nc', mode='w', format='NETCDF4')"
   ]
  },
  {
   "cell_type": "code",
   "execution_count": null,
   "id": "9a1e3a70-ea10-40a8-a27b-c56daaf7f2cd",
   "metadata": {},
   "outputs": [],
   "source": []
  }
 ],
 "metadata": {
  "kernelspec": {
   "display_name": "Python (conda-PEx)",
   "language": "python",
   "name": "pex"
  },
  "language_info": {
   "codemirror_mode": {
    "name": "ipython",
    "version": 3
   },
   "file_extension": ".py",
   "mimetype": "text/x-python",
   "name": "python",
   "nbconvert_exporter": "python",
   "pygments_lexer": "ipython3",
   "version": "3.9.6"
  }
 },
 "nbformat": 4,
 "nbformat_minor": 5
}
