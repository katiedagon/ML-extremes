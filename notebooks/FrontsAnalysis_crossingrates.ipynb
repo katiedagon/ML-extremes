{
 "cells": [
  {
   "cell_type": "markdown",
   "metadata": {},
   "source": [
    "# Frontal Detection Analysis (front crossing rates)"
   ]
  },
  {
   "cell_type": "code",
   "execution_count": 1,
   "metadata": {},
   "outputs": [],
   "source": [
    "import numpy as np\n",
    "import xarray as xr\n",
    "import matplotlib.pyplot as plt"
   ]
  },
  {
   "cell_type": "code",
   "execution_count": 2,
   "metadata": {},
   "outputs": [],
   "source": [
    "file_path = \"/glade/work/kdagon/FrontDetector/CESMOutputs/\""
   ]
  },
  {
   "cell_type": "code",
   "execution_count": 3,
   "metadata": {},
   "outputs": [],
   "source": [
    "fronts_file = \"cesm_fronts_2000-2005.nc\"\n",
    "onehot_file = \"cesm_frontsOneHot_2000-2005.nc\"\n",
    "rates_file = \"cesm_frontRates_2000-2005.nc\""
   ]
  },
  {
   "cell_type": "markdown",
   "metadata": {},
   "source": [
    "## Read in front rates file"
   ]
  },
  {
   "cell_type": "code",
   "execution_count": 4,
   "metadata": {},
   "outputs": [],
   "source": [
    "rates_fronts = xr.open_dataset(file_path+rates_file)"
   ]
  },
  {
   "cell_type": "code",
   "execution_count": 5,
   "metadata": {},
   "outputs": [
    {
     "data": {
      "text/plain": [
       "<xarray.Dataset>\n",
       "Dimensions:                          (bnds: 2, front: 5, lat: 68, lon: 141, months: 72, months12: 12, seasons: 25, seasons4: 4, total: 1, years: 6)\n",
       "Coordinates:\n",
       "  * lat                              (lat) float64 10.0 11.0 12.0 ... 76.0 77.0\n",
       "  * lon                              (lon) float64 189.0 190.0 ... 328.0 329.0\n",
       "  * months                           (months) object 2000-01-15 00:00:00 ... 2005-12-15 00:00:00\n",
       "    clim_months                      (months12) object ...\n",
       "  * seasons                          (seasons) object 2000-01-15 00:00:00 ... 2005-12-15 00:00:00\n",
       "    clim_seasons                     (seasons4) object ...\n",
       "  * years                            (years) object 2000-07-15 00:00:00 ... 2005-07-15 00:00:00\n",
       "    front_type                       (front) object ...\n",
       "Dimensions without coordinates: bnds, front, months12, seasons4, total\n",
       "Data variables:\n",
       "    month_bounds                     (months, bnds) object ...\n",
       "    clim_month_bounds                (months12, bnds) float64 ...\n",
       "    season_bounds                    (seasons, bnds) object ...\n",
       "    clim_season_bounds               (seasons4, bnds) float64 ...\n",
       "    year_bounds                      (years, bnds) object ...\n",
       "    total_time                       (total) object ...\n",
       "    total_time_bounds                (total, bnds) object ...\n",
       "    monthly_rate                     (months, front, lat, lon) float32 ...\n",
       "    monthly_rate_anomaly             (months, front, lat, lon) float32 ...\n",
       "    monthly_rate_climatology         (months12, front, lat, lon) float32 ...\n",
       "    monthly_rate_climatology_stdev   (months12, front, lat, lon) float32 ...\n",
       "    seasonal_rate                    (seasons, front, lat, lon) float32 ...\n",
       "    seasonal_rate_anomaly            (seasons, front, lat, lon) float32 ...\n",
       "    seasonal_rate_climatology        (seasons4, front, lat, lon) float32 ...\n",
       "    seasonal_rate_climatology_stdev  (seasons4, front, lat, lon) float32 ...\n",
       "    annual_rate                      (years, front, lat, lon) float32 ...\n",
       "    annual_rate_anomaly              (years, front, lat, lon) float32 ...\n",
       "    total_rate                       (total, front, lat, lon) float32 ...\n",
       "    total_rate_stdev                 (total, front, lat, lon) float32 ...\n",
       "Attributes:\n",
       "    Conventions:  CF-1.6\n",
       "    title:        Monthly, Annual, and Mean Frontal Boundary Crossing Rates\n",
       "    summary:      This file contains grids showing rates of frontal boundary ..."
      ]
     },
     "execution_count": 5,
     "metadata": {},
     "output_type": "execute_result"
    }
   ],
   "source": [
    "rates_fronts"
   ]
  },
  {
   "cell_type": "code",
   "execution_count": 6,
   "metadata": {},
   "outputs": [],
   "source": [
    "srates_clim = rates_fronts.seasonal_rate_climatology"
   ]
  },
  {
   "cell_type": "code",
   "execution_count": 14,
   "metadata": {},
   "outputs": [],
   "source": [
    "# approx. lat/lon here to get a CONUS rectangular region\n",
    "srates_clim_CONUS = srates_clim.sel(lat=slice(26,50), lon=slice(235,292))"
   ]
  },
  {
   "cell_type": "code",
   "execution_count": 17,
   "metadata": {},
   "outputs": [],
   "source": [
    "srates_clim_CONUS_mean_wk = srates_clim_CONUS.mean((\"lon\",\"lat\"))*7 # convert counts/day to counts/wk"
   ]
  },
  {
   "cell_type": "code",
   "execution_count": 37,
   "metadata": {},
   "outputs": [
    {
     "data": {
      "image/png": "[encoded data removed]",
      "text/plain": [
       "<Figure size 432x288 with 1 Axes>"
      ]
     },
     "metadata": {
      "needs_background": "light"
     },
     "output_type": "display_data"
    }
   ],
   "source": [
    "# DJF rates across front types\n",
    "plt.bar(srates_clim_CONUS_mean_wk.front, srates_clim_CONUS_mean_wk[0]);"
   ]
  },
  {
   "cell_type": "code",
   "execution_count": 39,
   "metadata": {},
   "outputs": [
    {
     "data": {
      "text/plain": [
       "<xarray.DataArray 'seasonal_rate_climatology' (seasons4: 4)>\n",
       "array([1.1495355 , 1.0800674 , 0.71795475, 1.0774801 ], dtype=float32)\n",
       "Coordinates:\n",
       "    clim_seasons  (seasons4) object ...\n",
       "    front_type    object ...\n",
       "Dimensions without coordinates: seasons4"
      ]
     },
     "execution_count": 39,
     "metadata": {},
     "output_type": "execute_result"
    }
   ],
   "source": [
    "srates_clim_CONUS_mean_wk[:,0]"
   ]
  },
  {
   "cell_type": "code",
   "execution_count": 32,
   "metadata": {},
   "outputs": [
    {
     "data": {
      "text/plain": [
       "<xarray.DataArray 'seasonal_rate_climatology' (seasons4: 4)>\n",
       "array([2.2620063, 2.2117252, 1.8667715, 2.0572062], dtype=float32)\n",
       "Coordinates:\n",
       "    clim_seasons  (seasons4) object ...\n",
       "Dimensions without coordinates: seasons4"
      ]
     },
     "execution_count": 32,
     "metadata": {},
     "output_type": "execute_result"
    }
   ],
   "source": [
    "# sum along front types (leaving none type out)\n",
    "srates_clim_CONUS_mean_wk[:,:4].sum(\"front\")"
   ]
  },
  {
   "cell_type": "code",
   "execution_count": 36,
   "metadata": {},
   "outputs": [
    {
     "data": {
      "image/png": "[encoded data removed]",
      "text/plain": [
       "<Figure size 432x288 with 1 Axes>"
      ]
     },
     "metadata": {
      "needs_background": "light"
     },
     "output_type": "display_data"
    }
   ],
   "source": [
    "fig, ax = plt.subplots()\n",
    "\n",
    "ax.bar(srates_clim_CONUS_mean_wk.seasons4, srates_clim_CONUS_mean_wk[:,:4].sum(\"front\"))\n",
    "\n",
    "labels = ['DJF', 'MAM', 'JJA', 'SON']\n",
    "x = np.arange(len(labels))  # the label locations\n",
    "\n",
    "ax.set_ylabel('Mean Front Crossings / week')\n",
    "ax.set_xlabel('Season')\n",
    "ax.set_xticks(x)\n",
    "ax.set_xticklabels(labels);"
   ]
  },
  {
   "cell_type": "code",
   "execution_count": 48,
   "metadata": {},
   "outputs": [
    {
     "data": {
      "image/png": "[encoded data removed]",
      "text/plain": [
       "<Figure size 432x288 with 1 Axes>"
      ]
     },
     "metadata": {
      "needs_background": "light"
     },
     "output_type": "display_data"
    }
   ],
   "source": [
    "fig, ax = plt.subplots()\n",
    "\n",
    "w = 0.15\n",
    "labels = ['DJF', 'MAM', 'JJA', 'SON']\n",
    "nseason = len(labels)\n",
    "x = np.arange(nseason)  # the label locations\n",
    "\n",
    "position = x + (w*(1-nseason)/2) + 0*w\n",
    "ax.bar(position, srates_clim_CONUS_mean_wk[:,0], width=w, label=\"Cold\", color='blue')\n",
    "position = x + (w*(1-nseason)/2) + 1*w\n",
    "ax.bar(position, srates_clim_CONUS_mean_wk[:,1], width=w, label=\"Warm\", color='red')\n",
    "position = x + (w*(1-nseason)/2) + 2*w\n",
    "ax.bar(position, srates_clim_CONUS_mean_wk[:,2], width=w, label=\"Stationary\", color='grey')\n",
    "position = x + (w*(1-nseason)/2) + 3*w\n",
    "ax.bar(position, srates_clim_CONUS_mean_wk[:,3], width=w, label=\"Occluded\", color='purple')\n",
    "\n",
    "ax.set_title('Seasonal CONUS Front Crossing Rate Climatology')\n",
    "ax.set_ylabel('Mean Front Crossings / week')\n",
    "ax.set_xlabel('Season')\n",
    "ax.set_xticks(x)\n",
    "ax.set_xticklabels(labels)\n",
    "\n",
    "ax.legend();"
   ]
  },
  {
   "cell_type": "code",
   "execution_count": null,
   "metadata": {},
   "outputs": [],
   "source": []
  }
 ],
 "metadata": {
  "kernelspec": {
   "display_name": "Python (conda-python-tutorial)",
   "language": "python",
   "name": "python-tutorial"
  },
  "language_info": {
   "codemirror_mode": {
    "name": "ipython",
    "version": 3
   },
   "file_extension": ".py",
   "mimetype": "text/x-python",
   "name": "python",
   "nbconvert_exporter": "python",
   "pygments_lexer": "ipython3",
   "version": "3.7.3"
  }
 },
 "nbformat": 4,
 "nbformat_minor": 4
}
