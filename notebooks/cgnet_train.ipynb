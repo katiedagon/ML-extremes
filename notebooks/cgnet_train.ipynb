{
 "cells": [
  {
   "cell_type": "markdown",
   "metadata": {},
   "source": [
    "# Training CGNet\n",
    "\n",
    "Purpose:\n",
    "--------\n",
    "The purpose of this notebook is to train CGnet for machine learning detection of atmospheric rivers and tropical cyclones.\\\n",
    "See ClimateNet repo here: https://github.com/andregraubner/ClimateNet\n",
    "\n",
    "Authors/Contributors:\n",
    "---------------------\n",
    "* Teagan King\n",
    "* John Truesdale\n",
    "* Katie Dagon"
   ]
  },
  {
   "cell_type": "markdown",
   "metadata": {},
   "source": [
    "## Import libraries"
   ]
  },
  {
   "cell_type": "code",
   "execution_count": 1,
   "metadata": {},
   "outputs": [],
   "source": [
    "import os\n",
    "import sys\n",
    "import json\n",
    "import numpy as np\n",
    "\n",
    "sys.path.append(\"/glade/work/kdagon/ClimateNet\") # append path to ClimateNet repo\n",
    "from climatenet.utils.data import ClimateDatasetLabeled, ClimateDataset\n",
    "from climatenet.models import CGNet\n",
    "from climatenet.utils.utils import Config\n",
    "from climatenet.track_events import track_events\n",
    "from climatenet.analyze_events import analyze_events\n",
    "from climatenet.visualize_events import visualize_events\n",
    "\n",
    "from os import path"
   ]
  },
  {
   "cell_type": "markdown",
   "metadata": {},
   "source": [
    "## Config file\n",
    "Use `get_averages_and_standard_devs.ipynb` to calculate means/stds for given training dataset."
   ]
  },
  {
   "cell_type": "code",
   "execution_count": 3,
   "metadata": {},
   "outputs": [],
   "source": [
    "#config = Config('/glade/work/kdagon/ML-extremes/trained_models/config_021523.json') # weighted mean, unweighted std\n",
    "config = Config('/glade/work/kdagon/ML-extremes/trained_models/config_040523.json') # unweighted mean and std"
   ]
  },
  {
   "cell_type": "code",
   "execution_count": 4,
   "metadata": {},
   "outputs": [
    {
     "data": {
      "text/plain": [
       "'The basic CGNet model. You can use this config to train your own model, or load it with our trained weights.'"
      ]
     },
     "execution_count": 4,
     "metadata": {},
     "output_type": "execute_result"
    }
   ],
   "source": [
    "config.description"
   ]
  },
  {
   "cell_type": "code",
   "execution_count": 5,
   "metadata": {},
   "outputs": [
    {
     "data": {
      "text/plain": [
       "16"
      ]
     },
     "execution_count": 5,
     "metadata": {},
     "output_type": "execute_result"
    }
   ],
   "source": [
    "config.train_batch_size"
   ]
  },
  {
   "cell_type": "markdown",
   "metadata": {},
   "source": [
    "## Confirm GPU resources\n",
    "Can request through JupyterHub launch page.\\\n",
    "Current resources request (2/15/23): 1 node, 4 cpu, 64GB mem, 2 V100 GPU\\\n",
    "4/5/23: Noticed that not all CPU/mem was needed, new request: 1 node, 2 cpu, 64GB mem, 2 V100 GPU"
   ]
  },
  {
   "cell_type": "code",
   "execution_count": 6,
   "metadata": {},
   "outputs": [
    {
     "name": "stdout",
     "output_type": "stream",
     "text": [
      "True\n",
      "2\n"
     ]
    }
   ],
   "source": [
    "# requires loading pytorch into environment\n",
    "import torch\n",
    "print(torch.cuda.is_available())\n",
    "print(torch.cuda.device_count())"
   ]
  },
  {
   "cell_type": "markdown",
   "metadata": {},
   "source": [
    "## Instantiate CGNet model given config file\n",
    "This step needs GPU resources (as written)"
   ]
  },
  {
   "cell_type": "code",
   "execution_count": 7,
   "metadata": {},
   "outputs": [
    {
     "name": "stdout",
     "output_type": "stream",
     "text": [
      "CPU times: user 1.53 s, sys: 823 ms, total: 2.36 s\n",
      "Wall time: 5.91 s\n"
     ]
    }
   ],
   "source": [
    "%%time\n",
    "cgnet = CGNet(config)"
   ]
  },
  {
   "cell_type": "code",
   "execution_count": 8,
   "metadata": {},
   "outputs": [
    {
     "data": {
      "text/plain": [
       "Adam (\n",
       "Parameter Group 0\n",
       "    amsgrad: False\n",
       "    betas: (0.9, 0.999)\n",
       "    eps: 1e-08\n",
       "    lr: 0.001\n",
       "    weight_decay: 0\n",
       ")"
      ]
     },
     "execution_count": 8,
     "metadata": {},
     "output_type": "execute_result"
    }
   ],
   "source": [
    "cgnet.optimizer"
   ]
  },
  {
   "cell_type": "markdown",
   "metadata": {},
   "source": [
    "## Set train, test data"
   ]
  },
  {
   "cell_type": "code",
   "execution_count": 9,
   "metadata": {},
   "outputs": [],
   "source": [
    "train_path = \"/glade/campaign/cgd/amp/jet/ClimateNet_12012020/portal.nersc.gov/project/ClimateNet/climatenet_new\"\n",
    "\n",
    "train = ClimateDatasetLabeled(path.join(train_path, 'train'), config)\n",
    "test = ClimateDatasetLabeled(path.join(train_path, 'test'), config)"
   ]
  },
  {
   "cell_type": "code",
   "execution_count": 10,
   "metadata": {},
   "outputs": [
    {
     "data": {
      "text/plain": [
       "{'TMQ': {'mean': 19.218494415283203, 'std': 15.817276954650879},\n",
       " 'U850': {'mean': 1.5530235767364502, 'std': 8.29762077331543},\n",
       " 'V850': {'mean': 0.2541317045688629, 'std': 6.231630802154541},\n",
       " 'PSL': {'mean': 100814.078125, 'std': 1461.225830078125}}"
      ]
     },
     "execution_count": 10,
     "metadata": {},
     "output_type": "execute_result"
    }
   ],
   "source": [
    "train.fields"
   ]
  },
  {
   "cell_type": "code",
   "execution_count": 11,
   "metadata": {},
   "outputs": [
    {
     "data": {
      "text/plain": [
       "398"
      ]
     },
     "execution_count": 11,
     "metadata": {},
     "output_type": "execute_result"
    }
   ],
   "source": [
    "train.length"
   ]
  },
  {
   "cell_type": "code",
   "execution_count": 12,
   "metadata": {},
   "outputs": [
    {
     "data": {
      "text/plain": [
       "20"
      ]
     },
     "execution_count": 12,
     "metadata": {},
     "output_type": "execute_result"
    }
   ],
   "source": [
    "config.epochs"
   ]
  },
  {
   "cell_type": "markdown",
   "metadata": {},
   "source": [
    "## Train model"
   ]
  },
  {
   "cell_type": "markdown",
   "metadata": {},
   "source": [
    "Memory use holding at ~14GB during training\\\n",
    "Each epoch takes ~1 min to run"
   ]
  },
  {
   "cell_type": "code",
   "execution_count": 11,
   "metadata": {},
   "outputs": [
    {
     "name": "stderr",
     "output_type": "stream",
     "text": [
      "  0%|          | 0/25 [00:00<?, ?it/s]"
     ]
    },
    {
     "name": "stdout",
     "output_type": "stream",
     "text": [
      "Epoch 1:\n"
     ]
    },
    {
     "name": "stderr",
     "output_type": "stream",
     "text": [
      "Loss: 0.7929807901382446: 100%|██████████| 25/25 [01:09<00:00,  2.78s/it]\n",
      "  0%|          | 0/25 [00:00<?, ?it/s]"
     ]
    },
    {
     "name": "stdout",
     "output_type": "stream",
     "text": [
      "Epoch stats:\n",
      "[[2.78531995e+08 6.72942200e+06 4.52592820e+07]\n",
      " [1.08767700e+06 2.55390000e+05 2.83280000e+05]\n",
      " [6.13705900e+06 2.86185000e+05 1.35546380e+07]]\n",
      "IOUs:  [0.82468027 0.02955234 0.20687647] , mean:  0.3537030257391982\n",
      "Epoch 2:\n"
     ]
    },
    {
     "name": "stderr",
     "output_type": "stream",
     "text": [
      "Loss: 0.7859199643135071: 100%|██████████| 25/25 [01:05<00:00,  2.62s/it]\n",
      "  0%|          | 0/25 [00:00<?, ?it/s]"
     ]
    },
    {
     "name": "stdout",
     "output_type": "stream",
     "text": [
      "Epoch stats:\n",
      "[[3.15751843e+08 6.17951000e+05 1.41509050e+07]\n",
      " [9.33112000e+05 5.70046000e+05 1.23189000e+05]\n",
      " [7.91498000e+06 7.74230000e+04 1.19854790e+07]]\n",
      "IOUs:  [0.93040919 0.24552735 0.3499208 ] , mean:  0.5086191152359816\n",
      "Epoch 3:\n"
     ]
    },
    {
     "name": "stderr",
     "output_type": "stream",
     "text": [
      "Loss: 0.7832299470901489: 100%|██████████| 25/25 [01:04<00:00,  2.59s/it]\n",
      "  0%|          | 0/25 [00:00<?, ?it/s]"
     ]
    },
    {
     "name": "stdout",
     "output_type": "stream",
     "text": [
      "Epoch stats:\n",
      "[[3.16647133e+08 9.03472000e+05 1.29700940e+07]\n",
      " [7.70526000e+05 7.50304000e+05 1.05517000e+05]\n",
      " [7.34050100e+06 9.66780000e+04 1.25407030e+07]]\n",
      "IOUs:  [0.93507817 0.28566718 0.37940629] , mean:  0.5333838779624961\n",
      "Epoch 4:\n"
     ]
    },
    {
     "name": "stderr",
     "output_type": "stream",
     "text": [
      "Loss: 0.7821657657623291: 100%|██████████| 25/25 [01:06<00:00,  2.65s/it]\n",
      "  0%|          | 0/25 [00:00<?, ?it/s]"
     ]
    },
    {
     "name": "stdout",
     "output_type": "stream",
     "text": [
      "Epoch stats:\n",
      "[[3.16947454e+08 8.77425000e+05 1.26958200e+07]\n",
      " [7.06508000e+05 8.23130000e+05 9.67090000e+04]\n",
      " [6.92779000e+06 8.88940000e+04 1.29611980e+07]]\n",
      "IOUs:  [0.93728455 0.31748401 0.39551527] , mean:  0.5500946104927246\n",
      "Epoch 5:\n"
     ]
    },
    {
     "name": "stderr",
     "output_type": "stream",
     "text": [
      "Loss: 0.7858586311340332: 100%|██████████| 25/25 [01:05<00:00,  2.63s/it]\n",
      "  0%|          | 0/25 [00:00<?, ?it/s]"
     ]
    },
    {
     "name": "stdout",
     "output_type": "stream",
     "text": [
      "Epoch stats:\n",
      "[[3.17398185e+08 9.41980000e+05 1.21805340e+07]\n",
      " [6.69957000e+05 8.61272000e+05 9.51180000e+04]\n",
      " [6.79240500e+06 8.73890000e+04 1.30980880e+07]]\n",
      "IOUs:  [0.93909495 0.32430877 0.40609776] , mean:  0.5565004948355418\n",
      "Epoch 6:\n"
     ]
    },
    {
     "name": "stderr",
     "output_type": "stream",
     "text": [
      "Loss: 0.7822664380073547: 100%|██████████| 25/25 [01:06<00:00,  2.65s/it]\n",
      "  0%|          | 0/25 [00:00<?, ?it/s]"
     ]
    },
    {
     "name": "stdout",
     "output_type": "stream",
     "text": [
      "Epoch stats:\n",
      "[[3.17065522e+08 9.67129000e+05 1.24880480e+07]\n",
      " [6.55249000e+05 8.80964000e+05 9.01340000e+04]\n",
      " [6.55202100e+06 8.93240000e+04 1.33365370e+07]]\n",
      "IOUs:  [0.93881926 0.32837483 0.40964832] , mean:  0.5589474716004018\n",
      "Epoch 7:\n"
     ]
    },
    {
     "name": "stderr",
     "output_type": "stream",
     "text": [
      "Loss: 0.7820284962654114: 100%|██████████| 25/25 [01:06<00:00,  2.65s/it]\n",
      "  0%|          | 0/25 [00:00<?, ?it/s]"
     ]
    },
    {
     "name": "stdout",
     "output_type": "stream",
     "text": [
      "Epoch stats:\n",
      "[[3.17717152e+08 9.95832000e+05 1.18077150e+07]\n",
      " [6.18039000e+05 9.20317000e+05 8.79910000e+04]\n",
      " [6.48024000e+06 8.17700000e+04 1.34158720e+07]]\n",
      "IOUs:  [0.94105241 0.34036034 0.42090875] , mean:  0.5674404981127523\n",
      "Epoch 8:\n"
     ]
    },
    {
     "name": "stderr",
     "output_type": "stream",
     "text": [
      "Loss: 0.780483603477478: 100%|██████████| 25/25 [01:06<00:00,  2.67s/it] \n",
      "  0%|          | 0/25 [00:00<?, ?it/s]"
     ]
    },
    {
     "name": "stdout",
     "output_type": "stream",
     "text": [
      "Epoch stats:\n",
      "[[3.17487741e+08 1.00464000e+06 1.20283180e+07]\n",
      " [6.05835000e+05 9.32707000e+05 8.78050000e+04]\n",
      " [6.30584400e+06 8.16000000e+04 1.35904380e+07]]\n",
      "IOUs:  [0.94089294 0.34384409 0.42345722] , mean:  0.5693980796959953\n",
      "Epoch 9:\n"
     ]
    },
    {
     "name": "stderr",
     "output_type": "stream",
     "text": [
      "Loss: 0.7820720672607422: 100%|██████████| 25/25 [01:05<00:00,  2.61s/it]\n",
      "  0%|          | 0/25 [00:00<?, ?it/s]"
     ]
    },
    {
     "name": "stdout",
     "output_type": "stream",
     "text": [
      "Epoch stats:\n",
      "[[3.17660038e+08 1.04944000e+06 1.18112210e+07]\n",
      " [5.98268000e+05 9.47097000e+05 8.09820000e+04]\n",
      " [6.23379400e+06 8.49440000e+04 1.36591440e+07]]\n",
      "IOUs:  [0.94162572 0.34306023 0.42858825] , mean:  0.571091400527525\n",
      "Epoch 10:\n"
     ]
    },
    {
     "name": "stderr",
     "output_type": "stream",
     "text": [
      "Loss: 0.7849843502044678: 100%|██████████| 25/25 [01:05<00:00,  2.62s/it]\n",
      "  0%|          | 0/25 [00:00<?, ?it/s]"
     ]
    },
    {
     "name": "stdout",
     "output_type": "stream",
     "text": [
      "Epoch stats:\n",
      "[[3.18126988e+08 1.08512600e+06 1.13085850e+07]\n",
      " [5.82093000e+05 9.64273000e+05 7.99810000e+04]\n",
      " [6.09597700e+06 8.53570000e+04 1.37965480e+07]]\n",
      "IOUs:  [0.94344054 0.34477355 0.43985051] , mean:  0.5760215301028927\n",
      "Epoch 11:\n"
     ]
    },
    {
     "name": "stderr",
     "output_type": "stream",
     "text": [
      "Loss: 0.779705286026001: 100%|██████████| 25/25 [01:05<00:00,  2.61s/it] \n",
      "  0%|          | 0/25 [00:00<?, ?it/s]"
     ]
    },
    {
     "name": "stdout",
     "output_type": "stream",
     "text": [
      "Epoch stats:\n",
      "[[3.17898837e+08 1.05577400e+06 1.15660880e+07]\n",
      " [5.71586000e+05 9.72257000e+05 8.25040000e+04]\n",
      " [5.98275700e+06 7.99790000e+04 1.39151460e+07]]\n",
      "IOUs:  [0.94310998 0.3519992  0.43998411] , mean:  0.578364431877742\n",
      "Epoch 12:\n"
     ]
    },
    {
     "name": "stderr",
     "output_type": "stream",
     "text": [
      "Loss: 0.7843253016471863: 100%|██████████| 25/25 [01:06<00:00,  2.66s/it]\n",
      "  0%|          | 0/25 [00:00<?, ?it/s]"
     ]
    },
    {
     "name": "stdout",
     "output_type": "stream",
     "text": [
      "Epoch stats:\n",
      "[[3.18118161e+08 1.07088500e+06 1.13316530e+07]\n",
      " [5.77152000e+05 9.65909000e+05 8.32860000e+04]\n",
      " [5.86323000e+06 8.24850000e+04 1.40321670e+07]]\n",
      "IOUs:  [0.94407983 0.34748465 0.44698649] , mean:  0.5795169936411225\n",
      "Epoch 13:\n"
     ]
    },
    {
     "name": "stderr",
     "output_type": "stream",
     "text": [
      "Loss: 0.7806265950202942: 100%|██████████| 25/25 [01:09<00:00,  2.77s/it]\n",
      "  0%|          | 0/25 [00:00<?, ?it/s]"
     ]
    },
    {
     "name": "stdout",
     "output_type": "stream",
     "text": [
      "Epoch stats:\n",
      "[[3.18262515e+08 1.08712200e+06 1.11710620e+07]\n",
      " [5.60269000e+05 9.86589000e+05 7.94890000e+04]\n",
      " [5.79587100e+06 8.31810000e+04 1.40988300e+07]]\n",
      "IOUs:  [0.94474442 0.35277528 0.45147414] , mean:  0.582997950077657\n",
      "Epoch 14:\n"
     ]
    },
    {
     "name": "stderr",
     "output_type": "stream",
     "text": [
      "Loss: 0.7803990840911865: 100%|██████████| 25/25 [01:07<00:00,  2.72s/it]\n",
      "  0%|          | 0/25 [00:00<?, ?it/s]"
     ]
    },
    {
     "name": "stdout",
     "output_type": "stream",
     "text": [
      "Epoch stats:\n",
      "[[3.18219608e+08 1.09886500e+06 1.12022260e+07]\n",
      " [5.50183000e+05 9.95290000e+05 8.08740000e+04]\n",
      " [5.64612100e+06 8.02620000e+04 1.42514990e+07]]\n",
      "IOUs:  [0.94506546 0.35476714 0.45588776] , mean:  0.5852401195562419\n",
      "Epoch 15:\n"
     ]
    },
    {
     "name": "stderr",
     "output_type": "stream",
     "text": [
      "Loss: 0.777285099029541: 100%|██████████| 25/25 [01:06<00:00,  2.65s/it] \n",
      "  0%|          | 0/25 [00:00<?, ?it/s]"
     ]
    },
    {
     "name": "stdout",
     "output_type": "stream",
     "text": [
      "Epoch stats:\n",
      "[[3.18347151e+08 1.07947900e+06 1.10940690e+07]\n",
      " [5.46918000e+05 9.95365000e+05 8.40640000e+04]\n",
      " [5.67994800e+06 8.43080000e+04 1.42136260e+07]]\n",
      "IOUs:  [0.94535843 0.35674451 0.45620809] , mean:  0.5861036788703384\n",
      "Epoch 16:\n"
     ]
    },
    {
     "name": "stderr",
     "output_type": "stream",
     "text": [
      "Loss: 0.7805625200271606: 100%|██████████| 25/25 [01:08<00:00,  2.75s/it]\n",
      "  0%|          | 0/25 [00:00<?, ?it/s]"
     ]
    },
    {
     "name": "stdout",
     "output_type": "stream",
     "text": [
      "Epoch stats:\n",
      "[[3.18090262e+08 1.13052800e+06 1.12999090e+07]\n",
      " [5.31569000e+05 1.01557900e+06 7.91990000e+04]\n",
      " [5.57869900e+06 8.48910000e+04 1.43142920e+07]]\n",
      "IOUs:  [0.94492276 0.35737601 0.45649445] , mean:  0.5862644079084163\n",
      "Epoch 17:\n"
     ]
    },
    {
     "name": "stderr",
     "output_type": "stream",
     "text": [
      "Loss: 0.7805108428001404: 100%|██████████| 25/25 [01:06<00:00,  2.64s/it]\n",
      "  0%|          | 0/25 [00:00<?, ?it/s]"
     ]
    },
    {
     "name": "stdout",
     "output_type": "stream",
     "text": [
      "Epoch stats:\n",
      "[[3.18307796e+08 1.04556700e+06 1.11673360e+07]\n",
      " [5.34545000e+05 1.01037700e+06 8.14250000e+04]\n",
      " [5.48822300e+06 8.49500000e+04 1.44047090e+07]]\n",
      "IOUs:  [0.94581481 0.36649505 0.46129547] , mean:  0.5912017766466134\n",
      "Epoch 18:\n"
     ]
    },
    {
     "name": "stderr",
     "output_type": "stream",
     "text": [
      "Loss: 0.7817416191101074: 100%|██████████| 25/25 [01:05<00:00,  2.62s/it]\n",
      "  0%|          | 0/25 [00:00<?, ?it/s]"
     ]
    },
    {
     "name": "stdout",
     "output_type": "stream",
     "text": [
      "Epoch stats:\n",
      "[[3.18562647e+08 1.05667800e+06 1.09013740e+07]\n",
      " [5.25473000e+05 1.02087200e+06 8.00020000e+04]\n",
      " [5.33830800e+06 8.21470000e+04 1.45574270e+07]]\n",
      "IOUs:  [0.94701946 0.36918933 0.4702124 ] , mean:  0.5954737285829655\n",
      "Epoch 19:\n"
     ]
    },
    {
     "name": "stderr",
     "output_type": "stream",
     "text": [
      "Loss: 0.7821648120880127: 100%|██████████| 25/25 [01:09<00:00,  2.78s/it]\n",
      "  0%|          | 0/25 [00:00<?, ?it/s]"
     ]
    },
    {
     "name": "stdout",
     "output_type": "stream",
     "text": [
      "Epoch stats:\n",
      "[[3.18584008e+08 1.10457800e+06 1.08321130e+07]\n",
      " [5.07651000e+05 1.03895200e+06 7.97440000e+04]\n",
      " [5.19961500e+06 7.90610000e+04 1.46992060e+07]]\n",
      "IOUs:  [0.94752383 0.36973565 0.47586048] , mean:  0.597706651871503\n",
      "Epoch 20:\n"
     ]
    },
    {
     "name": "stderr",
     "output_type": "stream",
     "text": [
      "Loss: 0.7792255878448486: 100%|██████████| 25/25 [01:07<00:00,  2.69s/it]"
     ]
    },
    {
     "name": "stdout",
     "output_type": "stream",
     "text": [
      "Epoch stats:\n",
      "[[3.18784066e+08 1.04001400e+06 1.06966190e+07]\n",
      " [5.20870000e+05 1.02646100e+06 7.90160000e+04]\n",
      " [5.22794200e+06 7.90720000e+04 1.46708680e+07]]\n",
      "IOUs:  [0.94800169 0.37387946 0.47704684] , mean:  0.5996426625629762\n"
     ]
    },
    {
     "name": "stderr",
     "output_type": "stream",
     "text": [
      "\n"
     ]
    }
   ],
   "source": [
    "cgnet.train(train) # use ~20 epochs for non-test\n",
    "# IOU mean should be around 0.75 after all epochs?\n",
    "# weights and measures site to look at ML performance\n",
    "# maybe playing with those parameters could improve model"
   ]
  },
  {
   "cell_type": "markdown",
   "metadata": {},
   "source": [
    "2/15/23: Training is maxing out around 0.5977 IOU mean at last epoch\\\n",
    "4/5/23: With updated means, similar performance: 0.5997 IOU mean at last epoch"
   ]
  },
  {
   "cell_type": "markdown",
   "metadata": {
    "jp-MarkdownHeadingCollapsed": true,
    "tags": []
   },
   "source": [
    "### TO DO: output masks during training so we can visually check match between training data and what model predicts?\n",
    "Instead of simply relying on IOU. Also check the loss function here.\\\n",
    "Below, have found a way to save out testing data masks to compare predictions vs. labels on the test data.\n",
    "\n",
    "### TO DO: increase # epochs? play with batch size, other hyperparameters\n",
    "See CGnet papers (Kapp-Schwoerer et al. and Lacombe et al.)"
   ]
  },
  {
   "cell_type": "markdown",
   "metadata": {},
   "source": [
    "## Evaluate model on test data"
   ]
  },
  {
   "cell_type": "code",
   "execution_count": 15,
   "metadata": {},
   "outputs": [
    {
     "data": {
      "text/plain": [
       "{'TMQ': {'mean': 19.218494415283203, 'std': 15.817276954650879},\n",
       " 'U850': {'mean': 1.5530235767364502, 'std': 8.29762077331543},\n",
       " 'V850': {'mean': 0.2541317045688629, 'std': 6.231630802154541},\n",
       " 'PSL': {'mean': 100814.078125, 'std': 1461.225830078125}}"
      ]
     },
     "execution_count": 15,
     "metadata": {},
     "output_type": "execute_result"
    }
   ],
   "source": [
    "test.fields"
   ]
  },
  {
   "cell_type": "code",
   "execution_count": 16,
   "metadata": {},
   "outputs": [
    {
     "data": {
      "text/plain": [
       "61"
      ]
     },
     "execution_count": 16,
     "metadata": {},
     "output_type": "execute_result"
    }
   ],
   "source": [
    "test.length"
   ]
  },
  {
   "cell_type": "code",
   "execution_count": 16,
   "metadata": {},
   "outputs": [
    {
     "name": "stderr",
     "output_type": "stream",
     "text": [
      "100%|██████████| 4/4 [00:09<00:00,  2.49s/it]"
     ]
    },
    {
     "name": "stdout",
     "output_type": "stream",
     "text": [
      "Evaluation stats:\n",
      "[[4.9207437e+07 1.6860800e+05 1.2782570e+06]\n",
      " [1.2489300e+05 1.6929100e+05 2.4100000e+03]\n",
      " [1.2919190e+06 1.5389000e+04 1.7106920e+06]]\n",
      "IOUs:  [0.9450045  0.35225587 0.39795872] , mean:  0.5650730277914003\n",
      "CPU times: user 1.64 s, sys: 1.65 s, total: 3.29 s\n",
      "Wall time: 9.97 s\n"
     ]
    },
    {
     "name": "stderr",
     "output_type": "stream",
     "text": [
      "\n"
     ]
    }
   ],
   "source": [
    "%%time\n",
    "cgnet.evaluate(test)"
   ]
  },
  {
   "cell_type": "markdown",
   "metadata": {},
   "source": [
    "2/15/23: Testing data is at 0.55 IOU mean\\\n",
    "4/5/23: Testing data is at 0.56 IOU mean"
   ]
  },
  {
   "cell_type": "markdown",
   "metadata": {},
   "source": [
    "## Save out model"
   ]
  },
  {
   "cell_type": "code",
   "execution_count": 17,
   "metadata": {},
   "outputs": [],
   "source": [
    "# makes a folder by the name specified, puts the trained model and config file in there\n",
    "#cgnet.save_model('/glade/work/kdagon/ML-extremes/trained_models/trained_cgnet.021523')\n",
    "cgnet.save_model('/glade/work/kdagon/ML-extremes/trained_models/trained_cgnet.040523')"
   ]
  },
  {
   "cell_type": "markdown",
   "metadata": {},
   "source": [
    "## Load in previously trained model"
   ]
  },
  {
   "cell_type": "code",
   "execution_count": 13,
   "metadata": {},
   "outputs": [],
   "source": [
    "#cgnet.load_model('/glade/work/kdagon/ML-extremes/trained_models/trained_cgnet.021523')\n",
    "cgnet.load_model('/glade/work/kdagon/ML-extremes/trained_models/trained_cgnet.040523')"
   ]
  },
  {
   "cell_type": "markdown",
   "metadata": {},
   "source": [
    "## Predict on test data\n",
    "Need to reload test data as `ClimateDataset` in order to use `.predict`"
   ]
  },
  {
   "cell_type": "code",
   "execution_count": 19,
   "metadata": {},
   "outputs": [],
   "source": [
    "test_path = \"/glade/campaign/cgd/amp/jet/ClimateNet_12012020/portal.nersc.gov/project/ClimateNet/climatenet_new/test\"\n",
    "test_data = ClimateDataset(test_path, config)"
   ]
  },
  {
   "cell_type": "code",
   "execution_count": 20,
   "metadata": {},
   "outputs": [
    {
     "name": "stderr",
     "output_type": "stream",
     "text": [
      "100%|██████████| 4/4 [00:21<00:00,  5.25s/it]"
     ]
    },
    {
     "name": "stdout",
     "output_type": "stream",
     "text": [
      "CPU times: user 2.74 s, sys: 2.05 s, total: 4.79 s\n",
      "Wall time: 21.2 s\n"
     ]
    },
    {
     "name": "stderr",
     "output_type": "stream",
     "text": [
      "\n"
     ]
    }
   ],
   "source": [
    "%%time\n",
    "test_masks = cgnet.predict(test_data)"
   ]
  },
  {
   "cell_type": "code",
   "execution_count": 32,
   "metadata": {},
   "outputs": [
    {
     "data": {
      "image/png": "[encoded data removed]",
      "text/plain": [
       "<Figure size 432x288 with 2 Axes>"
      ]
     },
     "metadata": {
      "needs_background": "light"
     },
     "output_type": "display_data"
    }
   ],
   "source": [
    "test_masks.isel(time=0).plot();"
   ]
  },
  {
   "cell_type": "markdown",
   "metadata": {},
   "source": [
    "## Save out test data masks"
   ]
  },
  {
   "cell_type": "code",
   "execution_count": 35,
   "metadata": {},
   "outputs": [
    {
     "name": "stdout",
     "output_type": "stream",
     "text": [
      "CPU times: user 2.35 ms, sys: 142 ms, total: 144 ms\n",
      "Wall time: 168 ms\n"
     ]
    }
   ],
   "source": [
    "%%time\n",
    "test_masks.name = 'masks'\n",
    "test_masks.to_netcdf(\"/glade/campaign/cgd/ccr/kdagon/cgnet/evaluate/test_masks.040523.nc\") # trained_cgnet.040523 applied to test data to evaluate predictions vs. labels"
   ]
  },
  {
   "cell_type": "markdown",
   "metadata": {},
   "source": [
    "## Set inference data"
   ]
  },
  {
   "cell_type": "code",
   "execution_count": 38,
   "metadata": {},
   "outputs": [],
   "source": [
    "year=2000\n",
    "#inference_path = \"/glade/campaign/cgd/amp/jet/ClimateNet/Climate_data_\"+str(year)\n",
    "#inference_path = \"/glade/scratch/tking/cgnet/historical_2000_2005/split_files\"\n",
    "inference_path = \"/glade/campaign/cgd/ccr/kdagon/cgnet/B20TRC5CN/\"+str(year)\n",
    "\n",
    "inference = ClimateDataset(inference_path, config)  # could test different config with std/means for inference data"
   ]
  },
  {
   "cell_type": "code",
   "execution_count": 39,
   "metadata": {},
   "outputs": [
    {
     "data": {
      "text/plain": [
       "{'TMQ': {'mean': 24.927238169017997, 'std': 15.817276954650879},\n",
       " 'U850': {'mean': 1.0356735863118816, 'std': 8.29762077331543},\n",
       " 'V850': {'mean': 0.20847854977498861, 'std': 6.231630802154541},\n",
       " 'PSL': {'mean': 101095.03520124489, 'std': 1461.225830078125}}"
      ]
     },
     "execution_count": 39,
     "metadata": {},
     "output_type": "execute_result"
    }
   ],
   "source": [
    "inference.fields"
   ]
  },
  {
   "cell_type": "code",
   "execution_count": 40,
   "metadata": {},
   "outputs": [
    {
     "data": {
      "text/plain": [
       "17520"
      ]
     },
     "execution_count": 40,
     "metadata": {},
     "output_type": "execute_result"
    }
   ],
   "source": [
    "inference.length"
   ]
  },
  {
   "cell_type": "markdown",
   "metadata": {},
   "source": [
    "## Inference mode\n",
    "This is now done more systematically in `cgnet_run_pre_trained_model.ipynb`."
   ]
  },
  {
   "cell_type": "code",
   "execution_count": 35,
   "metadata": {},
   "outputs": [
    {
     "name": "stderr",
     "output_type": "stream",
     "text": [
      "100%|██████████| 183/183 [06:38<00:00,  2.18s/it]\n"
     ]
    },
    {
     "name": "stdout",
     "output_type": "stream",
     "text": [
      "CPU times: user 2min 17s, sys: 1min 8s, total: 3min 26s\n",
      "Wall time: 6min 46s\n"
     ]
    }
   ],
   "source": [
    "%%time\n",
    "class_masks = cgnet.predict(inference) # masks with 1==TC, 2==AR"
   ]
  },
  {
   "cell_type": "markdown",
   "metadata": {},
   "source": [
    "## Save out masks"
   ]
  },
  {
   "cell_type": "code",
   "execution_count": 36,
   "metadata": {},
   "outputs": [
    {
     "name": "stdout",
     "output_type": "stream",
     "text": [
      "CPU times: user 55.9 ms, sys: 4.16 s, total: 4.22 s\n",
      "Wall time: 7.53 s\n"
     ]
    }
   ],
   "source": [
    "%%time\n",
    "class_masks.to_netcdf(\"/glade/scratch/kdagon/cgnet/class_masks.\"+str(year)+\".nc\")"
   ]
  },
  {
   "cell_type": "markdown",
   "metadata": {},
   "source": [
    "## Track events\n",
    "Create masks with event IDs"
   ]
  },
  {
   "cell_type": "markdown",
   "metadata": {},
   "source": [
    "Note: memory spikes here - resource intensive!"
   ]
  },
  {
   "cell_type": "code",
   "execution_count": null,
   "metadata": {},
   "outputs": [],
   "source": [
    "%%time\n",
    "event_masks = track_events(class_masks)"
   ]
  },
  {
   "cell_type": "code",
   "execution_count": null,
   "metadata": {},
   "outputs": [],
   "source": [
    "%%time\n",
    "event_masks.to_netcdf(\"/glade/scratch/kdagon/cgnet/event_masks.\"+str(year)+\".test.nc\")"
   ]
  },
  {
   "cell_type": "markdown",
   "metadata": {},
   "source": [
    "## Analyze events\n",
    "Produce some visualizations"
   ]
  },
  {
   "cell_type": "code",
   "execution_count": null,
   "metadata": {},
   "outputs": [],
   "source": [
    "analyze_events(event_masks, class_masks, \"/glade/scratch/kdagon/cgnet/\")"
   ]
  },
  {
   "cell_type": "code",
   "execution_count": null,
   "metadata": {},
   "outputs": [],
   "source": [
    "visualize_events(event_masks, inference, \"/glade/scratch/kdagon/cgnet/\")   "
   ]
  },
  {
   "cell_type": "markdown",
   "metadata": {},
   "source": [
    "## Weights and Biases\n",
    "https://docs.wandb.ai/quickstart \\\n",
    "Potential tool for hyperparameter optimization\\\n",
    "Still figuring out how this works..."
   ]
  },
  {
   "cell_type": "code",
   "execution_count": 42,
   "metadata": {},
   "outputs": [],
   "source": [
    "import wandb"
   ]
  },
  {
   "cell_type": "code",
   "execution_count": 44,
   "metadata": {},
   "outputs": [
    {
     "name": "stderr",
     "output_type": "stream",
     "text": [
      "\u001b[34m\u001b[1mwandb\u001b[0m: You can find your API key in your browser here: https://wandb.ai/authorize\n"
     ]
    },
    {
     "name": "stdin",
     "output_type": "stream",
     "text": [
      "\u001b[34m\u001b[1mwandb\u001b[0m: Paste an API key from your profile and hit enter:  ········\n"
     ]
    },
    {
     "name": "stderr",
     "output_type": "stream",
     "text": [
      "\u001b[34m\u001b[1mwandb\u001b[0m: Appending key for api.wandb.ai to your netrc file: /glade/u/home/kdagon/.netrc\n"
     ]
    },
    {
     "data": {
      "text/plain": [
       "True"
      ]
     },
     "execution_count": 44,
     "metadata": {},
     "output_type": "execute_result"
    }
   ],
   "source": [
    "wandb.login()"
   ]
  },
  {
   "cell_type": "code",
   "execution_count": 46,
   "metadata": {
    "tags": []
   },
   "outputs": [
    {
     "name": "stderr",
     "output_type": "stream",
     "text": [
      "Ignoring settings passed to wandb.setup() which has already been configured.\n",
      "\u001b[34m\u001b[1mwandb\u001b[0m: You can find your API key in your browser here: https://wandb.ai/authorize\n"
     ]
    },
    {
     "name": "stdin",
     "output_type": "stream",
     "text": [
      "\u001b[34m\u001b[1mwandb\u001b[0m: Paste an API key from your profile and hit enter:  ········\n"
     ]
    },
    {
     "name": "stderr",
     "output_type": "stream",
     "text": [
      "\u001b[34m\u001b[1mwandb\u001b[0m: Appending key for api.wandb.ai to your netrc file: /glade/u/home/kdagon/.netrc\n",
      "\u001b[34m\u001b[1mwandb\u001b[0m: wandb version 0.13.10 is available!  To upgrade, please run:\n",
      "\u001b[34m\u001b[1mwandb\u001b[0m:  $ pip install wandb --upgrade\n",
      "\u001b[34m\u001b[1mwandb\u001b[0m: Tracking run with wandb version 0.10.2\n",
      "\u001b[34m\u001b[1mwandb\u001b[0m: Run data is saved locally in wandb/run-20230215_172859-2auiboc1\n",
      "\u001b[34m\u001b[1mwandb\u001b[0m: Syncing run \u001b[33mdecent-river-1\u001b[0m\n"
     ]
    },
    {
     "data": {
      "text/html": [
       "\n",
       "                Logging results to <a href=\"https://wandb.com\" target=\"_blank\">Weights & Biases</a> <a href=\"https://docs.wandb.com/integrations/jupyter.html\" target=\"_blank\">(Documentation)</a>.<br/>\n",
       "                Project page: <a href=\"https://wandb.ai/katie-dagon/climatenet-test\" target=\"_blank\">https://wandb.ai/katie-dagon/climatenet-test</a><br/>\n",
       "                Run page: <a href=\"https://wandb.ai/katie-dagon/climatenet-test/runs/2auiboc1\" target=\"_blank\">https://wandb.ai/katie-dagon/climatenet-test/runs/2auiboc1</a><br/>\n",
       "            "
      ],
      "text/plain": [
       "<IPython.core.display.HTML object>"
      ]
     },
     "metadata": {},
     "output_type": "display_data"
    },
    {
     "name": "stdout",
     "output_type": "stream",
     "text": [
      "\n"
     ]
    },
    {
     "data": {
      "text/html": [
       "<h1>Run(2auiboc1)</h1><p></p><iframe src=\"https://wandb.ai/katie-dagon/climatenet-test/runs/2auiboc1\" style=\"border:none;width:100%;height:400px\"></iframe>"
      ],
      "text/plain": [
       "<wandb.sdk.wandb_run.Run at 0x2ab0106bc0f0>"
      ]
     },
     "execution_count": 46,
     "metadata": {},
     "output_type": "execute_result"
    }
   ],
   "source": [
    "wandb.init(project=\"climatenet-test\", entity=\"katie-dagon\")"
   ]
  },
  {
   "cell_type": "code",
   "execution_count": 47,
   "metadata": {},
   "outputs": [],
   "source": [
    "wandb.config = {\n",
    "  \"learning_rate\": 0.001,\n",
    "  \"epochs\": 20,\n",
    "  \"batch_size\": 16\n",
    "}"
   ]
  },
  {
   "cell_type": "code",
   "execution_count": 49,
   "metadata": {},
   "outputs": [
    {
     "ename": "NameError",
     "evalue": "name 'loss' is not defined",
     "output_type": "error",
     "traceback": [
      "\u001b[0;31m---------------------------------------------------------------------------\u001b[0m",
      "\u001b[0;31mNameError\u001b[0m                                 Traceback (most recent call last)",
      "\u001b[0;32m<ipython-input-49-f16444db75fa>\u001b[0m in \u001b[0;36m<module>\u001b[0;34m\u001b[0m\n\u001b[0;32m----> 1\u001b[0;31m \u001b[0mwandb\u001b[0m\u001b[0;34m.\u001b[0m\u001b[0mlog\u001b[0m\u001b[0;34m(\u001b[0m\u001b[0;34m{\u001b[0m\u001b[0;34m\"loss\"\u001b[0m\u001b[0;34m:\u001b[0m \u001b[0mloss\u001b[0m\u001b[0;34m}\u001b[0m\u001b[0;34m)\u001b[0m\u001b[0;34m\u001b[0m\u001b[0;34m\u001b[0m\u001b[0m\n\u001b[0m",
      "\u001b[0;31mNameError\u001b[0m: name 'loss' is not defined"
     ]
    }
   ],
   "source": [
    "wandb.log({\"loss\": loss})"
   ]
  },
  {
   "cell_type": "code",
   "execution_count": null,
   "metadata": {},
   "outputs": [],
   "source": []
  },
  {
   "cell_type": "code",
   "execution_count": null,
   "metadata": {},
   "outputs": [],
   "source": []
  }
 ],
 "metadata": {
  "kernelspec": {
   "display_name": "Python [conda env:miniconda-cgnet]",
   "language": "python",
   "name": "conda-env-miniconda-cgnet-py"
  },
  "language_info": {
   "codemirror_mode": {
    "name": "ipython",
    "version": 3
   },
   "file_extension": ".py",
   "mimetype": "text/x-python",
   "name": "python",
   "nbconvert_exporter": "python",
   "pygments_lexer": "ipython3",
   "version": "3.6.10"
  }
 },
 "nbformat": 4,
 "nbformat_minor": 4
}
