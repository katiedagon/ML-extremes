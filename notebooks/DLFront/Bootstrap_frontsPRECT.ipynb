{
 "cells": [
  {
   "cell_type": "markdown",
   "id": "c6f13b09-9364-4482-86b5-68557bb2c217",
   "metadata": {
    "tags": []
   },
   "source": [
    "# Bootstrap Resampling for Frontal Precip Analysis"
   ]
  },
  {
   "cell_type": "code",
   "execution_count": 1,
   "id": "2f67e081-f05c-4a6b-b44b-e38fcdf8dd51",
   "metadata": {},
   "outputs": [],
   "source": [
    "import numpy as np\n",
    "import xarray as xr\n",
    "import matplotlib.pyplot as plt\n",
    "import matplotlib as mpl\n",
    "import xesmf as xe\n",
    "import nc_time_axis\n",
    "import cftime \n",
    "import cartopy.crs as ccrs\n",
    "import cartopy.feature as cfeature\n",
    "from cartopy.util import add_cyclic_point\n",
    "from scipy import stats"
   ]
  },
  {
   "cell_type": "code",
   "execution_count": 2,
   "id": "c4a9a4a2-410e-414d-8dcc-fac2d1fcee19",
   "metadata": {},
   "outputs": [
    {
     "name": "stderr",
     "output_type": "stream",
     "text": [
      "/glade/work/kdagon/miniconda/envs/PEx/lib/python3.9/site-packages/distributed/node.py:160: UserWarning: Port 8787 is already in use.\n",
      "Perhaps you already have a cluster running?\n",
      "Hosting the HTTP server on port 37198 instead\n",
      "  warnings.warn(\n"
     ]
    }
   ],
   "source": [
    "# Import dask\n",
    "import dask\n",
    "\n",
    "# Use dask jobqueue\n",
    "from dask_jobqueue import PBSCluster\n",
    "\n",
    "# Import a client\n",
    "from dask.distributed import Client\n",
    "\n",
    "# Setup your PBSCluster\n",
    "cluster = PBSCluster(\n",
    "    cores=1, # The number of cores you want\n",
    "    memory='20GB', # Amount of memory\n",
    "    processes=1, # How many processes\n",
    "    queue='casper', # The type of queue to utilize (/glade/u/apps/dav/opt/usr/bin/execcasper)\n",
    "    local_directory='/glade/scratch/kdagon/dask-local', # Use your dask-local directory\n",
    "    resource_spec='select=1:ncpus=1:mem=20GB', # Specify resources\n",
    "    project='P06010014', # Input your project ID here\n",
    "    walltime='06:00:00', # Amount of wall time\n",
    "    interface='ib0', # Interface to use\n",
    ")\n",
    "\n",
    "# Scale up -- how to determine this number?\n",
    "# Here asking for 10 or 20 nodes (10 or 20 dask workers)\n",
    "cluster.scale(20)\n",
    "\n",
    "# Adaptive scaling option!\n",
    "#cluster.adapt(minimum=1, maximum=100, wait_count=60)\n",
    "\n",
    "# Change your url to the dask dashboard so you can see it\n",
    "dask.config.set({'distributed.dashboard.link':'https://jupyterhub.hpc.ucar.edu/stable/user/{USER}/proxy/{port}/status'})\n",
    "\n",
    "# Setup your client\n",
    "client = Client(cluster)"
   ]
  },
  {
   "cell_type": "code",
   "execution_count": 3,
   "id": "a5f308eb-d159-4e2e-9a50-6a3134e5b093",
   "metadata": {},
   "outputs": [
    {
     "data": {
      "text/html": [
       "\n",
       "            <div>\n",
       "                <div style=\"\n",
       "                    width: 24px;\n",
       "                    height: 24px;\n",
       "                    background-color: #e1e1e1;\n",
       "                    border: 3px solid #9D9D9D;\n",
       "                    border-radius: 5px;\n",
       "                    position: absolute;\"> </div>\n",
       "                <div style=\"margin-left: 48px;\">\n",
       "                    <h3 style=\"margin-bottom: 0px;\">Client</h3>\n",
       "                    <p style=\"color: #9D9D9D; margin-bottom: 0px;\">Client-dc95e728-1338-11ed-b1bb-3cecef1b11de</p>\n",
       "                    <table style=\"width: 100%; text-align: left;\">\n",
       "                    \n",
       "                <tr>\n",
       "                    <td style=\"text-align: left;\"><strong>Connection method:</strong> Cluster object</td>\n",
       "                    <td style=\"text-align: left;\"><strong>Cluster type:</strong> PBSCluster</td>\n",
       "                </tr>\n",
       "                \n",
       "                <tr>\n",
       "                    <td style=\"text-align: left;\">\n",
       "                        <strong>Dashboard: </strong>\n",
       "                        <a href=\"https://jupyterhub.hpc.ucar.edu/stable/user/kdagon/proxy/37198/status\">https://jupyterhub.hpc.ucar.edu/stable/user/kdagon/proxy/37198/status</a>\n",
       "                    </td>\n",
       "                    <td style=\"text-align: left;\"></td>\n",
       "                </tr>\n",
       "                \n",
       "                    </table>\n",
       "                    \n",
       "                <details>\n",
       "                <summary style=\"margin-bottom: 20px;\"><h3 style=\"display: inline;\">Cluster Info</h3></summary>\n",
       "                \n",
       "            <div class=\"jp-RenderedHTMLCommon jp-RenderedHTML jp-mod-trusted jp-OutputArea-output\">\n",
       "                <div style=\"\n",
       "                    width: 24px;\n",
       "                    height: 24px;\n",
       "                    background-color: #e1e1e1;\n",
       "                    border: 3px solid #9D9D9D;\n",
       "                    border-radius: 5px;\n",
       "                    position: absolute;\"> </div>\n",
       "                <div style=\"margin-left: 48px;\">\n",
       "                    <h3 style=\"margin-bottom: 0px; margin-top: 0px;\">PBSCluster</h3>\n",
       "                    <p style=\"color: #9D9D9D; margin-bottom: 0px;\">a93cb3c8</p>\n",
       "                    <table style=\"width: 100%; text-align: left;\">\n",
       "                    \n",
       "            <tr>\n",
       "                <td style=\"text-align: left;\">\n",
       "                    <strong>Dashboard:</strong> <a href=\"https://jupyterhub.hpc.ucar.edu/stable/user/kdagon/proxy/37198/status\">https://jupyterhub.hpc.ucar.edu/stable/user/kdagon/proxy/37198/status</a>\n",
       "                </td>\n",
       "                <td style=\"text-align: left;\"><strong>Workers:</strong> 0</td>\n",
       "            </tr>\n",
       "            <tr>\n",
       "                <td style=\"text-align: left;\">\n",
       "                    <strong>Total threads:</strong>\n",
       "                    0\n",
       "                </td>\n",
       "                <td style=\"text-align: left;\">\n",
       "                    <strong>Total memory:</strong>\n",
       "                    0 B\n",
       "                </td>\n",
       "            </tr>\n",
       "        \n",
       "                    </table>\n",
       "                    <details>\n",
       "                    <summary style=\"margin-bottom: 20px;\"><h3 style=\"display: inline;\">Scheduler Info</h3></summary>\n",
       "                    \n",
       "        <div style=\"\">\n",
       "            \n",
       "            <div>\n",
       "                <div style=\"\n",
       "                    width: 24px;\n",
       "                    height: 24px;\n",
       "                    background-color: #FFF7E5;\n",
       "                    border: 3px solid #FF6132;\n",
       "                    border-radius: 5px;\n",
       "                    position: absolute;\"> </div>\n",
       "                <div style=\"margin-left: 48px;\">\n",
       "                    <h3 style=\"margin-bottom: 0px;\">Scheduler</h3>\n",
       "                    <p style=\"color: #9D9D9D; margin-bottom: 0px;\">Scheduler-53a250aa-a6b1-452c-a4fa-b72499261e5f</p>\n",
       "                    <table style=\"width: 100%; text-align: left;\">\n",
       "                        <tr>\n",
       "                            <td style=\"text-align: left;\"><strong>Comm:</strong> tcp://10.12.206.51:42916</td>\n",
       "                            <td style=\"text-align: left;\"><strong>Workers:</strong> 0</td>\n",
       "                        </tr>\n",
       "                        <tr>\n",
       "                            <td style=\"text-align: left;\">\n",
       "                                <strong>Dashboard:</strong> <a href=\"https://jupyterhub.hpc.ucar.edu/stable/user/kdagon/proxy/37198/status\">https://jupyterhub.hpc.ucar.edu/stable/user/kdagon/proxy/37198/status</a>\n",
       "                            </td>\n",
       "                            <td style=\"text-align: left;\">\n",
       "                                <strong>Total threads:</strong>\n",
       "                                0\n",
       "                            </td>\n",
       "                        </tr>\n",
       "                        <tr>\n",
       "                            <td style=\"text-align: left;\">\n",
       "                                <strong>Started:</strong>\n",
       "                                Just now\n",
       "                            </td>\n",
       "                            <td style=\"text-align: left;\">\n",
       "                                <strong>Total memory:</strong>\n",
       "                                0 B\n",
       "                            </td>\n",
       "                        </tr>\n",
       "                    </table>\n",
       "                </div>\n",
       "            </div>\n",
       "        \n",
       "            <details style=\"margin-left: 48px;\">\n",
       "            <summary style=\"margin-bottom: 20px;\"><h3 style=\"display: inline;\">Workers</h3></summary>\n",
       "            \n",
       "            </details>\n",
       "        </div>\n",
       "        \n",
       "                    </details>\n",
       "                </div>\n",
       "            </div>\n",
       "        \n",
       "                </details>\n",
       "                \n",
       "                </div>\n",
       "            </div>\n",
       "        "
      ],
      "text/plain": [
       "<Client: 'tcp://10.12.206.51:42916' processes=0 threads=0, memory=0 B>"
      ]
     },
     "execution_count": 3,
     "metadata": {},
     "output_type": "execute_result"
    }
   ],
   "source": [
    "client"
   ]
  },
  {
   "cell_type": "markdown",
   "id": "3fc63c91-4c51-464a-9af3-9f76c2386565",
   "metadata": {},
   "source": [
    "## Read and process fronts given input file\n",
    "All fronts and fronts by type"
   ]
  },
  {
   "cell_type": "code",
   "execution_count": 4,
   "id": "03ba19bc-32d3-42c8-b12e-a0ac4e921a28",
   "metadata": {},
   "outputs": [],
   "source": [
    "def process_fronts(path, file):\n",
    "    fronts_ds = xr.open_dataset(path+file, chunks={'time':360})\n",
    "    \n",
    "    # convert longitudes to match CESM data (conservative regridding only)\n",
    "    #fronts_ds_lons = fronts_ds.assign_coords(lon=(fronts_ds.lon % 360), keep_attrs=True)\n",
    "    #fronts_ds_lons.lon.attrs = fronts_ds.lon.attrs\n",
    "    #fronts = fronts_ds_lons.fronts\n",
    "    \n",
    "    fronts = fronts_ds.fronts\n",
    "    #print(fronts.front_type.values)\n",
    "    \n",
    "    # subset for a 15-year climatology (if applicable)\n",
    "    if fronts.shape[0] > 43800:\n",
    "        fronts = fronts[:43800]\n",
    "        \n",
    "    # subset for CONUS\n",
    "    fronts = fronts.sel(lat=slice(26,50), lon=slice(-125,-68))\n",
    "\n",
    "    # all fronts\n",
    "    #allfronts = fronts.argmax(dim='front')\n",
    "    #anyfront = allfronts.where(allfronts < 4) # masking out no front areas\n",
    "    \n",
    "    # select seasonal values\n",
    "    #anyfront_DJF = anyfront.sel(time=anyfront.time.dt.season==\"DJF\")\n",
    "    #anyfront_MAM = anyfront.sel(time=anyfront.time.dt.season==\"MAM\")\n",
    "    #anyfront_JJA = anyfront.sel(time=anyfront.time.dt.season==\"JJA\")\n",
    "    #anyfront_SON = anyfront.sel(time=anyfront.time.dt.season==\"SON\")\n",
    "    \n",
    "    # cold fronts\n",
    "    allcoldfronts = fronts.sel(front=0) # see fronts.front_type.values for indices\n",
    "    anycoldfront = allcoldfronts.where(allcoldfronts == 1) # masking out no cold front areas\n",
    "    anycoldfront_DJF = anycoldfront.sel(time=anycoldfront.time.dt.season==\"DJF\")\n",
    "    anycoldfront_MAM = anycoldfront.sel(time=anycoldfront.time.dt.season==\"MAM\")\n",
    "    anycoldfront_JJA = anycoldfront.sel(time=anycoldfront.time.dt.season==\"JJA\")\n",
    "    anycoldfront_SON = anycoldfront.sel(time=anycoldfront.time.dt.season==\"SON\")\n",
    "    \n",
    "    # warm fronts\n",
    "    allwarmfronts = fronts.sel(front=1)\n",
    "    anywarmfront = allwarmfronts.where(allwarmfronts == 1)\n",
    "    anywarmfront_DJF = anywarmfront.sel(time=anywarmfront.time.dt.season==\"DJF\")\n",
    "    anywarmfront_MAM = anywarmfront.sel(time=anywarmfront.time.dt.season==\"MAM\")\n",
    "    anywarmfront_JJA = anywarmfront.sel(time=anywarmfront.time.dt.season==\"JJA\")\n",
    "    anywarmfront_SON = anywarmfront.sel(time=anywarmfront.time.dt.season==\"SON\")\n",
    "    \n",
    "    # stationary fronts\n",
    "    allstatfronts = fronts.sel(front=2)\n",
    "    anystatfront = allstatfronts.where(allstatfronts == 1)\n",
    "    anystatfront_DJF = anystatfront.sel(time=anystatfront.time.dt.season==\"DJF\")\n",
    "    anystatfront_MAM = anystatfront.sel(time=anystatfront.time.dt.season==\"MAM\")\n",
    "    anystatfront_JJA = anystatfront.sel(time=anystatfront.time.dt.season==\"JJA\")\n",
    "    anystatfront_SON = anystatfront.sel(time=anystatfront.time.dt.season==\"SON\")\n",
    "    \n",
    "    # occluded fronts\n",
    "    alloccfronts = fronts.sel(front=3)\n",
    "    anyoccfront = alloccfronts.where(alloccfronts == 1)\n",
    "    anyoccfront_DJF = anyoccfront.sel(time=anyoccfront.time.dt.season==\"DJF\")\n",
    "    anyoccfront_MAM = anyoccfront.sel(time=anyoccfront.time.dt.season==\"MAM\")\n",
    "    anyoccfront_JJA = anyoccfront.sel(time=anyoccfront.time.dt.season==\"JJA\")\n",
    "    anyoccfront_SON = anyoccfront.sel(time=anyoccfront.time.dt.season==\"SON\")\n",
    "    \n",
    "    #anyfront_types = xr.concat([anycoldfront, anywarmfront, anystatfront, anyoccfront], dim='front_type')\n",
    "    #return(anyfront, anyfront_types)\n",
    "\n",
    "    # return all fronts by season\n",
    "    #return(anyfront_DJF, anyfront_MAM, anyfront_JJA, anyfront_SON)\n",
    "\n",
    "    # return front types by season\n",
    "    return(anycoldfront_DJF, anycoldfront_MAM, anycoldfront_JJA, anycoldfront_SON,\n",
    "           anywarmfront_DJF, anywarmfront_MAM, anywarmfront_JJA, anywarmfront_SON,\n",
    "           anystatfront_DJF, anystatfront_MAM, anystatfront_JJA, anystatfront_SON,\n",
    "           anyoccfront_DJF, anyoccfront_MAM, anyoccfront_JJA, anyoccfront_SON)"
   ]
  },
  {
   "cell_type": "code",
   "execution_count": 7,
   "id": "5e15044a-b74a-4d60-a832-07eb4c60ba6e",
   "metadata": {},
   "outputs": [],
   "source": [
    "cesm_fronts_filepath = \"/glade/work/kdagon/FrontDetector/CESMOutputs/\"\n",
    "fronts_file = \"cesm_fronts_2000-2015_MaskedNetCDF_customgrid.nc\"\n",
    "#fronts_DJF, fronts_MAM, fronts_JJA, fronts_SON = process_fronts(cesm_fronts_filepath, fronts_file)\n",
    "cfronts_DJF, cfronts_MAM, cfronts_JJA, cfronts_SON, wfronts_DJF, wfronts_MAM, wfronts_JJA, wfronts_SON, sfronts_DJF, sfronts_MAM, sfronts_JJA, sfronts_SON, ofronts_DJF, ofronts_MAM, ofronts_JJA, ofronts_SON = process_fronts(cesm_fronts_filepath, fronts_file)"
   ]
  },
  {
   "cell_type": "code",
   "execution_count": 9,
   "id": "4e0b0a8d-e879-4659-b574-fccab692e8c1",
   "metadata": {},
   "outputs": [],
   "source": [
    "fronts_file_rcp = \"cesm_fronts_2086-2100_MaskedNetCDF_customgrid.nc\"\n",
    "#fronts_DJF_rcp, fronts_MAM_rcp, fronts_JJA_rcp, fronts_SON_rcp = process_fronts(cesm_fronts_filepath, fronts_file_rcp)\n",
    "cfronts_DJF_rcp, cfronts_MAM_rcp, cfronts_JJA_rcp, cfronts_SON_rcp, wfronts_DJF_rcp, wfronts_MAM_rcp, wfronts_JJA_rcp, wfronts_SON_rcp, sfronts_DJF_rcp, sfronts_MAM_rcp, sfronts_JJA_rcp, sfronts_SON_rcp, ofronts_DJF_rcp, ofronts_MAM_rcp, ofronts_JJA_rcp, ofronts_SON_rcp = process_fronts(cesm_fronts_filepath, fronts_file_rcp)"
   ]
  },
  {
   "cell_type": "markdown",
   "id": "74036c59-4b68-41d9-a3ca-c15b3df64e58",
   "metadata": {},
   "source": [
    "### Read landfrac to subset land points (optional)"
   ]
  },
  {
   "cell_type": "code",
   "execution_count": 8,
   "id": "368241ed-3165-457e-8d8a-0b8987d9791b",
   "metadata": {
    "jupyter": {
     "source_hidden": true
    }
   },
   "outputs": [],
   "source": [
    "postprocessing_filepath = '/glade/campaign/cgd/ccr/kdagon/dlfront/postprocessing/'\n",
    "landfrac_file = 'landfrac_1deg_bil.nc'"
   ]
  },
  {
   "cell_type": "code",
   "execution_count": 9,
   "id": "3234d7b2-7ee9-4709-b1f5-7b3df9ce9613",
   "metadata": {
    "jupyter": {
     "source_hidden": true
    },
    "tags": []
   },
   "outputs": [],
   "source": [
    "landfrac = xr.open_dataarray(postprocessing_filepath+landfrac_file)"
   ]
  },
  {
   "cell_type": "markdown",
   "id": "04351bcb-bcb6-4d58-a84b-44d663ba5b2a",
   "metadata": {},
   "source": [
    "## Read and process precipitation given input file"
   ]
  },
  {
   "cell_type": "code",
   "execution_count": 10,
   "id": "e0016aa8-9f71-4472-8a23-e4accfe92fd5",
   "metadata": {},
   "outputs": [],
   "source": [
    "#def process_PRECT(path, file, landfrac):\n",
    "def process_PRECT(path, file):\n",
    "    PRECT_1deg = xr.open_dataarray(path+file, chunks={'time':600, 'lat':10, 'lon':20})\n",
    "    \n",
    "    # subset for a 15-year climatology (if applicable)\n",
    "    if PRECT_1deg.shape[0] > 43800:\n",
    "        PRECT_1deg = PRECT_1deg[:43800]\n",
    "    \n",
    "    # subset for land only (optional; comment out to use whole domain)\n",
    "    #PRECT_1deg = PRECT_1deg.where(landfrac > 0)\n",
    "    \n",
    "    # subset for CONUS only\n",
    "    PRECT_CONUS = PRECT_1deg.sel(lat=slice(26,50), lon=slice(-125,-68))\n",
    "    \n",
    "    # select seasonal values\n",
    "    PRECT_DJF = PRECT_CONUS.sel(time=PRECT_CONUS.time.dt.season==\"DJF\")\n",
    "    PRECT_MAM = PRECT_CONUS.sel(time=PRECT_CONUS.time.dt.season==\"MAM\")\n",
    "    PRECT_JJA = PRECT_CONUS.sel(time=PRECT_CONUS.time.dt.season==\"JJA\")\n",
    "    PRECT_SON = PRECT_CONUS.sel(time=PRECT_CONUS.time.dt.season==\"SON\")\n",
    "    \n",
    "    return(PRECT_DJF, PRECT_MAM, PRECT_JJA, PRECT_SON)"
   ]
  },
  {
   "cell_type": "code",
   "execution_count": 11,
   "id": "8d541425-714c-45ed-a61f-7b33b7ca69bf",
   "metadata": {},
   "outputs": [],
   "source": [
    "postprocessing_filepath = '/glade/campaign/cgd/ccr/kdagon/dlfront/postprocessing/'\n",
    "PRECT_file = 'PRECT_3hravg_NA_hist_rcp26_1deg_bil.nc' # bilinear interpolation, units are m/s\n",
    "#PRECT_file = 'PRECT_3hravg_NA_hist_rcp26_1deg_cons.nc' # conservative regridding\n",
    "PRECT_DJF, PRECT_MAM, PRECT_JJA, PRECT_SON = process_PRECT(postprocessing_filepath, PRECT_file)\n",
    "\n",
    "PRECT_file_rcp = 'PRECT_3hravg_NA_rcp85_1deg_bil.nc'\n",
    "PRECT_DJF_rcp, PRECT_MAM_rcp, PRECT_JJA_rcp, PRECT_SON_rcp = process_PRECT(postprocessing_filepath, PRECT_file_rcp)"
   ]
  },
  {
   "cell_type": "markdown",
   "id": "7bad3d7d-e017-40f7-b59a-baeec4c6e0fe",
   "metadata": {},
   "source": [
    "## Bootstrap resampling"
   ]
  },
  {
   "cell_type": "markdown",
   "id": "1c945c69-3827-43bb-b293-4b7315b6cec6",
   "metadata": {},
   "source": [
    "#### Create components for bootstrapping"
   ]
  },
  {
   "cell_type": "code",
   "execution_count": 14,
   "id": "3bbc34f8-5785-4a44-9e03-22f2c41d46ed",
   "metadata": {},
   "outputs": [],
   "source": [
    "def process_timeseries(f1, f2, P1, P2):\n",
    "\n",
    "    # frontal precipitation for each simulation\n",
    "    P1_f1 = P1.where(f1.notnull())\n",
    "    P2_f2 = P2.where(f2.notnull())\n",
    "    # concatenate the timeseries\n",
    "    P_f_concat = xr.concat([P1_f1, P2_f2], dim='time')\n",
    "    \n",
    "    # precipitation for each simulation\n",
    "    P_concat = xr.concat([P1, P2], dim='time')\n",
    "    \n",
    "    return(P_f_concat, P_concat)"
   ]
  },
  {
   "cell_type": "code",
   "execution_count": 12,
   "id": "f926154b-6218-46fd-9fe5-a3969520d183",
   "metadata": {},
   "outputs": [],
   "source": [
    "# all fronts\n",
    "#PRECT_front_DJF_concat, PRECT_DJF_concat = process_timeseries(fronts_DJF, fronts_DJF_rcp, PRECT_DJF, PRECT_DJF_rcp)\n",
    "#PRECT_front_MAM_concat, PRECT_MAM_concat = process_timeseries(fronts_MAM, fronts_MAM_rcp, PRECT_MAM, PRECT_MAM_rcp)\n",
    "#PRECT_front_JJA_concat, PRECT_JJA_concat = process_timeseries(fronts_JJA, fronts_JJA_rcp, PRECT_JJA, PRECT_JJA_rcp)\n",
    "#PRECT_front_SON_concat, PRECT_SON_concat = process_timeseries(fronts_SON, fronts_SON_rcp, PRECT_SON, PRECT_SON_rcp)"
   ]
  },
  {
   "cell_type": "code",
   "execution_count": 15,
   "id": "de12bb87-f42e-4eab-9cf6-c6031cde622a",
   "metadata": {},
   "outputs": [],
   "source": [
    "# cold fronts\n",
    "PRECT_cfront_DJF_concat, PRECT_DJF_concat = process_timeseries(cfronts_DJF, cfronts_DJF_rcp, PRECT_DJF, PRECT_DJF_rcp)\n",
    "PRECT_cfront_MAM_concat, PRECT_MAM_concat = process_timeseries(cfronts_MAM, cfronts_MAM_rcp, PRECT_MAM, PRECT_MAM_rcp)\n",
    "PRECT_cfront_JJA_concat, PRECT_JJA_concat = process_timeseries(cfronts_JJA, cfronts_JJA_rcp, PRECT_JJA, PRECT_JJA_rcp)\n",
    "PRECT_cfront_SON_concat, PRECT_SON_concat = process_timeseries(cfronts_SON, cfronts_SON_rcp, PRECT_SON, PRECT_SON_rcp)"
   ]
  },
  {
   "cell_type": "code",
   "execution_count": 47,
   "id": "3eb830c4-7e17-4412-b95a-dd7c82c299b4",
   "metadata": {},
   "outputs": [],
   "source": [
    "# warm fronts\n",
    "PRECT_wfront_DJF_concat, PRECT_DJF_concat = process_timeseries(wfronts_DJF, wfronts_DJF_rcp, PRECT_DJF, PRECT_DJF_rcp)\n",
    "PRECT_wfront_MAM_concat, PRECT_MAM_concat = process_timeseries(wfronts_MAM, wfronts_MAM_rcp, PRECT_MAM, PRECT_MAM_rcp)\n",
    "PRECT_wfront_JJA_concat, PRECT_JJA_concat = process_timeseries(wfronts_JJA, wfronts_JJA_rcp, PRECT_JJA, PRECT_JJA_rcp)\n",
    "PRECT_wfront_SON_concat, PRECT_SON_concat = process_timeseries(wfronts_SON, wfronts_SON_rcp, PRECT_SON, PRECT_SON_rcp)"
   ]
  },
  {
   "cell_type": "code",
   "execution_count": 73,
   "id": "2945de0e-ea2e-4ceb-8bf1-54d9994c5395",
   "metadata": {},
   "outputs": [],
   "source": [
    "# stat fronts\n",
    "PRECT_sfront_DJF_concat, PRECT_DJF_concat = process_timeseries(sfronts_DJF, sfronts_DJF_rcp, PRECT_DJF, PRECT_DJF_rcp)\n",
    "PRECT_sfront_MAM_concat, PRECT_MAM_concat = process_timeseries(sfronts_MAM, sfronts_MAM_rcp, PRECT_MAM, PRECT_MAM_rcp)\n",
    "PRECT_sfront_JJA_concat, PRECT_JJA_concat = process_timeseries(sfronts_JJA, sfronts_JJA_rcp, PRECT_JJA, PRECT_JJA_rcp)\n",
    "PRECT_sfront_SON_concat, PRECT_SON_concat = process_timeseries(sfronts_SON, sfronts_SON_rcp, PRECT_SON, PRECT_SON_rcp)"
   ]
  },
  {
   "cell_type": "code",
   "execution_count": 100,
   "id": "07b4bdfc-f600-4e07-86ed-3a8b2daa0e58",
   "metadata": {},
   "outputs": [],
   "source": [
    "# occ fronts\n",
    "PRECT_ofront_DJF_concat, PRECT_DJF_concat = process_timeseries(ofronts_DJF, ofronts_DJF_rcp, PRECT_DJF, PRECT_DJF_rcp)\n",
    "PRECT_ofront_MAM_concat, PRECT_MAM_concat = process_timeseries(ofronts_MAM, ofronts_MAM_rcp, PRECT_MAM, PRECT_MAM_rcp)\n",
    "PRECT_ofront_JJA_concat, PRECT_JJA_concat = process_timeseries(ofronts_JJA, ofronts_JJA_rcp, PRECT_JJA, PRECT_JJA_rcp)\n",
    "PRECT_ofront_SON_concat, PRECT_SON_concat = process_timeseries(ofronts_SON, ofronts_SON_rcp, PRECT_SON, PRECT_SON_rcp)"
   ]
  },
  {
   "cell_type": "code",
   "execution_count": 30,
   "id": "ffbbfb02-83b5-437c-8db4-3e8cb9e65dad",
   "metadata": {
    "jupyter": {
     "source_hidden": true
    },
    "tags": []
   },
   "outputs": [],
   "source": [
    "# persist values for computation - still slow\n",
    "#PRECT_front_concat = PRECT_front_concat.persist()\n",
    "#PRECT_concat = PRECT_concat.persist()"
   ]
  },
  {
   "cell_type": "code",
   "execution_count": 16,
   "id": "c0694243-0909-44a7-b801-a7fd0fb1cbe8",
   "metadata": {},
   "outputs": [
    {
     "name": "stdout",
     "output_type": "stream",
     "text": [
      "CPU times: user 6.09 s, sys: 538 ms, total: 6.62 s\n",
      "Wall time: 9.77 s\n"
     ]
    }
   ],
   "source": [
    "%%time\n",
    "# compute values to load into memory\n",
    "\n",
    "# all fronts\n",
    "#PRECT_front_DJF_concat_compute = PRECT_front_DJF_concat.compute()\n",
    "\n",
    "# cold fronts\n",
    "PRECT_cfront_DJF_concat_compute = PRECT_cfront_DJF_concat.compute()"
   ]
  },
  {
   "cell_type": "code",
   "execution_count": 66,
   "id": "3db33147-0787-4c1b-a7d5-3a952aa1991e",
   "metadata": {
    "collapsed": true,
    "jupyter": {
     "outputs_hidden": true,
     "source_hidden": true
    },
    "tags": []
   },
   "outputs": [
    {
     "data": {
      "text/plain": [
       "(21600, 25, 58)"
      ]
     },
     "execution_count": 66,
     "metadata": {},
     "output_type": "execute_result"
    }
   ],
   "source": [
    "PRECT_front_DJF_concat_compute.shape"
   ]
  },
  {
   "cell_type": "code",
   "execution_count": null,
   "id": "2a7f1c85-392d-4fc2-9274-2bb375374fa2",
   "metadata": {
    "jupyter": {
     "source_hidden": true
    },
    "tags": []
   },
   "outputs": [],
   "source": [
    "# convert to numpy array (optional)\n",
    "#PRECT_front_DJF_concat_forboot = PRECT_front_DJF_concat_compute.values"
   ]
  },
  {
   "cell_type": "code",
   "execution_count": null,
   "id": "f3682db5-4959-4363-aac1-1f2bcb006822",
   "metadata": {
    "jupyter": {
     "source_hidden": true
    },
    "tags": []
   },
   "outputs": [],
   "source": [
    "# check the shape\n",
    "#PRECT_front_DJF_concat_forboot.shape"
   ]
  },
  {
   "cell_type": "code",
   "execution_count": 17,
   "id": "313fd24a-af51-4a25-8855-6cc919b6fb76",
   "metadata": {},
   "outputs": [
    {
     "name": "stdout",
     "output_type": "stream",
     "text": [
      "CPU times: user 2.33 s, sys: 431 ms, total: 2.76 s\n",
      "Wall time: 4.67 s\n"
     ]
    }
   ],
   "source": [
    "%%time\n",
    "PRECT_DJF_concat_compute = PRECT_DJF_concat.compute()"
   ]
  },
  {
   "cell_type": "code",
   "execution_count": 65,
   "id": "247f9f67-1c0d-4928-9704-5f6c5d31bf24",
   "metadata": {
    "collapsed": true,
    "jupyter": {
     "outputs_hidden": true,
     "source_hidden": true
    },
    "tags": []
   },
   "outputs": [
    {
     "data": {
      "text/plain": [
       "(21600, 25, 58)"
      ]
     },
     "execution_count": 65,
     "metadata": {},
     "output_type": "execute_result"
    }
   ],
   "source": [
    "PRECT_DJF_concat_compute.shape"
   ]
  },
  {
   "cell_type": "code",
   "execution_count": 18,
   "id": "6ceead5e-3268-4964-9cf5-1815f43fc6a9",
   "metadata": {},
   "outputs": [
    {
     "name": "stdout",
     "output_type": "stream",
     "text": [
      "CPU times: user 29 s, sys: 2.66 s, total: 31.7 s\n",
      "Wall time: 49.5 s\n"
     ]
    }
   ],
   "source": [
    "%%time\n",
    "# compute the rest of the seasons\n",
    "\n",
    "# all fronts\n",
    "#PRECT_front_MAM_concat_compute = PRECT_front_MAM_concat.compute()\n",
    "#PRECT_front_JJA_concat_compute = PRECT_front_JJA_concat.compute()\n",
    "#PRECT_front_SON_concat_compute = PRECT_front_SON_concat.compute()\n",
    "\n",
    "# cold fronts\n",
    "PRECT_cfront_MAM_concat_compute = PRECT_cfront_MAM_concat.compute()\n",
    "PRECT_cfront_JJA_concat_compute = PRECT_cfront_JJA_concat.compute()\n",
    "PRECT_cfront_SON_concat_compute = PRECT_cfront_SON_concat.compute()\n",
    "\n",
    "# PRECT\n",
    "PRECT_MAM_concat_compute = PRECT_MAM_concat.compute()\n",
    "PRECT_JJA_concat_compute = PRECT_JJA_concat.compute()\n",
    "PRECT_SON_concat_compute = PRECT_SON_concat.compute()"
   ]
  },
  {
   "cell_type": "code",
   "execution_count": 48,
   "id": "0014bbf9-a441-496e-9ea3-498bf5ffaa55",
   "metadata": {},
   "outputs": [],
   "source": [
    "# warm fronts\n",
    "PRECT_wfront_DJF_concat_compute = PRECT_wfront_DJF_concat.compute()\n",
    "PRECT_wfront_MAM_concat_compute = PRECT_wfront_MAM_concat.compute()\n",
    "PRECT_wfront_JJA_concat_compute = PRECT_wfront_JJA_concat.compute()\n",
    "PRECT_wfront_SON_concat_compute = PRECT_wfront_SON_concat.compute()"
   ]
  },
  {
   "cell_type": "code",
   "execution_count": 74,
   "id": "b0c27bd9-ba4a-4d5b-bc5d-ac8ed1964235",
   "metadata": {},
   "outputs": [],
   "source": [
    "# stat fronts\n",
    "PRECT_sfront_DJF_concat_compute = PRECT_sfront_DJF_concat.compute()\n",
    "PRECT_sfront_MAM_concat_compute = PRECT_sfront_MAM_concat.compute()\n",
    "PRECT_sfront_JJA_concat_compute = PRECT_sfront_JJA_concat.compute()\n",
    "PRECT_sfront_SON_concat_compute = PRECT_sfront_SON_concat.compute()"
   ]
  },
  {
   "cell_type": "code",
   "execution_count": 101,
   "id": "d53ed147-bed0-4183-8be5-c9dcb1e22a43",
   "metadata": {},
   "outputs": [],
   "source": [
    "# occ fronts\n",
    "PRECT_ofront_DJF_concat_compute = PRECT_ofront_DJF_concat.compute()\n",
    "PRECT_ofront_MAM_concat_compute = PRECT_ofront_MAM_concat.compute()\n",
    "PRECT_ofront_JJA_concat_compute = PRECT_ofront_JJA_concat.compute()\n",
    "PRECT_ofront_SON_concat_compute = PRECT_ofront_SON_concat.compute()"
   ]
  },
  {
   "cell_type": "code",
   "execution_count": 19,
   "id": "e3ec7aa7-ea83-4c97-8ed0-866e45b42da6",
   "metadata": {},
   "outputs": [],
   "source": [
    "# calculate number of timesteps for each season\n",
    "totalsize_DJF = PRECT_DJF_concat.time.size\n",
    "totalsize_MAM = PRECT_MAM_concat.time.size\n",
    "totalsize_JJA = PRECT_JJA_concat.time.size\n",
    "totalsize_SON = PRECT_SON_concat.time.size"
   ]
  },
  {
   "cell_type": "markdown",
   "id": "90f09d26-ed3d-497b-9875-175fd09c3cbf",
   "metadata": {},
   "source": [
    "#### DJF"
   ]
  },
  {
   "cell_type": "code",
   "execution_count": 102,
   "id": "daaf50cc-e10e-40e1-8580-ac33bbeb677a",
   "metadata": {},
   "outputs": [
    {
     "name": "stdout",
     "output_type": "stream",
     "text": [
      "CPU times: user 6min 23s, sys: 7min 32s, total: 13min 56s\n",
      "Wall time: 19min 46s\n"
     ]
    }
   ],
   "source": [
    "%%time\n",
    "# NOTE: load the concatenated arrays into memory first\n",
    "\n",
    "nsamps = 1000\n",
    "\n",
    "# initialize a difference array\n",
    "#diffs_DJF = np.zeros((PRECT_DJF_concat_compute.shape)) # np version\n",
    "diffs_DJF = xr.zeros_like(PRECT_DJF_concat_compute[:nsamps,:,:]).reset_index('time', drop='True').rename({'time': 'sample'}) # xr version\n",
    "\n",
    "for ind in range(nsamps):\n",
    "    \n",
    "    # sample 1 - set the random seed for reproducibility\n",
    "    np.random.seed(ind+1)\n",
    "    # create the random indices based on totalsize\n",
    "    rand_index = np.random.choice(totalsize_DJF, size=int(totalsize_DJF/2), replace=True)\n",
    "    \n",
    "    # randomly sample the concatenated frontal precip across hist/rcp\n",
    "    # options for working in numpy or xarray space\n",
    "    # all fronts\n",
    "    #boot_1 = np.nansum(PRECT_front_DJF_concat_compute[rand_index,...], axis=0)\n",
    "    #boot_1 = PRECT_front_DJF_concat_compute.isel(time=rand_index).sum(dim='time')\n",
    "    # cold fronts\n",
    "    #boot_1 = PRECT_cfront_DJF_concat_compute.isel(time=rand_index).sum(dim='time')\n",
    "    # warm fronts\n",
    "    #boot_1 = PRECT_wfront_DJF_concat_compute.isel(time=rand_index).sum(dim='time')\n",
    "    # stat fronts\n",
    "    #boot_1 = PRECT_sfront_DJF_concat_compute.isel(time=rand_index).sum(dim='time')\n",
    "    # occ fronts\n",
    "    boot_1 = PRECT_ofront_DJF_concat_compute.isel(time=rand_index).sum(dim='time')\n",
    "    \n",
    "    # randomly sample the concatenated precip across hist/rcp\n",
    "    #boot_2 = np.nansum(PRECT_DJF_concat_compute[rand_index,...], axis=0)\n",
    "    boot_2 = PRECT_DJF_concat_compute.isel(time=rand_index).sum(dim='time')\n",
    "    # compute the fraction of frontal precip\n",
    "    frac = boot_1/boot_2\n",
    "    \n",
    "    # sample 2 - different random seed\n",
    "    np.random.seed(ind+10)\n",
    "    rand_index = np.random.choice(totalsize_DJF, size=int(totalsize_DJF/2), replace=True)\n",
    "    #boot_1 = np.nansum(PRECT_front_DJF_concat_compute[rand_index,...], axis=0)\n",
    "    #boot_1 = PRECT_front_DJF_concat_compute.isel(time=rand_index).sum(dim='time')\n",
    "    #boot_1 = PRECT_cfront_DJF_concat_compute.isel(time=rand_index).sum(dim='time')\n",
    "    #boot_1 = PRECT_wfront_DJF_concat_compute.isel(time=rand_index).sum(dim='time')\n",
    "    #boot_1 = PRECT_sfront_DJF_concat_compute.isel(time=rand_index).sum(dim='time')\n",
    "    boot_1 = PRECT_ofront_DJF_concat_compute.isel(time=rand_index).sum(dim='time')\n",
    "    \n",
    "    #boot_2 = np.nansum(PRECT_DJF_concat_compute[rand_index,...], axis=0)\n",
    "    boot_2 = PRECT_DJF_concat_compute.isel(time=rand_index).sum(dim='time')\n",
    "    \n",
    "    frac2 = boot_1/boot_2\n",
    "    \n",
    "    # final bootstrap sample is the difference between samples\n",
    "    diffs_DJF[ind,...] = 100*(frac - frac2) # can save these out as individual netcdf files (spatial maps) for each sample if memory is an issue\n",
    "    \n",
    "    # then save and load back in diff maps, calculate quantiles (2 tailed), use those as bounds for hatching\n",
    "\n",
    "    # test first iteration of loop\n",
    "    #break"
   ]
  },
  {
   "cell_type": "code",
   "execution_count": null,
   "id": "db820052-b366-4c45-a698-5d33e1fd4ec5",
   "metadata": {},
   "outputs": [
    {
     "data": {
      "text/plain": [
       "(1000, 25, 58)"
      ]
     },
     "execution_count": 103,
     "metadata": {},
     "output_type": "execute_result"
    }
   ],
   "source": [
    "diffs_DJF.shape"
   ]
  },
  {
   "cell_type": "code",
   "execution_count": null,
   "id": "cac65f52-e6c3-4d8b-a88f-a2a2a85f1df3",
   "metadata": {},
   "outputs": [
    {
     "data": {
      "text/plain": [
       "<matplotlib.collections.QuadMesh at 0x2ae5d3a4e0d0>"
      ]
     },
     "execution_count": 104,
     "metadata": {},
     "output_type": "execute_result"
    },
    {
     "data": {
      "image/png": "[encoded data removed]",
      "text/plain": [
       "<Figure size 432x288 with 2 Axes>"
      ]
     },
     "metadata": {
      "needs_background": "light"
     },
     "output_type": "display_data"
    }
   ],
   "source": [
    "# distribution of values at first sample across space\n",
    "diffs_DJF.isel(sample=0).plot()"
   ]
  },
  {
   "cell_type": "code",
   "execution_count": null,
   "id": "193ef6c9-653c-431a-adc6-6bc058ce2c79",
   "metadata": {},
   "outputs": [
    {
     "data": {
      "image/png": "[encoded data removed]",
      "text/plain": [
       "<Figure size 432x288 with 1 Axes>"
      ]
     },
     "metadata": {
      "needs_background": "light"
     },
     "output_type": "display_data"
    }
   ],
   "source": [
    "# distribution of values at first spatial point\n",
    "plt.hist(diffs_DJF[:,0,0]);"
   ]
  },
  {
   "cell_type": "code",
   "execution_count": 106,
   "id": "230945e6-0df8-4e1d-b91b-078201be6bf6",
   "metadata": {},
   "outputs": [],
   "source": [
    "lev_1 = 0.025\n",
    "lev_2 = 0.975\n",
    "\n",
    "DJF_quantiles = diffs_DJF.quantile([lev_1,lev_2], dim='sample')"
   ]
  },
  {
   "cell_type": "code",
   "execution_count": 107,
   "id": "b5874a0f-d189-48b1-a4e4-175dd7b4b9e7",
   "metadata": {},
   "outputs": [
    {
     "data": {
      "text/html": [
       "<div><svg style=\"position: absolute; width: 0; height: 0; overflow: hidden\">\n",
       "<defs>\n",
       "<symbol id=\"icon-database\" viewBox=\"0 0 32 32\">\n",
       "<path d=\"M16 0c-8.837 0-16 2.239-16 5v4c0 2.761 7.163 5 16 5s16-2.239 16-5v-4c0-2.761-7.163-5-16-5z\"></path>\n",
       "<path d=\"M16 17c-8.837 0-16-2.239-16-5v6c0 2.761 7.163 5 16 5s16-2.239 16-5v-6c0 2.761-7.163 5-16 5z\"></path>\n",
       "<path d=\"M16 26c-8.837 0-16-2.239-16-5v6c0 2.761 7.163 5 16 5s16-2.239 16-5v-6c0 2.761-7.163 5-16 5z\"></path>\n",
       "</symbol>\n",
       "<symbol id=\"icon-file-text2\" viewBox=\"0 0 32 32\">\n",
       "<path d=\"M28.681 7.159c-0.694-0.947-1.662-2.053-2.724-3.116s-2.169-2.030-3.116-2.724c-1.612-1.182-2.393-1.319-2.841-1.319h-15.5c-1.378 0-2.5 1.121-2.5 2.5v27c0 1.378 1.122 2.5 2.5 2.5h23c1.378 0 2.5-1.122 2.5-2.5v-19.5c0-0.448-0.137-1.23-1.319-2.841zM24.543 5.457c0.959 0.959 1.712 1.825 2.268 2.543h-4.811v-4.811c0.718 0.556 1.584 1.309 2.543 2.268zM28 29.5c0 0.271-0.229 0.5-0.5 0.5h-23c-0.271 0-0.5-0.229-0.5-0.5v-27c0-0.271 0.229-0.5 0.5-0.5 0 0 15.499-0 15.5 0v7c0 0.552 0.448 1 1 1h7v19.5z\"></path>\n",
       "<path d=\"M23 26h-14c-0.552 0-1-0.448-1-1s0.448-1 1-1h14c0.552 0 1 0.448 1 1s-0.448 1-1 1z\"></path>\n",
       "<path d=\"M23 22h-14c-0.552 0-1-0.448-1-1s0.448-1 1-1h14c0.552 0 1 0.448 1 1s-0.448 1-1 1z\"></path>\n",
       "<path d=\"M23 18h-14c-0.552 0-1-0.448-1-1s0.448-1 1-1h14c0.552 0 1 0.448 1 1s-0.448 1-1 1z\"></path>\n",
       "</symbol>\n",
       "</defs>\n",
       "</svg>\n",
       "<style>/* CSS stylesheet for displaying xarray objects in jupyterlab.\n",
       " *\n",
       " */\n",
       "\n",
       ":root {\n",
       "  --xr-font-color0: var(--jp-content-font-color0, rgba(0, 0, 0, 1));\n",
       "  --xr-font-color2: var(--jp-content-font-color2, rgba(0, 0, 0, 0.54));\n",
       "  --xr-font-color3: var(--jp-content-font-color3, rgba(0, 0, 0, 0.38));\n",
       "  --xr-border-color: var(--jp-border-color2, #e0e0e0);\n",
       "  --xr-disabled-color: var(--jp-layout-color3, #bdbdbd);\n",
       "  --xr-background-color: var(--jp-layout-color0, white);\n",
       "  --xr-background-color-row-even: var(--jp-layout-color1, white);\n",
       "  --xr-background-color-row-odd: var(--jp-layout-color2, #eeeeee);\n",
       "}\n",
       "\n",
       "html[theme=dark],\n",
       "body.vscode-dark {\n",
       "  --xr-font-color0: rgba(255, 255, 255, 1);\n",
       "  --xr-font-color2: rgba(255, 255, 255, 0.54);\n",
       "  --xr-font-color3: rgba(255, 255, 255, 0.38);\n",
       "  --xr-border-color: #1F1F1F;\n",
       "  --xr-disabled-color: #515151;\n",
       "  --xr-background-color: #111111;\n",
       "  --xr-background-color-row-even: #111111;\n",
       "  --xr-background-color-row-odd: #313131;\n",
       "}\n",
       "\n",
       ".xr-wrap {\n",
       "  display: block;\n",
       "  min-width: 300px;\n",
       "  max-width: 700px;\n",
       "}\n",
       "\n",
       ".xr-text-repr-fallback {\n",
       "  /* fallback to plain text repr when CSS is not injected (untrusted notebook) */\n",
       "  display: none;\n",
       "}\n",
       "\n",
       ".xr-header {\n",
       "  padding-top: 6px;\n",
       "  padding-bottom: 6px;\n",
       "  margin-bottom: 4px;\n",
       "  border-bottom: solid 1px var(--xr-border-color);\n",
       "}\n",
       "\n",
       ".xr-header > div,\n",
       ".xr-header > ul {\n",
       "  display: inline;\n",
       "  margin-top: 0;\n",
       "  margin-bottom: 0;\n",
       "}\n",
       "\n",
       ".xr-obj-type,\n",
       ".xr-array-name {\n",
       "  margin-left: 2px;\n",
       "  margin-right: 10px;\n",
       "}\n",
       "\n",
       ".xr-obj-type {\n",
       "  color: var(--xr-font-color2);\n",
       "}\n",
       "\n",
       ".xr-sections {\n",
       "  padding-left: 0 !important;\n",
       "  display: grid;\n",
       "  grid-template-columns: 150px auto auto 1fr 20px 20px;\n",
       "}\n",
       "\n",
       ".xr-section-item {\n",
       "  display: contents;\n",
       "}\n",
       "\n",
       ".xr-section-item input {\n",
       "  display: none;\n",
       "}\n",
       "\n",
       ".xr-section-item input + label {\n",
       "  color: var(--xr-disabled-color);\n",
       "}\n",
       "\n",
       ".xr-section-item input:enabled + label {\n",
       "  cursor: pointer;\n",
       "  color: var(--xr-font-color2);\n",
       "}\n",
       "\n",
       ".xr-section-item input:enabled + label:hover {\n",
       "  color: var(--xr-font-color0);\n",
       "}\n",
       "\n",
       ".xr-section-summary {\n",
       "  grid-column: 1;\n",
       "  color: var(--xr-font-color2);\n",
       "  font-weight: 500;\n",
       "}\n",
       "\n",
       ".xr-section-summary > span {\n",
       "  display: inline-block;\n",
       "  padding-left: 0.5em;\n",
       "}\n",
       "\n",
       ".xr-section-summary-in:disabled + label {\n",
       "  color: var(--xr-font-color2);\n",
       "}\n",
       "\n",
       ".xr-section-summary-in + label:before {\n",
       "  display: inline-block;\n",
       "  content: '►';\n",
       "  font-size: 11px;\n",
       "  width: 15px;\n",
       "  text-align: center;\n",
       "}\n",
       "\n",
       ".xr-section-summary-in:disabled + label:before {\n",
       "  color: var(--xr-disabled-color);\n",
       "}\n",
       "\n",
       ".xr-section-summary-in:checked + label:before {\n",
       "  content: '▼';\n",
       "}\n",
       "\n",
       ".xr-section-summary-in:checked + label > span {\n",
       "  display: none;\n",
       "}\n",
       "\n",
       ".xr-section-summary,\n",
       ".xr-section-inline-details {\n",
       "  padding-top: 4px;\n",
       "  padding-bottom: 4px;\n",
       "}\n",
       "\n",
       ".xr-section-inline-details {\n",
       "  grid-column: 2 / -1;\n",
       "}\n",
       "\n",
       ".xr-section-details {\n",
       "  display: none;\n",
       "  grid-column: 1 / -1;\n",
       "  margin-bottom: 5px;\n",
       "}\n",
       "\n",
       ".xr-section-summary-in:checked ~ .xr-section-details {\n",
       "  display: contents;\n",
       "}\n",
       "\n",
       ".xr-array-wrap {\n",
       "  grid-column: 1 / -1;\n",
       "  display: grid;\n",
       "  grid-template-columns: 20px auto;\n",
       "}\n",
       "\n",
       ".xr-array-wrap > label {\n",
       "  grid-column: 1;\n",
       "  vertical-align: top;\n",
       "}\n",
       "\n",
       ".xr-preview {\n",
       "  color: var(--xr-font-color3);\n",
       "}\n",
       "\n",
       ".xr-array-preview,\n",
       ".xr-array-data {\n",
       "  padding: 0 5px !important;\n",
       "  grid-column: 2;\n",
       "}\n",
       "\n",
       ".xr-array-data,\n",
       ".xr-array-in:checked ~ .xr-array-preview {\n",
       "  display: none;\n",
       "}\n",
       "\n",
       ".xr-array-in:checked ~ .xr-array-data,\n",
       ".xr-array-preview {\n",
       "  display: inline-block;\n",
       "}\n",
       "\n",
       ".xr-dim-list {\n",
       "  display: inline-block !important;\n",
       "  list-style: none;\n",
       "  padding: 0 !important;\n",
       "  margin: 0;\n",
       "}\n",
       "\n",
       ".xr-dim-list li {\n",
       "  display: inline-block;\n",
       "  padding: 0;\n",
       "  margin: 0;\n",
       "}\n",
       "\n",
       ".xr-dim-list:before {\n",
       "  content: '(';\n",
       "}\n",
       "\n",
       ".xr-dim-list:after {\n",
       "  content: ')';\n",
       "}\n",
       "\n",
       ".xr-dim-list li:not(:last-child):after {\n",
       "  content: ',';\n",
       "  padding-right: 5px;\n",
       "}\n",
       "\n",
       ".xr-has-index {\n",
       "  font-weight: bold;\n",
       "}\n",
       "\n",
       ".xr-var-list,\n",
       ".xr-var-item {\n",
       "  display: contents;\n",
       "}\n",
       "\n",
       ".xr-var-item > div,\n",
       ".xr-var-item label,\n",
       ".xr-var-item > .xr-var-name span {\n",
       "  background-color: var(--xr-background-color-row-even);\n",
       "  margin-bottom: 0;\n",
       "}\n",
       "\n",
       ".xr-var-item > .xr-var-name:hover span {\n",
       "  padding-right: 5px;\n",
       "}\n",
       "\n",
       ".xr-var-list > li:nth-child(odd) > div,\n",
       ".xr-var-list > li:nth-child(odd) > label,\n",
       ".xr-var-list > li:nth-child(odd) > .xr-var-name span {\n",
       "  background-color: var(--xr-background-color-row-odd);\n",
       "}\n",
       "\n",
       ".xr-var-name {\n",
       "  grid-column: 1;\n",
       "}\n",
       "\n",
       ".xr-var-dims {\n",
       "  grid-column: 2;\n",
       "}\n",
       "\n",
       ".xr-var-dtype {\n",
       "  grid-column: 3;\n",
       "  text-align: right;\n",
       "  color: var(--xr-font-color2);\n",
       "}\n",
       "\n",
       ".xr-var-preview {\n",
       "  grid-column: 4;\n",
       "}\n",
       "\n",
       ".xr-var-name,\n",
       ".xr-var-dims,\n",
       ".xr-var-dtype,\n",
       ".xr-preview,\n",
       ".xr-attrs dt {\n",
       "  white-space: nowrap;\n",
       "  overflow: hidden;\n",
       "  text-overflow: ellipsis;\n",
       "  padding-right: 10px;\n",
       "}\n",
       "\n",
       ".xr-var-name:hover,\n",
       ".xr-var-dims:hover,\n",
       ".xr-var-dtype:hover,\n",
       ".xr-attrs dt:hover {\n",
       "  overflow: visible;\n",
       "  width: auto;\n",
       "  z-index: 1;\n",
       "}\n",
       "\n",
       ".xr-var-attrs,\n",
       ".xr-var-data {\n",
       "  display: none;\n",
       "  background-color: var(--xr-background-color) !important;\n",
       "  padding-bottom: 5px !important;\n",
       "}\n",
       "\n",
       ".xr-var-attrs-in:checked ~ .xr-var-attrs,\n",
       ".xr-var-data-in:checked ~ .xr-var-data {\n",
       "  display: block;\n",
       "}\n",
       "\n",
       ".xr-var-data > table {\n",
       "  float: right;\n",
       "}\n",
       "\n",
       ".xr-var-name span,\n",
       ".xr-var-data,\n",
       ".xr-attrs {\n",
       "  padding-left: 25px !important;\n",
       "}\n",
       "\n",
       ".xr-attrs,\n",
       ".xr-var-attrs,\n",
       ".xr-var-data {\n",
       "  grid-column: 1 / -1;\n",
       "}\n",
       "\n",
       "dl.xr-attrs {\n",
       "  padding: 0;\n",
       "  margin: 0;\n",
       "  display: grid;\n",
       "  grid-template-columns: 125px auto;\n",
       "}\n",
       "\n",
       ".xr-attrs dt,\n",
       ".xr-attrs dd {\n",
       "  padding: 0;\n",
       "  margin: 0;\n",
       "  float: left;\n",
       "  padding-right: 10px;\n",
       "  width: auto;\n",
       "}\n",
       "\n",
       ".xr-attrs dt {\n",
       "  font-weight: normal;\n",
       "  grid-column: 1;\n",
       "}\n",
       "\n",
       ".xr-attrs dt:hover span {\n",
       "  display: inline-block;\n",
       "  background: var(--xr-background-color);\n",
       "  padding-right: 10px;\n",
       "}\n",
       "\n",
       ".xr-attrs dd {\n",
       "  grid-column: 2;\n",
       "  white-space: pre-wrap;\n",
       "  word-break: break-all;\n",
       "}\n",
       "\n",
       ".xr-icon-database,\n",
       ".xr-icon-file-text2 {\n",
       "  display: inline-block;\n",
       "  vertical-align: middle;\n",
       "  width: 1em;\n",
       "  height: 1.5em !important;\n",
       "  stroke-width: 0;\n",
       "  stroke: currentColor;\n",
       "  fill: currentColor;\n",
       "}\n",
       "</style><pre class='xr-text-repr-fallback'>&lt;xarray.DataArray &#x27;PRECT&#x27; (quantile: 2, lat: 25, lon: 58)&gt;\n",
       "array([[[-0.16864619, -1.86844226, -3.2801722 , ..., -0.03102896,\n",
       "         -0.02757453, -0.01939991],\n",
       "        [-0.12481008, -1.38697674, -3.50107399, ..., -0.24516729,\n",
       "         -0.17020362, -0.19545741],\n",
       "        [-0.19933268, -2.29566116, -4.30191681, ..., -0.6283272 ,\n",
       "         -0.75990033, -0.95961649],\n",
       "        ...,\n",
       "        [-1.49116915, -1.3333428 , -1.38147712, ..., -2.04510167,\n",
       "         -2.17735057, -2.59311297],\n",
       "        [-1.61200784, -1.45271689, -1.17002926, ..., -2.17722886,\n",
       "         -2.38833541, -2.54166659],\n",
       "        [-1.76986129, -1.31487764, -1.11849933, ..., -1.97301194,\n",
       "         -2.27352646, -2.40995004]],\n",
       "\n",
       "       [[ 0.17415302,  1.80225669,  3.25064601, ...,  0.03153391,\n",
       "          0.02759805,  0.0193413 ],\n",
       "        [ 0.12219169,  1.31265929,  3.30903978, ...,  0.23576643,\n",
       "          0.17063564,  0.19243786],\n",
       "        [ 0.18815459,  2.22575854,  4.04478517, ...,  0.60630994,\n",
       "          0.76747154,  0.95492508],\n",
       "        ...,\n",
       "        [ 1.39283844,  1.307097  ,  1.40075108, ...,  1.99301656,\n",
       "          2.1380701 ,  2.59049321],\n",
       "        [ 1.66344101,  1.45691023,  1.06780526, ...,  2.15963904,\n",
       "          2.33163339,  2.34482   ],\n",
       "        [ 1.75918338,  1.20280946,  1.13196578, ...,  1.96922752,\n",
       "          2.10414682,  2.44475964]]])\n",
       "Coordinates:\n",
       "  * lon       (lon) float64 -125.0 -124.0 -123.0 -122.0 ... -70.0 -69.0 -68.0\n",
       "  * lat       (lat) float64 26.0 27.0 28.0 29.0 30.0 ... 47.0 48.0 49.0 50.0\n",
       "  * quantile  (quantile) float64 0.025 0.975</pre><div class='xr-wrap' hidden><div class='xr-header'><div class='xr-obj-type'>xarray.DataArray</div><div class='xr-array-name'>'PRECT'</div><ul class='xr-dim-list'><li><span class='xr-has-index'>quantile</span>: 2</li><li><span class='xr-has-index'>lat</span>: 25</li><li><span class='xr-has-index'>lon</span>: 58</li></ul></div><ul class='xr-sections'><li class='xr-section-item'><div class='xr-array-wrap'><input id='section-e45ce645-6b57-496b-ae98-0b0940ce6728' class='xr-array-in' type='checkbox' checked><label for='section-e45ce645-6b57-496b-ae98-0b0940ce6728' title='Show/hide data repr'><svg class='icon xr-icon-database'><use xlink:href='#icon-database'></use></svg></label><div class='xr-array-preview xr-preview'><span>-0.1686 -1.868 -3.28 -6.961 -0.7668 ... 2.071 2.262 1.969 2.104 2.445</span></div><div class='xr-array-data'><pre>array([[[-0.16864619, -1.86844226, -3.2801722 , ..., -0.03102896,\n",
       "         -0.02757453, -0.01939991],\n",
       "        [-0.12481008, -1.38697674, -3.50107399, ..., -0.24516729,\n",
       "         -0.17020362, -0.19545741],\n",
       "        [-0.19933268, -2.29566116, -4.30191681, ..., -0.6283272 ,\n",
       "         -0.75990033, -0.95961649],\n",
       "        ...,\n",
       "        [-1.49116915, -1.3333428 , -1.38147712, ..., -2.04510167,\n",
       "         -2.17735057, -2.59311297],\n",
       "        [-1.61200784, -1.45271689, -1.17002926, ..., -2.17722886,\n",
       "         -2.38833541, -2.54166659],\n",
       "        [-1.76986129, -1.31487764, -1.11849933, ..., -1.97301194,\n",
       "         -2.27352646, -2.40995004]],\n",
       "\n",
       "       [[ 0.17415302,  1.80225669,  3.25064601, ...,  0.03153391,\n",
       "          0.02759805,  0.0193413 ],\n",
       "        [ 0.12219169,  1.31265929,  3.30903978, ...,  0.23576643,\n",
       "          0.17063564,  0.19243786],\n",
       "        [ 0.18815459,  2.22575854,  4.04478517, ...,  0.60630994,\n",
       "          0.76747154,  0.95492508],\n",
       "        ...,\n",
       "        [ 1.39283844,  1.307097  ,  1.40075108, ...,  1.99301656,\n",
       "          2.1380701 ,  2.59049321],\n",
       "        [ 1.66344101,  1.45691023,  1.06780526, ...,  2.15963904,\n",
       "          2.33163339,  2.34482   ],\n",
       "        [ 1.75918338,  1.20280946,  1.13196578, ...,  1.96922752,\n",
       "          2.10414682,  2.44475964]]])</pre></div></div></li><li class='xr-section-item'><input id='section-25c7d492-5b24-4c05-986c-368998ccd17f' class='xr-section-summary-in' type='checkbox'  checked><label for='section-25c7d492-5b24-4c05-986c-368998ccd17f' class='xr-section-summary' >Coordinates: <span>(3)</span></label><div class='xr-section-inline-details'></div><div class='xr-section-details'><ul class='xr-var-list'><li class='xr-var-item'><div class='xr-var-name'><span class='xr-has-index'>lon</span></div><div class='xr-var-dims'>(lon)</div><div class='xr-var-dtype'>float64</div><div class='xr-var-preview xr-preview'>-125.0 -124.0 ... -69.0 -68.0</div><input id='attrs-7b4a07aa-e64c-431c-81e3-8e22ebe836a3' class='xr-var-attrs-in' type='checkbox' ><label for='attrs-7b4a07aa-e64c-431c-81e3-8e22ebe836a3' title='Show/Hide attributes'><svg class='icon xr-icon-file-text2'><use xlink:href='#icon-file-text2'></use></svg></label><input id='data-5d91a031-69ac-423a-99a5-cb9b13044621' class='xr-var-data-in' type='checkbox'><label for='data-5d91a031-69ac-423a-99a5-cb9b13044621' title='Show/Hide data repr'><svg class='icon xr-icon-database'><use xlink:href='#icon-database'></use></svg></label><div class='xr-var-attrs'><dl class='xr-attrs'><dt><span>axis :</span></dt><dd>X</dd><dt><span>long_name :</span></dt><dd>longitude</dd><dt><span>standard_name :</span></dt><dd>longitude</dd><dt><span>units :</span></dt><dd>degrees_east</dd></dl></div><div class='xr-var-data'><pre>array([-125., -124., -123., -122., -121., -120., -119., -118., -117., -116.,\n",
       "       -115., -114., -113., -112., -111., -110., -109., -108., -107., -106.,\n",
       "       -105., -104., -103., -102., -101., -100.,  -99.,  -98.,  -97.,  -96.,\n",
       "        -95.,  -94.,  -93.,  -92.,  -91.,  -90.,  -89.,  -88.,  -87.,  -86.,\n",
       "        -85.,  -84.,  -83.,  -82.,  -81.,  -80.,  -79.,  -78.,  -77.,  -76.,\n",
       "        -75.,  -74.,  -73.,  -72.,  -71.,  -70.,  -69.,  -68.])</pre></div></li><li class='xr-var-item'><div class='xr-var-name'><span class='xr-has-index'>lat</span></div><div class='xr-var-dims'>(lat)</div><div class='xr-var-dtype'>float64</div><div class='xr-var-preview xr-preview'>26.0 27.0 28.0 ... 48.0 49.0 50.0</div><input id='attrs-5a079e3d-9833-4814-b487-89a7f11848a6' class='xr-var-attrs-in' type='checkbox' ><label for='attrs-5a079e3d-9833-4814-b487-89a7f11848a6' title='Show/Hide attributes'><svg class='icon xr-icon-file-text2'><use xlink:href='#icon-file-text2'></use></svg></label><input id='data-9e0e81e0-7796-41d7-9a7d-45513c757c12' class='xr-var-data-in' type='checkbox'><label for='data-9e0e81e0-7796-41d7-9a7d-45513c757c12' title='Show/Hide data repr'><svg class='icon xr-icon-database'><use xlink:href='#icon-database'></use></svg></label><div class='xr-var-attrs'><dl class='xr-attrs'><dt><span>axis :</span></dt><dd>Y</dd><dt><span>long_name :</span></dt><dd>latitude</dd><dt><span>standard_name :</span></dt><dd>latitude</dd><dt><span>units :</span></dt><dd>degrees_north</dd></dl></div><div class='xr-var-data'><pre>array([26., 27., 28., 29., 30., 31., 32., 33., 34., 35., 36., 37., 38., 39.,\n",
       "       40., 41., 42., 43., 44., 45., 46., 47., 48., 49., 50.])</pre></div></li><li class='xr-var-item'><div class='xr-var-name'><span class='xr-has-index'>quantile</span></div><div class='xr-var-dims'>(quantile)</div><div class='xr-var-dtype'>float64</div><div class='xr-var-preview xr-preview'>0.025 0.975</div><input id='attrs-df1d2036-8d41-471c-82e2-5b153dc86139' class='xr-var-attrs-in' type='checkbox' disabled><label for='attrs-df1d2036-8d41-471c-82e2-5b153dc86139' title='Show/Hide attributes'><svg class='icon xr-icon-file-text2'><use xlink:href='#icon-file-text2'></use></svg></label><input id='data-b47855ca-2a41-420e-9236-cb4047cd7dbc' class='xr-var-data-in' type='checkbox'><label for='data-b47855ca-2a41-420e-9236-cb4047cd7dbc' title='Show/Hide data repr'><svg class='icon xr-icon-database'><use xlink:href='#icon-database'></use></svg></label><div class='xr-var-attrs'><dl class='xr-attrs'></dl></div><div class='xr-var-data'><pre>array([0.025, 0.975])</pre></div></li></ul></div></li><li class='xr-section-item'><input id='section-779aa0d2-ed82-4cfa-9a78-6b3406269926' class='xr-section-summary-in' type='checkbox' disabled ><label for='section-779aa0d2-ed82-4cfa-9a78-6b3406269926' class='xr-section-summary'  title='Expand/collapse section'>Attributes: <span>(0)</span></label><div class='xr-section-inline-details'></div><div class='xr-section-details'><dl class='xr-attrs'></dl></div></li></ul></div></div>"
      ],
      "text/plain": [
       "<xarray.DataArray 'PRECT' (quantile: 2, lat: 25, lon: 58)>\n",
       "array([[[-0.16864619, -1.86844226, -3.2801722 , ..., -0.03102896,\n",
       "         -0.02757453, -0.01939991],\n",
       "        [-0.12481008, -1.38697674, -3.50107399, ..., -0.24516729,\n",
       "         -0.17020362, -0.19545741],\n",
       "        [-0.19933268, -2.29566116, -4.30191681, ..., -0.6283272 ,\n",
       "         -0.75990033, -0.95961649],\n",
       "        ...,\n",
       "        [-1.49116915, -1.3333428 , -1.38147712, ..., -2.04510167,\n",
       "         -2.17735057, -2.59311297],\n",
       "        [-1.61200784, -1.45271689, -1.17002926, ..., -2.17722886,\n",
       "         -2.38833541, -2.54166659],\n",
       "        [-1.76986129, -1.31487764, -1.11849933, ..., -1.97301194,\n",
       "         -2.27352646, -2.40995004]],\n",
       "\n",
       "       [[ 0.17415302,  1.80225669,  3.25064601, ...,  0.03153391,\n",
       "          0.02759805,  0.0193413 ],\n",
       "        [ 0.12219169,  1.31265929,  3.30903978, ...,  0.23576643,\n",
       "          0.17063564,  0.19243786],\n",
       "        [ 0.18815459,  2.22575854,  4.04478517, ...,  0.60630994,\n",
       "          0.76747154,  0.95492508],\n",
       "        ...,\n",
       "        [ 1.39283844,  1.307097  ,  1.40075108, ...,  1.99301656,\n",
       "          2.1380701 ,  2.59049321],\n",
       "        [ 1.66344101,  1.45691023,  1.06780526, ...,  2.15963904,\n",
       "          2.33163339,  2.34482   ],\n",
       "        [ 1.75918338,  1.20280946,  1.13196578, ...,  1.96922752,\n",
       "          2.10414682,  2.44475964]]])\n",
       "Coordinates:\n",
       "  * lon       (lon) float64 -125.0 -124.0 -123.0 -122.0 ... -70.0 -69.0 -68.0\n",
       "  * lat       (lat) float64 26.0 27.0 28.0 29.0 30.0 ... 47.0 48.0 49.0 50.0\n",
       "  * quantile  (quantile) float64 0.025 0.975"
      ]
     },
     "execution_count": 107,
     "metadata": {},
     "output_type": "execute_result"
    }
   ],
   "source": [
    "DJF_quantiles"
   ]
  },
  {
   "cell_type": "code",
   "execution_count": 108,
   "id": "bd441f0d-6de3-476f-b663-b2a7ca8d0b1a",
   "metadata": {},
   "outputs": [
    {
     "data": {
      "text/plain": [
       "<matplotlib.collections.QuadMesh at 0x2ae66f2f9160>"
      ]
     },
     "execution_count": 108,
     "metadata": {},
     "output_type": "execute_result"
    },
    {
     "data": {
      "image/png": "[encoded data removed]",
      "text/plain": [
       "<Figure size 432x288 with 2 Axes>"
      ]
     },
     "metadata": {
      "needs_background": "light"
     },
     "output_type": "display_data"
    }
   ],
   "source": [
    "DJF_quantiles.sel(quantile=lev_1).plot()"
   ]
  },
  {
   "cell_type": "code",
   "execution_count": 109,
   "id": "76114469-ad64-4ba4-92ea-fa6a4a99d9f5",
   "metadata": {},
   "outputs": [
    {
     "data": {
      "text/plain": [
       "<matplotlib.collections.QuadMesh at 0x2ae5d8c1e4f0>"
      ]
     },
     "execution_count": 109,
     "metadata": {},
     "output_type": "execute_result"
    },
    {
     "data": {
      "image/png": "[encoded data removed]",
      "text/plain": [
       "<Figure size 432x288 with 2 Axes>"
      ]
     },
     "metadata": {
      "needs_background": "light"
     },
     "output_type": "display_data"
    }
   ],
   "source": [
    "DJF_quantiles.sel(quantile=lev_2).plot()"
   ]
  },
  {
   "cell_type": "markdown",
   "id": "4690e563-534c-4d53-8f7b-dae4a238d47a",
   "metadata": {},
   "source": [
    "#### MAM"
   ]
  },
  {
   "cell_type": "code",
   "execution_count": 110,
   "id": "f7ecc6d2-8d61-443a-ac40-dae37a5e2914",
   "metadata": {},
   "outputs": [
    {
     "name": "stdout",
     "output_type": "stream",
     "text": [
      "CPU times: user 5min 58s, sys: 7min 42s, total: 13min 40s\n",
      "Wall time: 17min 21s\n"
     ]
    }
   ],
   "source": [
    "%%time\n",
    "# NOTE: load the concatenated arrays into memory first\n",
    "\n",
    "nsamps = 1000\n",
    "\n",
    "# initialize a difference array\n",
    "diffs_MAM = xr.zeros_like(PRECT_MAM_concat_compute[:nsamps,:,:]).reset_index('time', drop='True').rename({'time': 'sample'})\n",
    "\n",
    "for ind in range(nsamps):\n",
    "    \n",
    "    # sample 1 - set the random seed for reproducibility\n",
    "    np.random.seed(ind+1)\n",
    "    # create the random indices based on totalsize\n",
    "    rand_index = np.random.choice(totalsize_MAM, size=int(totalsize_MAM/2), replace=True)\n",
    "    \n",
    "    # randomly sample the concatenated frontal precip across hist/rcp\n",
    "    #boot_1 = PRECT_front_MAM_concat_compute.isel(time=rand_index).sum(dim='time')\n",
    "    #boot_1 = PRECT_cfront_MAM_concat_compute.isel(time=rand_index).sum(dim='time')\n",
    "    #boot_1 = PRECT_wfront_MAM_concat_compute.isel(time=rand_index).sum(dim='time')\n",
    "    #boot_1 = PRECT_sfront_MAM_concat_compute.isel(time=rand_index).sum(dim='time')\n",
    "    boot_1 = PRECT_ofront_MAM_concat_compute.isel(time=rand_index).sum(dim='time')\n",
    "    \n",
    "    # randomly sample the concatenated precip across hist/rcp\n",
    "    boot_2 = PRECT_MAM_concat_compute.isel(time=rand_index).sum(dim='time')\n",
    "    frac = boot_1/boot_2\n",
    "    \n",
    "    # sample 2 - different random seed\n",
    "    np.random.seed(ind+10)\n",
    "    rand_index = np.random.choice(totalsize_MAM, size=int(totalsize_MAM/2), replace=True)\n",
    "    #boot_1 = PRECT_front_MAM_concat_compute.isel(time=rand_index).sum(dim='time')\n",
    "    #boot_1 = PRECT_cfront_MAM_concat_compute.isel(time=rand_index).sum(dim='time')\n",
    "    #boot_1 = PRECT_wfront_MAM_concat_compute.isel(time=rand_index).sum(dim='time')\n",
    "    #boot_1 = PRECT_sfront_MAM_concat_compute.isel(time=rand_index).sum(dim='time')\n",
    "    boot_1 = PRECT_ofront_MAM_concat_compute.isel(time=rand_index).sum(dim='time')\n",
    "    boot_2 = PRECT_MAM_concat_compute.isel(time=rand_index).sum(dim='time')\n",
    "    frac2 = boot_1/boot_2\n",
    "    \n",
    "    # final bootstrap sample is the difference between samples\n",
    "    diffs_MAM[ind,...] = 100*(frac - frac2) \n",
    "    \n",
    "    # then save and load back in diff maps, calculate quantiles (2 tailed), use those as bounds for hatching\n",
    "\n",
    "    # test first iteration of loop\n",
    "    #break"
   ]
  },
  {
   "cell_type": "code",
   "execution_count": 111,
   "id": "e976449c-2ea4-4b89-bd5d-338f9d215a0b",
   "metadata": {},
   "outputs": [],
   "source": [
    "MAM_quantiles = diffs_MAM.quantile([lev_1,lev_2], dim='sample')"
   ]
  },
  {
   "cell_type": "code",
   "execution_count": 112,
   "id": "192c38b2-1f24-4b67-9d8c-253d4b2b9728",
   "metadata": {},
   "outputs": [
    {
     "data": {
      "text/plain": [
       "<matplotlib.collections.QuadMesh at 0x2ae66adb3f70>"
      ]
     },
     "execution_count": 112,
     "metadata": {},
     "output_type": "execute_result"
    },
    {
     "data": {
      "image/png": "[encoded data removed]",
      "text/plain": [
       "<Figure size 432x288 with 2 Axes>"
      ]
     },
     "metadata": {
      "needs_background": "light"
     },
     "output_type": "display_data"
    }
   ],
   "source": [
    "MAM_quantiles.sel(quantile=lev_1).plot()"
   ]
  },
  {
   "cell_type": "code",
   "execution_count": 113,
   "id": "257edc6d-b2b5-4821-a1c7-6c44f7f80dec",
   "metadata": {},
   "outputs": [
    {
     "data": {
      "text/plain": [
       "<matplotlib.collections.QuadMesh at 0x2ae66ee23700>"
      ]
     },
     "execution_count": 113,
     "metadata": {},
     "output_type": "execute_result"
    },
    {
     "data": {
      "image/png": "[encoded data removed]",
      "text/plain": [
       "<Figure size 432x288 with 2 Axes>"
      ]
     },
     "metadata": {
      "needs_background": "light"
     },
     "output_type": "display_data"
    }
   ],
   "source": [
    "MAM_quantiles.sel(quantile=lev_2).plot()"
   ]
  },
  {
   "cell_type": "markdown",
   "id": "18c305ad-d7d3-4aae-a46d-8936450a2659",
   "metadata": {},
   "source": [
    "#### JJA"
   ]
  },
  {
   "cell_type": "code",
   "execution_count": 114,
   "id": "45e00655-dbdf-40c9-9382-c56d2a378e6f",
   "metadata": {},
   "outputs": [
    {
     "name": "stdout",
     "output_type": "stream",
     "text": [
      "CPU times: user 5min 54s, sys: 7min 54s, total: 13min 48s\n",
      "Wall time: 17min 3s\n"
     ]
    }
   ],
   "source": [
    "%%time\n",
    "# NOTE: load the concatenated arrays into memory first\n",
    "\n",
    "nsamps = 1000\n",
    "\n",
    "# initialize a difference array\n",
    "diffs_JJA = xr.zeros_like(PRECT_JJA_concat_compute[:nsamps,:,:]).reset_index('time', drop='True').rename({'time': 'sample'})\n",
    "\n",
    "for ind in range(nsamps):\n",
    "    \n",
    "    # sample 1 - set the random seed for reproducibility\n",
    "    np.random.seed(ind+1)\n",
    "    # create the random indices based on totalsize\n",
    "    rand_index = np.random.choice(totalsize_JJA, size=int(totalsize_JJA/2), replace=True)\n",
    "    \n",
    "    # randomly sample the concatenated frontal precip across hist/rcp\n",
    "    #boot_1 = PRECT_front_JJA_concat_compute.isel(time=rand_index).sum(dim='time')\n",
    "    #boot_1 = PRECT_cfront_JJA_concat_compute.isel(time=rand_index).sum(dim='time')\n",
    "    #boot_1 = PRECT_wfront_JJA_concat_compute.isel(time=rand_index).sum(dim='time')\n",
    "    #boot_1 = PRECT_sfront_JJA_concat_compute.isel(time=rand_index).sum(dim='time')\n",
    "    boot_1 = PRECT_ofront_JJA_concat_compute.isel(time=rand_index).sum(dim='time')\n",
    "    \n",
    "    # randomly sample the concatenated precip across hist/rcp\n",
    "    boot_2 = PRECT_JJA_concat_compute.isel(time=rand_index).sum(dim='time')\n",
    "    frac = boot_1/boot_2\n",
    "    \n",
    "    # sample 2 - different random seed\n",
    "    np.random.seed(ind+10)\n",
    "    rand_index = np.random.choice(totalsize_JJA, size=int(totalsize_JJA/2), replace=True)\n",
    "    #boot_1 = PRECT_front_JJA_concat_compute.isel(time=rand_index).sum(dim='time')\n",
    "    #boot_1 = PRECT_cfront_JJA_concat_compute.isel(time=rand_index).sum(dim='time')\n",
    "    #boot_1 = PRECT_wfront_JJA_concat_compute.isel(time=rand_index).sum(dim='time')\n",
    "    #boot_1 = PRECT_sfront_JJA_concat_compute.isel(time=rand_index).sum(dim='time')\n",
    "    boot_1 = PRECT_ofront_JJA_concat_compute.isel(time=rand_index).sum(dim='time')\n",
    "    boot_2 = PRECT_JJA_concat_compute.isel(time=rand_index).sum(dim='time')\n",
    "    frac2 = boot_1/boot_2\n",
    "    \n",
    "    # final bootstrap sample is the difference between samples\n",
    "    diffs_JJA[ind,...] = 100*(frac - frac2) \n",
    "    \n",
    "    # then save and load back in diff maps, calculate quantiles (2 tailed), use those as bounds for hatching\n",
    "\n",
    "    # test first iteration of loop\n",
    "    #break"
   ]
  },
  {
   "cell_type": "code",
   "execution_count": 115,
   "id": "ac7f2e48-5b51-4a21-8a61-154cdde3ba6a",
   "metadata": {},
   "outputs": [],
   "source": [
    "JJA_quantiles = diffs_JJA.quantile([lev_1,lev_2], dim='sample')"
   ]
  },
  {
   "cell_type": "code",
   "execution_count": 116,
   "id": "1aa89cfb-a791-4a6e-bf59-88f6dd73d745",
   "metadata": {},
   "outputs": [
    {
     "data": {
      "text/plain": [
       "<matplotlib.collections.QuadMesh at 0x2ae5d3d31400>"
      ]
     },
     "execution_count": 116,
     "metadata": {},
     "output_type": "execute_result"
    },
    {
     "data": {
      "image/png": "[encoded data removed]",
      "text/plain": [
       "<Figure size 432x288 with 2 Axes>"
      ]
     },
     "metadata": {
      "needs_background": "light"
     },
     "output_type": "display_data"
    }
   ],
   "source": [
    "JJA_quantiles.sel(quantile=lev_1).plot()"
   ]
  },
  {
   "cell_type": "code",
   "execution_count": 117,
   "id": "9c5f92b6-1f90-471b-8599-b5581e8f71cc",
   "metadata": {},
   "outputs": [
    {
     "data": {
      "text/plain": [
       "<matplotlib.collections.QuadMesh at 0x2ae5dd4c9310>"
      ]
     },
     "execution_count": 117,
     "metadata": {},
     "output_type": "execute_result"
    },
    {
     "data": {
      "image/png": "[encoded data removed]",
      "text/plain": [
       "<Figure size 432x288 with 2 Axes>"
      ]
     },
     "metadata": {
      "needs_background": "light"
     },
     "output_type": "display_data"
    }
   ],
   "source": [
    "JJA_quantiles.sel(quantile=lev_2).plot()"
   ]
  },
  {
   "cell_type": "markdown",
   "id": "7b8b53d0-7a08-45e9-ac7e-989de658eba4",
   "metadata": {},
   "source": [
    "#### SON"
   ]
  },
  {
   "cell_type": "code",
   "execution_count": 118,
   "id": "2facdce6-4f2b-4a51-bca4-c0edc84fedb3",
   "metadata": {},
   "outputs": [
    {
     "name": "stdout",
     "output_type": "stream",
     "text": [
      "CPU times: user 5min 52s, sys: 7min 48s, total: 13min 40s\n",
      "Wall time: 17min\n"
     ]
    }
   ],
   "source": [
    "%%time\n",
    "# NOTE: load the concatenated arrays into memory first\n",
    "\n",
    "nsamps = 1000\n",
    "\n",
    "# initialize a difference array\n",
    "diffs_SON = xr.zeros_like(PRECT_SON_concat_compute[:nsamps,:,:]).reset_index('time', drop='True').rename({'time': 'sample'})\n",
    "\n",
    "for ind in range(nsamps):\n",
    "    \n",
    "    # sample 1 - set the random seed for reproducibility\n",
    "    np.random.seed(ind+1)\n",
    "    # create the random indices based on totalsize\n",
    "    rand_index = np.random.choice(totalsize_SON, size=int(totalsize_SON/2), replace=True)\n",
    "    \n",
    "    # randomly sample the concatenated frontal precip across hist/rcp\n",
    "    #boot_1 = PRECT_front_SON_concat_compute.isel(time=rand_index).sum(dim='time')\n",
    "    #boot_1 = PRECT_cfront_SON_concat_compute.isel(time=rand_index).sum(dim='time')\n",
    "    #boot_1 = PRECT_wfront_SON_concat_compute.isel(time=rand_index).sum(dim='time')\n",
    "    #boot_1 = PRECT_sfront_SON_concat_compute.isel(time=rand_index).sum(dim='time')\n",
    "    boot_1 = PRECT_ofront_SON_concat_compute.isel(time=rand_index).sum(dim='time')\n",
    "    \n",
    "    # randomly sample the concatenated precip across hist/rcp\n",
    "    boot_2 = PRECT_SON_concat_compute.isel(time=rand_index).sum(dim='time')\n",
    "    frac = boot_1/boot_2\n",
    "    \n",
    "    # sample 2 - different random seed\n",
    "    np.random.seed(ind+10)\n",
    "    rand_index = np.random.choice(totalsize_SON, size=int(totalsize_SON/2), replace=True)\n",
    "    #boot_1 = PRECT_front_SON_concat_compute.isel(time=rand_index).sum(dim='time')\n",
    "    #boot_1 = PRECT_cfront_SON_concat_compute.isel(time=rand_index).sum(dim='time')\n",
    "    #boot_1 = PRECT_wfront_SON_concat_compute.isel(time=rand_index).sum(dim='time')\n",
    "    #boot_1 = PRECT_sfront_SON_concat_compute.isel(time=rand_index).sum(dim='time')\n",
    "    boot_1 = PRECT_ofront_SON_concat_compute.isel(time=rand_index).sum(dim='time')\n",
    "    boot_2 = PRECT_SON_concat_compute.isel(time=rand_index).sum(dim='time')\n",
    "    frac2 = boot_1/boot_2\n",
    "    \n",
    "    # final bootstrap sample is the difference between samples\n",
    "    diffs_SON[ind,...] = 100*(frac - frac2) \n",
    "    \n",
    "    # then save and load back in diff maps, calculate quantiles (2 tailed), use those as bounds for hatching\n",
    "\n",
    "    # test first iteration of loop\n",
    "    #break"
   ]
  },
  {
   "cell_type": "code",
   "execution_count": 119,
   "id": "f3f5c7e8-4d9c-4581-8a80-a113601728a8",
   "metadata": {},
   "outputs": [],
   "source": [
    "SON_quantiles = diffs_SON.quantile([lev_1,lev_2], dim='sample')"
   ]
  },
  {
   "cell_type": "code",
   "execution_count": 120,
   "id": "ac8c6566-16e8-4e42-8008-8a028c388438",
   "metadata": {},
   "outputs": [
    {
     "data": {
      "text/plain": [
       "<matplotlib.collections.QuadMesh at 0x2ae671d9cee0>"
      ]
     },
     "execution_count": 120,
     "metadata": {},
     "output_type": "execute_result"
    },
    {
     "data": {
      "image/png": "[encoded data removed]",
      "text/plain": [
       "<Figure size 432x288 with 2 Axes>"
      ]
     },
     "metadata": {
      "needs_background": "light"
     },
     "output_type": "display_data"
    }
   ],
   "source": [
    "SON_quantiles.sel(quantile=lev_1).plot()"
   ]
  },
  {
   "cell_type": "code",
   "execution_count": 121,
   "id": "28e5f3ce-c0f1-4b3e-8abc-bf9bbe24462f",
   "metadata": {},
   "outputs": [
    {
     "data": {
      "text/plain": [
       "<matplotlib.collections.QuadMesh at 0x2ae5bf61d6d0>"
      ]
     },
     "execution_count": 121,
     "metadata": {},
     "output_type": "execute_result"
    },
    {
     "data": {
      "image/png": "[encoded data removed]",
      "text/plain": [
       "<Figure size 432x288 with 2 Axes>"
      ]
     },
     "metadata": {
      "needs_background": "light"
     },
     "output_type": "display_data"
    }
   ],
   "source": [
    "SON_quantiles.sel(quantile=lev_2).plot()"
   ]
  },
  {
   "cell_type": "markdown",
   "id": "96378a12-6cf0-418e-94fa-4e57ba59e198",
   "metadata": {},
   "source": [
    "## Save out quantile values for plotting in other notebooks"
   ]
  },
  {
   "cell_type": "markdown",
   "id": "f732a349-52b2-4cfd-8886-5e6ccb7a65d1",
   "metadata": {},
   "source": [
    "#### Concatenate across season for easier plotting"
   ]
  },
  {
   "cell_type": "code",
   "execution_count": 122,
   "id": "94834718-666e-4932-9043-5093f6600661",
   "metadata": {},
   "outputs": [
    {
     "data": {
      "text/html": [
       "<div><svg style=\"position: absolute; width: 0; height: 0; overflow: hidden\">\n",
       "<defs>\n",
       "<symbol id=\"icon-database\" viewBox=\"0 0 32 32\">\n",
       "<path d=\"M16 0c-8.837 0-16 2.239-16 5v4c0 2.761 7.163 5 16 5s16-2.239 16-5v-4c0-2.761-7.163-5-16-5z\"></path>\n",
       "<path d=\"M16 17c-8.837 0-16-2.239-16-5v6c0 2.761 7.163 5 16 5s16-2.239 16-5v-6c0 2.761-7.163 5-16 5z\"></path>\n",
       "<path d=\"M16 26c-8.837 0-16-2.239-16-5v6c0 2.761 7.163 5 16 5s16-2.239 16-5v-6c0 2.761-7.163 5-16 5z\"></path>\n",
       "</symbol>\n",
       "<symbol id=\"icon-file-text2\" viewBox=\"0 0 32 32\">\n",
       "<path d=\"M28.681 7.159c-0.694-0.947-1.662-2.053-2.724-3.116s-2.169-2.030-3.116-2.724c-1.612-1.182-2.393-1.319-2.841-1.319h-15.5c-1.378 0-2.5 1.121-2.5 2.5v27c0 1.378 1.122 2.5 2.5 2.5h23c1.378 0 2.5-1.122 2.5-2.5v-19.5c0-0.448-0.137-1.23-1.319-2.841zM24.543 5.457c0.959 0.959 1.712 1.825 2.268 2.543h-4.811v-4.811c0.718 0.556 1.584 1.309 2.543 2.268zM28 29.5c0 0.271-0.229 0.5-0.5 0.5h-23c-0.271 0-0.5-0.229-0.5-0.5v-27c0-0.271 0.229-0.5 0.5-0.5 0 0 15.499-0 15.5 0v7c0 0.552 0.448 1 1 1h7v19.5z\"></path>\n",
       "<path d=\"M23 26h-14c-0.552 0-1-0.448-1-1s0.448-1 1-1h14c0.552 0 1 0.448 1 1s-0.448 1-1 1z\"></path>\n",
       "<path d=\"M23 22h-14c-0.552 0-1-0.448-1-1s0.448-1 1-1h14c0.552 0 1 0.448 1 1s-0.448 1-1 1z\"></path>\n",
       "<path d=\"M23 18h-14c-0.552 0-1-0.448-1-1s0.448-1 1-1h14c0.552 0 1 0.448 1 1s-0.448 1-1 1z\"></path>\n",
       "</symbol>\n",
       "</defs>\n",
       "</svg>\n",
       "<style>/* CSS stylesheet for displaying xarray objects in jupyterlab.\n",
       " *\n",
       " */\n",
       "\n",
       ":root {\n",
       "  --xr-font-color0: var(--jp-content-font-color0, rgba(0, 0, 0, 1));\n",
       "  --xr-font-color2: var(--jp-content-font-color2, rgba(0, 0, 0, 0.54));\n",
       "  --xr-font-color3: var(--jp-content-font-color3, rgba(0, 0, 0, 0.38));\n",
       "  --xr-border-color: var(--jp-border-color2, #e0e0e0);\n",
       "  --xr-disabled-color: var(--jp-layout-color3, #bdbdbd);\n",
       "  --xr-background-color: var(--jp-layout-color0, white);\n",
       "  --xr-background-color-row-even: var(--jp-layout-color1, white);\n",
       "  --xr-background-color-row-odd: var(--jp-layout-color2, #eeeeee);\n",
       "}\n",
       "\n",
       "html[theme=dark],\n",
       "body.vscode-dark {\n",
       "  --xr-font-color0: rgba(255, 255, 255, 1);\n",
       "  --xr-font-color2: rgba(255, 255, 255, 0.54);\n",
       "  --xr-font-color3: rgba(255, 255, 255, 0.38);\n",
       "  --xr-border-color: #1F1F1F;\n",
       "  --xr-disabled-color: #515151;\n",
       "  --xr-background-color: #111111;\n",
       "  --xr-background-color-row-even: #111111;\n",
       "  --xr-background-color-row-odd: #313131;\n",
       "}\n",
       "\n",
       ".xr-wrap {\n",
       "  display: block;\n",
       "  min-width: 300px;\n",
       "  max-width: 700px;\n",
       "}\n",
       "\n",
       ".xr-text-repr-fallback {\n",
       "  /* fallback to plain text repr when CSS is not injected (untrusted notebook) */\n",
       "  display: none;\n",
       "}\n",
       "\n",
       ".xr-header {\n",
       "  padding-top: 6px;\n",
       "  padding-bottom: 6px;\n",
       "  margin-bottom: 4px;\n",
       "  border-bottom: solid 1px var(--xr-border-color);\n",
       "}\n",
       "\n",
       ".xr-header > div,\n",
       ".xr-header > ul {\n",
       "  display: inline;\n",
       "  margin-top: 0;\n",
       "  margin-bottom: 0;\n",
       "}\n",
       "\n",
       ".xr-obj-type,\n",
       ".xr-array-name {\n",
       "  margin-left: 2px;\n",
       "  margin-right: 10px;\n",
       "}\n",
       "\n",
       ".xr-obj-type {\n",
       "  color: var(--xr-font-color2);\n",
       "}\n",
       "\n",
       ".xr-sections {\n",
       "  padding-left: 0 !important;\n",
       "  display: grid;\n",
       "  grid-template-columns: 150px auto auto 1fr 20px 20px;\n",
       "}\n",
       "\n",
       ".xr-section-item {\n",
       "  display: contents;\n",
       "}\n",
       "\n",
       ".xr-section-item input {\n",
       "  display: none;\n",
       "}\n",
       "\n",
       ".xr-section-item input + label {\n",
       "  color: var(--xr-disabled-color);\n",
       "}\n",
       "\n",
       ".xr-section-item input:enabled + label {\n",
       "  cursor: pointer;\n",
       "  color: var(--xr-font-color2);\n",
       "}\n",
       "\n",
       ".xr-section-item input:enabled + label:hover {\n",
       "  color: var(--xr-font-color0);\n",
       "}\n",
       "\n",
       ".xr-section-summary {\n",
       "  grid-column: 1;\n",
       "  color: var(--xr-font-color2);\n",
       "  font-weight: 500;\n",
       "}\n",
       "\n",
       ".xr-section-summary > span {\n",
       "  display: inline-block;\n",
       "  padding-left: 0.5em;\n",
       "}\n",
       "\n",
       ".xr-section-summary-in:disabled + label {\n",
       "  color: var(--xr-font-color2);\n",
       "}\n",
       "\n",
       ".xr-section-summary-in + label:before {\n",
       "  display: inline-block;\n",
       "  content: '►';\n",
       "  font-size: 11px;\n",
       "  width: 15px;\n",
       "  text-align: center;\n",
       "}\n",
       "\n",
       ".xr-section-summary-in:disabled + label:before {\n",
       "  color: var(--xr-disabled-color);\n",
       "}\n",
       "\n",
       ".xr-section-summary-in:checked + label:before {\n",
       "  content: '▼';\n",
       "}\n",
       "\n",
       ".xr-section-summary-in:checked + label > span {\n",
       "  display: none;\n",
       "}\n",
       "\n",
       ".xr-section-summary,\n",
       ".xr-section-inline-details {\n",
       "  padding-top: 4px;\n",
       "  padding-bottom: 4px;\n",
       "}\n",
       "\n",
       ".xr-section-inline-details {\n",
       "  grid-column: 2 / -1;\n",
       "}\n",
       "\n",
       ".xr-section-details {\n",
       "  display: none;\n",
       "  grid-column: 1 / -1;\n",
       "  margin-bottom: 5px;\n",
       "}\n",
       "\n",
       ".xr-section-summary-in:checked ~ .xr-section-details {\n",
       "  display: contents;\n",
       "}\n",
       "\n",
       ".xr-array-wrap {\n",
       "  grid-column: 1 / -1;\n",
       "  display: grid;\n",
       "  grid-template-columns: 20px auto;\n",
       "}\n",
       "\n",
       ".xr-array-wrap > label {\n",
       "  grid-column: 1;\n",
       "  vertical-align: top;\n",
       "}\n",
       "\n",
       ".xr-preview {\n",
       "  color: var(--xr-font-color3);\n",
       "}\n",
       "\n",
       ".xr-array-preview,\n",
       ".xr-array-data {\n",
       "  padding: 0 5px !important;\n",
       "  grid-column: 2;\n",
       "}\n",
       "\n",
       ".xr-array-data,\n",
       ".xr-array-in:checked ~ .xr-array-preview {\n",
       "  display: none;\n",
       "}\n",
       "\n",
       ".xr-array-in:checked ~ .xr-array-data,\n",
       ".xr-array-preview {\n",
       "  display: inline-block;\n",
       "}\n",
       "\n",
       ".xr-dim-list {\n",
       "  display: inline-block !important;\n",
       "  list-style: none;\n",
       "  padding: 0 !important;\n",
       "  margin: 0;\n",
       "}\n",
       "\n",
       ".xr-dim-list li {\n",
       "  display: inline-block;\n",
       "  padding: 0;\n",
       "  margin: 0;\n",
       "}\n",
       "\n",
       ".xr-dim-list:before {\n",
       "  content: '(';\n",
       "}\n",
       "\n",
       ".xr-dim-list:after {\n",
       "  content: ')';\n",
       "}\n",
       "\n",
       ".xr-dim-list li:not(:last-child):after {\n",
       "  content: ',';\n",
       "  padding-right: 5px;\n",
       "}\n",
       "\n",
       ".xr-has-index {\n",
       "  font-weight: bold;\n",
       "}\n",
       "\n",
       ".xr-var-list,\n",
       ".xr-var-item {\n",
       "  display: contents;\n",
       "}\n",
       "\n",
       ".xr-var-item > div,\n",
       ".xr-var-item label,\n",
       ".xr-var-item > .xr-var-name span {\n",
       "  background-color: var(--xr-background-color-row-even);\n",
       "  margin-bottom: 0;\n",
       "}\n",
       "\n",
       ".xr-var-item > .xr-var-name:hover span {\n",
       "  padding-right: 5px;\n",
       "}\n",
       "\n",
       ".xr-var-list > li:nth-child(odd) > div,\n",
       ".xr-var-list > li:nth-child(odd) > label,\n",
       ".xr-var-list > li:nth-child(odd) > .xr-var-name span {\n",
       "  background-color: var(--xr-background-color-row-odd);\n",
       "}\n",
       "\n",
       ".xr-var-name {\n",
       "  grid-column: 1;\n",
       "}\n",
       "\n",
       ".xr-var-dims {\n",
       "  grid-column: 2;\n",
       "}\n",
       "\n",
       ".xr-var-dtype {\n",
       "  grid-column: 3;\n",
       "  text-align: right;\n",
       "  color: var(--xr-font-color2);\n",
       "}\n",
       "\n",
       ".xr-var-preview {\n",
       "  grid-column: 4;\n",
       "}\n",
       "\n",
       ".xr-var-name,\n",
       ".xr-var-dims,\n",
       ".xr-var-dtype,\n",
       ".xr-preview,\n",
       ".xr-attrs dt {\n",
       "  white-space: nowrap;\n",
       "  overflow: hidden;\n",
       "  text-overflow: ellipsis;\n",
       "  padding-right: 10px;\n",
       "}\n",
       "\n",
       ".xr-var-name:hover,\n",
       ".xr-var-dims:hover,\n",
       ".xr-var-dtype:hover,\n",
       ".xr-attrs dt:hover {\n",
       "  overflow: visible;\n",
       "  width: auto;\n",
       "  z-index: 1;\n",
       "}\n",
       "\n",
       ".xr-var-attrs,\n",
       ".xr-var-data {\n",
       "  display: none;\n",
       "  background-color: var(--xr-background-color) !important;\n",
       "  padding-bottom: 5px !important;\n",
       "}\n",
       "\n",
       ".xr-var-attrs-in:checked ~ .xr-var-attrs,\n",
       ".xr-var-data-in:checked ~ .xr-var-data {\n",
       "  display: block;\n",
       "}\n",
       "\n",
       ".xr-var-data > table {\n",
       "  float: right;\n",
       "}\n",
       "\n",
       ".xr-var-name span,\n",
       ".xr-var-data,\n",
       ".xr-attrs {\n",
       "  padding-left: 25px !important;\n",
       "}\n",
       "\n",
       ".xr-attrs,\n",
       ".xr-var-attrs,\n",
       ".xr-var-data {\n",
       "  grid-column: 1 / -1;\n",
       "}\n",
       "\n",
       "dl.xr-attrs {\n",
       "  padding: 0;\n",
       "  margin: 0;\n",
       "  display: grid;\n",
       "  grid-template-columns: 125px auto;\n",
       "}\n",
       "\n",
       ".xr-attrs dt,\n",
       ".xr-attrs dd {\n",
       "  padding: 0;\n",
       "  margin: 0;\n",
       "  float: left;\n",
       "  padding-right: 10px;\n",
       "  width: auto;\n",
       "}\n",
       "\n",
       ".xr-attrs dt {\n",
       "  font-weight: normal;\n",
       "  grid-column: 1;\n",
       "}\n",
       "\n",
       ".xr-attrs dt:hover span {\n",
       "  display: inline-block;\n",
       "  background: var(--xr-background-color);\n",
       "  padding-right: 10px;\n",
       "}\n",
       "\n",
       ".xr-attrs dd {\n",
       "  grid-column: 2;\n",
       "  white-space: pre-wrap;\n",
       "  word-break: break-all;\n",
       "}\n",
       "\n",
       ".xr-icon-database,\n",
       ".xr-icon-file-text2 {\n",
       "  display: inline-block;\n",
       "  vertical-align: middle;\n",
       "  width: 1em;\n",
       "  height: 1.5em !important;\n",
       "  stroke-width: 0;\n",
       "  stroke: currentColor;\n",
       "  fill: currentColor;\n",
       "}\n",
       "</style><pre class='xr-text-repr-fallback'>&lt;xarray.DataArray &#x27;PRECT&#x27; (season: 4, quantile: 2, lat: 25, lon: 58)&gt;\n",
       "array([[[[-0.16864619, -1.86844226, -3.2801722 , ..., -0.03102896,\n",
       "          -0.02757453, -0.01939991],\n",
       "         [-0.12481008, -1.38697674, -3.50107399, ..., -0.24516729,\n",
       "          -0.17020362, -0.19545741],\n",
       "         [-0.19933268, -2.29566116, -4.30191681, ..., -0.6283272 ,\n",
       "          -0.75990033, -0.95961649],\n",
       "         ...,\n",
       "         [-1.49116915, -1.3333428 , -1.38147712, ..., -2.04510167,\n",
       "          -2.17735057, -2.59311297],\n",
       "         [-1.61200784, -1.45271689, -1.17002926, ..., -2.17722886,\n",
       "          -2.38833541, -2.54166659],\n",
       "         [-1.76986129, -1.31487764, -1.11849933, ..., -1.97301194,\n",
       "          -2.27352646, -2.40995004]],\n",
       "\n",
       "        [[ 0.17415302,  1.80225669,  3.25064601, ...,  0.03153391,\n",
       "           0.02759805,  0.0193413 ],\n",
       "         [ 0.12219169,  1.31265929,  3.30903978, ...,  0.23576643,\n",
       "           0.17063564,  0.19243786],\n",
       "         [ 0.18815459,  2.22575854,  4.04478517, ...,  0.60630994,\n",
       "           0.76747154,  0.95492508],\n",
       "...\n",
       "         [-1.43498671, -1.25779954, -1.12763894, ..., -2.80967013,\n",
       "          -2.52879012, -3.08185901],\n",
       "         [-1.62869017, -1.56556174, -0.99003852, ..., -2.40799588,\n",
       "          -2.77227734, -2.90770105],\n",
       "         [-1.93945957, -1.41700593, -1.25058817, ..., -2.48656165,\n",
       "          -3.64266063, -3.53676127]],\n",
       "\n",
       "        [[ 0.        ,  0.        ,  0.        , ...,  0.        ,\n",
       "           0.        ,  0.        ],\n",
       "         [ 0.        ,  0.        ,  0.        , ...,  0.01392648,\n",
       "           0.        ,  0.        ],\n",
       "         [ 0.        ,  0.        ,  0.03779271, ...,  0.01140141,\n",
       "           0.        ,  0.        ],\n",
       "         ...,\n",
       "         [ 1.41852143,  1.25118576,  1.18055524, ...,  2.86101279,\n",
       "           2.66526837,  2.89275362],\n",
       "         [ 1.52888999,  1.59257078,  0.97070698, ...,  2.5495968 ,\n",
       "           2.62854544,  2.86102031],\n",
       "         [ 1.78177287,  1.39783993,  1.23710069, ...,  2.55954804,\n",
       "           3.47716756,  3.50698983]]]])\n",
       "Coordinates:\n",
       "  * lon       (lon) float64 -125.0 -124.0 -123.0 -122.0 ... -70.0 -69.0 -68.0\n",
       "  * lat       (lat) float64 26.0 27.0 28.0 29.0 30.0 ... 47.0 48.0 49.0 50.0\n",
       "  * quantile  (quantile) float64 0.025 0.975\n",
       "Dimensions without coordinates: season</pre><div class='xr-wrap' hidden><div class='xr-header'><div class='xr-obj-type'>xarray.DataArray</div><div class='xr-array-name'>'PRECT'</div><ul class='xr-dim-list'><li><span>season</span>: 4</li><li><span class='xr-has-index'>quantile</span>: 2</li><li><span class='xr-has-index'>lat</span>: 25</li><li><span class='xr-has-index'>lon</span>: 58</li></ul></div><ul class='xr-sections'><li class='xr-section-item'><div class='xr-array-wrap'><input id='section-9b3baa9b-bbe1-41e6-b1ee-534f7841215f' class='xr-array-in' type='checkbox' checked><label for='section-9b3baa9b-bbe1-41e6-b1ee-534f7841215f' title='Show/hide data repr'><svg class='icon xr-icon-database'><use xlink:href='#icon-database'></use></svg></label><div class='xr-array-preview xr-preview'><span>-0.1686 -1.868 -3.28 -6.961 -0.7668 ... 1.907 2.005 2.56 3.477 3.507</span></div><div class='xr-array-data'><pre>array([[[[-0.16864619, -1.86844226, -3.2801722 , ..., -0.03102896,\n",
       "          -0.02757453, -0.01939991],\n",
       "         [-0.12481008, -1.38697674, -3.50107399, ..., -0.24516729,\n",
       "          -0.17020362, -0.19545741],\n",
       "         [-0.19933268, -2.29566116, -4.30191681, ..., -0.6283272 ,\n",
       "          -0.75990033, -0.95961649],\n",
       "         ...,\n",
       "         [-1.49116915, -1.3333428 , -1.38147712, ..., -2.04510167,\n",
       "          -2.17735057, -2.59311297],\n",
       "         [-1.61200784, -1.45271689, -1.17002926, ..., -2.17722886,\n",
       "          -2.38833541, -2.54166659],\n",
       "         [-1.76986129, -1.31487764, -1.11849933, ..., -1.97301194,\n",
       "          -2.27352646, -2.40995004]],\n",
       "\n",
       "        [[ 0.17415302,  1.80225669,  3.25064601, ...,  0.03153391,\n",
       "           0.02759805,  0.0193413 ],\n",
       "         [ 0.12219169,  1.31265929,  3.30903978, ...,  0.23576643,\n",
       "           0.17063564,  0.19243786],\n",
       "         [ 0.18815459,  2.22575854,  4.04478517, ...,  0.60630994,\n",
       "           0.76747154,  0.95492508],\n",
       "...\n",
       "         [-1.43498671, -1.25779954, -1.12763894, ..., -2.80967013,\n",
       "          -2.52879012, -3.08185901],\n",
       "         [-1.62869017, -1.56556174, -0.99003852, ..., -2.40799588,\n",
       "          -2.77227734, -2.90770105],\n",
       "         [-1.93945957, -1.41700593, -1.25058817, ..., -2.48656165,\n",
       "          -3.64266063, -3.53676127]],\n",
       "\n",
       "        [[ 0.        ,  0.        ,  0.        , ...,  0.        ,\n",
       "           0.        ,  0.        ],\n",
       "         [ 0.        ,  0.        ,  0.        , ...,  0.01392648,\n",
       "           0.        ,  0.        ],\n",
       "         [ 0.        ,  0.        ,  0.03779271, ...,  0.01140141,\n",
       "           0.        ,  0.        ],\n",
       "         ...,\n",
       "         [ 1.41852143,  1.25118576,  1.18055524, ...,  2.86101279,\n",
       "           2.66526837,  2.89275362],\n",
       "         [ 1.52888999,  1.59257078,  0.97070698, ...,  2.5495968 ,\n",
       "           2.62854544,  2.86102031],\n",
       "         [ 1.78177287,  1.39783993,  1.23710069, ...,  2.55954804,\n",
       "           3.47716756,  3.50698983]]]])</pre></div></div></li><li class='xr-section-item'><input id='section-c1e4cc67-bb29-4ccc-8c4e-054ac85e12b0' class='xr-section-summary-in' type='checkbox'  checked><label for='section-c1e4cc67-bb29-4ccc-8c4e-054ac85e12b0' class='xr-section-summary' >Coordinates: <span>(3)</span></label><div class='xr-section-inline-details'></div><div class='xr-section-details'><ul class='xr-var-list'><li class='xr-var-item'><div class='xr-var-name'><span class='xr-has-index'>lon</span></div><div class='xr-var-dims'>(lon)</div><div class='xr-var-dtype'>float64</div><div class='xr-var-preview xr-preview'>-125.0 -124.0 ... -69.0 -68.0</div><input id='attrs-3ebb02eb-6795-40bb-8a3f-91e5926521e5' class='xr-var-attrs-in' type='checkbox' ><label for='attrs-3ebb02eb-6795-40bb-8a3f-91e5926521e5' title='Show/Hide attributes'><svg class='icon xr-icon-file-text2'><use xlink:href='#icon-file-text2'></use></svg></label><input id='data-3d60e2e5-86b8-4f7b-9b4e-a7fcf1fc407d' class='xr-var-data-in' type='checkbox'><label for='data-3d60e2e5-86b8-4f7b-9b4e-a7fcf1fc407d' title='Show/Hide data repr'><svg class='icon xr-icon-database'><use xlink:href='#icon-database'></use></svg></label><div class='xr-var-attrs'><dl class='xr-attrs'><dt><span>axis :</span></dt><dd>X</dd><dt><span>long_name :</span></dt><dd>longitude</dd><dt><span>standard_name :</span></dt><dd>longitude</dd><dt><span>units :</span></dt><dd>degrees_east</dd></dl></div><div class='xr-var-data'><pre>array([-125., -124., -123., -122., -121., -120., -119., -118., -117., -116.,\n",
       "       -115., -114., -113., -112., -111., -110., -109., -108., -107., -106.,\n",
       "       -105., -104., -103., -102., -101., -100.,  -99.,  -98.,  -97.,  -96.,\n",
       "        -95.,  -94.,  -93.,  -92.,  -91.,  -90.,  -89.,  -88.,  -87.,  -86.,\n",
       "        -85.,  -84.,  -83.,  -82.,  -81.,  -80.,  -79.,  -78.,  -77.,  -76.,\n",
       "        -75.,  -74.,  -73.,  -72.,  -71.,  -70.,  -69.,  -68.])</pre></div></li><li class='xr-var-item'><div class='xr-var-name'><span class='xr-has-index'>lat</span></div><div class='xr-var-dims'>(lat)</div><div class='xr-var-dtype'>float64</div><div class='xr-var-preview xr-preview'>26.0 27.0 28.0 ... 48.0 49.0 50.0</div><input id='attrs-8079020d-349f-4f14-8232-381eb88e9040' class='xr-var-attrs-in' type='checkbox' ><label for='attrs-8079020d-349f-4f14-8232-381eb88e9040' title='Show/Hide attributes'><svg class='icon xr-icon-file-text2'><use xlink:href='#icon-file-text2'></use></svg></label><input id='data-9a0cc420-3d17-4be5-888b-efbe8f856c1d' class='xr-var-data-in' type='checkbox'><label for='data-9a0cc420-3d17-4be5-888b-efbe8f856c1d' title='Show/Hide data repr'><svg class='icon xr-icon-database'><use xlink:href='#icon-database'></use></svg></label><div class='xr-var-attrs'><dl class='xr-attrs'><dt><span>axis :</span></dt><dd>Y</dd><dt><span>long_name :</span></dt><dd>latitude</dd><dt><span>standard_name :</span></dt><dd>latitude</dd><dt><span>units :</span></dt><dd>degrees_north</dd></dl></div><div class='xr-var-data'><pre>array([26., 27., 28., 29., 30., 31., 32., 33., 34., 35., 36., 37., 38., 39.,\n",
       "       40., 41., 42., 43., 44., 45., 46., 47., 48., 49., 50.])</pre></div></li><li class='xr-var-item'><div class='xr-var-name'><span class='xr-has-index'>quantile</span></div><div class='xr-var-dims'>(quantile)</div><div class='xr-var-dtype'>float64</div><div class='xr-var-preview xr-preview'>0.025 0.975</div><input id='attrs-9a228840-1967-4bd0-959d-3db6510c67fe' class='xr-var-attrs-in' type='checkbox' disabled><label for='attrs-9a228840-1967-4bd0-959d-3db6510c67fe' title='Show/Hide attributes'><svg class='icon xr-icon-file-text2'><use xlink:href='#icon-file-text2'></use></svg></label><input id='data-7c34c9ee-28fe-45b3-b2ab-1d027f990aa5' class='xr-var-data-in' type='checkbox'><label for='data-7c34c9ee-28fe-45b3-b2ab-1d027f990aa5' title='Show/Hide data repr'><svg class='icon xr-icon-database'><use xlink:href='#icon-database'></use></svg></label><div class='xr-var-attrs'><dl class='xr-attrs'></dl></div><div class='xr-var-data'><pre>array([0.025, 0.975])</pre></div></li></ul></div></li><li class='xr-section-item'><input id='section-fe4e1684-5201-419e-93b9-77a9ea6919d2' class='xr-section-summary-in' type='checkbox' disabled ><label for='section-fe4e1684-5201-419e-93b9-77a9ea6919d2' class='xr-section-summary'  title='Expand/collapse section'>Attributes: <span>(0)</span></label><div class='xr-section-inline-details'></div><div class='xr-section-details'><dl class='xr-attrs'></dl></div></li></ul></div></div>"
      ],
      "text/plain": [
       "<xarray.DataArray 'PRECT' (season: 4, quantile: 2, lat: 25, lon: 58)>\n",
       "array([[[[-0.16864619, -1.86844226, -3.2801722 , ..., -0.03102896,\n",
       "          -0.02757453, -0.01939991],\n",
       "         [-0.12481008, -1.38697674, -3.50107399, ..., -0.24516729,\n",
       "          -0.17020362, -0.19545741],\n",
       "         [-0.19933268, -2.29566116, -4.30191681, ..., -0.6283272 ,\n",
       "          -0.75990033, -0.95961649],\n",
       "         ...,\n",
       "         [-1.49116915, -1.3333428 , -1.38147712, ..., -2.04510167,\n",
       "          -2.17735057, -2.59311297],\n",
       "         [-1.61200784, -1.45271689, -1.17002926, ..., -2.17722886,\n",
       "          -2.38833541, -2.54166659],\n",
       "         [-1.76986129, -1.31487764, -1.11849933, ..., -1.97301194,\n",
       "          -2.27352646, -2.40995004]],\n",
       "\n",
       "        [[ 0.17415302,  1.80225669,  3.25064601, ...,  0.03153391,\n",
       "           0.02759805,  0.0193413 ],\n",
       "         [ 0.12219169,  1.31265929,  3.30903978, ...,  0.23576643,\n",
       "           0.17063564,  0.19243786],\n",
       "         [ 0.18815459,  2.22575854,  4.04478517, ...,  0.60630994,\n",
       "           0.76747154,  0.95492508],\n",
       "...\n",
       "         [-1.43498671, -1.25779954, -1.12763894, ..., -2.80967013,\n",
       "          -2.52879012, -3.08185901],\n",
       "         [-1.62869017, -1.56556174, -0.99003852, ..., -2.40799588,\n",
       "          -2.77227734, -2.90770105],\n",
       "         [-1.93945957, -1.41700593, -1.25058817, ..., -2.48656165,\n",
       "          -3.64266063, -3.53676127]],\n",
       "\n",
       "        [[ 0.        ,  0.        ,  0.        , ...,  0.        ,\n",
       "           0.        ,  0.        ],\n",
       "         [ 0.        ,  0.        ,  0.        , ...,  0.01392648,\n",
       "           0.        ,  0.        ],\n",
       "         [ 0.        ,  0.        ,  0.03779271, ...,  0.01140141,\n",
       "           0.        ,  0.        ],\n",
       "         ...,\n",
       "         [ 1.41852143,  1.25118576,  1.18055524, ...,  2.86101279,\n",
       "           2.66526837,  2.89275362],\n",
       "         [ 1.52888999,  1.59257078,  0.97070698, ...,  2.5495968 ,\n",
       "           2.62854544,  2.86102031],\n",
       "         [ 1.78177287,  1.39783993,  1.23710069, ...,  2.55954804,\n",
       "           3.47716756,  3.50698983]]]])\n",
       "Coordinates:\n",
       "  * lon       (lon) float64 -125.0 -124.0 -123.0 -122.0 ... -70.0 -69.0 -68.0\n",
       "  * lat       (lat) float64 26.0 27.0 28.0 29.0 30.0 ... 47.0 48.0 49.0 50.0\n",
       "  * quantile  (quantile) float64 0.025 0.975\n",
       "Dimensions without coordinates: season"
      ]
     },
     "execution_count": 122,
     "metadata": {},
     "output_type": "execute_result"
    }
   ],
   "source": [
    "seasonal_quantiles = xr.concat([DJF_quantiles, MAM_quantiles, JJA_quantiles, SON_quantiles], dim='season')\n",
    "seasonal_quantiles"
   ]
  },
  {
   "cell_type": "code",
   "execution_count": 123,
   "id": "8818c604-e1da-4249-b05e-4b62fda9c1f1",
   "metadata": {},
   "outputs": [
    {
     "data": {
      "text/html": [
       "<div><svg style=\"position: absolute; width: 0; height: 0; overflow: hidden\">\n",
       "<defs>\n",
       "<symbol id=\"icon-database\" viewBox=\"0 0 32 32\">\n",
       "<path d=\"M16 0c-8.837 0-16 2.239-16 5v4c0 2.761 7.163 5 16 5s16-2.239 16-5v-4c0-2.761-7.163-5-16-5z\"></path>\n",
       "<path d=\"M16 17c-8.837 0-16-2.239-16-5v6c0 2.761 7.163 5 16 5s16-2.239 16-5v-6c0 2.761-7.163 5-16 5z\"></path>\n",
       "<path d=\"M16 26c-8.837 0-16-2.239-16-5v6c0 2.761 7.163 5 16 5s16-2.239 16-5v-6c0 2.761-7.163 5-16 5z\"></path>\n",
       "</symbol>\n",
       "<symbol id=\"icon-file-text2\" viewBox=\"0 0 32 32\">\n",
       "<path d=\"M28.681 7.159c-0.694-0.947-1.662-2.053-2.724-3.116s-2.169-2.030-3.116-2.724c-1.612-1.182-2.393-1.319-2.841-1.319h-15.5c-1.378 0-2.5 1.121-2.5 2.5v27c0 1.378 1.122 2.5 2.5 2.5h23c1.378 0 2.5-1.122 2.5-2.5v-19.5c0-0.448-0.137-1.23-1.319-2.841zM24.543 5.457c0.959 0.959 1.712 1.825 2.268 2.543h-4.811v-4.811c0.718 0.556 1.584 1.309 2.543 2.268zM28 29.5c0 0.271-0.229 0.5-0.5 0.5h-23c-0.271 0-0.5-0.229-0.5-0.5v-27c0-0.271 0.229-0.5 0.5-0.5 0 0 15.499-0 15.5 0v7c0 0.552 0.448 1 1 1h7v19.5z\"></path>\n",
       "<path d=\"M23 26h-14c-0.552 0-1-0.448-1-1s0.448-1 1-1h14c0.552 0 1 0.448 1 1s-0.448 1-1 1z\"></path>\n",
       "<path d=\"M23 22h-14c-0.552 0-1-0.448-1-1s0.448-1 1-1h14c0.552 0 1 0.448 1 1s-0.448 1-1 1z\"></path>\n",
       "<path d=\"M23 18h-14c-0.552 0-1-0.448-1-1s0.448-1 1-1h14c0.552 0 1 0.448 1 1s-0.448 1-1 1z\"></path>\n",
       "</symbol>\n",
       "</defs>\n",
       "</svg>\n",
       "<style>/* CSS stylesheet for displaying xarray objects in jupyterlab.\n",
       " *\n",
       " */\n",
       "\n",
       ":root {\n",
       "  --xr-font-color0: var(--jp-content-font-color0, rgba(0, 0, 0, 1));\n",
       "  --xr-font-color2: var(--jp-content-font-color2, rgba(0, 0, 0, 0.54));\n",
       "  --xr-font-color3: var(--jp-content-font-color3, rgba(0, 0, 0, 0.38));\n",
       "  --xr-border-color: var(--jp-border-color2, #e0e0e0);\n",
       "  --xr-disabled-color: var(--jp-layout-color3, #bdbdbd);\n",
       "  --xr-background-color: var(--jp-layout-color0, white);\n",
       "  --xr-background-color-row-even: var(--jp-layout-color1, white);\n",
       "  --xr-background-color-row-odd: var(--jp-layout-color2, #eeeeee);\n",
       "}\n",
       "\n",
       "html[theme=dark],\n",
       "body.vscode-dark {\n",
       "  --xr-font-color0: rgba(255, 255, 255, 1);\n",
       "  --xr-font-color2: rgba(255, 255, 255, 0.54);\n",
       "  --xr-font-color3: rgba(255, 255, 255, 0.38);\n",
       "  --xr-border-color: #1F1F1F;\n",
       "  --xr-disabled-color: #515151;\n",
       "  --xr-background-color: #111111;\n",
       "  --xr-background-color-row-even: #111111;\n",
       "  --xr-background-color-row-odd: #313131;\n",
       "}\n",
       "\n",
       ".xr-wrap {\n",
       "  display: block;\n",
       "  min-width: 300px;\n",
       "  max-width: 700px;\n",
       "}\n",
       "\n",
       ".xr-text-repr-fallback {\n",
       "  /* fallback to plain text repr when CSS is not injected (untrusted notebook) */\n",
       "  display: none;\n",
       "}\n",
       "\n",
       ".xr-header {\n",
       "  padding-top: 6px;\n",
       "  padding-bottom: 6px;\n",
       "  margin-bottom: 4px;\n",
       "  border-bottom: solid 1px var(--xr-border-color);\n",
       "}\n",
       "\n",
       ".xr-header > div,\n",
       ".xr-header > ul {\n",
       "  display: inline;\n",
       "  margin-top: 0;\n",
       "  margin-bottom: 0;\n",
       "}\n",
       "\n",
       ".xr-obj-type,\n",
       ".xr-array-name {\n",
       "  margin-left: 2px;\n",
       "  margin-right: 10px;\n",
       "}\n",
       "\n",
       ".xr-obj-type {\n",
       "  color: var(--xr-font-color2);\n",
       "}\n",
       "\n",
       ".xr-sections {\n",
       "  padding-left: 0 !important;\n",
       "  display: grid;\n",
       "  grid-template-columns: 150px auto auto 1fr 20px 20px;\n",
       "}\n",
       "\n",
       ".xr-section-item {\n",
       "  display: contents;\n",
       "}\n",
       "\n",
       ".xr-section-item input {\n",
       "  display: none;\n",
       "}\n",
       "\n",
       ".xr-section-item input + label {\n",
       "  color: var(--xr-disabled-color);\n",
       "}\n",
       "\n",
       ".xr-section-item input:enabled + label {\n",
       "  cursor: pointer;\n",
       "  color: var(--xr-font-color2);\n",
       "}\n",
       "\n",
       ".xr-section-item input:enabled + label:hover {\n",
       "  color: var(--xr-font-color0);\n",
       "}\n",
       "\n",
       ".xr-section-summary {\n",
       "  grid-column: 1;\n",
       "  color: var(--xr-font-color2);\n",
       "  font-weight: 500;\n",
       "}\n",
       "\n",
       ".xr-section-summary > span {\n",
       "  display: inline-block;\n",
       "  padding-left: 0.5em;\n",
       "}\n",
       "\n",
       ".xr-section-summary-in:disabled + label {\n",
       "  color: var(--xr-font-color2);\n",
       "}\n",
       "\n",
       ".xr-section-summary-in + label:before {\n",
       "  display: inline-block;\n",
       "  content: '►';\n",
       "  font-size: 11px;\n",
       "  width: 15px;\n",
       "  text-align: center;\n",
       "}\n",
       "\n",
       ".xr-section-summary-in:disabled + label:before {\n",
       "  color: var(--xr-disabled-color);\n",
       "}\n",
       "\n",
       ".xr-section-summary-in:checked + label:before {\n",
       "  content: '▼';\n",
       "}\n",
       "\n",
       ".xr-section-summary-in:checked + label > span {\n",
       "  display: none;\n",
       "}\n",
       "\n",
       ".xr-section-summary,\n",
       ".xr-section-inline-details {\n",
       "  padding-top: 4px;\n",
       "  padding-bottom: 4px;\n",
       "}\n",
       "\n",
       ".xr-section-inline-details {\n",
       "  grid-column: 2 / -1;\n",
       "}\n",
       "\n",
       ".xr-section-details {\n",
       "  display: none;\n",
       "  grid-column: 1 / -1;\n",
       "  margin-bottom: 5px;\n",
       "}\n",
       "\n",
       ".xr-section-summary-in:checked ~ .xr-section-details {\n",
       "  display: contents;\n",
       "}\n",
       "\n",
       ".xr-array-wrap {\n",
       "  grid-column: 1 / -1;\n",
       "  display: grid;\n",
       "  grid-template-columns: 20px auto;\n",
       "}\n",
       "\n",
       ".xr-array-wrap > label {\n",
       "  grid-column: 1;\n",
       "  vertical-align: top;\n",
       "}\n",
       "\n",
       ".xr-preview {\n",
       "  color: var(--xr-font-color3);\n",
       "}\n",
       "\n",
       ".xr-array-preview,\n",
       ".xr-array-data {\n",
       "  padding: 0 5px !important;\n",
       "  grid-column: 2;\n",
       "}\n",
       "\n",
       ".xr-array-data,\n",
       ".xr-array-in:checked ~ .xr-array-preview {\n",
       "  display: none;\n",
       "}\n",
       "\n",
       ".xr-array-in:checked ~ .xr-array-data,\n",
       ".xr-array-preview {\n",
       "  display: inline-block;\n",
       "}\n",
       "\n",
       ".xr-dim-list {\n",
       "  display: inline-block !important;\n",
       "  list-style: none;\n",
       "  padding: 0 !important;\n",
       "  margin: 0;\n",
       "}\n",
       "\n",
       ".xr-dim-list li {\n",
       "  display: inline-block;\n",
       "  padding: 0;\n",
       "  margin: 0;\n",
       "}\n",
       "\n",
       ".xr-dim-list:before {\n",
       "  content: '(';\n",
       "}\n",
       "\n",
       ".xr-dim-list:after {\n",
       "  content: ')';\n",
       "}\n",
       "\n",
       ".xr-dim-list li:not(:last-child):after {\n",
       "  content: ',';\n",
       "  padding-right: 5px;\n",
       "}\n",
       "\n",
       ".xr-has-index {\n",
       "  font-weight: bold;\n",
       "}\n",
       "\n",
       ".xr-var-list,\n",
       ".xr-var-item {\n",
       "  display: contents;\n",
       "}\n",
       "\n",
       ".xr-var-item > div,\n",
       ".xr-var-item label,\n",
       ".xr-var-item > .xr-var-name span {\n",
       "  background-color: var(--xr-background-color-row-even);\n",
       "  margin-bottom: 0;\n",
       "}\n",
       "\n",
       ".xr-var-item > .xr-var-name:hover span {\n",
       "  padding-right: 5px;\n",
       "}\n",
       "\n",
       ".xr-var-list > li:nth-child(odd) > div,\n",
       ".xr-var-list > li:nth-child(odd) > label,\n",
       ".xr-var-list > li:nth-child(odd) > .xr-var-name span {\n",
       "  background-color: var(--xr-background-color-row-odd);\n",
       "}\n",
       "\n",
       ".xr-var-name {\n",
       "  grid-column: 1;\n",
       "}\n",
       "\n",
       ".xr-var-dims {\n",
       "  grid-column: 2;\n",
       "}\n",
       "\n",
       ".xr-var-dtype {\n",
       "  grid-column: 3;\n",
       "  text-align: right;\n",
       "  color: var(--xr-font-color2);\n",
       "}\n",
       "\n",
       ".xr-var-preview {\n",
       "  grid-column: 4;\n",
       "}\n",
       "\n",
       ".xr-var-name,\n",
       ".xr-var-dims,\n",
       ".xr-var-dtype,\n",
       ".xr-preview,\n",
       ".xr-attrs dt {\n",
       "  white-space: nowrap;\n",
       "  overflow: hidden;\n",
       "  text-overflow: ellipsis;\n",
       "  padding-right: 10px;\n",
       "}\n",
       "\n",
       ".xr-var-name:hover,\n",
       ".xr-var-dims:hover,\n",
       ".xr-var-dtype:hover,\n",
       ".xr-attrs dt:hover {\n",
       "  overflow: visible;\n",
       "  width: auto;\n",
       "  z-index: 1;\n",
       "}\n",
       "\n",
       ".xr-var-attrs,\n",
       ".xr-var-data {\n",
       "  display: none;\n",
       "  background-color: var(--xr-background-color) !important;\n",
       "  padding-bottom: 5px !important;\n",
       "}\n",
       "\n",
       ".xr-var-attrs-in:checked ~ .xr-var-attrs,\n",
       ".xr-var-data-in:checked ~ .xr-var-data {\n",
       "  display: block;\n",
       "}\n",
       "\n",
       ".xr-var-data > table {\n",
       "  float: right;\n",
       "}\n",
       "\n",
       ".xr-var-name span,\n",
       ".xr-var-data,\n",
       ".xr-attrs {\n",
       "  padding-left: 25px !important;\n",
       "}\n",
       "\n",
       ".xr-attrs,\n",
       ".xr-var-attrs,\n",
       ".xr-var-data {\n",
       "  grid-column: 1 / -1;\n",
       "}\n",
       "\n",
       "dl.xr-attrs {\n",
       "  padding: 0;\n",
       "  margin: 0;\n",
       "  display: grid;\n",
       "  grid-template-columns: 125px auto;\n",
       "}\n",
       "\n",
       ".xr-attrs dt,\n",
       ".xr-attrs dd {\n",
       "  padding: 0;\n",
       "  margin: 0;\n",
       "  float: left;\n",
       "  padding-right: 10px;\n",
       "  width: auto;\n",
       "}\n",
       "\n",
       ".xr-attrs dt {\n",
       "  font-weight: normal;\n",
       "  grid-column: 1;\n",
       "}\n",
       "\n",
       ".xr-attrs dt:hover span {\n",
       "  display: inline-block;\n",
       "  background: var(--xr-background-color);\n",
       "  padding-right: 10px;\n",
       "}\n",
       "\n",
       ".xr-attrs dd {\n",
       "  grid-column: 2;\n",
       "  white-space: pre-wrap;\n",
       "  word-break: break-all;\n",
       "}\n",
       "\n",
       ".xr-icon-database,\n",
       ".xr-icon-file-text2 {\n",
       "  display: inline-block;\n",
       "  vertical-align: middle;\n",
       "  width: 1em;\n",
       "  height: 1.5em !important;\n",
       "  stroke-width: 0;\n",
       "  stroke: currentColor;\n",
       "  fill: currentColor;\n",
       "}\n",
       "</style><pre class='xr-text-repr-fallback'>&lt;xarray.DataArray &#x27;PRECT&#x27; (season: 4, quantile: 2, lat: 25, lon: 58)&gt;\n",
       "array([[[[-0.16864619, -1.86844226, -3.2801722 , ..., -0.03102896,\n",
       "          -0.02757453, -0.01939991],\n",
       "         [-0.12481008, -1.38697674, -3.50107399, ..., -0.24516729,\n",
       "          -0.17020362, -0.19545741],\n",
       "         [-0.19933268, -2.29566116, -4.30191681, ..., -0.6283272 ,\n",
       "          -0.75990033, -0.95961649],\n",
       "         ...,\n",
       "         [-1.49116915, -1.3333428 , -1.38147712, ..., -2.04510167,\n",
       "          -2.17735057, -2.59311297],\n",
       "         [-1.61200784, -1.45271689, -1.17002926, ..., -2.17722886,\n",
       "          -2.38833541, -2.54166659],\n",
       "         [-1.76986129, -1.31487764, -1.11849933, ..., -1.97301194,\n",
       "          -2.27352646, -2.40995004]],\n",
       "\n",
       "        [[ 0.17415302,  1.80225669,  3.25064601, ...,  0.03153391,\n",
       "           0.02759805,  0.0193413 ],\n",
       "         [ 0.12219169,  1.31265929,  3.30903978, ...,  0.23576643,\n",
       "           0.17063564,  0.19243786],\n",
       "         [ 0.18815459,  2.22575854,  4.04478517, ...,  0.60630994,\n",
       "           0.76747154,  0.95492508],\n",
       "...\n",
       "         [-1.43498671, -1.25779954, -1.12763894, ..., -2.80967013,\n",
       "          -2.52879012, -3.08185901],\n",
       "         [-1.62869017, -1.56556174, -0.99003852, ..., -2.40799588,\n",
       "          -2.77227734, -2.90770105],\n",
       "         [-1.93945957, -1.41700593, -1.25058817, ..., -2.48656165,\n",
       "          -3.64266063, -3.53676127]],\n",
       "\n",
       "        [[ 0.        ,  0.        ,  0.        , ...,  0.        ,\n",
       "           0.        ,  0.        ],\n",
       "         [ 0.        ,  0.        ,  0.        , ...,  0.01392648,\n",
       "           0.        ,  0.        ],\n",
       "         [ 0.        ,  0.        ,  0.03779271, ...,  0.01140141,\n",
       "           0.        ,  0.        ],\n",
       "         ...,\n",
       "         [ 1.41852143,  1.25118576,  1.18055524, ...,  2.86101279,\n",
       "           2.66526837,  2.89275362],\n",
       "         [ 1.52888999,  1.59257078,  0.97070698, ...,  2.5495968 ,\n",
       "           2.62854544,  2.86102031],\n",
       "         [ 1.78177287,  1.39783993,  1.23710069, ...,  2.55954804,\n",
       "           3.47716756,  3.50698983]]]])\n",
       "Coordinates:\n",
       "  * lon       (lon) float64 -125.0 -124.0 -123.0 -122.0 ... -70.0 -69.0 -68.0\n",
       "  * lat       (lat) float64 26.0 27.0 28.0 29.0 30.0 ... 47.0 48.0 49.0 50.0\n",
       "  * quantile  (quantile) float64 0.025 0.975\n",
       "  * season    (season) &lt;U3 &#x27;DJF&#x27; &#x27;MAM&#x27; &#x27;JJA&#x27; &#x27;SON&#x27;</pre><div class='xr-wrap' hidden><div class='xr-header'><div class='xr-obj-type'>xarray.DataArray</div><div class='xr-array-name'>'PRECT'</div><ul class='xr-dim-list'><li><span class='xr-has-index'>season</span>: 4</li><li><span class='xr-has-index'>quantile</span>: 2</li><li><span class='xr-has-index'>lat</span>: 25</li><li><span class='xr-has-index'>lon</span>: 58</li></ul></div><ul class='xr-sections'><li class='xr-section-item'><div class='xr-array-wrap'><input id='section-c13e3b59-9b5a-455c-86c1-ea18b18a62e2' class='xr-array-in' type='checkbox' checked><label for='section-c13e3b59-9b5a-455c-86c1-ea18b18a62e2' title='Show/hide data repr'><svg class='icon xr-icon-database'><use xlink:href='#icon-database'></use></svg></label><div class='xr-array-preview xr-preview'><span>-0.1686 -1.868 -3.28 -6.961 -0.7668 ... 1.907 2.005 2.56 3.477 3.507</span></div><div class='xr-array-data'><pre>array([[[[-0.16864619, -1.86844226, -3.2801722 , ..., -0.03102896,\n",
       "          -0.02757453, -0.01939991],\n",
       "         [-0.12481008, -1.38697674, -3.50107399, ..., -0.24516729,\n",
       "          -0.17020362, -0.19545741],\n",
       "         [-0.19933268, -2.29566116, -4.30191681, ..., -0.6283272 ,\n",
       "          -0.75990033, -0.95961649],\n",
       "         ...,\n",
       "         [-1.49116915, -1.3333428 , -1.38147712, ..., -2.04510167,\n",
       "          -2.17735057, -2.59311297],\n",
       "         [-1.61200784, -1.45271689, -1.17002926, ..., -2.17722886,\n",
       "          -2.38833541, -2.54166659],\n",
       "         [-1.76986129, -1.31487764, -1.11849933, ..., -1.97301194,\n",
       "          -2.27352646, -2.40995004]],\n",
       "\n",
       "        [[ 0.17415302,  1.80225669,  3.25064601, ...,  0.03153391,\n",
       "           0.02759805,  0.0193413 ],\n",
       "         [ 0.12219169,  1.31265929,  3.30903978, ...,  0.23576643,\n",
       "           0.17063564,  0.19243786],\n",
       "         [ 0.18815459,  2.22575854,  4.04478517, ...,  0.60630994,\n",
       "           0.76747154,  0.95492508],\n",
       "...\n",
       "         [-1.43498671, -1.25779954, -1.12763894, ..., -2.80967013,\n",
       "          -2.52879012, -3.08185901],\n",
       "         [-1.62869017, -1.56556174, -0.99003852, ..., -2.40799588,\n",
       "          -2.77227734, -2.90770105],\n",
       "         [-1.93945957, -1.41700593, -1.25058817, ..., -2.48656165,\n",
       "          -3.64266063, -3.53676127]],\n",
       "\n",
       "        [[ 0.        ,  0.        ,  0.        , ...,  0.        ,\n",
       "           0.        ,  0.        ],\n",
       "         [ 0.        ,  0.        ,  0.        , ...,  0.01392648,\n",
       "           0.        ,  0.        ],\n",
       "         [ 0.        ,  0.        ,  0.03779271, ...,  0.01140141,\n",
       "           0.        ,  0.        ],\n",
       "         ...,\n",
       "         [ 1.41852143,  1.25118576,  1.18055524, ...,  2.86101279,\n",
       "           2.66526837,  2.89275362],\n",
       "         [ 1.52888999,  1.59257078,  0.97070698, ...,  2.5495968 ,\n",
       "           2.62854544,  2.86102031],\n",
       "         [ 1.78177287,  1.39783993,  1.23710069, ...,  2.55954804,\n",
       "           3.47716756,  3.50698983]]]])</pre></div></div></li><li class='xr-section-item'><input id='section-739e5137-d398-4d79-866d-6fd71fcce382' class='xr-section-summary-in' type='checkbox'  checked><label for='section-739e5137-d398-4d79-866d-6fd71fcce382' class='xr-section-summary' >Coordinates: <span>(4)</span></label><div class='xr-section-inline-details'></div><div class='xr-section-details'><ul class='xr-var-list'><li class='xr-var-item'><div class='xr-var-name'><span class='xr-has-index'>lon</span></div><div class='xr-var-dims'>(lon)</div><div class='xr-var-dtype'>float64</div><div class='xr-var-preview xr-preview'>-125.0 -124.0 ... -69.0 -68.0</div><input id='attrs-02c1d308-2c8b-4def-b78d-43d0e04627d2' class='xr-var-attrs-in' type='checkbox' ><label for='attrs-02c1d308-2c8b-4def-b78d-43d0e04627d2' title='Show/Hide attributes'><svg class='icon xr-icon-file-text2'><use xlink:href='#icon-file-text2'></use></svg></label><input id='data-f6aeb427-cb6e-46c7-b40c-14b0991deb63' class='xr-var-data-in' type='checkbox'><label for='data-f6aeb427-cb6e-46c7-b40c-14b0991deb63' title='Show/Hide data repr'><svg class='icon xr-icon-database'><use xlink:href='#icon-database'></use></svg></label><div class='xr-var-attrs'><dl class='xr-attrs'><dt><span>axis :</span></dt><dd>X</dd><dt><span>long_name :</span></dt><dd>longitude</dd><dt><span>standard_name :</span></dt><dd>longitude</dd><dt><span>units :</span></dt><dd>degrees_east</dd></dl></div><div class='xr-var-data'><pre>array([-125., -124., -123., -122., -121., -120., -119., -118., -117., -116.,\n",
       "       -115., -114., -113., -112., -111., -110., -109., -108., -107., -106.,\n",
       "       -105., -104., -103., -102., -101., -100.,  -99.,  -98.,  -97.,  -96.,\n",
       "        -95.,  -94.,  -93.,  -92.,  -91.,  -90.,  -89.,  -88.,  -87.,  -86.,\n",
       "        -85.,  -84.,  -83.,  -82.,  -81.,  -80.,  -79.,  -78.,  -77.,  -76.,\n",
       "        -75.,  -74.,  -73.,  -72.,  -71.,  -70.,  -69.,  -68.])</pre></div></li><li class='xr-var-item'><div class='xr-var-name'><span class='xr-has-index'>lat</span></div><div class='xr-var-dims'>(lat)</div><div class='xr-var-dtype'>float64</div><div class='xr-var-preview xr-preview'>26.0 27.0 28.0 ... 48.0 49.0 50.0</div><input id='attrs-15a9c695-3dd8-43b7-b58d-3f45e7eb107d' class='xr-var-attrs-in' type='checkbox' ><label for='attrs-15a9c695-3dd8-43b7-b58d-3f45e7eb107d' title='Show/Hide attributes'><svg class='icon xr-icon-file-text2'><use xlink:href='#icon-file-text2'></use></svg></label><input id='data-ba0686d5-a61f-48d8-b60f-d5a0cb85cb1c' class='xr-var-data-in' type='checkbox'><label for='data-ba0686d5-a61f-48d8-b60f-d5a0cb85cb1c' title='Show/Hide data repr'><svg class='icon xr-icon-database'><use xlink:href='#icon-database'></use></svg></label><div class='xr-var-attrs'><dl class='xr-attrs'><dt><span>axis :</span></dt><dd>Y</dd><dt><span>long_name :</span></dt><dd>latitude</dd><dt><span>standard_name :</span></dt><dd>latitude</dd><dt><span>units :</span></dt><dd>degrees_north</dd></dl></div><div class='xr-var-data'><pre>array([26., 27., 28., 29., 30., 31., 32., 33., 34., 35., 36., 37., 38., 39.,\n",
       "       40., 41., 42., 43., 44., 45., 46., 47., 48., 49., 50.])</pre></div></li><li class='xr-var-item'><div class='xr-var-name'><span class='xr-has-index'>quantile</span></div><div class='xr-var-dims'>(quantile)</div><div class='xr-var-dtype'>float64</div><div class='xr-var-preview xr-preview'>0.025 0.975</div><input id='attrs-060a6252-4164-46c8-a60e-a51ccbea8bfc' class='xr-var-attrs-in' type='checkbox' disabled><label for='attrs-060a6252-4164-46c8-a60e-a51ccbea8bfc' title='Show/Hide attributes'><svg class='icon xr-icon-file-text2'><use xlink:href='#icon-file-text2'></use></svg></label><input id='data-2f3eb0ba-a242-4dae-91cb-c5265ec14331' class='xr-var-data-in' type='checkbox'><label for='data-2f3eb0ba-a242-4dae-91cb-c5265ec14331' title='Show/Hide data repr'><svg class='icon xr-icon-database'><use xlink:href='#icon-database'></use></svg></label><div class='xr-var-attrs'><dl class='xr-attrs'></dl></div><div class='xr-var-data'><pre>array([0.025, 0.975])</pre></div></li><li class='xr-var-item'><div class='xr-var-name'><span class='xr-has-index'>season</span></div><div class='xr-var-dims'>(season)</div><div class='xr-var-dtype'>&lt;U3</div><div class='xr-var-preview xr-preview'>&#x27;DJF&#x27; &#x27;MAM&#x27; &#x27;JJA&#x27; &#x27;SON&#x27;</div><input id='attrs-21951273-0776-4a07-864b-30fe6264b443' class='xr-var-attrs-in' type='checkbox' disabled><label for='attrs-21951273-0776-4a07-864b-30fe6264b443' title='Show/Hide attributes'><svg class='icon xr-icon-file-text2'><use xlink:href='#icon-file-text2'></use></svg></label><input id='data-0110fc4a-ee50-4ca6-9b61-8c2e117ccac6' class='xr-var-data-in' type='checkbox'><label for='data-0110fc4a-ee50-4ca6-9b61-8c2e117ccac6' title='Show/Hide data repr'><svg class='icon xr-icon-database'><use xlink:href='#icon-database'></use></svg></label><div class='xr-var-attrs'><dl class='xr-attrs'></dl></div><div class='xr-var-data'><pre>array([&#x27;DJF&#x27;, &#x27;MAM&#x27;, &#x27;JJA&#x27;, &#x27;SON&#x27;], dtype=&#x27;&lt;U3&#x27;)</pre></div></li></ul></div></li><li class='xr-section-item'><input id='section-41780a33-2581-4616-85d7-c3bbd3c95835' class='xr-section-summary-in' type='checkbox' disabled ><label for='section-41780a33-2581-4616-85d7-c3bbd3c95835' class='xr-section-summary'  title='Expand/collapse section'>Attributes: <span>(0)</span></label><div class='xr-section-inline-details'></div><div class='xr-section-details'><dl class='xr-attrs'></dl></div></li></ul></div></div>"
      ],
      "text/plain": [
       "<xarray.DataArray 'PRECT' (season: 4, quantile: 2, lat: 25, lon: 58)>\n",
       "array([[[[-0.16864619, -1.86844226, -3.2801722 , ..., -0.03102896,\n",
       "          -0.02757453, -0.01939991],\n",
       "         [-0.12481008, -1.38697674, -3.50107399, ..., -0.24516729,\n",
       "          -0.17020362, -0.19545741],\n",
       "         [-0.19933268, -2.29566116, -4.30191681, ..., -0.6283272 ,\n",
       "          -0.75990033, -0.95961649],\n",
       "         ...,\n",
       "         [-1.49116915, -1.3333428 , -1.38147712, ..., -2.04510167,\n",
       "          -2.17735057, -2.59311297],\n",
       "         [-1.61200784, -1.45271689, -1.17002926, ..., -2.17722886,\n",
       "          -2.38833541, -2.54166659],\n",
       "         [-1.76986129, -1.31487764, -1.11849933, ..., -1.97301194,\n",
       "          -2.27352646, -2.40995004]],\n",
       "\n",
       "        [[ 0.17415302,  1.80225669,  3.25064601, ...,  0.03153391,\n",
       "           0.02759805,  0.0193413 ],\n",
       "         [ 0.12219169,  1.31265929,  3.30903978, ...,  0.23576643,\n",
       "           0.17063564,  0.19243786],\n",
       "         [ 0.18815459,  2.22575854,  4.04478517, ...,  0.60630994,\n",
       "           0.76747154,  0.95492508],\n",
       "...\n",
       "         [-1.43498671, -1.25779954, -1.12763894, ..., -2.80967013,\n",
       "          -2.52879012, -3.08185901],\n",
       "         [-1.62869017, -1.56556174, -0.99003852, ..., -2.40799588,\n",
       "          -2.77227734, -2.90770105],\n",
       "         [-1.93945957, -1.41700593, -1.25058817, ..., -2.48656165,\n",
       "          -3.64266063, -3.53676127]],\n",
       "\n",
       "        [[ 0.        ,  0.        ,  0.        , ...,  0.        ,\n",
       "           0.        ,  0.        ],\n",
       "         [ 0.        ,  0.        ,  0.        , ...,  0.01392648,\n",
       "           0.        ,  0.        ],\n",
       "         [ 0.        ,  0.        ,  0.03779271, ...,  0.01140141,\n",
       "           0.        ,  0.        ],\n",
       "         ...,\n",
       "         [ 1.41852143,  1.25118576,  1.18055524, ...,  2.86101279,\n",
       "           2.66526837,  2.89275362],\n",
       "         [ 1.52888999,  1.59257078,  0.97070698, ...,  2.5495968 ,\n",
       "           2.62854544,  2.86102031],\n",
       "         [ 1.78177287,  1.39783993,  1.23710069, ...,  2.55954804,\n",
       "           3.47716756,  3.50698983]]]])\n",
       "Coordinates:\n",
       "  * lon       (lon) float64 -125.0 -124.0 -123.0 -122.0 ... -70.0 -69.0 -68.0\n",
       "  * lat       (lat) float64 26.0 27.0 28.0 29.0 30.0 ... 47.0 48.0 49.0 50.0\n",
       "  * quantile  (quantile) float64 0.025 0.975\n",
       "  * season    (season) <U3 'DJF' 'MAM' 'JJA' 'SON'"
      ]
     },
     "execution_count": 123,
     "metadata": {},
     "output_type": "execute_result"
    }
   ],
   "source": [
    "seasonal_quantiles.coords[\"season\"] = ['DJF','MAM','JJA','SON']\n",
    "seasonal_quantiles"
   ]
  },
  {
   "cell_type": "code",
   "execution_count": 124,
   "id": "630b431d-4832-4a07-913b-7b7e4446da93",
   "metadata": {},
   "outputs": [
    {
     "data": {
      "text/plain": [
       "<matplotlib.collections.QuadMesh at 0x2ae66b5e5ac0>"
      ]
     },
     "execution_count": 124,
     "metadata": {},
     "output_type": "execute_result"
    },
    {
     "data": {
      "image/png": "[encoded data removed]",
      "text/plain": [
       "<Figure size 432x288 with 2 Axes>"
      ]
     },
     "metadata": {
      "needs_background": "light"
     },
     "output_type": "display_data"
    }
   ],
   "source": [
    "seasonal_quantiles.sel(season='SON',quantile=0.975).plot()"
   ]
  },
  {
   "cell_type": "code",
   "execution_count": 117,
   "id": "7daf7cbe-77e7-4d5c-88e3-6f266a2beb2c",
   "metadata": {},
   "outputs": [],
   "source": [
    "#seasonal_quantiles.to_netcdf(postprocessing_filepath+'PRECT_frontfrac_boot_diffs_byseason.nc', mode='w', format='NETCDF4')"
   ]
  },
  {
   "cell_type": "code",
   "execution_count": 46,
   "id": "e4dff0ab-3431-4a4c-bd5b-377fd980d201",
   "metadata": {},
   "outputs": [],
   "source": [
    "#seasonal_quantiles.to_netcdf(postprocessing_filepath+'PRECT_frontfrac_cold_boot_diffs_byseason.nc', mode='w', format='NETCDF4')"
   ]
  },
  {
   "cell_type": "code",
   "execution_count": 72,
   "id": "5441014c-e443-426f-9738-dcacd5c49971",
   "metadata": {},
   "outputs": [],
   "source": [
    "#seasonal_quantiles.to_netcdf(postprocessing_filepath+'PRECT_frontfrac_warm_boot_diffs_byseason.nc', mode='w', format='NETCDF4')"
   ]
  },
  {
   "cell_type": "code",
   "execution_count": 99,
   "id": "b9ce4b01-db25-4958-964d-4455da055f7d",
   "metadata": {},
   "outputs": [],
   "source": [
    "#seasonal_quantiles.to_netcdf(postprocessing_filepath+'PRECT_frontfrac_stat_boot_diffs_byseason.nc', mode='w', format='NETCDF4')"
   ]
  },
  {
   "cell_type": "code",
   "execution_count": 125,
   "id": "3df40b46-11be-410d-b464-abd564424f01",
   "metadata": {},
   "outputs": [],
   "source": [
    "seasonal_quantiles.to_netcdf(postprocessing_filepath+'PRECT_frontfrac_occ_boot_diffs_byseason.nc', mode='w', format='NETCDF4')"
   ]
  },
  {
   "cell_type": "code",
   "execution_count": 99,
   "id": "27c798a2-89bd-483c-b616-f047d9badac8",
   "metadata": {},
   "outputs": [],
   "source": [
    "#DJF_quantiles.to_netcdf(postprocessing_filepath+'PRECT_frontfrac_boot_diffs_DJF.nc', mode='w', format='NETCDF4')"
   ]
  },
  {
   "cell_type": "code",
   "execution_count": null,
   "id": "0ce2f4a8-6a7a-439e-8660-3505bacf338e",
   "metadata": {},
   "outputs": [],
   "source": [
    "#MAM_quantiles.to_netcdf(postprocessing_filepath+'PRECT_frontfrac_boot_diffs_MAM.nc', mode='w', format='NETCDF4')"
   ]
  },
  {
   "cell_type": "code",
   "execution_count": null,
   "id": "00d6ca39-717a-4aa1-a133-51a8f58b4038",
   "metadata": {},
   "outputs": [],
   "source": [
    "#JJA_quantiles.to_netcdf(postprocessing_filepath+'PRECT_frontfrac_boot_diffs_JJA.nc', mode='w', format='NETCDF4')"
   ]
  },
  {
   "cell_type": "code",
   "execution_count": null,
   "id": "f09e6df0-869d-42e3-9ef3-3a6e802ae030",
   "metadata": {},
   "outputs": [],
   "source": [
    "#SON_quantiles.to_netcdf(postprocessing_filepath+'PRECT_frontfrac_boot_diffs_SON.nc', mode='w', format='NETCDF4')"
   ]
  },
  {
   "cell_type": "code",
   "execution_count": null,
   "id": "719f0ab4-3140-4889-ac89-0741e5ef9d47",
   "metadata": {},
   "outputs": [],
   "source": []
  },
  {
   "cell_type": "code",
   "execution_count": null,
   "id": "8397e751-b6f6-4366-9c83-d6e32c0d65af",
   "metadata": {},
   "outputs": [],
   "source": []
  },
  {
   "cell_type": "markdown",
   "id": "73009a48-5670-4d14-b6ac-cc5c93d0fa49",
   "metadata": {},
   "source": [
    "#### playing around with the `boostrap` function from scipy"
   ]
  },
  {
   "cell_type": "code",
   "execution_count": null,
   "id": "eb58402e-717a-44b1-b6cb-62ace1f16dba",
   "metadata": {},
   "outputs": [],
   "source": [
    "from scipy.stats import bootstrap"
   ]
  },
  {
   "cell_type": "code",
   "execution_count": null,
   "id": "ff1110e1-0011-4e9f-8bd6-b57af5ca2ceb",
   "metadata": {
    "tags": []
   },
   "outputs": [],
   "source": [
    "from scipy.stats import norm\n",
    "sample1 = norm.rvs(scale=1, size=100)\n",
    "sample2 = norm.rvs(scale=2, size=100)\n",
    "data = (sample1, sample2)\n",
    "data[0].shape"
   ]
  },
  {
   "cell_type": "code",
   "execution_count": null,
   "id": "267d1df3-3df5-45fd-8bf0-e36801687815",
   "metadata": {
    "tags": []
   },
   "outputs": [],
   "source": [
    "# example of how to apply this function with given data and function\n",
    "res = bootstrap(data, np.mean, method='percentile', confidence_level=0.95, paired=True, vectorized=False)\n",
    "res"
   ]
  }
 ],
 "metadata": {
  "kernelspec": {
   "display_name": "Python (conda-PEx)",
   "language": "python",
   "name": "pex"
  },
  "language_info": {
   "codemirror_mode": {
    "name": "ipython",
    "version": 3
   },
   "file_extension": ".py",
   "mimetype": "text/x-python",
   "name": "python",
   "nbconvert_exporter": "python",
   "pygments_lexer": "ipython3",
   "version": "3.9.6"
  }
 },
 "nbformat": 4,
 "nbformat_minor": 5
}
