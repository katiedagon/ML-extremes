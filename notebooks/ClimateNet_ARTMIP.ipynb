{
 "cells": [
  {
   "cell_type": "markdown",
   "id": "b12febb1-d341-456f-9b15-ded98f3fa50b",
   "metadata": {},
   "source": [
    "# ClimateNet AR Analysis: ARTMIP comparisons"
   ]
  },
  {
   "cell_type": "code",
   "execution_count": 1,
   "id": "14b87fad-1207-4be0-861c-f47e731688b9",
   "metadata": {},
   "outputs": [],
   "source": [
    "import numpy as np\n",
    "import xarray as xr\n",
    "import matplotlib.pyplot as plt\n",
    "import xesmf as xe\n",
    "import nc_time_axis\n",
    "import cftime \n",
    "import cartopy.crs as ccrs\n",
    "import cartopy.feature as cfeature\n",
    "from cartopy.util import add_cyclic_point\n",
    "import matplotlib.colors as mcolors\n",
    "import matplotlib as mpl"
   ]
  },
  {
   "cell_type": "code",
   "execution_count": null,
   "id": "08d6bbf6-e520-4704-a5dc-a8dc33179a69",
   "metadata": {},
   "outputs": [],
   "source": []
  }
 ],
 "metadata": {
  "kernelspec": {
   "display_name": "Python [conda env:PEx_v2]",
   "language": "python",
   "name": "conda-env-PEx_v2-py"
  },
  "language_info": {
   "codemirror_mode": {
    "name": "ipython",
    "version": 3
   },
   "file_extension": ".py",
   "mimetype": "text/x-python",
   "name": "python",
   "nbconvert_exporter": "python",
   "pygments_lexer": "ipython3",
   "version": "3.11.7"
  }
 },
 "nbformat": 4,
 "nbformat_minor": 5
}
