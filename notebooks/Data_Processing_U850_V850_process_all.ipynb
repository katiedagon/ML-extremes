{
 "cells": [
  {
   "cell_type": "markdown",
   "metadata": {},
   "source": [
    "# Data Processing U850/V850 all files\n",
    "Teagan King, John Truesdale, Katie Dagon\n",
    "Updated Feb 2022"
   ]
  },
  {
   "cell_type": "markdown",
   "metadata": {},
   "source": [
    "## Import libraries"
   ]
  },
  {
   "cell_type": "code",
   "execution_count": 1,
   "metadata": {},
   "outputs": [],
   "source": [
    "import glob\n",
    "import xarray as xr\n",
    "import cftime\n",
    "import geocat.comp as gc\n",
    "import numpy as np\n",
    "import scipy as sp\n",
    "import matplotlib.pyplot as plt"
   ]
  },
  {
   "cell_type": "markdown",
   "metadata": {},
   "source": [
    "### Set up Dask"
   ]
  },
  {
   "cell_type": "code",
   "execution_count": 2,
   "metadata": {},
   "outputs": [],
   "source": [
    "# Import dask\n",
    "import dask\n",
    "\n",
    "# Use dask jobqueue\n",
    "from dask_jobqueue import PBSCluster\n",
    "\n",
    "# Import a client\n",
    "from dask.distributed import Client\n",
    "\n",
    "# Setup your PBSCluster\n",
    "nmem='35GB' # specify memory here so it duplicates below\n",
    "cluster = PBSCluster(\n",
    "    cores=1, # The number of cores you want\n",
    "    memory=nmem, # Amount of memory\n",
    "    processes=1, # How many processes\n",
    "    queue='casper', # The type of queue to utilize (/glade/u/apps/dav/opt/usr/bin/execcasper)\n",
    "    local_directory='/glade/scratch/$USER/local_dask', # Use your local directory\n",
    "    resource_spec='select=1:ncpus=1:mem='+nmem, # Specify resources\n",
    "    account='P93300313', # Input your project ID here, previously this was known as 'project', now is 'account'\n",
    "    walltime='04:30:00', # Amount of wall time\n",
    "    interface='ib0', # Interface to use\n",
    ")\n",
    "\n",
    "# Scale up\n",
    "cluster.scale(50)\n",
    "\n",
    "# Change your url to the dask dashboard so you can see it\n",
    "dask.config.set({'distributed.dashboard.link':'https://jupyterhub.hpc.ucar.edu/stable/user/{USER}/proxy/{port}/status'})\n",
    "\n",
    "# Setup your client\n",
    "client = Client(cluster)"
   ]
  },
  {
   "cell_type": "code",
   "execution_count": 3,
   "metadata": {},
   "outputs": [
    {
     "data": {
      "text/html": [
       "<div>\n",
       "    <div style=\"width: 24px; height: 24px; background-color: #e1e1e1; border: 3px solid #9D9D9D; border-radius: 5px; position: absolute;\"> </div>\n",
       "    <div style=\"margin-left: 48px;\">\n",
       "        <h3 style=\"margin-bottom: 0px;\">Client</h3>\n",
       "        <p style=\"color: #9D9D9D; margin-bottom: 0px;\">Client-15320085-abd4-11ed-9876-3cecef1aca46</p>\n",
       "        <table style=\"width: 100%; text-align: left;\">\n",
       "\n",
       "        <tr>\n",
       "        \n",
       "            <td style=\"text-align: left;\"><strong>Connection method:</strong> Cluster object</td>\n",
       "            <td style=\"text-align: left;\"><strong>Cluster type:</strong> dask_jobqueue.PBSCluster</td>\n",
       "        \n",
       "        </tr>\n",
       "\n",
       "        \n",
       "            <tr>\n",
       "                <td style=\"text-align: left;\">\n",
       "                    <strong>Dashboard: </strong> <a href=\"https://jupyterhub.hpc.ucar.edu/stable/user/tking/proxy/8787/status\" target=\"_blank\">https://jupyterhub.hpc.ucar.edu/stable/user/tking/proxy/8787/status</a>\n",
       "                </td>\n",
       "                <td style=\"text-align: left;\"></td>\n",
       "            </tr>\n",
       "        \n",
       "\n",
       "        </table>\n",
       "\n",
       "        \n",
       "\n",
       "        \n",
       "            <details>\n",
       "            <summary style=\"margin-bottom: 20px;\"><h3 style=\"display: inline;\">Cluster Info</h3></summary>\n",
       "            <div class=\"jp-RenderedHTMLCommon jp-RenderedHTML jp-mod-trusted jp-OutputArea-output\">\n",
       "    <div style=\"width: 24px; height: 24px; background-color: #e1e1e1; border: 3px solid #9D9D9D; border-radius: 5px; position: absolute;\">\n",
       "    </div>\n",
       "    <div style=\"margin-left: 48px;\">\n",
       "        <h3 style=\"margin-bottom: 0px; margin-top: 0px;\">PBSCluster</h3>\n",
       "        <p style=\"color: #9D9D9D; margin-bottom: 0px;\">2b301b50</p>\n",
       "        <table style=\"width: 100%; text-align: left;\">\n",
       "            <tr>\n",
       "                <td style=\"text-align: left;\">\n",
       "                    <strong>Dashboard:</strong> <a href=\"https://jupyterhub.hpc.ucar.edu/stable/user/tking/proxy/8787/status\" target=\"_blank\">https://jupyterhub.hpc.ucar.edu/stable/user/tking/proxy/8787/status</a>\n",
       "                </td>\n",
       "                <td style=\"text-align: left;\">\n",
       "                    <strong>Workers:</strong> 0\n",
       "                </td>\n",
       "            </tr>\n",
       "            <tr>\n",
       "                <td style=\"text-align: left;\">\n",
       "                    <strong>Total threads:</strong> 0\n",
       "                </td>\n",
       "                <td style=\"text-align: left;\">\n",
       "                    <strong>Total memory:</strong> 0 B\n",
       "                </td>\n",
       "            </tr>\n",
       "            \n",
       "        </table>\n",
       "\n",
       "        <details>\n",
       "            <summary style=\"margin-bottom: 20px;\">\n",
       "                <h3 style=\"display: inline;\">Scheduler Info</h3>\n",
       "            </summary>\n",
       "\n",
       "            <div style=\"\">\n",
       "    <div>\n",
       "        <div style=\"width: 24px; height: 24px; background-color: #FFF7E5; border: 3px solid #FF6132; border-radius: 5px; position: absolute;\"> </div>\n",
       "        <div style=\"margin-left: 48px;\">\n",
       "            <h3 style=\"margin-bottom: 0px;\">Scheduler</h3>\n",
       "            <p style=\"color: #9D9D9D; margin-bottom: 0px;\">Scheduler-8bdf3538-03de-4c04-a32d-0603753a29a0</p>\n",
       "            <table style=\"width: 100%; text-align: left;\">\n",
       "                <tr>\n",
       "                    <td style=\"text-align: left;\">\n",
       "                        <strong>Comm:</strong> tcp://10.12.206.47:43957\n",
       "                    </td>\n",
       "                    <td style=\"text-align: left;\">\n",
       "                        <strong>Workers:</strong> 0\n",
       "                    </td>\n",
       "                </tr>\n",
       "                <tr>\n",
       "                    <td style=\"text-align: left;\">\n",
       "                        <strong>Dashboard:</strong> <a href=\"https://jupyterhub.hpc.ucar.edu/stable/user/tking/proxy/8787/status\" target=\"_blank\">https://jupyterhub.hpc.ucar.edu/stable/user/tking/proxy/8787/status</a>\n",
       "                    </td>\n",
       "                    <td style=\"text-align: left;\">\n",
       "                        <strong>Total threads:</strong> 0\n",
       "                    </td>\n",
       "                </tr>\n",
       "                <tr>\n",
       "                    <td style=\"text-align: left;\">\n",
       "                        <strong>Started:</strong> Just now\n",
       "                    </td>\n",
       "                    <td style=\"text-align: left;\">\n",
       "                        <strong>Total memory:</strong> 0 B\n",
       "                    </td>\n",
       "                </tr>\n",
       "            </table>\n",
       "        </div>\n",
       "    </div>\n",
       "\n",
       "    <details style=\"margin-left: 48px;\">\n",
       "        <summary style=\"margin-bottom: 20px;\">\n",
       "            <h3 style=\"display: inline;\">Workers</h3>\n",
       "        </summary>\n",
       "\n",
       "        \n",
       "\n",
       "    </details>\n",
       "</div>\n",
       "\n",
       "        </details>\n",
       "    </div>\n",
       "</div>\n",
       "            </details>\n",
       "        \n",
       "\n",
       "    </div>\n",
       "</div>"
      ],
      "text/plain": [
       "<Client: 'tcp://10.12.206.47:43957' processes=0 threads=0, memory=0 B>"
      ]
     },
     "execution_count": 3,
     "metadata": {},
     "output_type": "execute_result"
    }
   ],
   "source": [
    "client"
   ]
  },
  {
   "cell_type": "code",
   "execution_count": null,
   "metadata": {},
   "outputs": [],
   "source": [
    "# Use this cell to stop the dask workers\n",
    "# cluster.scale(0)"
   ]
  },
  {
   "cell_type": "markdown",
   "metadata": {},
   "source": [
    "## Read in files and set pressure level(s)"
   ]
  },
  {
   "cell_type": "code",
   "execution_count": 4,
   "metadata": {},
   "outputs": [],
   "source": [
    "# location of data\n",
    "datadir = '/glade/scratch/tking/cgnet/rcp85_2086_2100/'\n",
    "\n",
    "ufile_format = '*.U.*.nc' # U files are b.e13.BRCP85C5CN.ne120_g16.003a.cam.h4, 3hourly avg from 2080-2100\n",
    "vfile_format = '*.V.*.nc' # V files are b.e13.BRCP85C5CN.ne120_g16.003a.cam.h4, 3hourly avg from 2080-2100\n",
    "psfile_format = '*.PS.*.nc' # PS files are b.e13.BRCP85C5CN.ne120_g16.003a.cam.h3, 3hourly avg from 2080-2100\n",
    "\n",
    "# desired pressure level:\n",
    "plevel = 850.0  # hPa\n",
    "\n",
    "# use glob.glob() to get actual files, and sort in order to retain correctly matching files!\n",
    "ufilenames = sorted(glob.glob(datadir+ufile_format))\n",
    "vfilenames = sorted(glob.glob(datadir+vfile_format))\n",
    "psfilenames = sorted(glob.glob(datadir+psfile_format))\n",
    "\n",
    "# make new .nc files but replace U/V with U850/V850\n",
    "unew_files = []\n",
    "for filename in ufilenames:\n",
    "    unew_files.append((filename.replace('.U.', '.U850.')).split('/')[-1])\n",
    "\n",
    "vnew_files = []\n",
    "for filename in vfilenames:\n",
    "    vnew_files.append((filename.replace('.V.', '.V850.')).split('/')[-1])"
   ]
  },
  {
   "cell_type": "code",
   "execution_count": 7,
   "metadata": {},
   "outputs": [],
   "source": [
    "# Use this cell if need to re-run notebook for subset of files, eg if connection breaks before all files are complete\n",
    "# ufilenames = ufilenames[4:]\n",
    "# vfilenames = vfilenames[4:]\n",
    "# psfilenames = psfilenames[4:]\n",
    "# unew_files = unew_files[4:]\n",
    "# vnew_files = vnew_files[4:]"
   ]
  },
  {
   "cell_type": "code",
   "execution_count": 8,
   "metadata": {
    "tags": []
   },
   "outputs": [
    {
     "name": "stdout",
     "output_type": "stream",
     "text": [
      "['/glade/scratch/tking/cgnet/rcp85_2086_2100/b.e13.BRCP85C5CN.ne120_g16.003a.cam.h4.V.2098010100Z-2098123121Z.nc', '/glade/scratch/tking/cgnet/rcp85_2086_2100/b.e13.BRCP85C5CN.ne120_g16.003a.cam.h4.V.2099010100Z-2099123121Z.nc', '/glade/scratch/tking/cgnet/rcp85_2086_2100/b.e13.BRCP85C5CN.ne120_g16.003a.cam.h4.V.2100010100Z-2100123121Z.nc']\n",
      "['/glade/scratch/tking/cgnet/rcp85_2086_2100/b.e13.BRCP85C5CN.ne120_g16.003a.cam.h3.PS.2098010100Z-2098123121Z.nc', '/glade/scratch/tking/cgnet/rcp85_2086_2100/b.e13.BRCP85C5CN.ne120_g16.003a.cam.h3.PS.2099010100Z-2099123121Z.nc', '/glade/scratch/tking/cgnet/rcp85_2086_2100/b.e13.BRCP85C5CN.ne120_g16.003a.cam.h3.PS.2100010100Z-2100123121Z.nc']\n",
      "['b.e13.BRCP85C5CN.ne120_g16.003a.cam.h4.V850.2098010100Z-2098123121Z.nc', 'b.e13.BRCP85C5CN.ne120_g16.003a.cam.h4.V850.2099010100Z-2099123121Z.nc', 'b.e13.BRCP85C5CN.ne120_g16.003a.cam.h4.V850.2100010100Z-2100123121Z.nc']\n",
      "['b.e13.BRCP85C5CN.ne120_g16.003a.cam.h4.U850.2098010100Z-2098123121Z.nc', 'b.e13.BRCP85C5CN.ne120_g16.003a.cam.h4.U850.2099010100Z-2099123121Z.nc', 'b.e13.BRCP85C5CN.ne120_g16.003a.cam.h4.U850.2100010100Z-2100123121Z.nc']\n"
     ]
    }
   ],
   "source": [
    "# print(ufilenames)\n",
    "print(vfilenames)\n",
    "print(psfilenames)\n",
    "print(vnew_files)\n",
    "print(unew_files)"
   ]
  },
  {
   "cell_type": "markdown",
   "metadata": {},
   "source": [
    "### Run all files\n",
    "This can take a bit over an hour per file..."
   ]
  },
  {
   "cell_type": "code",
   "execution_count": 9,
   "metadata": {},
   "outputs": [
    {
     "name": "stdout",
     "output_type": "stream",
     "text": [
      "working on 2098\n",
      "finished interpolation\n",
      "generated b.e13.BRCP85C5CN.ne120_g16.003a.cam.h4.V850.2098010100Z-2098123121Z.nc\n",
      "working on 2099\n",
      "finished interpolation\n",
      "generated b.e13.BRCP85C5CN.ne120_g16.003a.cam.h4.V850.2099010100Z-2099123121Z.nc\n",
      "working on 2100\n",
      "finished interpolation\n",
      "generated b.e13.BRCP85C5CN.ne120_g16.003a.cam.h4.V850.2100010100Z-2100123121Z.nc\n"
     ]
    }
   ],
   "source": [
    "# define dummy values for t_bot and phi_sfc\n",
    "# reasoning for this described in GitHub issue: https://github.com/NCAR/geocat-comp/issues/26\n",
    "# Hopefully the need for this will be removed soon.\n",
    "t_bot=xr.DataArray([])\n",
    "phi_sfc=xr.DataArray([])\n",
    "\n",
    "for wind in ['V']:\n",
    "    for file_index in range(len(psfilenames)):        \n",
    "        if wind=='U':\n",
    "            windfile = xr.open_dataset(ufilenames[file_index], chunks={\"time\": 100, \"ncol\":10000}) # adjusting chunks for ~100mb size chunks\n",
    "        elif wind=='V':\n",
    "            windfile = xr.open_dataset(vfilenames[file_index], chunks={\"time\": 100, \"ncol\":10000}) # adjusting chunks for ~100mb size chunks\n",
    "        psfile = xr.open_dataset(psfilenames[file_index], chunks={\"time\": 100, \"ncol\":10000}) # using the same chunk size for consistency\n",
    "        print('working on {}'.format(psfilenames[file_index].split('.PS.')[-1][:4]))\n",
    "\n",
    "        file_wind = windfile[wind] # wind at each level\n",
    "        file_PS = psfile['PS'] # surface pressure\n",
    "\n",
    "        pref = psfile['P0'] # reference pressure\n",
    "\n",
    "        # hybrid level coordinates\n",
    "        hyam = windfile['hyam']\n",
    "        hybm = windfile['hybm']\n",
    "        \n",
    "        # interpolate to get correct grid levels using GeoCAT's interpolate hybrid to pressure function:\n",
    "        plevdata = gc.interpolation.interp_hybrid_to_pressure(file_wind,  # 3d field U/V (time x lev x ncol)\n",
    "                            file_PS,  # surface pressure (time x ncol)\n",
    "                            hyam, hybm,  # coefficients to calculate pressure at each level\n",
    "                            p0=pref.values,  # reference pressure\n",
    "                            new_levels=np.array([85000], dtype='float32'),  # interpolate to 850 pressure level\n",
    "                            lev_dim=None,  # lev is default\n",
    "                            method='log', # use log because pressure falls off logarithmically\n",
    "\n",
    "                            extrapolate=True, # extrapolate below ground values\n",
    "                            variable='other',\n",
    "                            t_bot=t_bot,  # xarray.DataArray Temperature in Kelvin at the lowest layer of the model.\n",
    "                                             # Not necessarily the same as surface temperature.\n",
    "                                             # Required if ``extrapolate`` is True.\n",
    "                            phi_sfc=phi_sfc  # Geopotential in J/kg at the lowest layer of the model.\n",
    "                                             # Not necessarily the same as surface geopotential.\n",
    "                                             # Required if ``extrapolate`` is True.\n",
    "                            )   #TODO: implement dask here\n",
    "        print('finished interpolation')\n",
    "        if wind == 'U':\n",
    "            file_save = unew_files[file_index]\n",
    "        elif wind == 'V':\n",
    "            file_save = vnew_files[file_index]\n",
    "        plevdata.to_netcdf('/glade/scratch/tking/cgnet/rcp85_2086_2100/{}'.format(file_save))\n",
    "        print('generated {}'.format(file_save))"
   ]
  },
  {
   "cell_type": "code",
   "execution_count": null,
   "metadata": {},
   "outputs": [],
   "source": [
    "# check dashboard listed above for dask progress board"
   ]
  },
  {
   "cell_type": "code",
   "execution_count": 11,
   "metadata": {},
   "outputs": [
    {
     "name": "stdout",
     "output_type": "stream",
     "text": [
      "/glade/scratch/tking/cgnet/rcp85_2086_2100/b.e13.BRCP85C5CN.ne120_g16.003a.cam.h4.U850.2080010100Z-2080123118Z.nc\n",
      "/glade/scratch/tking/cgnet/rcp85_2086_2100/b.e13.BRCP85C5CN.ne120_g16.003a.cam.h4.U850.2081010100Z-2081123118Z.nc\n",
      "/glade/scratch/tking/cgnet/rcp85_2086_2100/b.e13.BRCP85C5CN.ne120_g16.003a.cam.h4.U850.2086010100Z-2086123121Z.nc\n",
      "/glade/scratch/tking/cgnet/rcp85_2086_2100/b.e13.BRCP85C5CN.ne120_g16.003a.cam.h4.U850.2087010100Z-2087123121Z.nc\n",
      "/glade/scratch/tking/cgnet/rcp85_2086_2100/b.e13.BRCP85C5CN.ne120_g16.003a.cam.h4.U850.2088010100Z-2088123121Z.nc\n",
      "/glade/scratch/tking/cgnet/rcp85_2086_2100/b.e13.BRCP85C5CN.ne120_g16.003a.cam.h4.U850.2089010100Z-2089123121Z.nc\n",
      "/glade/scratch/tking/cgnet/rcp85_2086_2100/b.e13.BRCP85C5CN.ne120_g16.003a.cam.h4.U850.2090010100Z-2090123121Z.nc\n",
      "/glade/scratch/tking/cgnet/rcp85_2086_2100/b.e13.BRCP85C5CN.ne120_g16.003a.cam.h4.U850.2091010100Z-2091123121Z.nc\n",
      "/glade/scratch/tking/cgnet/rcp85_2086_2100/b.e13.BRCP85C5CN.ne120_g16.003a.cam.h4.U850.2092010100Z-2092123121Z.nc\n",
      "/glade/scratch/tking/cgnet/rcp85_2086_2100/b.e13.BRCP85C5CN.ne120_g16.003a.cam.h4.U850.2093010100Z-2093123121Z.nc\n",
      "/glade/scratch/tking/cgnet/rcp85_2086_2100/b.e13.BRCP85C5CN.ne120_g16.003a.cam.h4.U850.2094010100Z-2094123121Z.nc\n",
      "/glade/scratch/tking/cgnet/rcp85_2086_2100/b.e13.BRCP85C5CN.ne120_g16.003a.cam.h4.U850.2095010100Z-2095123121Z.nc\n",
      "/glade/scratch/tking/cgnet/rcp85_2086_2100/b.e13.BRCP85C5CN.ne120_g16.003a.cam.h4.U850.2096010100Z-2096123121Z.nc\n",
      "/glade/scratch/tking/cgnet/rcp85_2086_2100/b.e13.BRCP85C5CN.ne120_g16.003a.cam.h4.U850.2097010100Z-2097123121Z.nc\n",
      "/glade/scratch/tking/cgnet/rcp85_2086_2100/b.e13.BRCP85C5CN.ne120_g16.003a.cam.h4.U850.2098010100Z-2098123121Z.nc\n",
      "/glade/scratch/tking/cgnet/rcp85_2086_2100/b.e13.BRCP85C5CN.ne120_g16.003a.cam.h4.U850.2099010100Z-2099123121Z.nc\n",
      "/glade/scratch/tking/cgnet/rcp85_2086_2100/b.e13.BRCP85C5CN.ne120_g16.003a.cam.h4.U850.2100010100Z-2100123121Z.nc\n"
     ]
    }
   ],
   "source": [
    "ls /glade/scratch/tking/cgnet/rcp85_2086_2100/*U850*.nc"
   ]
  },
  {
   "cell_type": "code",
   "execution_count": 12,
   "metadata": {},
   "outputs": [
    {
     "name": "stdout",
     "output_type": "stream",
     "text": [
      "ncremap -m /glade/campaign/cgd/amp/jet/ClimateNet/data_processing/maps/map_ne120_to_0.23x0.31_bilinear.nc -i /glade/scratch/tking/cgnet/rcp85_2086_2100/b.e13.BRCP85C5CN.ne120_g16.003a.cam.h4.U850.2080010100Z-2080123118Z.nc -o /glade/scratch/tking/cgnet/rcp85_2086_2100/regridded_U850_V850//glade/scratch/tking/cgnet/rcp85_2086_2100/b.e13.BRCP85C5CN.ne120_g16.003a.cam.h4.U850.2080010100Z-2080123118Z.nc\n",
      "ncremap -m /glade/campaign/cgd/amp/jet/ClimateNet/data_processing/maps/map_ne120_to_0.23x0.31_bilinear.nc -i /glade/scratch/tking/cgnet/rcp85_2086_2100/b.e13.BRCP85C5CN.ne120_g16.003a.cam.h4.U850.2081010100Z-2081123118Z.nc -o /glade/scratch/tking/cgnet/rcp85_2086_2100/regridded_U850_V850//glade/scratch/tking/cgnet/rcp85_2086_2100/b.e13.BRCP85C5CN.ne120_g16.003a.cam.h4.U850.2081010100Z-2081123118Z.nc\n",
      "ncremap -m /glade/campaign/cgd/amp/jet/ClimateNet/data_processing/maps/map_ne120_to_0.23x0.31_bilinear.nc -i /glade/scratch/tking/cgnet/rcp85_2086_2100/b.e13.BRCP85C5CN.ne120_g16.003a.cam.h4.U850.2086010100Z-2086123121Z.nc -o /glade/scratch/tking/cgnet/rcp85_2086_2100/regridded_U850_V850//glade/scratch/tking/cgnet/rcp85_2086_2100/b.e13.BRCP85C5CN.ne120_g16.003a.cam.h4.U850.2086010100Z-2086123121Z.nc\n",
      "ncremap -m /glade/campaign/cgd/amp/jet/ClimateNet/data_processing/maps/map_ne120_to_0.23x0.31_bilinear.nc -i /glade/scratch/tking/cgnet/rcp85_2086_2100/b.e13.BRCP85C5CN.ne120_g16.003a.cam.h4.U850.2087010100Z-2087123121Z.nc -o /glade/scratch/tking/cgnet/rcp85_2086_2100/regridded_U850_V850//glade/scratch/tking/cgnet/rcp85_2086_2100/b.e13.BRCP85C5CN.ne120_g16.003a.cam.h4.U850.2087010100Z-2087123121Z.nc\n",
      "ncremap -m /glade/campaign/cgd/amp/jet/ClimateNet/data_processing/maps/map_ne120_to_0.23x0.31_bilinear.nc -i /glade/scratch/tking/cgnet/rcp85_2086_2100/b.e13.BRCP85C5CN.ne120_g16.003a.cam.h4.U850.2088010100Z-2088123121Z.nc -o /glade/scratch/tking/cgnet/rcp85_2086_2100/regridded_U850_V850//glade/scratch/tking/cgnet/rcp85_2086_2100/b.e13.BRCP85C5CN.ne120_g16.003a.cam.h4.U850.2088010100Z-2088123121Z.nc\n",
      "ncremap -m /glade/campaign/cgd/amp/jet/ClimateNet/data_processing/maps/map_ne120_to_0.23x0.31_bilinear.nc -i /glade/scratch/tking/cgnet/rcp85_2086_2100/b.e13.BRCP85C5CN.ne120_g16.003a.cam.h4.U850.2089010100Z-2089123121Z.nc -o /glade/scratch/tking/cgnet/rcp85_2086_2100/regridded_U850_V850//glade/scratch/tking/cgnet/rcp85_2086_2100/b.e13.BRCP85C5CN.ne120_g16.003a.cam.h4.U850.2089010100Z-2089123121Z.nc\n",
      "ncremap -m /glade/campaign/cgd/amp/jet/ClimateNet/data_processing/maps/map_ne120_to_0.23x0.31_bilinear.nc -i /glade/scratch/tking/cgnet/rcp85_2086_2100/b.e13.BRCP85C5CN.ne120_g16.003a.cam.h4.U850.2090010100Z-2090123121Z.nc -o /glade/scratch/tking/cgnet/rcp85_2086_2100/regridded_U850_V850//glade/scratch/tking/cgnet/rcp85_2086_2100/b.e13.BRCP85C5CN.ne120_g16.003a.cam.h4.U850.2090010100Z-2090123121Z.nc\n",
      "ncremap -m /glade/campaign/cgd/amp/jet/ClimateNet/data_processing/maps/map_ne120_to_0.23x0.31_bilinear.nc -i /glade/scratch/tking/cgnet/rcp85_2086_2100/b.e13.BRCP85C5CN.ne120_g16.003a.cam.h4.U850.2091010100Z-2091123121Z.nc -o /glade/scratch/tking/cgnet/rcp85_2086_2100/regridded_U850_V850//glade/scratch/tking/cgnet/rcp85_2086_2100/b.e13.BRCP85C5CN.ne120_g16.003a.cam.h4.U850.2091010100Z-2091123121Z.nc\n",
      "ncremap -m /glade/campaign/cgd/amp/jet/ClimateNet/data_processing/maps/map_ne120_to_0.23x0.31_bilinear.nc -i /glade/scratch/tking/cgnet/rcp85_2086_2100/b.e13.BRCP85C5CN.ne120_g16.003a.cam.h4.U850.2092010100Z-2092123121Z.nc -o /glade/scratch/tking/cgnet/rcp85_2086_2100/regridded_U850_V850//glade/scratch/tking/cgnet/rcp85_2086_2100/b.e13.BRCP85C5CN.ne120_g16.003a.cam.h4.U850.2092010100Z-2092123121Z.nc\n",
      "ncremap -m /glade/campaign/cgd/amp/jet/ClimateNet/data_processing/maps/map_ne120_to_0.23x0.31_bilinear.nc -i /glade/scratch/tking/cgnet/rcp85_2086_2100/b.e13.BRCP85C5CN.ne120_g16.003a.cam.h4.U850.2093010100Z-2093123121Z.nc -o /glade/scratch/tking/cgnet/rcp85_2086_2100/regridded_U850_V850//glade/scratch/tking/cgnet/rcp85_2086_2100/b.e13.BRCP85C5CN.ne120_g16.003a.cam.h4.U850.2093010100Z-2093123121Z.nc\n",
      "ncremap -m /glade/campaign/cgd/amp/jet/ClimateNet/data_processing/maps/map_ne120_to_0.23x0.31_bilinear.nc -i /glade/scratch/tking/cgnet/rcp85_2086_2100/b.e13.BRCP85C5CN.ne120_g16.003a.cam.h4.U850.2094010100Z-2094123121Z.nc -o /glade/scratch/tking/cgnet/rcp85_2086_2100/regridded_U850_V850//glade/scratch/tking/cgnet/rcp85_2086_2100/b.e13.BRCP85C5CN.ne120_g16.003a.cam.h4.U850.2094010100Z-2094123121Z.nc\n",
      "ncremap -m /glade/campaign/cgd/amp/jet/ClimateNet/data_processing/maps/map_ne120_to_0.23x0.31_bilinear.nc -i /glade/scratch/tking/cgnet/rcp85_2086_2100/b.e13.BRCP85C5CN.ne120_g16.003a.cam.h4.U850.2095010100Z-2095123121Z.nc -o /glade/scratch/tking/cgnet/rcp85_2086_2100/regridded_U850_V850//glade/scratch/tking/cgnet/rcp85_2086_2100/b.e13.BRCP85C5CN.ne120_g16.003a.cam.h4.U850.2095010100Z-2095123121Z.nc\n",
      "ncremap -m /glade/campaign/cgd/amp/jet/ClimateNet/data_processing/maps/map_ne120_to_0.23x0.31_bilinear.nc -i /glade/scratch/tking/cgnet/rcp85_2086_2100/b.e13.BRCP85C5CN.ne120_g16.003a.cam.h4.U850.2096010100Z-2096123121Z.nc -o /glade/scratch/tking/cgnet/rcp85_2086_2100/regridded_U850_V850//glade/scratch/tking/cgnet/rcp85_2086_2100/b.e13.BRCP85C5CN.ne120_g16.003a.cam.h4.U850.2096010100Z-2096123121Z.nc\n",
      "ncremap -m /glade/campaign/cgd/amp/jet/ClimateNet/data_processing/maps/map_ne120_to_0.23x0.31_bilinear.nc -i /glade/scratch/tking/cgnet/rcp85_2086_2100/b.e13.BRCP85C5CN.ne120_g16.003a.cam.h4.U850.2097010100Z-2097123121Z.nc -o /glade/scratch/tking/cgnet/rcp85_2086_2100/regridded_U850_V850//glade/scratch/tking/cgnet/rcp85_2086_2100/b.e13.BRCP85C5CN.ne120_g16.003a.cam.h4.U850.2097010100Z-2097123121Z.nc\n",
      "ncremap -m /glade/campaign/cgd/amp/jet/ClimateNet/data_processing/maps/map_ne120_to_0.23x0.31_bilinear.nc -i /glade/scratch/tking/cgnet/rcp85_2086_2100/b.e13.BRCP85C5CN.ne120_g16.003a.cam.h4.U850.2098010100Z-2098123121Z.nc -o /glade/scratch/tking/cgnet/rcp85_2086_2100/regridded_U850_V850//glade/scratch/tking/cgnet/rcp85_2086_2100/b.e13.BRCP85C5CN.ne120_g16.003a.cam.h4.U850.2098010100Z-2098123121Z.nc\n",
      "ncremap -m /glade/campaign/cgd/amp/jet/ClimateNet/data_processing/maps/map_ne120_to_0.23x0.31_bilinear.nc -i /glade/scratch/tking/cgnet/rcp85_2086_2100/b.e13.BRCP85C5CN.ne120_g16.003a.cam.h4.U850.2099010100Z-2099123121Z.nc -o /glade/scratch/tking/cgnet/rcp85_2086_2100/regridded_U850_V850//glade/scratch/tking/cgnet/rcp85_2086_2100/b.e13.BRCP85C5CN.ne120_g16.003a.cam.h4.U850.2099010100Z-2099123121Z.nc\n",
      "ncremap -m /glade/campaign/cgd/amp/jet/ClimateNet/data_processing/maps/map_ne120_to_0.23x0.31_bilinear.nc -i /glade/scratch/tking/cgnet/rcp85_2086_2100/b.e13.BRCP85C5CN.ne120_g16.003a.cam.h4.U850.2100010100Z-2100123121Z.nc -o /glade/scratch/tking/cgnet/rcp85_2086_2100/regridded_U850_V850//glade/scratch/tking/cgnet/rcp85_2086_2100/b.e13.BRCP85C5CN.ne120_g16.003a.cam.h4.U850.2100010100Z-2100123121Z.nc\n"
     ]
    }
   ],
   "source": [
    "# %%bash\n",
    "# module load nco/4.7.9\n",
    "\n",
    "# copy printed files above into U850_V850_to_regrid list below..\n",
    "\n",
    "# RCP 8.5\n",
    "U850_V850_to_regrid=['/glade/scratch/tking/cgnet/rcp85_2086_2100/b.e13.BRCP85C5CN.ne120_g16.003a.cam.h4.U850.2080010100Z-2080123118Z.nc',\n",
    "'/glade/scratch/tking/cgnet/rcp85_2086_2100/b.e13.BRCP85C5CN.ne120_g16.003a.cam.h4.U850.2081010100Z-2081123118Z.nc',\n",
    "'/glade/scratch/tking/cgnet/rcp85_2086_2100/b.e13.BRCP85C5CN.ne120_g16.003a.cam.h4.U850.2086010100Z-2086123121Z.nc',\n",
    "'/glade/scratch/tking/cgnet/rcp85_2086_2100/b.e13.BRCP85C5CN.ne120_g16.003a.cam.h4.U850.2087010100Z-2087123121Z.nc',\n",
    "'/glade/scratch/tking/cgnet/rcp85_2086_2100/b.e13.BRCP85C5CN.ne120_g16.003a.cam.h4.U850.2088010100Z-2088123121Z.nc',\n",
    "'/glade/scratch/tking/cgnet/rcp85_2086_2100/b.e13.BRCP85C5CN.ne120_g16.003a.cam.h4.U850.2089010100Z-2089123121Z.nc',\n",
    "'/glade/scratch/tking/cgnet/rcp85_2086_2100/b.e13.BRCP85C5CN.ne120_g16.003a.cam.h4.U850.2090010100Z-2090123121Z.nc',\n",
    "'/glade/scratch/tking/cgnet/rcp85_2086_2100/b.e13.BRCP85C5CN.ne120_g16.003a.cam.h4.U850.2091010100Z-2091123121Z.nc',\n",
    "'/glade/scratch/tking/cgnet/rcp85_2086_2100/b.e13.BRCP85C5CN.ne120_g16.003a.cam.h4.U850.2092010100Z-2092123121Z.nc',\n",
    "'/glade/scratch/tking/cgnet/rcp85_2086_2100/b.e13.BRCP85C5CN.ne120_g16.003a.cam.h4.U850.2093010100Z-2093123121Z.nc',\n",
    "'/glade/scratch/tking/cgnet/rcp85_2086_2100/b.e13.BRCP85C5CN.ne120_g16.003a.cam.h4.U850.2094010100Z-2094123121Z.nc',\n",
    "'/glade/scratch/tking/cgnet/rcp85_2086_2100/b.e13.BRCP85C5CN.ne120_g16.003a.cam.h4.U850.2095010100Z-2095123121Z.nc',\n",
    "'/glade/scratch/tking/cgnet/rcp85_2086_2100/b.e13.BRCP85C5CN.ne120_g16.003a.cam.h4.U850.2096010100Z-2096123121Z.nc',\n",
    "'/glade/scratch/tking/cgnet/rcp85_2086_2100/b.e13.BRCP85C5CN.ne120_g16.003a.cam.h4.U850.2097010100Z-2097123121Z.nc',\n",
    "'/glade/scratch/tking/cgnet/rcp85_2086_2100/b.e13.BRCP85C5CN.ne120_g16.003a.cam.h4.U850.2098010100Z-2098123121Z.nc',\n",
    "'/glade/scratch/tking/cgnet/rcp85_2086_2100/b.e13.BRCP85C5CN.ne120_g16.003a.cam.h4.U850.2099010100Z-2099123121Z.nc',\n",
    "'/glade/scratch/tking/cgnet/rcp85_2086_2100/b.e13.BRCP85C5CN.ne120_g16.003a.cam.h4.U850.2100010100Z-2100123121Z.nc']\n",
    "\n",
    "for file in U850_V850_to_regrid:\n",
    "    print('ncremap -m /glade/campaign/cgd/amp/jet/ClimateNet/data_processing/maps/map_ne120_to_0.23x0.31_bilinear.nc -i {} -o /glade/scratch/tking/cgnet/rcp85_2086_2100/regridded_U850_V850/{}'.format(file, file))\n",
    "\n",
    "# update batch script included in /scripts directory to run these commands from casper terminal with `qsub <batch_script_name>`\n"
   ]
  },
  {
   "cell_type": "code",
   "execution_count": null,
   "metadata": {},
   "outputs": [],
   "source": []
  },
  {
   "cell_type": "code",
   "execution_count": null,
   "metadata": {},
   "outputs": [],
   "source": []
  }
 ],
 "metadata": {
  "kernelspec": {
   "display_name": "geocat_comp_env",
   "language": "python",
   "name": "geocat_comp_env"
  },
  "language_info": {
   "codemirror_mode": {
    "name": "ipython",
    "version": 3
   },
   "file_extension": ".py",
   "mimetype": "text/x-python",
   "name": "python",
   "nbconvert_exporter": "python",
   "pygments_lexer": "ipython3",
   "version": "3.10.9"
  }
 },
 "nbformat": 4,
 "nbformat_minor": 4
}
