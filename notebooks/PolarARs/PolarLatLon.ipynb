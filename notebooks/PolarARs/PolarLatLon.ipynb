{
 "cells": [
  {
   "cell_type": "markdown",
   "id": "41157662-0d9e-4b44-a9d2-38fb15f98dda",
   "metadata": {},
   "source": [
    "# Convert Polar Stereographic Files to Lat/Lon Files\n",
    "\n",
    "This notebook provides a workflow for converting polar stereographic netcdf files to lat/lon coordinates. To get the data into the proper format, we needed to do the following:\n",
    " - utilize a template file as a base for modifyign netcdf files of the existing mask arrays. The template file includes all proper GIS attributes.\n",
    " - python script reads the Geotiff file and creates a netcdf file with the x,y,lat,lon coordinate dimensions and variables\n",
    "\n",
    "Scripts were originally created by John Truesdale and updated by Teagan King.\n",
    "\n",
    "To Do:\n",
    "------\n",
    " - recreate template file with a polar processing python notebook\n",
    "     - get nco/python commands used to create it? or from scratch?\n",
    " - rename the dimensions of the original ar_mask variable from phony_0/1 to y and x respectively, append the new x,y,lat,lon variables from running my python commands on the GeoTiff file and finally add all the coordinate attributes to ar_mask\n",
    " - use the standard ESMF mapping procedure to go from the projected stereographic polar mask grids to our regular gridded data from CESM. Use Steve's python code and John's mapping file commands to do this"
   ]
  },
  {
   "cell_type": "markdown",
   "id": "1271ca6c-ebe4-4ac6-b348-67429dab4c41",
   "metadata": {},
   "source": [
    "Some notes from John on methods for regridding:\n",
    "-----------------------------------------------\n",
    " - used QGIS to assign a standard stereographic coordinate and create a GeoTiff file version of one of the Polar jpg plots\n",
    " - Giving a standard location to each jpeg pixel basically consisted of finding similar features at the pixel level (the tip of an island, the most inset part of a promenent bay) between our polar jpegs and a map that is already georeferenced and has known locations for those pixels. If you choose 3-10 pixels in common you can create a linear regression that will map out all the rest of the pixels on your jpeg.\n",
    " - Once the GIS application was able to calculate the transform to go from pixel to a standard coordinate system, I saved all that information in a GeoTiff file.\n",
    " - The polar projection jpegs on which the climatenet masks are drawn were created from python matplotlib and you can grab the coordinate information from matplotlib; this was checked with QGIS\n",
    " - Because the LLNL polar jpegs are a projected coordinate, the underlying unit in a stereographic projection is meters.  The x and y variables on the GeoTiff and converted netcdf file contain meter offsets of every pixel (row,col) of the ar_mask array with respect to one of the standard south pole stereographic coordinate systems.\n",
    " -   When you look at the square projected polar image you see that the longitude lines converge at the pole and latitudes are a set of nested circles.  When you are describing this grid in lat/lon coordinates it is known as a curvilinear grid where each pixel (array location) requires a unique lat/lon pair to specify its position on a regular grid. A straight line along any row or column of the jpeg raster (or ar_mask array) will intersect different lat lon values for every pixel.  The coordinate information for our rectangular ar_mask array therefore contains lat and lon variables that are two dimensions and describe the entire grid of 1152x1152 points with unique lat/lon values for each pixel (array location) of ar_mask. The standard netcdf way of denoting a curvilinear coordinate is by creating the dimensions that define the size of the ar_mask array (x,y), adding lat/lon variables that are each dimensioned (x,y) containing the lat/lon coordinates of that point, and finally adding metadata to the ar_mask array noting that the coordinates for this variable are not the dimension variables x,y but the lat/lon variables."
   ]
  },
  {
   "cell_type": "code",
   "execution_count": 8,
   "id": "8b27c606-38cb-492c-a4d8-f9ef05b2d915",
   "metadata": {},
   "outputs": [
    {
     "name": "stderr",
     "output_type": "stream",
     "text": [
      "/glade/scratch/jet/ipykernel_250568/2796312774.py:14: DeprecationWarning: open_rasterio is Deprecated in favor of rioxarray. For information about transitioning, see: https://corteva.github.io/rioxarray/stable/getting_started/getting_started.html\n",
      "  da = xr.open_rasterio(input_path)\n"
     ]
    }
   ],
   "source": [
    "import cartopy.crs as ccrs\n",
    "import matplotlib.pyplot as plt\n",
    "import numpy as np\n",
    "import os\n",
    "from rasterio.warp import transform\n",
    "import urllib.request\n",
    "import xarray as xr"
   ]
  },
  {
   "cell_type": "code",
   "execution_count": null,
   "id": "d231450c-635f-4340-8e10-51e781b9baf7",
   "metadata": {},
   "outputs": [],
   "source": [
    "# Read the data\n",
    "input_path='/glade/work/tking/cgnet/polar_regridding/data-2003-04-29-02-0-copy-sav1.tif'\n",
    "\n",
    "da = xr.open_rasterio(input_path)\n",
    "yval=da['y']\n",
    "ryval=np.flip(yval)\n",
    "# Compute the lon/lat coordinates with rasterio.warp.transform\n",
    "ny, nx = len(da['y']), len(da['x'])\n",
    "#x, y = np.meshgrid(da['x'], da['y'])\n",
    "x, y = np.meshgrid(da['x'], ryval)\n",
    "# Rasterio works with 1D arrays\n",
    "lon, lat = transform(da.crs, {'init': 'EPSG:4326'},\n",
    "                     x.flatten(), y.flatten())\n",
    "lon = np.asarray(lon).reshape((ny, nx))\n",
    "lat = np.asarray(lat).reshape((ny, nx))\n",
    "da.coords['lon'] = (('y', 'x'), lon)\n",
    "da.coords['lat'] = (('y', 'x'), lat)\n",
    "da.to_netcdf(path='/glade/work/tking/cgnet/polar_regridding/data-2003-04-29-02-0-sav1-rev-latlon.nc')\n",
    "\n"
   ]
  }
 ],
 "metadata": {
  "kernelspec": {
   "display_name": "Python [conda env:anaconda3-2021.11-geo_forge]",
   "language": "python",
   "name": "conda-env-anaconda3-2021.11-geo_forge-py"
  },
  "language_info": {
   "codemirror_mode": {
    "name": "ipython",
    "version": 3
   },
   "file_extension": ".py",
   "mimetype": "text/x-python",
   "name": "python",
   "nbconvert_exporter": "python",
   "pygments_lexer": "ipython3",
   "version": "3.11.0"
  }
 },
 "nbformat": 4,
 "nbformat_minor": 5
}
