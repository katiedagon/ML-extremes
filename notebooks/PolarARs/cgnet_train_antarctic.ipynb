{
 "cells": [
  {
   "cell_type": "markdown",
   "metadata": {},
   "source": [
    "# Training CGNet in Antarctic Region\n",
    "\n",
    "Purpose:\n",
    "--------\n",
    "The purpose of this notebook is to train CGnet for machine learning detection of atmospheric rivers and tropical cyclones.\\\n",
    "See ClimateNet repo here: https://github.com/andregraubner/ClimateNet\n",
    "\n",
    "Authors/Contributors:\n",
    "---------------------\n",
    "* Teagan King\n",
    "* John Truesdale\n",
    "* Katie Dagon"
   ]
  },
  {
   "cell_type": "markdown",
   "metadata": {},
   "source": [
    "## Import libraries"
   ]
  },
  {
   "cell_type": "code",
   "execution_count": 1,
   "metadata": {},
   "outputs": [],
   "source": [
    "import os\n",
    "import sys\n",
    "import json\n",
    "import numpy as np\n",
    "import matplotlib.pyplot as plt\n",
    "\n",
    "sys.path.append(\"/glade/work/tking/cgnet/ClimateNet\")  # append path to ClimateNet repo\n",
    "from climatenet.utils.data import ClimateDatasetLabeled, ClimateDataset\n",
    "from climatenet.models import CGNet\n",
    "from climatenet.utils.utils import Config\n",
    "from climatenet.track_events import track_events\n",
    "from climatenet.analyze_events import analyze_events\n",
    "from climatenet.visualize_events import visualize_events\n",
    "\n",
    "from os import path"
   ]
  },
  {
   "cell_type": "markdown",
   "metadata": {},
   "source": [
    "## Config file\n",
    "Use `get_averages_and_standard_devs.ipynb` to calculate means/stds for given training dataset."
   ]
  },
  {
   "cell_type": "code",
   "execution_count": 2,
   "metadata": {},
   "outputs": [
    {
     "name": "stdout",
     "output_type": "stream",
     "text": [
      "/glade/work/tking/cgnet/ML-extremes/trained_models/config_012024_TMQ\n"
     ]
    }
   ],
   "source": [
    "cd /glade/work/tking/cgnet/ML-extremes/trained_models/config_012024_TMQ/"
   ]
  },
  {
   "cell_type": "code",
   "execution_count": 3,
   "metadata": {},
   "outputs": [],
   "source": [
    "config = Config('config.json')   # This works when you cd into directory, but not with a specified dirpath?\n",
    "# TODO: make PR for https://github.com/andregraubner/ClimateNet/blob/main/climatenet/utils/utils.py"
   ]
  },
  {
   "cell_type": "code",
   "execution_count": 4,
   "metadata": {
    "tags": []
   },
   "outputs": [],
   "source": [
    "#config = Config('/glade/work/kdagon/ML-extremes/trained_models/config_021523.json') # weighted mean, unweighted std; TMQ, U850, V850, PSL\n",
    "#config = Config('/glade/work/kdagon/ML-extremes/trained_models/config_040523.json') # unweighted mean and std; TMQ, U850, V850, PSL\n",
    "#config = Config('/glade/work/kdagon/ML-extremes/trained_models/config_092023_TMQ_V850.json') # unweighted mean and std, TMQ and V850 only\n",
    "# config = Config('/glade/work/tking/cgnet/ML-extremes/trained_models/config_092023_TMQ/config.json') # unweighted mean and std, TMQ only\n",
    "\n",
    "# config = Config('/glade/work/tking/cgnet/ML-extremes/trained_models/config_012024_TMQ_unweighted_mean_std.json') # unweighted mean and std, TMQ only\n"
   ]
  },
  {
   "cell_type": "code",
   "execution_count": 5,
   "metadata": {},
   "outputs": [
    {
     "data": {
      "text/plain": [
       "'The basic CGNet model. You can use this config to train your own model, or load it with our trained weights.'"
      ]
     },
     "execution_count": 5,
     "metadata": {},
     "output_type": "execute_result"
    }
   ],
   "source": [
    "config.description"
   ]
  },
  {
   "cell_type": "code",
   "execution_count": 6,
   "metadata": {},
   "outputs": [
    {
     "data": {
      "text/plain": [
       "16"
      ]
     },
     "execution_count": 6,
     "metadata": {},
     "output_type": "execute_result"
    }
   ],
   "source": [
    "config.train_batch_size"
   ]
  },
  {
   "cell_type": "markdown",
   "metadata": {},
   "source": [
    "## Confirm GPU resources\n",
    "Can request through JupyterHub launch page.\\\n",
    "Current resources request (2/15/23): 1 node, 4 cpu, 64GB mem, 2 V100 GPU\\\n",
    "4/5/23: Noticed that not all CPU/mem was needed, new request: 1 node, 2 cpu, 64GB mem, 2 V100 GPU"
   ]
  },
  {
   "cell_type": "code",
   "execution_count": 7,
   "metadata": {},
   "outputs": [],
   "source": [
    "# conda install pytorch\n",
    "# try running with 2 GPUs"
   ]
  },
  {
   "cell_type": "code",
   "execution_count": 8,
   "metadata": {},
   "outputs": [
    {
     "name": "stdout",
     "output_type": "stream",
     "text": [
      "True\n",
      "2\n"
     ]
    }
   ],
   "source": [
    "# requires loading pytorch into environment\n",
    "import torch\n",
    "print(torch.cuda.is_available())\n",
    "print(torch.cuda.device_count())"
   ]
  },
  {
   "cell_type": "markdown",
   "metadata": {},
   "source": [
    "## Instantiate CGNet model given config file\n",
    "This step needs GPU resources (as written)"
   ]
  },
  {
   "cell_type": "code",
   "execution_count": 9,
   "metadata": {
    "tags": []
   },
   "outputs": [
    {
     "name": "stdout",
     "output_type": "stream",
     "text": [
      "CPU times: user 896 ms, sys: 434 ms, total: 1.33 s\n",
      "Wall time: 1.38 s\n"
     ]
    }
   ],
   "source": [
    "%%time\n",
    "cgnet = CGNet(config)"
   ]
  },
  {
   "cell_type": "code",
   "execution_count": 10,
   "metadata": {},
   "outputs": [
    {
     "data": {
      "text/plain": [
       "Adam (\n",
       "Parameter Group 0\n",
       "    amsgrad: False\n",
       "    betas: (0.9, 0.999)\n",
       "    eps: 1e-08\n",
       "    lr: 0.001\n",
       "    weight_decay: 0\n",
       ")"
      ]
     },
     "execution_count": 10,
     "metadata": {},
     "output_type": "execute_result"
    }
   ],
   "source": [
    "cgnet.optimizer"
   ]
  },
  {
   "cell_type": "markdown",
   "metadata": {},
   "source": [
    "## Set train, test data\n",
    "\n",
    "\n",
    "## NEED TO CHANGE THIS FOR POLAR DATA!"
   ]
  },
  {
   "cell_type": "code",
   "execution_count": 11,
   "metadata": {},
   "outputs": [],
   "source": [
    "# train_path = \"/glade/campaign/cgd/amp/jet/ClimateNet_12012020/portal.nersc.gov/project/ClimateNet/climatenet_new\"\n",
    "train_path = '/glade/work/tking/cgnet/QA_xml/all_antarctic_converted_masks/split_files'\n",
    "\n",
    "train = ClimateDatasetLabeled(path.join(train_path+'/train_new_nolatlon/int/tmq_float/'), config)\n",
    "test = ClimateDatasetLabeled(path.join(train_path+'/test'), config)"
   ]
  },
  {
   "cell_type": "code",
   "execution_count": 12,
   "metadata": {},
   "outputs": [
    {
     "data": {
      "text/plain": [
       "{'tmq': {'mean': 21.593790761325735, 'std': 13.6215941728325}}"
      ]
     },
     "execution_count": 12,
     "metadata": {},
     "output_type": "execute_result"
    }
   ],
   "source": [
    "train.fields"
   ]
  },
  {
   "cell_type": "code",
   "execution_count": 13,
   "metadata": {},
   "outputs": [
    {
     "data": {
      "text/plain": [
       "204"
      ]
     },
     "execution_count": 13,
     "metadata": {},
     "output_type": "execute_result"
    }
   ],
   "source": [
    "train.length"
   ]
  },
  {
   "cell_type": "code",
   "execution_count": 14,
   "metadata": {},
   "outputs": [
    {
     "data": {
      "text/plain": [
       "2"
      ]
     },
     "execution_count": 14,
     "metadata": {},
     "output_type": "execute_result"
    }
   ],
   "source": [
    "config.epochs"
   ]
  },
  {
   "cell_type": "markdown",
   "metadata": {},
   "source": [
    "## Train model - TMQ, U850, V850, PSL"
   ]
  },
  {
   "cell_type": "markdown",
   "metadata": {},
   "source": [
    "Memory use holding at ~14GB during training\\\n",
    "Each epoch takes ~1 min to run"
   ]
  },
  {
   "cell_type": "code",
   "execution_count": 15,
   "metadata": {
    "tags": []
   },
   "outputs": [
    {
     "name": "stderr",
     "output_type": "stream",
     "text": [
      "  0%|          | 0/13 [00:00<?, ?it/s]"
     ]
    },
    {
     "name": "stdout",
     "output_type": "stream",
     "text": [
      "Epoch 1:\n"
     ]
    },
    {
     "name": "stderr",
     "output_type": "stream",
     "text": [
      "  0%|          | 0/13 [00:13<?, ?it/s]\n"
     ]
    },
    {
     "ename": "RuntimeError",
     "evalue": "CUDA out of memory. Tried to allocate 162.00 MiB (GPU 0; 31.74 GiB total capacity; 29.56 GiB already allocated; 149.56 MiB free; 1023.88 MiB cached)",
     "output_type": "error",
     "traceback": [
      "\u001b[0;31m---------------------------------------------------------------------------\u001b[0m",
      "\u001b[0;31mRuntimeError\u001b[0m                              Traceback (most recent call last)",
      "\u001b[0;32m<ipython-input-15-79371e51a7fb>\u001b[0m in \u001b[0;36m<module>\u001b[0;34m\u001b[0m\n\u001b[0;32m----> 1\u001b[0;31m \u001b[0mcgnet\u001b[0m\u001b[0;34m.\u001b[0m\u001b[0mtrain\u001b[0m\u001b[0;34m(\u001b[0m\u001b[0mtrain\u001b[0m\u001b[0;34m)\u001b[0m  \u001b[0;31m# use ~20 epochs for non-test\u001b[0m\u001b[0;34m\u001b[0m\u001b[0;34m\u001b[0m\u001b[0m\n\u001b[0m\u001b[1;32m      2\u001b[0m \u001b[0;31m# IOU mean should be around 0.75 after all epochs?\u001b[0m\u001b[0;34m\u001b[0m\u001b[0;34m\u001b[0m\u001b[0;34m\u001b[0m\u001b[0m\n\u001b[1;32m      3\u001b[0m \u001b[0;31m# weights and measures site to look at ML performance\u001b[0m\u001b[0;34m\u001b[0m\u001b[0;34m\u001b[0m\u001b[0;34m\u001b[0m\u001b[0m\n\u001b[1;32m      4\u001b[0m \u001b[0;31m# maybe playing with those parameters could improve model\u001b[0m\u001b[0;34m\u001b[0m\u001b[0;34m\u001b[0m\u001b[0;34m\u001b[0m\u001b[0m\n",
      "\u001b[0;32m/glade/work/tking/cgnet/ClimateNet/climatenet/models.py\u001b[0m in \u001b[0;36mtrain\u001b[0;34m(self, dataset)\u001b[0m\n\u001b[1;32m     81\u001b[0m                 \u001b[0mlabels\u001b[0m \u001b[0;34m=\u001b[0m \u001b[0mtorch\u001b[0m\u001b[0;34m.\u001b[0m\u001b[0mtensor\u001b[0m\u001b[0;34m(\u001b[0m\u001b[0mlabels\u001b[0m\u001b[0;34m.\u001b[0m\u001b[0mvalues\u001b[0m\u001b[0;34m)\u001b[0m\u001b[0;34m.\u001b[0m\u001b[0mcuda\u001b[0m\u001b[0;34m(\u001b[0m\u001b[0;34m)\u001b[0m\u001b[0;34m\u001b[0m\u001b[0;34m\u001b[0m\u001b[0m\n\u001b[1;32m     82\u001b[0m \u001b[0;34m\u001b[0m\u001b[0m\n\u001b[0;32m---> 83\u001b[0;31m                 \u001b[0moutputs\u001b[0m \u001b[0;34m=\u001b[0m \u001b[0mtorch\u001b[0m\u001b[0;34m.\u001b[0m\u001b[0msoftmax\u001b[0m\u001b[0;34m(\u001b[0m\u001b[0mself\u001b[0m\u001b[0;34m.\u001b[0m\u001b[0mnetwork\u001b[0m\u001b[0;34m(\u001b[0m\u001b[0mfeatures\u001b[0m\u001b[0;34m)\u001b[0m\u001b[0;34m,\u001b[0m \u001b[0;36m1\u001b[0m\u001b[0;34m)\u001b[0m\u001b[0;34m\u001b[0m\u001b[0;34m\u001b[0m\u001b[0m\n\u001b[0m\u001b[1;32m     84\u001b[0m \u001b[0;34m\u001b[0m\u001b[0m\n\u001b[1;32m     85\u001b[0m                 \u001b[0;31m# Update training CM\u001b[0m\u001b[0;34m\u001b[0m\u001b[0;34m\u001b[0m\u001b[0;34m\u001b[0m\u001b[0m\n",
      "\u001b[0;32m~/anaconda3/envs/lbltorchplus/lib/python3.6/site-packages/torch/nn/modules/module.py\u001b[0m in \u001b[0;36m__call__\u001b[0;34m(self, *input, **kwargs)\u001b[0m\n\u001b[1;32m    545\u001b[0m             \u001b[0mresult\u001b[0m \u001b[0;34m=\u001b[0m \u001b[0mself\u001b[0m\u001b[0;34m.\u001b[0m\u001b[0m_slow_forward\u001b[0m\u001b[0;34m(\u001b[0m\u001b[0;34m*\u001b[0m\u001b[0minput\u001b[0m\u001b[0;34m,\u001b[0m \u001b[0;34m**\u001b[0m\u001b[0mkwargs\u001b[0m\u001b[0;34m)\u001b[0m\u001b[0;34m\u001b[0m\u001b[0;34m\u001b[0m\u001b[0m\n\u001b[1;32m    546\u001b[0m         \u001b[0;32melse\u001b[0m\u001b[0;34m:\u001b[0m\u001b[0;34m\u001b[0m\u001b[0;34m\u001b[0m\u001b[0m\n\u001b[0;32m--> 547\u001b[0;31m             \u001b[0mresult\u001b[0m \u001b[0;34m=\u001b[0m \u001b[0mself\u001b[0m\u001b[0;34m.\u001b[0m\u001b[0mforward\u001b[0m\u001b[0;34m(\u001b[0m\u001b[0;34m*\u001b[0m\u001b[0minput\u001b[0m\u001b[0;34m,\u001b[0m \u001b[0;34m**\u001b[0m\u001b[0mkwargs\u001b[0m\u001b[0;34m)\u001b[0m\u001b[0;34m\u001b[0m\u001b[0;34m\u001b[0m\u001b[0m\n\u001b[0m\u001b[1;32m    548\u001b[0m         \u001b[0;32mfor\u001b[0m \u001b[0mhook\u001b[0m \u001b[0;32min\u001b[0m \u001b[0mself\u001b[0m\u001b[0;34m.\u001b[0m\u001b[0m_forward_hooks\u001b[0m\u001b[0;34m.\u001b[0m\u001b[0mvalues\u001b[0m\u001b[0;34m(\u001b[0m\u001b[0;34m)\u001b[0m\u001b[0;34m:\u001b[0m\u001b[0;34m\u001b[0m\u001b[0;34m\u001b[0m\u001b[0m\n\u001b[1;32m    549\u001b[0m             \u001b[0mhook_result\u001b[0m \u001b[0;34m=\u001b[0m \u001b[0mhook\u001b[0m\u001b[0;34m(\u001b[0m\u001b[0mself\u001b[0m\u001b[0;34m,\u001b[0m \u001b[0minput\u001b[0m\u001b[0;34m,\u001b[0m \u001b[0mresult\u001b[0m\u001b[0;34m)\u001b[0m\u001b[0;34m\u001b[0m\u001b[0;34m\u001b[0m\u001b[0m\n",
      "\u001b[0;32m/glade/work/tking/cgnet/ClimateNet/climatenet/models.py\u001b[0m in \u001b[0;36mforward\u001b[0;34m(self, input)\u001b[0m\n\u001b[1;32m    253\u001b[0m                 \u001b[0moutput2\u001b[0m \u001b[0;34m=\u001b[0m \u001b[0mlayer\u001b[0m\u001b[0;34m(\u001b[0m\u001b[0moutput2_0\u001b[0m\u001b[0;34m)\u001b[0m\u001b[0;34m\u001b[0m\u001b[0;34m\u001b[0m\u001b[0m\n\u001b[1;32m    254\u001b[0m             \u001b[0;32melse\u001b[0m\u001b[0;34m:\u001b[0m\u001b[0;34m\u001b[0m\u001b[0;34m\u001b[0m\u001b[0m\n\u001b[0;32m--> 255\u001b[0;31m                 \u001b[0moutput2\u001b[0m \u001b[0;34m=\u001b[0m \u001b[0mlayer\u001b[0m\u001b[0;34m(\u001b[0m\u001b[0moutput2\u001b[0m\u001b[0;34m)\u001b[0m\u001b[0;34m\u001b[0m\u001b[0;34m\u001b[0m\u001b[0m\n\u001b[0m\u001b[1;32m    256\u001b[0m \u001b[0;34m\u001b[0m\u001b[0m\n\u001b[1;32m    257\u001b[0m         \u001b[0moutput2_cat\u001b[0m \u001b[0;34m=\u001b[0m \u001b[0mself\u001b[0m\u001b[0;34m.\u001b[0m\u001b[0mbn_prelu_3\u001b[0m\u001b[0;34m(\u001b[0m\u001b[0mtorch\u001b[0m\u001b[0;34m.\u001b[0m\u001b[0mcat\u001b[0m\u001b[0;34m(\u001b[0m\u001b[0;34m[\u001b[0m\u001b[0moutput2_0\u001b[0m\u001b[0;34m,\u001b[0m \u001b[0moutput2\u001b[0m\u001b[0;34m]\u001b[0m\u001b[0;34m,\u001b[0m \u001b[0;36m1\u001b[0m\u001b[0;34m)\u001b[0m\u001b[0;34m)\u001b[0m\u001b[0;34m\u001b[0m\u001b[0;34m\u001b[0m\u001b[0m\n",
      "\u001b[0;32m~/anaconda3/envs/lbltorchplus/lib/python3.6/site-packages/torch/nn/modules/module.py\u001b[0m in \u001b[0;36m__call__\u001b[0;34m(self, *input, **kwargs)\u001b[0m\n\u001b[1;32m    545\u001b[0m             \u001b[0mresult\u001b[0m \u001b[0;34m=\u001b[0m \u001b[0mself\u001b[0m\u001b[0;34m.\u001b[0m\u001b[0m_slow_forward\u001b[0m\u001b[0;34m(\u001b[0m\u001b[0;34m*\u001b[0m\u001b[0minput\u001b[0m\u001b[0;34m,\u001b[0m \u001b[0;34m**\u001b[0m\u001b[0mkwargs\u001b[0m\u001b[0;34m)\u001b[0m\u001b[0;34m\u001b[0m\u001b[0;34m\u001b[0m\u001b[0m\n\u001b[1;32m    546\u001b[0m         \u001b[0;32melse\u001b[0m\u001b[0;34m:\u001b[0m\u001b[0;34m\u001b[0m\u001b[0;34m\u001b[0m\u001b[0m\n\u001b[0;32m--> 547\u001b[0;31m             \u001b[0mresult\u001b[0m \u001b[0;34m=\u001b[0m \u001b[0mself\u001b[0m\u001b[0;34m.\u001b[0m\u001b[0mforward\u001b[0m\u001b[0;34m(\u001b[0m\u001b[0;34m*\u001b[0m\u001b[0minput\u001b[0m\u001b[0;34m,\u001b[0m \u001b[0;34m**\u001b[0m\u001b[0mkwargs\u001b[0m\u001b[0;34m)\u001b[0m\u001b[0;34m\u001b[0m\u001b[0;34m\u001b[0m\u001b[0m\n\u001b[0m\u001b[1;32m    548\u001b[0m         \u001b[0;32mfor\u001b[0m \u001b[0mhook\u001b[0m \u001b[0;32min\u001b[0m \u001b[0mself\u001b[0m\u001b[0;34m.\u001b[0m\u001b[0m_forward_hooks\u001b[0m\u001b[0;34m.\u001b[0m\u001b[0mvalues\u001b[0m\u001b[0;34m(\u001b[0m\u001b[0;34m)\u001b[0m\u001b[0;34m:\u001b[0m\u001b[0;34m\u001b[0m\u001b[0;34m\u001b[0m\u001b[0m\n\u001b[1;32m    549\u001b[0m             \u001b[0mhook_result\u001b[0m \u001b[0;34m=\u001b[0m \u001b[0mhook\u001b[0m\u001b[0;34m(\u001b[0m\u001b[0mself\u001b[0m\u001b[0;34m,\u001b[0m \u001b[0minput\u001b[0m\u001b[0;34m,\u001b[0m \u001b[0mresult\u001b[0m\u001b[0;34m)\u001b[0m\u001b[0;34m\u001b[0m\u001b[0;34m\u001b[0m\u001b[0m\n",
      "\u001b[0;32m/glade/work/tking/cgnet/ClimateNet/climatenet/modules.py\u001b[0m in \u001b[0;36mforward\u001b[0;34m(self, input)\u001b[0m\n\u001b[1;32m    283\u001b[0m         \u001b[0;31m# if residual version\u001b[0m\u001b[0;34m\u001b[0m\u001b[0;34m\u001b[0m\u001b[0;34m\u001b[0m\u001b[0m\n\u001b[1;32m    284\u001b[0m         \u001b[0;32mif\u001b[0m \u001b[0mself\u001b[0m\u001b[0;34m.\u001b[0m\u001b[0madd\u001b[0m\u001b[0;34m:\u001b[0m\u001b[0;34m\u001b[0m\u001b[0;34m\u001b[0m\u001b[0m\n\u001b[0;32m--> 285\u001b[0;31m             \u001b[0moutput\u001b[0m  \u001b[0;34m=\u001b[0m \u001b[0minput\u001b[0m \u001b[0;34m+\u001b[0m \u001b[0moutput\u001b[0m\u001b[0;34m\u001b[0m\u001b[0;34m\u001b[0m\u001b[0m\n\u001b[0m\u001b[1;32m    286\u001b[0m         \u001b[0;32mreturn\u001b[0m \u001b[0moutput\u001b[0m\u001b[0;34m\u001b[0m\u001b[0;34m\u001b[0m\u001b[0m\n\u001b[1;32m    287\u001b[0m \u001b[0;34m\u001b[0m\u001b[0m\n",
      "\u001b[0;31mRuntimeError\u001b[0m: CUDA out of memory. Tried to allocate 162.00 MiB (GPU 0; 31.74 GiB total capacity; 29.56 GiB already allocated; 149.56 MiB free; 1023.88 MiB cached)"
     ]
    }
   ],
   "source": [
    "cgnet.train(train)  # use ~20 epochs for non-test\n",
    "# IOU mean should be around 0.75 after all epochs?\n",
    "# weights and measures site to look at ML performance\n",
    "# maybe playing with those parameters could improve model"
   ]
  },
  {
   "cell_type": "code",
   "execution_count": 19,
   "metadata": {
    "collapsed": true,
    "jupyter": {
     "outputs_hidden": true
    }
   },
   "outputs": [
    {
     "data": {
      "text/plain": [
       "{'__name__': 'torch.cuda',\n",
       " '__doc__': '\\nThis package adds support for CUDA tensor types, that implement the same\\nfunction as CPU tensors, but they utilize GPUs for computation.\\n\\nIt is lazily initialized, so you can always import it, and use\\n:func:`is_available()` to determine if your system supports CUDA.\\n\\n:ref:`cuda-semantics` has more details about working with CUDA.\\n',\n",
       " '__package__': 'torch.cuda',\n",
       " '__loader__': <_frozen_importlib_external.SourceFileLoader at 0x1477726cd828>,\n",
       " '__spec__': ModuleSpec(name='torch.cuda', loader=<_frozen_importlib_external.SourceFileLoader object at 0x1477726cd828>, origin='/glade/u/home/tking/anaconda3/envs/lbltorchplus/lib/python3.6/site-packages/torch/cuda/__init__.py', submodule_search_locations=['/glade/u/home/tking/anaconda3/envs/lbltorchplus/lib/python3.6/site-packages/torch/cuda']),\n",
       " '__path__': ['/glade/u/home/tking/anaconda3/envs/lbltorchplus/lib/python3.6/site-packages/torch/cuda'],\n",
       " '__file__': '/glade/u/home/tking/anaconda3/envs/lbltorchplus/lib/python3.6/site-packages/torch/cuda/__init__.py',\n",
       " '__cached__': '/glade/u/home/tking/anaconda3/envs/lbltorchplus/lib/python3.6/site-packages/torch/cuda/__pycache__/__init__.cpython-36.pyc',\n",
       " '__builtins__': {'__name__': 'builtins',\n",
       "  '__doc__': \"Built-in functions, exceptions, and other objects.\\n\\nNoteworthy: None is the `nil' object; Ellipsis represents `...' in slices.\",\n",
       "  '__package__': '',\n",
       "  '__loader__': _frozen_importlib.BuiltinImporter,\n",
       "  '__spec__': ModuleSpec(name='builtins', loader=<class '_frozen_importlib.BuiltinImporter'>),\n",
       "  '__build_class__': <function __build_class__>,\n",
       "  '__import__': <function __import__>,\n",
       "  'abs': <function abs(x, /)>,\n",
       "  'all': <function all(iterable, /)>,\n",
       "  'any': <function any(iterable, /)>,\n",
       "  'ascii': <function ascii(obj, /)>,\n",
       "  'bin': <function bin(number, /)>,\n",
       "  'callable': <function callable(obj, /)>,\n",
       "  'chr': <function chr(i, /)>,\n",
       "  'compile': <function compile(source, filename, mode, flags=0, dont_inherit=False, optimize=-1)>,\n",
       "  'delattr': <function delattr(obj, name, /)>,\n",
       "  'dir': <function dir>,\n",
       "  'divmod': <function divmod(x, y, /)>,\n",
       "  'eval': <function eval(source, globals=None, locals=None, /)>,\n",
       "  'exec': <function exec(source, globals=None, locals=None, /)>,\n",
       "  'format': <function format(value, format_spec='', /)>,\n",
       "  'getattr': <function getattr>,\n",
       "  'globals': <function globals()>,\n",
       "  'hasattr': <function hasattr(obj, name, /)>,\n",
       "  'hash': <function hash(obj, /)>,\n",
       "  'hex': <function hex(number, /)>,\n",
       "  'id': <function id(obj, /)>,\n",
       "  'input': <bound method Kernel.raw_input of <ipykernel.ipkernel.IPythonKernel object at 0x14780ff15240>>,\n",
       "  'isinstance': <function isinstance(obj, class_or_tuple, /)>,\n",
       "  'issubclass': <function issubclass(cls, class_or_tuple, /)>,\n",
       "  'iter': <function iter>,\n",
       "  'len': <function len(obj, /)>,\n",
       "  'locals': <function locals()>,\n",
       "  'max': <function max>,\n",
       "  'min': <function min>,\n",
       "  'next': <function next>,\n",
       "  'oct': <function oct(number, /)>,\n",
       "  'ord': <function ord(c, /)>,\n",
       "  'pow': <function pow(x, y, z=None, /)>,\n",
       "  'print': <function print>,\n",
       "  'repr': <function repr(obj, /)>,\n",
       "  'round': <function round>,\n",
       "  'setattr': <function setattr(obj, name, value, /)>,\n",
       "  'sorted': <function sorted(iterable, /, *, key=None, reverse=False)>,\n",
       "  'sum': <function sum(iterable, start=0, /)>,\n",
       "  'vars': <function vars>,\n",
       "  'None': None,\n",
       "  'Ellipsis': Ellipsis,\n",
       "  'NotImplemented': NotImplemented,\n",
       "  'False': False,\n",
       "  'True': True,\n",
       "  'bool': bool,\n",
       "  'memoryview': memoryview,\n",
       "  'bytearray': bytearray,\n",
       "  'bytes': bytes,\n",
       "  'classmethod': classmethod,\n",
       "  'complex': complex,\n",
       "  'dict': dict,\n",
       "  'enumerate': enumerate,\n",
       "  'filter': filter,\n",
       "  'float': float,\n",
       "  'frozenset': frozenset,\n",
       "  'property': property,\n",
       "  'int': int,\n",
       "  'list': list,\n",
       "  'map': map,\n",
       "  'object': object,\n",
       "  'range': range,\n",
       "  'reversed': reversed,\n",
       "  'set': set,\n",
       "  'slice': slice,\n",
       "  'staticmethod': staticmethod,\n",
       "  'str': str,\n",
       "  'super': super,\n",
       "  'tuple': tuple,\n",
       "  'type': type,\n",
       "  'zip': zip,\n",
       "  '__debug__': True,\n",
       "  'BaseException': BaseException,\n",
       "  'Exception': Exception,\n",
       "  'TypeError': TypeError,\n",
       "  'StopAsyncIteration': StopAsyncIteration,\n",
       "  'StopIteration': StopIteration,\n",
       "  'GeneratorExit': GeneratorExit,\n",
       "  'SystemExit': SystemExit,\n",
       "  'KeyboardInterrupt': KeyboardInterrupt,\n",
       "  'ImportError': ImportError,\n",
       "  'ModuleNotFoundError': ModuleNotFoundError,\n",
       "  'OSError': OSError,\n",
       "  'EnvironmentError': OSError,\n",
       "  'IOError': OSError,\n",
       "  'EOFError': EOFError,\n",
       "  'RuntimeError': RuntimeError,\n",
       "  'RecursionError': RecursionError,\n",
       "  'NotImplementedError': NotImplementedError,\n",
       "  'NameError': NameError,\n",
       "  'UnboundLocalError': UnboundLocalError,\n",
       "  'AttributeError': AttributeError,\n",
       "  'SyntaxError': SyntaxError,\n",
       "  'IndentationError': IndentationError,\n",
       "  'TabError': TabError,\n",
       "  'LookupError': LookupError,\n",
       "  'IndexError': IndexError,\n",
       "  'KeyError': KeyError,\n",
       "  'ValueError': ValueError,\n",
       "  'UnicodeError': UnicodeError,\n",
       "  'UnicodeEncodeError': UnicodeEncodeError,\n",
       "  'UnicodeDecodeError': UnicodeDecodeError,\n",
       "  'UnicodeTranslateError': UnicodeTranslateError,\n",
       "  'AssertionError': AssertionError,\n",
       "  'ArithmeticError': ArithmeticError,\n",
       "  'FloatingPointError': FloatingPointError,\n",
       "  'OverflowError': OverflowError,\n",
       "  'ZeroDivisionError': ZeroDivisionError,\n",
       "  'SystemError': SystemError,\n",
       "  'ReferenceError': ReferenceError,\n",
       "  'BufferError': BufferError,\n",
       "  'MemoryError': MemoryError,\n",
       "  'Warning': Warning,\n",
       "  'UserWarning': UserWarning,\n",
       "  'DeprecationWarning': DeprecationWarning,\n",
       "  'PendingDeprecationWarning': PendingDeprecationWarning,\n",
       "  'SyntaxWarning': SyntaxWarning,\n",
       "  'RuntimeWarning': RuntimeWarning,\n",
       "  'FutureWarning': FutureWarning,\n",
       "  'ImportWarning': ImportWarning,\n",
       "  'UnicodeWarning': UnicodeWarning,\n",
       "  'BytesWarning': BytesWarning,\n",
       "  'ResourceWarning': ResourceWarning,\n",
       "  'ConnectionError': ConnectionError,\n",
       "  'BlockingIOError': BlockingIOError,\n",
       "  'BrokenPipeError': BrokenPipeError,\n",
       "  'ChildProcessError': ChildProcessError,\n",
       "  'ConnectionAbortedError': ConnectionAbortedError,\n",
       "  'ConnectionRefusedError': ConnectionRefusedError,\n",
       "  'ConnectionResetError': ConnectionResetError,\n",
       "  'FileExistsError': FileExistsError,\n",
       "  'FileNotFoundError': FileNotFoundError,\n",
       "  'IsADirectoryError': IsADirectoryError,\n",
       "  'NotADirectoryError': NotADirectoryError,\n",
       "  'InterruptedError': InterruptedError,\n",
       "  'PermissionError': PermissionError,\n",
       "  'ProcessLookupError': ProcessLookupError,\n",
       "  'TimeoutError': TimeoutError,\n",
       "  'open': <function io.open(file, mode='r', buffering=-1, encoding=None, errors=None, newline=None, closefd=True, opener=None)>,\n",
       "  'copyright': Copyright (c) 2001-2019 Python Software Foundation.\n",
       "  All Rights Reserved.\n",
       "  \n",
       "  Copyright (c) 2000 BeOpen.com.\n",
       "  All Rights Reserved.\n",
       "  \n",
       "  Copyright (c) 1995-2001 Corporation for National Research Initiatives.\n",
       "  All Rights Reserved.\n",
       "  \n",
       "  Copyright (c) 1991-1995 Stichting Mathematisch Centrum, Amsterdam.\n",
       "  All Rights Reserved.,\n",
       "  'credits':     Thanks to CWI, CNRI, BeOpen.com, Zope Corporation and a cast of thousands\n",
       "      for supporting Python development.  See www.python.org for more information.,\n",
       "  'license': Type license() to see the full license text,\n",
       "  'help': Type help() for interactive help, or help(object) for help about object.,\n",
       "  '__IPYTHON__': True,\n",
       "  'display': <function IPython.core.display.display(*objs, include=None, exclude=None, metadata=None, transient=None, display_id=None, **kwargs)>,\n",
       "  '__pybind11_internals_v4_gcc_libstdcpp_cxxabi1011__': <capsule object NULL at 0x1477994eb3c0>,\n",
       "  '__pybind11_internals_v3__': <capsule object NULL at 0x1477978f9870>,\n",
       "  'get_ipython': <bound method InteractiveShell.get_ipython of <ipykernel.zmqshell.ZMQInteractiveShell object at 0x14780ff15128>>},\n",
       " 'contextlib': <module 'contextlib' from '/glade/u/home/tking/anaconda3/envs/lbltorchplus/lib/python3.6/contextlib.py'>,\n",
       " 'platform': <module 'platform' from '/glade/u/home/tking/anaconda3/envs/lbltorchplus/lib/python3.6/platform.py'>,\n",
       " 'ctypes': <module 'ctypes' from '/glade/u/home/tking/anaconda3/envs/lbltorchplus/lib/python3.6/ctypes/__init__.py'>,\n",
       " 'os': <module 'os' from '/glade/u/home/tking/anaconda3/envs/lbltorchplus/lib/python3.6/os.py'>,\n",
       " 'sys': <module 'sys' (built-in)>,\n",
       " 'torch': <module 'torch' from '/glade/u/home/tking/anaconda3/envs/lbltorchplus/lib/python3.6/site-packages/torch/__init__.py'>,\n",
       " 'traceback': <module 'traceback' from '/glade/u/home/tking/anaconda3/envs/lbltorchplus/lib/python3.6/traceback.py'>,\n",
       " 'warnings': <module 'warnings' from '/glade/u/home/tking/anaconda3/envs/lbltorchplus/lib/python3.6/warnings.py'>,\n",
       " 'raise_from': <function torch._six.raise_from(value, from_value)>,\n",
       " 'Popen': subprocess.Popen,\n",
       " 'PIPE': -1,\n",
       " '_register_after_fork': <function multiprocessing.util.register_after_fork(obj, func)>,\n",
       " '_utils': <module 'torch.cuda._utils' from '/glade/u/home/tking/anaconda3/envs/lbltorchplus/lib/python3.6/site-packages/torch/cuda/_utils.py'>,\n",
       " '_get_device_index': <function torch.cuda._utils._get_device_index(device, optional=False)>,\n",
       " '_initialized': True,\n",
       " '_queued_calls': [(<function torch.cuda._check_capability()>,\n",
       "   ['  File \"/glade/u/home/tking/anaconda3/envs/lbltorchplus/lib/python3.6/runpy.py\", line 193, in _run_module_as_main\\n    \"__main__\", mod_spec)\\n',\n",
       "    '  File \"/glade/u/home/tking/anaconda3/envs/lbltorchplus/lib/python3.6/runpy.py\", line 85, in _run_code\\n    exec(code, run_globals)\\n',\n",
       "    '  File \"/glade/u/home/tking/anaconda3/envs/lbltorchplus/lib/python3.6/site-packages/ipykernel_launcher.py\", line 16, in <module>\\n    app.launch_new_instance()\\n',\n",
       "    '  File \"/glade/u/home/tking/anaconda3/envs/lbltorchplus/lib/python3.6/site-packages/traitlets/config/application.py\", line 664, in launch_instance\\n    app.start()\\n',\n",
       "    '  File \"/glade/u/home/tking/anaconda3/envs/lbltorchplus/lib/python3.6/site-packages/ipykernel/kernelapp.py\", line 612, in start\\n    self.io_loop.start()\\n',\n",
       "    '  File \"/glade/u/home/tking/anaconda3/envs/lbltorchplus/lib/python3.6/site-packages/tornado/platform/asyncio.py\", line 149, in start\\n    self.asyncio_loop.run_forever()\\n',\n",
       "    '  File \"/glade/u/home/tking/anaconda3/envs/lbltorchplus/lib/python3.6/asyncio/base_events.py\", line 442, in run_forever\\n    self._run_once()\\n',\n",
       "    '  File \"/glade/u/home/tking/anaconda3/envs/lbltorchplus/lib/python3.6/asyncio/base_events.py\", line 1462, in _run_once\\n    handle._run()\\n',\n",
       "    '  File \"/glade/u/home/tking/anaconda3/envs/lbltorchplus/lib/python3.6/asyncio/events.py\", line 145, in _run\\n    self._callback(*self._args)\\n',\n",
       "    '  File \"/glade/u/home/tking/anaconda3/envs/lbltorchplus/lib/python3.6/site-packages/tornado/ioloop.py\", line 690, in <lambda>\\n    lambda f: self._run_callback(functools.partial(callback, future))\\n',\n",
       "    '  File \"/glade/u/home/tking/anaconda3/envs/lbltorchplus/lib/python3.6/site-packages/tornado/ioloop.py\", line 743, in _run_callback\\n    ret = callback()\\n',\n",
       "    '  File \"/glade/u/home/tking/anaconda3/envs/lbltorchplus/lib/python3.6/site-packages/tornado/gen.py\", line 787, in inner\\n    self.run()\\n',\n",
       "    '  File \"/glade/u/home/tking/anaconda3/envs/lbltorchplus/lib/python3.6/site-packages/tornado/gen.py\", line 748, in run\\n    yielded = self.gen.send(value)\\n',\n",
       "    '  File \"/glade/u/home/tking/anaconda3/envs/lbltorchplus/lib/python3.6/site-packages/ipykernel/kernelbase.py\", line 381, in dispatch_queue\\n    yield self.process_one()\\n',\n",
       "    '  File \"/glade/u/home/tking/anaconda3/envs/lbltorchplus/lib/python3.6/site-packages/tornado/gen.py\", line 225, in wrapper\\n    runner = Runner(result, future, yielded)\\n',\n",
       "    '  File \"/glade/u/home/tking/anaconda3/envs/lbltorchplus/lib/python3.6/site-packages/tornado/gen.py\", line 714, in __init__\\n    self.run()\\n',\n",
       "    '  File \"/glade/u/home/tking/anaconda3/envs/lbltorchplus/lib/python3.6/site-packages/tornado/gen.py\", line 748, in run\\n    yielded = self.gen.send(value)\\n',\n",
       "    '  File \"/glade/u/home/tking/anaconda3/envs/lbltorchplus/lib/python3.6/site-packages/ipykernel/kernelbase.py\", line 365, in process_one\\n    yield gen.maybe_future(dispatch(*args))\\n',\n",
       "    '  File \"/glade/u/home/tking/anaconda3/envs/lbltorchplus/lib/python3.6/site-packages/tornado/gen.py\", line 209, in wrapper\\n    yielded = next(result)\\n',\n",
       "    '  File \"/glade/u/home/tking/anaconda3/envs/lbltorchplus/lib/python3.6/site-packages/ipykernel/kernelbase.py\", line 268, in dispatch_shell\\n    yield gen.maybe_future(handler(stream, idents, msg))\\n',\n",
       "    '  File \"/glade/u/home/tking/anaconda3/envs/lbltorchplus/lib/python3.6/site-packages/tornado/gen.py\", line 209, in wrapper\\n    yielded = next(result)\\n',\n",
       "    '  File \"/glade/u/home/tking/anaconda3/envs/lbltorchplus/lib/python3.6/site-packages/ipykernel/kernelbase.py\", line 545, in execute_request\\n    user_expressions, allow_stdin,\\n',\n",
       "    '  File \"/glade/u/home/tking/anaconda3/envs/lbltorchplus/lib/python3.6/site-packages/tornado/gen.py\", line 209, in wrapper\\n    yielded = next(result)\\n',\n",
       "    '  File \"/glade/u/home/tking/anaconda3/envs/lbltorchplus/lib/python3.6/site-packages/ipykernel/ipkernel.py\", line 306, in do_execute\\n    res = shell.run_cell(code, store_history=store_history, silent=silent)\\n',\n",
       "    '  File \"/glade/u/home/tking/anaconda3/envs/lbltorchplus/lib/python3.6/site-packages/ipykernel/zmqshell.py\", line 536, in run_cell\\n    return super(ZMQInteractiveShell, self).run_cell(*args, **kwargs)\\n',\n",
       "    '  File \"/glade/u/home/tking/anaconda3/envs/lbltorchplus/lib/python3.6/site-packages/IPython/core/interactiveshell.py\", line 2858, in run_cell\\n    raw_cell, store_history, silent, shell_futures)\\n',\n",
       "    '  File \"/glade/u/home/tking/anaconda3/envs/lbltorchplus/lib/python3.6/site-packages/IPython/core/interactiveshell.py\", line 2886, in _run_cell\\n    return runner(coro)\\n',\n",
       "    '  File \"/glade/u/home/tking/anaconda3/envs/lbltorchplus/lib/python3.6/site-packages/IPython/core/async_helpers.py\", line 68, in _pseudo_sync_runner\\n    coro.send(None)\\n',\n",
       "    '  File \"/glade/u/home/tking/anaconda3/envs/lbltorchplus/lib/python3.6/site-packages/IPython/core/interactiveshell.py\", line 3063, in run_cell_async\\n    interactivity=interactivity, compiler=compiler, result=result)\\n',\n",
       "    '  File \"/glade/u/home/tking/anaconda3/envs/lbltorchplus/lib/python3.6/site-packages/IPython/core/interactiveshell.py\", line 3254, in run_ast_nodes\\n    if (await self.run_code(code, result,  async_=asy)):\\n',\n",
       "    '  File \"/glade/u/home/tking/anaconda3/envs/lbltorchplus/lib/python3.6/site-packages/IPython/core/interactiveshell.py\", line 3331, in run_code\\n    exec(code_obj, self.user_global_ns, self.user_ns)\\n',\n",
       "    '  File \"<ipython-input-1-a2d401806d89>\", line 1, in <module>\\n    _jupyterlab_variableinspector_dict_list()\\n',\n",
       "    '  File \"<ipython-input-1-26d28b4d25cf>\", line 136, in _jupyterlab_variableinspector_dict_list\\n    _check_imported()\\n',\n",
       "    '  File \"<ipython-input-1-26d28b4d25cf>\", line 37, in _check_imported\\n    __torch = _attempt_import(\\'torch\\')\\n',\n",
       "    '  File \"<ipython-input-1-26d28b4d25cf>\", line 24, in _attempt_import\\n    return __import__(module)\\n',\n",
       "    '  File \"<frozen importlib._bootstrap>\", line 1074, in __import__\\n',\n",
       "    '  File \"<frozen importlib._bootstrap>\", line 994, in _gcd_import\\n',\n",
       "    '  File \"<frozen importlib._bootstrap>\", line 971, in _find_and_load\\n',\n",
       "    '  File \"<frozen importlib._bootstrap>\", line 955, in _find_and_load_unlocked\\n',\n",
       "    '  File \"<frozen importlib._bootstrap>\", line 665, in _load_unlocked\\n',\n",
       "    '  File \"<frozen importlib._bootstrap_external>\", line 678, in exec_module\\n',\n",
       "    '  File \"<frozen importlib._bootstrap>\", line 219, in _call_with_frames_removed\\n',\n",
       "    '  File \"/glade/u/home/tking/anaconda3/envs/lbltorchplus/lib/python3.6/site-packages/torch/__init__.py\", line 267, in <module>\\n    _C._initExtension(manager_path())\\n',\n",
       "    '  File \"<frozen importlib._bootstrap>\", line 971, in _find_and_load\\n',\n",
       "    '  File \"<frozen importlib._bootstrap>\", line 955, in _find_and_load_unlocked\\n',\n",
       "    '  File \"<frozen importlib._bootstrap>\", line 665, in _load_unlocked\\n',\n",
       "    '  File \"<frozen importlib._bootstrap_external>\", line 678, in exec_module\\n',\n",
       "    '  File \"<frozen importlib._bootstrap>\", line 219, in _call_with_frames_removed\\n',\n",
       "    '  File \"/glade/u/home/tking/anaconda3/envs/lbltorchplus/lib/python3.6/site-packages/torch/cuda/__init__.py\", line 144, in <module>\\n    _lazy_call(_check_capability)\\n',\n",
       "    '  File \"/glade/u/home/tking/anaconda3/envs/lbltorchplus/lib/python3.6/site-packages/torch/cuda/__init__.py\", line 142, in _lazy_call\\n    _queued_calls.append((callable, traceback.format_stack()))\\n']),\n",
       "  (<function torch.cuda.random.manual_seed_all.<locals>.cb()>,\n",
       "   ['  File \"/glade/u/home/tking/anaconda3/envs/lbltorchplus/lib/python3.6/runpy.py\", line 193, in _run_module_as_main\\n    \"__main__\", mod_spec)\\n',\n",
       "    '  File \"/glade/u/home/tking/anaconda3/envs/lbltorchplus/lib/python3.6/runpy.py\", line 85, in _run_code\\n    exec(code, run_globals)\\n',\n",
       "    '  File \"/glade/u/home/tking/anaconda3/envs/lbltorchplus/lib/python3.6/site-packages/ipykernel_launcher.py\", line 16, in <module>\\n    app.launch_new_instance()\\n',\n",
       "    '  File \"/glade/u/home/tking/anaconda3/envs/lbltorchplus/lib/python3.6/site-packages/traitlets/config/application.py\", line 664, in launch_instance\\n    app.start()\\n',\n",
       "    '  File \"/glade/u/home/tking/anaconda3/envs/lbltorchplus/lib/python3.6/site-packages/ipykernel/kernelapp.py\", line 612, in start\\n    self.io_loop.start()\\n',\n",
       "    '  File \"/glade/u/home/tking/anaconda3/envs/lbltorchplus/lib/python3.6/site-packages/tornado/platform/asyncio.py\", line 149, in start\\n    self.asyncio_loop.run_forever()\\n',\n",
       "    '  File \"/glade/u/home/tking/anaconda3/envs/lbltorchplus/lib/python3.6/asyncio/base_events.py\", line 442, in run_forever\\n    self._run_once()\\n',\n",
       "    '  File \"/glade/u/home/tking/anaconda3/envs/lbltorchplus/lib/python3.6/asyncio/base_events.py\", line 1462, in _run_once\\n    handle._run()\\n',\n",
       "    '  File \"/glade/u/home/tking/anaconda3/envs/lbltorchplus/lib/python3.6/asyncio/events.py\", line 145, in _run\\n    self._callback(*self._args)\\n',\n",
       "    '  File \"/glade/u/home/tking/anaconda3/envs/lbltorchplus/lib/python3.6/site-packages/tornado/ioloop.py\", line 690, in <lambda>\\n    lambda f: self._run_callback(functools.partial(callback, future))\\n',\n",
       "    '  File \"/glade/u/home/tking/anaconda3/envs/lbltorchplus/lib/python3.6/site-packages/tornado/ioloop.py\", line 743, in _run_callback\\n    ret = callback()\\n',\n",
       "    '  File \"/glade/u/home/tking/anaconda3/envs/lbltorchplus/lib/python3.6/site-packages/tornado/gen.py\", line 787, in inner\\n    self.run()\\n',\n",
       "    '  File \"/glade/u/home/tking/anaconda3/envs/lbltorchplus/lib/python3.6/site-packages/tornado/gen.py\", line 748, in run\\n    yielded = self.gen.send(value)\\n',\n",
       "    '  File \"/glade/u/home/tking/anaconda3/envs/lbltorchplus/lib/python3.6/site-packages/ipykernel/kernelbase.py\", line 381, in dispatch_queue\\n    yield self.process_one()\\n',\n",
       "    '  File \"/glade/u/home/tking/anaconda3/envs/lbltorchplus/lib/python3.6/site-packages/tornado/gen.py\", line 225, in wrapper\\n    runner = Runner(result, future, yielded)\\n',\n",
       "    '  File \"/glade/u/home/tking/anaconda3/envs/lbltorchplus/lib/python3.6/site-packages/tornado/gen.py\", line 714, in __init__\\n    self.run()\\n',\n",
       "    '  File \"/glade/u/home/tking/anaconda3/envs/lbltorchplus/lib/python3.6/site-packages/tornado/gen.py\", line 748, in run\\n    yielded = self.gen.send(value)\\n',\n",
       "    '  File \"/glade/u/home/tking/anaconda3/envs/lbltorchplus/lib/python3.6/site-packages/ipykernel/kernelbase.py\", line 365, in process_one\\n    yield gen.maybe_future(dispatch(*args))\\n',\n",
       "    '  File \"/glade/u/home/tking/anaconda3/envs/lbltorchplus/lib/python3.6/site-packages/tornado/gen.py\", line 209, in wrapper\\n    yielded = next(result)\\n',\n",
       "    '  File \"/glade/u/home/tking/anaconda3/envs/lbltorchplus/lib/python3.6/site-packages/ipykernel/kernelbase.py\", line 268, in dispatch_shell\\n    yield gen.maybe_future(handler(stream, idents, msg))\\n',\n",
       "    '  File \"/glade/u/home/tking/anaconda3/envs/lbltorchplus/lib/python3.6/site-packages/tornado/gen.py\", line 209, in wrapper\\n    yielded = next(result)\\n',\n",
       "    '  File \"/glade/u/home/tking/anaconda3/envs/lbltorchplus/lib/python3.6/site-packages/ipykernel/kernelbase.py\", line 545, in execute_request\\n    user_expressions, allow_stdin,\\n',\n",
       "    '  File \"/glade/u/home/tking/anaconda3/envs/lbltorchplus/lib/python3.6/site-packages/tornado/gen.py\", line 209, in wrapper\\n    yielded = next(result)\\n',\n",
       "    '  File \"/glade/u/home/tking/anaconda3/envs/lbltorchplus/lib/python3.6/site-packages/ipykernel/ipkernel.py\", line 306, in do_execute\\n    res = shell.run_cell(code, store_history=store_history, silent=silent)\\n',\n",
       "    '  File \"/glade/u/home/tking/anaconda3/envs/lbltorchplus/lib/python3.6/site-packages/ipykernel/zmqshell.py\", line 536, in run_cell\\n    return super(ZMQInteractiveShell, self).run_cell(*args, **kwargs)\\n',\n",
       "    '  File \"/glade/u/home/tking/anaconda3/envs/lbltorchplus/lib/python3.6/site-packages/IPython/core/interactiveshell.py\", line 2858, in run_cell\\n    raw_cell, store_history, silent, shell_futures)\\n',\n",
       "    '  File \"/glade/u/home/tking/anaconda3/envs/lbltorchplus/lib/python3.6/site-packages/IPython/core/interactiveshell.py\", line 2886, in _run_cell\\n    return runner(coro)\\n',\n",
       "    '  File \"/glade/u/home/tking/anaconda3/envs/lbltorchplus/lib/python3.6/site-packages/IPython/core/async_helpers.py\", line 68, in _pseudo_sync_runner\\n    coro.send(None)\\n',\n",
       "    '  File \"/glade/u/home/tking/anaconda3/envs/lbltorchplus/lib/python3.6/site-packages/IPython/core/interactiveshell.py\", line 3063, in run_cell_async\\n    interactivity=interactivity, compiler=compiler, result=result)\\n',\n",
       "    '  File \"/glade/u/home/tking/anaconda3/envs/lbltorchplus/lib/python3.6/site-packages/IPython/core/interactiveshell.py\", line 3254, in run_ast_nodes\\n    if (await self.run_code(code, result,  async_=asy)):\\n',\n",
       "    '  File \"/glade/u/home/tking/anaconda3/envs/lbltorchplus/lib/python3.6/site-packages/IPython/core/interactiveshell.py\", line 3331, in run_code\\n    exec(code_obj, self.user_global_ns, self.user_ns)\\n',\n",
       "    '  File \"<ipython-input-3-95016a19f33e>\", line 1, in <module>\\n    config = Config(\\'config.json\\')   # This works when you cd into directory, but not with a specified dirpath?\\n',\n",
       "    '  File \"/glade/work/tking/cgnet/ClimateNet/climatenet/utils/utils.py\", line 49, in __init__\\n    torch.manual_seed(self.seed)\\n',\n",
       "    '  File \"/glade/u/home/tking/anaconda3/envs/lbltorchplus/lib/python3.6/site-packages/torch/random.py\", line 32, in manual_seed\\n    torch.cuda.manual_seed_all(seed)\\n',\n",
       "    '  File \"/glade/u/home/tking/anaconda3/envs/lbltorchplus/lib/python3.6/site-packages/torch/cuda/random.py\", line 111, in manual_seed_all\\n    _lazy_call(cb)\\n',\n",
       "    '  File \"/glade/u/home/tking/anaconda3/envs/lbltorchplus/lib/python3.6/site-packages/torch/cuda/__init__.py\", line 142, in _lazy_call\\n    _queued_calls.append((callable, traceback.format_stack()))\\n'])],\n",
       " '_in_bad_fork': False,\n",
       " '_original_pid': 6789,\n",
       " '_cudart': <CDLL 'None', handle 1478132b9750 at 0x14774095eb70>,\n",
       " 'find_cuda_windows_lib': <function torch.cuda.find_cuda_windows_lib()>,\n",
       " 'is_available': <function torch.cuda.is_available()>,\n",
       " '_sleep': <function torch.cuda._sleep(cycles)>,\n",
       " '_load_cudart': <function torch.cuda._load_cudart()>,\n",
       " '_check_driver': <function torch.cuda._check_driver()>,\n",
       " '_check_capability': <function torch.cuda._check_capability()>,\n",
       " '_lazy_call': <function torch.cuda._lazy_call(callable)>,\n",
       " 'DeferredCudaCallError': torch.cuda.DeferredCudaCallError,\n",
       " 'init': <function torch.cuda.init()>,\n",
       " '_lazy_init': <function torch.cuda._lazy_init()>,\n",
       " '_after_fork': <function torch.cuda._after_fork(arg)>,\n",
       " 'cudart': <function torch.cuda.cudart()>,\n",
       " 'cudaStatus': torch.cuda.cudaStatus,\n",
       " 'CudaError': torch.cuda.CudaError,\n",
       " 'check_error': <function torch.cuda.check_error(res)>,\n",
       " 'device': torch.cuda.device,\n",
       " 'device_of': torch.cuda.device_of,\n",
       " 'set_device': <function torch.cuda.set_device(device)>,\n",
       " 'get_device_name': <function torch.cuda.get_device_name(device=None)>,\n",
       " 'get_device_capability': <function torch.cuda.get_device_capability(device=None)>,\n",
       " 'get_device_properties': <function torch.cuda.get_device_properties(device)>,\n",
       " 'stream': <function torch.cuda.stream(stream)>,\n",
       " 'device_count': <function torch.cuda.device_count()>,\n",
       " 'current_device': <function torch.cuda.current_device()>,\n",
       " 'synchronize': <function torch.cuda.synchronize(device=None)>,\n",
       " 'ipc_collect': <function torch.cuda.ipc_collect()>,\n",
       " 'current_stream': <function torch.cuda.current_stream(device=None)>,\n",
       " 'default_stream': <function torch.cuda.default_stream(device=None)>,\n",
       " 'current_blas_handle': <function torch.cuda.current_blas_handle()>,\n",
       " 'empty_cache': <function torch.cuda.empty_cache()>,\n",
       " 'memory_allocated': <function torch.cuda.memory_allocated(device=None)>,\n",
       " 'max_memory_allocated': <function torch.cuda.max_memory_allocated(device=None)>,\n",
       " 'reset_max_memory_allocated': <function torch.cuda.reset_max_memory_allocated(device=None)>,\n",
       " 'memory_cached': <function torch.cuda.memory_cached(device=None)>,\n",
       " 'max_memory_cached': <function torch.cuda.max_memory_cached(device=None)>,\n",
       " 'reset_max_memory_cached': <function torch.cuda.reset_max_memory_cached(device=None)>,\n",
       " '_host_allocator': <function torch.cuda._host_allocator()>,\n",
       " '_free_mutex': <function torch.cuda._free_mutex()>,\n",
       " 'random': <module 'torch.cuda.random' from '/glade/u/home/tking/anaconda3/envs/lbltorchplus/lib/python3.6/site-packages/torch/cuda/random.py'>,\n",
       " 'get_rng_state': <function torch.cuda.random.get_rng_state(device='cuda')>,\n",
       " 'get_rng_state_all': <function torch.cuda.random.get_rng_state_all()>,\n",
       " 'set_rng_state': <function torch.cuda.random.set_rng_state(new_state, device='cuda')>,\n",
       " 'set_rng_state_all': <function torch.cuda.random.set_rng_state_all(new_states)>,\n",
       " 'manual_seed': <function torch.cuda.random.manual_seed(seed)>,\n",
       " 'manual_seed_all': <function torch.cuda.random.manual_seed_all(seed)>,\n",
       " 'seed': <function torch.cuda.random.seed()>,\n",
       " 'seed_all': <function torch.cuda.random.seed_all()>,\n",
       " 'initial_seed': <function torch.cuda.random.initial_seed()>,\n",
       " '_StorageBase': torch.storage._StorageBase,\n",
       " '_dummy_type': <function torch.cuda._dummy_type(name)>,\n",
       " '_lazy_new': <staticmethod at 0x1477726fcf98>,\n",
       " '_CudaBase': torch.cuda._CudaBase,\n",
       " 'DoubleStorage': torch.cuda.DoubleStorage,\n",
       " 'FloatStorage': torch.cuda.FloatStorage,\n",
       " 'LongStorage': torch.cuda.LongStorage,\n",
       " 'IntStorage': torch.cuda.IntStorage,\n",
       " 'ShortStorage': torch.cuda.ShortStorage,\n",
       " 'CharStorage': torch.cuda.CharStorage,\n",
       " 'ByteStorage': torch.cuda.ByteStorage,\n",
       " 'HalfStorage': torch.cuda.HalfStorage,\n",
       " 'BoolStorage': torch.cuda.BoolStorage,\n",
       " 'BFloat16Storage': torch.cuda.BFloat16Storage,\n",
       " 'sparse': <module 'torch.cuda.sparse' from '/glade/u/home/tking/anaconda3/envs/lbltorchplus/lib/python3.6/site-packages/torch/cuda/sparse.py'>,\n",
       " 'profiler': <module 'torch.cuda.profiler' from '/glade/u/home/tking/anaconda3/envs/lbltorchplus/lib/python3.6/site-packages/torch/cuda/profiler.py'>,\n",
       " 'nvtx': <module 'torch.cuda.nvtx' from '/glade/u/home/tking/anaconda3/envs/lbltorchplus/lib/python3.6/site-packages/torch/cuda/nvtx.py'>,\n",
       " 'streams': <module 'torch.cuda.streams' from '/glade/u/home/tking/anaconda3/envs/lbltorchplus/lib/python3.6/site-packages/torch/cuda/streams.py'>,\n",
       " 'Stream': torch.cuda.streams.Stream,\n",
       " 'Event': torch.cuda.streams.Event,\n",
       " 'ByteTensor': torch.cuda.ByteTensor,\n",
       " 'CharTensor': torch.cuda.CharTensor,\n",
       " 'DoubleTensor': torch.cuda.DoubleTensor,\n",
       " 'FloatTensor': torch.cuda.FloatTensor,\n",
       " 'IntTensor': torch.cuda.IntTensor,\n",
       " 'LongTensor': torch.cuda.LongTensor,\n",
       " 'ShortTensor': torch.cuda.ShortTensor,\n",
       " 'HalfTensor': torch.cuda.HalfTensor,\n",
       " 'BoolTensor': torch.cuda.BoolTensor,\n",
       " 'BFloat16Tensor': torch.cuda.BFloat16Tensor,\n",
       " 'nccl': <module 'torch.cuda.nccl' from '/glade/u/home/tking/anaconda3/envs/lbltorchplus/lib/python3.6/site-packages/torch/cuda/nccl.py'>,\n",
       " 'comm': <module 'torch.cuda.comm' from '/glade/u/home/tking/anaconda3/envs/lbltorchplus/lib/python3.6/site-packages/torch/cuda/comm.py'>,\n",
       " 'has_magma': True,\n",
       " 'has_half': True,\n",
       " '_state_cdata': 94162451147984,\n",
       " 'default_generators': (<torch._C.Generator at 0x14774096c5f0>,\n",
       "  <torch._C.Generator at 0x14774096c610>,\n",
       "  <torch._C.Generator at 0x14774096c630>,\n",
       "  <torch._C.Generator at 0x14774096c650>),\n",
       " '_CudaDeviceProperties': torch.cuda._CudaDeviceProperties,\n",
       " '_get_device_properties': <function torch.cuda.PyCapsule._get_device_properties>}"
      ]
     },
     "execution_count": 19,
     "metadata": {},
     "output_type": "execute_result"
    }
   ],
   "source": [
    "# CUDA out of memory. Tried to allocate 162.00 MiB (GPU 0; 31.74 GiB total capacity; 29.56 GiB already allocated;\n",
    "# 149.56 MiB free; 1023.88 MiB cached)\n",
    "\n",
    "torch.cuda.__dict__\n"
   ]
  },
  {
   "cell_type": "code",
   "execution_count": null,
   "metadata": {},
   "outputs": [],
   "source": [
    "# DO this for each var in tsch to remove coordinates from all vars,\n",
    "# rename x and y to lon/lat, rename ar_mask to LABELS, and remove lat/lon from file\n",
    "foreach i (*nc)\n",
    "ncatted -O -a coordinates,tmq,d,, $i\n",
    "ncatted -O -a coordinates,ivt,d,, $i\n",
    "ncatted -O -a coordinates,pr,d,, $i\n",
    "ncatted -O -a coordinates,psl,d,, $i\n",
    "ncrename -O -d x,lon -d y,lat -v x,lon -v y,lat $i # want to update utilities, but in meantime\n",
    "ncrename -O -v ar_mask,LABELS $i # want to update utilities, but in meantime\n",
    "ncks -C -x -v lat,lon $i $i:r.no_lat_lon.nc\n",
    "echo $i\n",
    "end\n",
    "\n",
    "# also change the type that variables are\n",
    "ncap2 -s \"LABELS=int(LABELS)\" $i tmq_int/$i\n",
    "ncap2 -s \"tmq=float(tmq)\" \n",
    "\n",
    "\n",
    "int64 LABELS(lat, lon) ;\n",
    "\t\tLABELS:description = \"0: Background, 1: Tropical Cyclone, 2: Athmospheric river\""
   ]
  },
  {
   "cell_type": "markdown",
   "metadata": {},
   "source": [
    "2/15/23: Training is maxing out around 0.5977 IOU mean at last epoch\\\n",
    "4/5/23: With updated unweighted means, similar performance: 0.5996 IOU mean at last epoch"
   ]
  },
  {
   "cell_type": "markdown",
   "metadata": {},
   "source": [
    "### TO DO: IOU/loss across epochs\n",
    "Can I load in the values from the saved model?\\\n",
    "I think the source code needs to be modified to save out IOU/loss/CMs"
   ]
  },
  {
   "cell_type": "code",
   "execution_count": 35,
   "metadata": {},
   "outputs": [],
   "source": [
    "# manual input from the above output for now...\n",
    "\n",
    "# loss_4channel = [0.7929807901382446, 0.7859199643135071, 0.7832299470901489, 0.7821657657623291, 0.7858586311340332, 0.7822664380073547, 0.7820284962654114,\n",
    "#                  0.780483603477478, 0.7820720672607422, 0.7849843502044678, 0.779705286026001, 0.7843253016471863, 0.7806265950202942, 0.7803990840911865,\n",
    "#                  0.777285099029541, 0.7805625200271606, 0.7805108428001404, 0.7817416191101074, 0.7821648120880127, 0.7792255878448486]"
   ]
  },
  {
   "cell_type": "code",
   "execution_count": 43,
   "metadata": {},
   "outputs": [],
   "source": [
    "epoch_range = np.arange(1, config.epochs+1)"
   ]
  },
  {
   "cell_type": "code",
   "execution_count": 54,
   "metadata": {},
   "outputs": [
    {
     "data": {
      "image/png": "[encoded data removed]",
      "text/plain": [
       "<Figure size 720x432 with 1 Axes>"
      ]
     },
     "metadata": {
      "needs_background": "light"
     },
     "output_type": "display_data"
    }
   ],
   "source": [
    "plt.figure(figsize=(10,6))\n",
    "plt.plot(epoch_range, loss_4channel)\n",
    "plt.ylabel('Loss Function', fontsize=14)\n",
    "plt.xlabel('Epochs', fontsize=14)\n",
    "plt.xticks(epoch_range);\n",
    "plt.title('CGNet Training History', fontsize=16)\n",
    "#plt.savefig('../figures/toSCP/trained_cgnet_040523_loss_epochs.png', bbox_inches='tight')"
   ]
  },
  {
   "cell_type": "code",
   "execution_count": 56,
   "metadata": {},
   "outputs": [],
   "source": [
    "# list of lists...\n",
    "iou_4channel = [[0.82468027, 0.02955234, 0.20687647], [0.93040919, 0.24552735, 0.3499208 ], [0.93507817, 0.28566718, 0.37940629], [0.93728455, 0.31748401, 0.39551527],\n",
    "                [0.93909495, 0.32430877, 0.40609776], [0.93881926, 0.32837483, 0.40964832], [0.94105241, 0.34036034, 0.42090875], [0.94089294, 0.34384409, 0.42345722],\n",
    "                [0.94162572, 0.34306023, 0.42858825], [0.94344054, 0.34477355, 0.43985051], [0.94310998, 0.3519992, 0.43998411], [0.94407983, 0.34748465, 0.44698649],\n",
    "                [0.94474442, 0.35277528, 0.45147414], [0.94506546, 0.35476714, 0.45588776], [0.94535843, 0.35674451, 0.45620809], [0.94492276, 0.35737601, 0.45649445],\n",
    "                [0.94581481, 0.36649505, 0.46129547], [0.94701946, 0.36918933, 0.4702124 ], [0.94752383, 0.36973565, 0.47586048], [0.94800169, 0.37387946, 0.47704684]]"
   ]
  },
  {
   "cell_type": "code",
   "execution_count": 57,
   "metadata": {},
   "outputs": [
    {
     "data": {
      "text/plain": [
       "['Background', 'Tropical Cyclone', 'Atmospheric River']"
      ]
     },
     "execution_count": 57,
     "metadata": {},
     "output_type": "execute_result"
    }
   ],
   "source": [
    "config.labels"
   ]
  },
  {
   "cell_type": "code",
   "execution_count": 66,
   "metadata": {},
   "outputs": [
    {
     "data": {
      "text/plain": [
       "array([0.35370303, 0.50861911, 0.53338388, 0.55009461, 0.55650049,\n",
       "       0.55894747, 0.5674405 , 0.56939808, 0.5710914 , 0.57602153,\n",
       "       0.57836443, 0.57951699, 0.58299795, 0.58524012, 0.58610368,\n",
       "       0.58626441, 0.59120178, 0.59547373, 0.59770665, 0.59964266])"
      ]
     },
     "execution_count": 66,
     "metadata": {},
     "output_type": "execute_result"
    }
   ],
   "source": [
    "iou_4channel_mean = np.mean(iou_4channel, axis=1)\n",
    "iou_4channel_mean"
   ]
  },
  {
   "cell_type": "code",
   "execution_count": 73,
   "metadata": {},
   "outputs": [
    {
     "data": {
      "image/png": "[encoded data removed]",
      "text/plain": [
       "<Figure size 720x432 with 1 Axes>"
      ]
     },
     "metadata": {
      "needs_background": "light"
     },
     "output_type": "display_data"
    }
   ],
   "source": [
    "plt.figure(figsize=(10,6))\n",
    "plt.plot(epoch_range, iou_4channel)\n",
    "plt.plot(epoch_range, iou_4channel_mean, color='k', linewidth=2)\n",
    "plt.ylabel('IOU', fontsize=14)\n",
    "plt.xlabel('Epochs', fontsize=14)\n",
    "plt.xticks(epoch_range);\n",
    "plt.title('CGNet Training History: IOUs', fontsize=16)\n",
    "plt.legend(config.labels+['Mean']);\n",
    "#plt.savefig('../figures/toSCP/trained_cgnet_040523_iou_epochs.png', bbox_inches='tight')"
   ]
  },
  {
   "cell_type": "code",
   "execution_count": 77,
   "metadata": {},
   "outputs": [
    {
     "data": {
      "image/png": "[encoded data removed]",
      "text/plain": [
       "<Figure size 720x432 with 1 Axes>"
      ]
     },
     "metadata": {
      "needs_background": "light"
     },
     "output_type": "display_data"
    }
   ],
   "source": [
    "plt.figure(figsize=(10,6))\n",
    "plt.plot(epoch_range[10:], iou_4channel[10:])\n",
    "plt.plot(epoch_range[10:], iou_4channel_mean[10:], color='k', linewidth=2)\n",
    "plt.ylabel('IOU', fontsize=14)\n",
    "plt.xlabel('Epochs', fontsize=14)\n",
    "plt.xticks(epoch_range[10:]);\n",
    "plt.title('CGNet Training History: IOUs', fontsize=16)\n",
    "plt.legend(config.labels+['Mean']);"
   ]
  },
  {
   "cell_type": "code",
   "execution_count": 81,
   "metadata": {},
   "outputs": [
    {
     "data": {
      "image/png": "[encoded data removed]",
      "text/plain": [
       "<Figure size 720x432 with 1 Axes>"
      ]
     },
     "metadata": {
      "needs_background": "light"
     },
     "output_type": "display_data"
    }
   ],
   "source": [
    "plt.figure(figsize=(10,6))\n",
    "#plt.plot(epoch_range[10:], iou_4channel[10:])\n",
    "plt.plot(epoch_range, iou_4channel_mean, color='k', linewidth=2)\n",
    "plt.ylabel('IOU', fontsize=14)\n",
    "plt.xlabel('Epochs', fontsize=14)\n",
    "plt.xticks(epoch_range);\n",
    "plt.title('CGNet Training History: Mean IOU', fontsize=16);\n",
    "#plt.savefig('../figures/toSCP/trained_cgnet_040523_mean-iou_epochs.png', bbox_inches='tight')"
   ]
  },
  {
   "cell_type": "code",
   "execution_count": 86,
   "metadata": {},
   "outputs": [],
   "source": [
    "# testing results from below\n",
    "iou_4channel_test = [0.9450045, 0.35225587, 0.39795872]"
   ]
  },
  {
   "cell_type": "code",
   "execution_count": 104,
   "metadata": {},
   "outputs": [
    {
     "data": {
      "image/png": "[encoded data removed]",
      "text/plain": [
       "<Figure size 720x432 with 1 Axes>"
      ]
     },
     "metadata": {
      "needs_background": "light"
     },
     "output_type": "display_data"
    }
   ],
   "source": [
    "plt.figure(figsize=(10,6))\n",
    "plt.plot(epoch_range, iou_4channel)\n",
    "plt.plot(epoch_range, iou_4channel_mean, color='k', linewidth=2)\n",
    "plt.scatter([21], np.mean(iou_4channel_test), marker='*', color='k', linewidth=2)\n",
    "plt.scatter([21,21,21], iou_4channel_test, marker='*', color=['C0','C1','C2'])\n",
    "plt.ylabel('IOU', fontsize=14)\n",
    "plt.xlabel('Epochs', fontsize=14)\n",
    "plt.xticks(epoch_range);\n",
    "plt.title('CGNet Training History: IOUs', fontsize=16)\n",
    "plt.legend(config.labels+['Mean', 'Test Data']);\n",
    "#plt.savefig('../figures/toSCP/trained_cgnet_040523_iou_epochs_testdata.png', bbox_inches='tight')"
   ]
  },
  {
   "cell_type": "markdown",
   "metadata": {},
   "source": [
    "## Train model - TMQ, V850"
   ]
  },
  {
   "cell_type": "markdown",
   "metadata": {},
   "source": [
    "Memory use holding at ~12GB during training\\\n",
    "Each epoch takes ~1 min to run"
   ]
  },
  {
   "cell_type": "code",
   "execution_count": 11,
   "metadata": {
    "collapsed": true,
    "jupyter": {
     "outputs_hidden": true
    },
    "tags": []
   },
   "outputs": [
    {
     "name": "stderr",
     "output_type": "stream",
     "text": [
      "  0%|          | 0/25 [00:00<?, ?it/s]"
     ]
    },
    {
     "name": "stdout",
     "output_type": "stream",
     "text": [
      "Epoch 1:\n"
     ]
    },
    {
     "name": "stderr",
     "output_type": "stream",
     "text": [
      "Loss: 0.7906577587127686: 100%|██████████| 25/25 [01:04<00:00,  2.60s/it]\n",
      "  0%|          | 0/25 [00:00<?, ?it/s]"
     ]
    },
    {
     "name": "stdout",
     "output_type": "stream",
     "text": [
      "Epoch stats:\n",
      "[[2.67465901e+08 3.57088010e+07 2.73459970e+07]\n",
      " [1.03063000e+06 3.48909000e+05 2.46808000e+05]\n",
      " [8.90030200e+06 1.60290200e+06 9.47467800e+06]]\n",
      "IOUs:  [0.78562085 0.00896062 0.19917051] , mean:  0.3312506607117836\n",
      "Epoch 2:\n"
     ]
    },
    {
     "name": "stderr",
     "output_type": "stream",
     "text": [
      "Loss: 0.7847222685813904: 100%|██████████| 25/25 [01:00<00:00,  2.41s/it]\n",
      "  0%|          | 0/25 [00:00<?, ?it/s]"
     ]
    },
    {
     "name": "stdout",
     "output_type": "stream",
     "text": [
      "Epoch stats:\n",
      "[[3.16022333e+08 1.03130400e+06 1.34670620e+07]\n",
      " [1.07174800e+06 4.20121000e+05 1.34478000e+05]\n",
      " [8.50047600e+06 1.13408000e+05 1.13639980e+07]]\n",
      "IOUs:  [0.92922349 0.15161027 0.33842149] , mean:  0.4730850828498043\n",
      "Epoch 3:\n"
     ]
    },
    {
     "name": "stderr",
     "output_type": "stream",
     "text": [
      "Loss: 0.7846466898918152: 100%|██████████| 25/25 [00:59<00:00,  2.37s/it]\n",
      "  0%|          | 0/25 [00:00<?, ?it/s]"
     ]
    },
    {
     "name": "stdout",
     "output_type": "stream",
     "text": [
      "Epoch stats:\n",
      "[[3.16828427e+08 9.02941000e+05 1.27893310e+07]\n",
      " [8.93811000e+05 6.19459000e+05 1.13077000e+05]\n",
      " [7.59652800e+06 1.14034000e+05 1.22673200e+07]]\n",
      "IOUs:  [0.9345667  0.23434867 0.37309038] , mean:  0.5140019183494055\n",
      "Epoch 4:\n"
     ]
    },
    {
     "name": "stderr",
     "output_type": "stream",
     "text": [
      "Loss: 0.7862304449081421: 100%|██████████| 25/25 [00:59<00:00,  2.38s/it]\n",
      "  0%|          | 0/25 [00:00<?, ?it/s]"
     ]
    },
    {
     "name": "stdout",
     "output_type": "stream",
     "text": [
      "Epoch stats:\n",
      "[[3.17239392e+08 8.71752000e+05 1.24095550e+07]\n",
      " [8.19333000e+05 6.97907000e+05 1.09107000e+05]\n",
      " [7.17216300e+06 1.03660000e+05 1.27020590e+07]]\n",
      "IOUs:  [0.93715794 0.26824429 0.39087415] , mean:  0.5320921277325162\n",
      "Epoch 5:\n"
     ]
    },
    {
     "name": "stderr",
     "output_type": "stream",
     "text": [
      "Loss: 0.7878016233444214: 100%|██████████| 25/25 [00:59<00:00,  2.39s/it]\n",
      "  0%|          | 0/25 [00:00<?, ?it/s]"
     ]
    },
    {
     "name": "stdout",
     "output_type": "stream",
     "text": [
      "Epoch stats:\n",
      "[[3.17103897e+08 9.32084000e+05 1.24847180e+07]\n",
      " [7.37931000e+05 7.81798000e+05 1.06618000e+05]\n",
      " [6.95439700e+06 9.12360000e+04 1.29322490e+07]]\n",
      "IOUs:  [0.93758629 0.29505519 0.39706968] , mean:  0.5432370534226606\n",
      "Epoch 6:\n"
     ]
    },
    {
     "name": "stderr",
     "output_type": "stream",
     "text": [
      "Loss: 0.7843121886253357: 100%|██████████| 25/25 [01:00<00:00,  2.42s/it]\n",
      "  0%|          | 0/25 [00:00<?, ?it/s]"
     ]
    },
    {
     "name": "stdout",
     "output_type": "stream",
     "text": [
      "Epoch stats:\n",
      "[[3.17638183e+08 9.13228000e+05 1.19692880e+07]\n",
      " [6.95001000e+05 8.27213000e+05 1.04133000e+05]\n",
      " [6.81995700e+06 8.04160000e+04 1.30775090e+07]]\n",
      "IOUs:  [0.93965881 0.31573124 0.40801801] , mean:  0.5544693535965578\n",
      "Epoch 7:\n"
     ]
    },
    {
     "name": "stderr",
     "output_type": "stream",
     "text": [
      "Loss: 0.7837691307067871: 100%|██████████| 25/25 [00:59<00:00,  2.38s/it]\n",
      "  0%|          | 0/25 [00:00<?, ?it/s]"
     ]
    },
    {
     "name": "stdout",
     "output_type": "stream",
     "text": [
      "Epoch stats:\n",
      "[[3.17645556e+08 9.58735000e+05 1.19164080e+07]\n",
      " [6.69070000e+05 8.64044000e+05 9.32330000e+04]\n",
      " [6.76188600e+06 8.99450000e+04 1.31260510e+07]]\n",
      "IOUs:  [0.93991419 0.32300384 0.41034909] , mean:  0.5577557079336068\n",
      "Epoch 8:\n"
     ]
    },
    {
     "name": "stderr",
     "output_type": "stream",
     "text": [
      "Loss: 0.7778811454772949: 100%|██████████| 25/25 [01:00<00:00,  2.40s/it]\n",
      "  0%|          | 0/25 [00:00<?, ?it/s]"
     ]
    },
    {
     "name": "stdout",
     "output_type": "stream",
     "text": [
      "Epoch stats:\n",
      "[[3.17617959e+08 1.06870700e+06 1.18340330e+07]\n",
      " [6.46515000e+05 8.88955000e+05 9.08770000e+04]\n",
      " [6.43352000e+06 8.81220000e+04 1.34562400e+07]]\n",
      "IOUs:  [0.94080944 0.31940308 0.42178879] , mean:  0.5606671060544012\n",
      "Epoch 9:\n"
     ]
    },
    {
     "name": "stderr",
     "output_type": "stream",
     "text": [
      "Loss: 0.7840321063995361: 100%|██████████| 25/25 [01:00<00:00,  2.41s/it]\n",
      "  0%|          | 0/25 [00:00<?, ?it/s]"
     ]
    },
    {
     "name": "stdout",
     "output_type": "stream",
     "text": [
      "Epoch stats:\n",
      "[[3.17591735e+08 9.50123000e+05 1.19788410e+07]\n",
      " [6.44885000e+05 8.81981000e+05 9.94810000e+04]\n",
      " [6.28976700e+06 7.67120000e+04 1.36114030e+07]]\n",
      "IOUs:  [0.94113705 0.33242386 0.42461057] , mean:  0.5660571606733165\n",
      "Epoch 10:\n"
     ]
    },
    {
     "name": "stderr",
     "output_type": "stream",
     "text": [
      "Loss: 0.7805353999137878: 100%|██████████| 25/25 [00:59<00:00,  2.37s/it]\n",
      "  0%|          | 0/25 [00:00<?, ?it/s]"
     ]
    },
    {
     "name": "stdout",
     "output_type": "stream",
     "text": [
      "Epoch stats:\n",
      "[[3.17664698e+08 9.94052000e+05 1.18619490e+07]\n",
      " [6.26253000e+05 9.10928000e+05 8.91660000e+04]\n",
      " [6.24123000e+06 8.49410000e+04 1.36517110e+07]]\n",
      "IOUs:  [0.94154068 0.33671479 0.42756467] , mean:  0.5686067135812413\n",
      "Epoch 11:\n"
     ]
    },
    {
     "name": "stderr",
     "output_type": "stream",
     "text": [
      "Loss: 0.7818220853805542: 100%|██████████| 25/25 [01:00<00:00,  2.42s/it]\n",
      "  0%|          | 0/25 [00:00<?, ?it/s]"
     ]
    },
    {
     "name": "stdout",
     "output_type": "stream",
     "text": [
      "Epoch stats:\n",
      "[[3.17938264e+08 9.94661000e+05 1.15877740e+07]\n",
      " [6.16863000e+05 9.17957000e+05 9.15270000e+04]\n",
      " [6.08511400e+06 7.84680000e+04 1.38143000e+07]]\n",
      "IOUs:  [0.94281401 0.34005007 0.43637174] , mean:  0.5730786065887492\n",
      "Epoch 12:\n"
     ]
    },
    {
     "name": "stderr",
     "output_type": "stream",
     "text": [
      "Loss: 0.7790206670761108: 100%|██████████| 25/25 [00:59<00:00,  2.39s/it]\n",
      "  0%|          | 0/25 [00:00<?, ?it/s]"
     ]
    },
    {
     "name": "stdout",
     "output_type": "stream",
     "text": [
      "Epoch stats:\n",
      "[[3.18184245e+08 1.00032200e+06 1.13361320e+07]\n",
      " [5.97795000e+05 9.41979000e+05 8.65730000e+04]\n",
      " [5.92710900e+06 8.13370000e+04 1.39694360e+07]]\n",
      "IOUs:  [0.94403915 0.34784967 0.44487818] , mean:  0.5789223346143332\n",
      "Epoch 13:\n"
     ]
    },
    {
     "name": "stderr",
     "output_type": "stream",
     "text": [
      "Loss: 0.7825701832771301: 100%|██████████| 25/25 [00:58<00:00,  2.35s/it]\n",
      "  0%|          | 0/25 [00:00<?, ?it/s]"
     ]
    },
    {
     "name": "stdout",
     "output_type": "stream",
     "text": [
      "Epoch stats:\n",
      "[[3.18011244e+08 1.01001200e+06 1.14994430e+07]\n",
      " [5.89306000e+05 9.43445000e+05 9.35960000e+04]\n",
      " [5.81776400e+06 7.47400000e+04 1.40853780e+07]]\n",
      "IOUs:  [0.94385584 0.34799356 0.44615037] , mean:  0.579333258238884\n",
      "Epoch 14:\n"
     ]
    },
    {
     "name": "stderr",
     "output_type": "stream",
     "text": [
      "Loss: 0.7822895050048828: 100%|██████████| 25/25 [01:00<00:00,  2.40s/it]\n",
      "  0%|          | 0/25 [00:00<?, ?it/s]"
     ]
    },
    {
     "name": "stdout",
     "output_type": "stream",
     "text": [
      "Epoch stats:\n",
      "[[3.18033228e+08 9.89248000e+05 1.14982230e+07]\n",
      " [5.98231000e+05 9.38768000e+05 8.93480000e+04]\n",
      " [5.84485700e+06 7.91840000e+04 1.40538410e+07]]\n",
      "IOUs:  [0.9438202  0.34836549 0.44522855] , mean:  0.5791380797120701\n",
      "Epoch 15:\n"
     ]
    },
    {
     "name": "stderr",
     "output_type": "stream",
     "text": [
      "Loss: 0.7801064252853394: 100%|██████████| 25/25 [00:59<00:00,  2.36s/it]\n",
      "  0%|          | 0/25 [00:00<?, ?it/s]"
     ]
    },
    {
     "name": "stdout",
     "output_type": "stream",
     "text": [
      "Epoch stats:\n",
      "[[3.18469246e+08 1.01845500e+06 1.10329980e+07]\n",
      " [6.07922000e+05 9.33354000e+05 8.50710000e+04]\n",
      " [5.77961400e+06 7.77110000e+04 1.41205570e+07]]\n",
      "IOUs:  [0.94527    0.34282812 0.45409632] , mean:  0.580731477967095\n",
      "Epoch 16:\n"
     ]
    },
    {
     "name": "stderr",
     "output_type": "stream",
     "text": [
      "Loss: 0.7829400300979614: 100%|██████████| 25/25 [00:58<00:00,  2.33s/it]\n",
      "  0%|          | 0/25 [00:00<?, ?it/s]"
     ]
    },
    {
     "name": "stdout",
     "output_type": "stream",
     "text": [
      "Epoch stats:\n",
      "[[3.18273513e+08 1.04619500e+06 1.12009910e+07]\n",
      " [5.67483000e+05 9.71889000e+05 8.69750000e+04]\n",
      " [5.54396000e+06 7.99110000e+04 1.43540110e+07]]\n",
      "IOUs:  [0.94546383 0.35309922 0.45909553] , mean:  0.5858861905516117\n",
      "Epoch 17:\n"
     ]
    },
    {
     "name": "stderr",
     "output_type": "stream",
     "text": [
      "Loss: 0.7811302542686462: 100%|██████████| 25/25 [00:59<00:00,  2.37s/it]\n",
      "  0%|          | 0/25 [00:00<?, ?it/s]"
     ]
    },
    {
     "name": "stdout",
     "output_type": "stream",
     "text": [
      "Epoch stats:\n",
      "[[3.18590595e+08 1.02865400e+06 1.09014500e+07]\n",
      " [5.76493000e+05 9.65659000e+05 8.41950000e+04]\n",
      " [5.52842700e+06 8.07270000e+04 1.43687280e+07]]\n",
      "IOUs:  [0.94642409 0.35298063 0.46405334] , mean:  0.5878193527419585\n",
      "Epoch 18:\n"
     ]
    },
    {
     "name": "stderr",
     "output_type": "stream",
     "text": [
      "Loss: 0.7823861241340637: 100%|██████████| 25/25 [00:58<00:00,  2.35s/it]\n",
      "  0%|          | 0/25 [00:00<?, ?it/s]"
     ]
    },
    {
     "name": "stdout",
     "output_type": "stream",
     "text": [
      "Epoch stats:\n",
      "[[3.18595291e+08 1.05134000e+06 1.08740680e+07]\n",
      " [5.64487000e+05 9.78873000e+05 8.29870000e+04]\n",
      " [5.42933800e+06 7.90550000e+04 1.44694890e+07]]\n",
      "IOUs:  [0.94675049 0.35508328 0.4677394 ] , mean:  0.5898577262558553\n",
      "Epoch 19:\n"
     ]
    },
    {
     "name": "stderr",
     "output_type": "stream",
     "text": [
      "Loss: 0.7811286449432373: 100%|██████████| 25/25 [00:58<00:00,  2.33s/it]\n",
      "  0%|          | 0/25 [00:00<?, ?it/s]"
     ]
    },
    {
     "name": "stdout",
     "output_type": "stream",
     "text": [
      "Epoch stats:\n",
      "[[3.18708072e+08 1.00919900e+06 1.08034280e+07]\n",
      " [5.63307000e+05 9.80795000e+05 8.22450000e+04]\n",
      " [5.39482500e+06 7.93020000e+04 1.45037550e+07]]\n",
      "IOUs:  [0.9471861  0.36127069 0.46993145] , mean:  0.5927960774207156\n",
      "Epoch 20:\n"
     ]
    },
    {
     "name": "stderr",
     "output_type": "stream",
     "text": [
      "Loss: 0.775212824344635: 100%|██████████| 25/25 [00:58<00:00,  2.34s/it] "
     ]
    },
    {
     "name": "stdout",
     "output_type": "stream",
     "text": [
      "Epoch stats:\n",
      "[[3.18759946e+08 1.02135900e+06 1.07393940e+07]\n",
      " [5.59122000e+05 9.88235000e+05 7.89900000e+04]\n",
      " [5.16193600e+06 7.68240000e+04 1.47391220e+07]]\n",
      "IOUs:  [0.94800821 0.36271761 0.47860094] , mean:  0.5964422534915425\n",
      "CPU times: user 10min 48s, sys: 6min 10s, total: 16min 58s\n",
      "Wall time: 19min 54s\n"
     ]
    },
    {
     "name": "stderr",
     "output_type": "stream",
     "text": [
      "\n"
     ]
    }
   ],
   "source": [
    "%%time\n",
    "cgnet.train(train)"
   ]
  },
  {
   "cell_type": "markdown",
   "metadata": {},
   "source": [
    "9/20/23: Training is maxing out at 0.5964 IOU mean at last epoch"
   ]
  },
  {
   "cell_type": "markdown",
   "metadata": {},
   "source": [
    "## Train model - TMQ"
   ]
  },
  {
   "cell_type": "markdown",
   "metadata": {},
   "source": [
    "Memory use holding at ~13GB during training\\\n",
    "Each epoch takes ~1 min to run"
   ]
  },
  {
   "cell_type": "code",
   "execution_count": 34,
   "metadata": {
    "collapsed": true,
    "jupyter": {
     "outputs_hidden": true
    },
    "tags": []
   },
   "outputs": [
    {
     "name": "stderr",
     "output_type": "stream",
     "text": [
      "  0%|          | 0/25 [00:00<?, ?it/s]"
     ]
    },
    {
     "name": "stdout",
     "output_type": "stream",
     "text": [
      "Epoch 1:\n"
     ]
    },
    {
     "name": "stderr",
     "output_type": "stream",
     "text": [
      "Loss: 0.7907780408859253: 100%|██████████| 25/25 [00:56<00:00,  2.26s/it]\n",
      "  0%|          | 0/25 [00:00<?, ?it/s]"
     ]
    },
    {
     "name": "stdout",
     "output_type": "stream",
     "text": [
      "Epoch stats:\n",
      "[[2.84238956e+08 1.84050650e+07 2.78766780e+07]\n",
      " [1.13390200e+06 3.04555000e+05 1.87890000e+05]\n",
      " [8.54513000e+06 9.36724000e+05 1.04960280e+07]]\n",
      "IOUs:  [0.83550612 0.01452466 0.21847404] , mean:  0.3561682703590215\n",
      "Epoch 2:\n"
     ]
    },
    {
     "name": "stderr",
     "output_type": "stream",
     "text": [
      "Loss: 0.7867932319641113: 100%|██████████| 25/25 [00:54<00:00,  2.17s/it]\n",
      "  0%|          | 0/25 [00:00<?, ?it/s]"
     ]
    },
    {
     "name": "stdout",
     "output_type": "stream",
     "text": [
      "Epoch stats:\n",
      "[[3.18264835e+08 9.21300000e+03 1.22466510e+07]\n",
      " [1.51578700e+06 6.59000000e+02 1.09901000e+05]\n",
      " [8.70045200e+06 3.20000000e+01 1.12773980e+07]]\n",
      "IOUs:  [9.34048527e-01 4.02912218e-04 3.48773632e-01] , mean:  0.42774169052947997\n",
      "Epoch 3:\n"
     ]
    },
    {
     "name": "stderr",
     "output_type": "stream",
     "text": [
      "Loss: 0.7863055467605591: 100%|██████████| 25/25 [00:54<00:00,  2.16s/it]\n",
      "  0%|          | 0/25 [00:00<?, ?it/s]"
     ]
    },
    {
     "name": "stdout",
     "output_type": "stream",
     "text": [
      "Epoch stats:\n",
      "[[3.18341276e+08 0.00000000e+00 1.21794230e+07]\n",
      " [1.51056500e+06 4.60000000e+01 1.15736000e+05]\n",
      " [7.83816600e+06 0.00000000e+00 1.21397160e+07]]\n",
      "IOUs:  [9.36657575e-01 2.82842468e-05 3.76156557e-01] , mean:  0.4376141387704749\n",
      "Epoch 4:\n"
     ]
    },
    {
     "name": "stderr",
     "output_type": "stream",
     "text": [
      "Loss: 0.7844344973564148: 100%|██████████| 25/25 [00:54<00:00,  2.20s/it]\n",
      "  0%|          | 0/25 [00:00<?, ?it/s]"
     ]
    },
    {
     "name": "stdout",
     "output_type": "stream",
     "text": [
      "Epoch stats:\n",
      "[[3.18172222e+08 0.00000000e+00 1.23484770e+07]\n",
      " [1.50147300e+06 1.00000000e+00 1.24873000e+05]\n",
      " [7.31193400e+06 0.00000000e+00 1.26659480e+07]]\n",
      "IOUs:  [9.37637026e-01 6.14874931e-07 3.90307154e-01] , mean:  0.4426482649288845\n",
      "Epoch 5:\n"
     ]
    },
    {
     "name": "stderr",
     "output_type": "stream",
     "text": [
      "Loss: 0.7819315195083618: 100%|██████████| 25/25 [00:54<00:00,  2.16s/it]\n",
      "  0%|          | 0/25 [00:00<?, ?it/s]"
     ]
    },
    {
     "name": "stdout",
     "output_type": "stream",
     "text": [
      "Epoch stats:\n",
      "[[3.18501659e+08 0.00000000e+00 1.20190400e+07]\n",
      " [1.50758200e+06 0.00000000e+00 1.18765000e+05]\n",
      " [7.13927700e+06 0.00000000e+00 1.28386050e+07]]\n",
      "IOUs:  [0.93906876 0.         0.39976118] , mean:  0.44627664823791297\n",
      "Epoch 6:\n"
     ]
    },
    {
     "name": "stderr",
     "output_type": "stream",
     "text": [
      "Loss: 0.7837724089622498: 100%|██████████| 25/25 [00:54<00:00,  2.19s/it]\n",
      "  0%|          | 0/25 [00:00<?, ?it/s]"
     ]
    },
    {
     "name": "stdout",
     "output_type": "stream",
     "text": [
      "Epoch stats:\n",
      "[[3.18495846e+08 0.00000000e+00 1.20248530e+07]\n",
      " [1.50062500e+06 0.00000000e+00 1.25722000e+05]\n",
      " [6.94342000e+06 0.00000000e+00 1.30344620e+07]]\n",
      "IOUs:  [0.93961349 0.         0.40569835] , mean:  0.4484372799779974\n",
      "Epoch 7:\n"
     ]
    },
    {
     "name": "stderr",
     "output_type": "stream",
     "text": [
      "Loss: 0.784173846244812: 100%|██████████| 25/25 [00:54<00:00,  2.17s/it] \n",
      "  0%|          | 0/25 [00:00<?, ?it/s]"
     ]
    },
    {
     "name": "stdout",
     "output_type": "stream",
     "text": [
      "Epoch stats:\n",
      "[[3.18512677e+08 0.00000000e+00 1.20080220e+07]\n",
      " [1.50574400e+06 0.00000000e+00 1.20603000e+05]\n",
      " [6.68270000e+06 0.00000000e+00 1.32951820e+07]]\n",
      "IOUs:  [0.94037224 0.         0.41409618] , mean:  0.45148947581739085\n",
      "Epoch 8:\n"
     ]
    },
    {
     "name": "stderr",
     "output_type": "stream",
     "text": [
      "Loss: 0.7842159867286682: 100%|██████████| 25/25 [00:54<00:00,  2.17s/it]\n",
      "  0%|          | 0/25 [00:00<?, ?it/s]"
     ]
    },
    {
     "name": "stdout",
     "output_type": "stream",
     "text": [
      "Epoch stats:\n",
      "[[3.18696912e+08 0.00000000e+00 1.18237870e+07]\n",
      " [1.49548000e+06 0.00000000e+00 1.30867000e+05]\n",
      " [6.54836000e+06 0.00000000e+00 1.34295220e+07]]\n",
      "IOUs:  [0.94131805 0.         0.42055921] , mean:  0.45395908582630345\n",
      "Epoch 9:\n"
     ]
    },
    {
     "name": "stderr",
     "output_type": "stream",
     "text": [
      "Loss: 0.7821213603019714: 100%|██████████| 25/25 [00:54<00:00,  2.20s/it]\n",
      "  0%|          | 0/25 [00:00<?, ?it/s]"
     ]
    },
    {
     "name": "stdout",
     "output_type": "stream",
     "text": [
      "Epoch stats:\n",
      "[[3.1871988e+08 0.0000000e+00 1.1800819e+07]\n",
      " [1.5046830e+06 0.0000000e+00 1.2166400e+05]\n",
      " [6.5041360e+06 0.0000000e+00 1.3473746e+07]]\n",
      "IOUs:  [0.94148328 0.         0.42236965] , mean:  0.4546176423657821\n",
      "Epoch 10:\n"
     ]
    },
    {
     "name": "stderr",
     "output_type": "stream",
     "text": [
      "Loss: 0.7871376872062683: 100%|██████████| 25/25 [00:54<00:00,  2.17s/it]\n",
      "  0%|          | 0/25 [00:00<?, ?it/s]"
     ]
    },
    {
     "name": "stdout",
     "output_type": "stream",
     "text": [
      "Epoch stats:\n",
      "[[3.18754025e+08 0.00000000e+00 1.17666740e+07]\n",
      " [1.50638400e+06 0.00000000e+00 1.19963000e+05]\n",
      " [6.39829800e+06 0.00000000e+00 1.35795840e+07]]\n",
      "IOUs:  [0.94187387 0.         0.42616629] , mean:  0.4560133899553898\n",
      "Epoch 11:\n"
     ]
    },
    {
     "name": "stderr",
     "output_type": "stream",
     "text": [
      "Loss: 0.7841247320175171: 100%|██████████| 25/25 [00:54<00:00,  2.20s/it]\n",
      "  0%|          | 0/25 [00:00<?, ?it/s]"
     ]
    },
    {
     "name": "stdout",
     "output_type": "stream",
     "text": [
      "Epoch stats:\n",
      "[[3.19092355e+08 0.00000000e+00 1.14283440e+07]\n",
      " [1.50480600e+06 0.00000000e+00 1.21541000e+05]\n",
      " [6.25503800e+06 0.00000000e+00 1.37228440e+07]]\n",
      "IOUs:  [0.94327729 0.         0.43526216] , mean:  0.4595131514989932\n",
      "Epoch 12:\n"
     ]
    },
    {
     "name": "stderr",
     "output_type": "stream",
     "text": [
      "Loss: 0.7870339155197144: 100%|██████████| 25/25 [00:54<00:00,  2.19s/it]\n",
      "  0%|          | 0/25 [00:00<?, ?it/s]"
     ]
    },
    {
     "name": "stdout",
     "output_type": "stream",
     "text": [
      "Epoch stats:\n",
      "[[3.18760685e+08 0.00000000e+00 1.17600140e+07]\n",
      " [1.50223600e+06 0.00000000e+00 1.24111000e+05]\n",
      " [6.03913100e+06 0.00000000e+00 1.39387510e+07]]\n",
      "IOUs:  [0.94290581 0.         0.43747247] , mean:  0.46012609320876047\n",
      "Epoch 13:\n"
     ]
    },
    {
     "name": "stderr",
     "output_type": "stream",
     "text": [
      "Loss: 0.7791727781295776: 100%|██████████| 25/25 [00:56<00:00,  2.27s/it]\n",
      "  0%|          | 0/25 [00:00<?, ?it/s]"
     ]
    },
    {
     "name": "stdout",
     "output_type": "stream",
     "text": [
      "Epoch stats:\n",
      "[[3.19542161e+08 0.00000000e+00 1.09785380e+07]\n",
      " [1.49686900e+06 0.00000000e+00 1.29478000e+05]\n",
      " [6.06905200e+06 0.00000000e+00 1.39088300e+07]]\n",
      "IOUs:  [0.94514879 0.         0.44743214] , mean:  0.46419364594567664\n",
      "Epoch 14:\n"
     ]
    },
    {
     "name": "stderr",
     "output_type": "stream",
     "text": [
      "Loss: 0.7817554473876953: 100%|██████████| 25/25 [01:06<00:00,  2.66s/it]\n",
      "  0%|          | 0/25 [00:00<?, ?it/s]"
     ]
    },
    {
     "name": "stdout",
     "output_type": "stream",
     "text": [
      "Epoch stats:\n",
      "[[3.19171032e+08 0.00000000e+00 1.13496670e+07]\n",
      " [1.49944300e+06 0.00000000e+00 1.26904000e+05]\n",
      " [5.81475700e+06 0.00000000e+00 1.41631250e+07]]\n",
      "IOUs:  [0.94475447 0.         0.45027408] , mean:  0.4650095189034851\n",
      "Epoch 15:\n"
     ]
    },
    {
     "name": "stderr",
     "output_type": "stream",
     "text": [
      "Loss: 0.7863314151763916: 100%|██████████| 25/25 [00:56<00:00,  2.27s/it]\n",
      "  0%|          | 0/25 [00:00<?, ?it/s]"
     ]
    },
    {
     "name": "stdout",
     "output_type": "stream",
     "text": [
      "Epoch stats:\n",
      "[[3.18931613e+08 0.00000000e+00 1.15890860e+07]\n",
      " [1.49573800e+06 0.00000000e+00 1.30609000e+05]\n",
      " [5.73924800e+06 0.00000000e+00 1.42386340e+07]]\n",
      "IOUs:  [0.94426719 0.         0.4492026 ] , mean:  0.4644899313778658\n",
      "Epoch 16:\n"
     ]
    },
    {
     "name": "stderr",
     "output_type": "stream",
     "text": [
      "Loss: 0.78230881690979: 100%|██████████| 25/25 [00:58<00:00,  2.34s/it]  \n",
      "  0%|          | 0/25 [00:00<?, ?it/s]"
     ]
    },
    {
     "name": "stdout",
     "output_type": "stream",
     "text": [
      "Epoch stats:\n",
      "[[3.19497912e+08 0.00000000e+00 1.10227870e+07]\n",
      " [1.50557200e+06 0.00000000e+00 1.20775000e+05]\n",
      " [5.65231200e+06 0.00000000e+00 1.43255700e+07]]\n",
      "IOUs:  [0.94615983 0.         0.46031187] , mean:  0.4688239003895394\n",
      "Epoch 17:\n"
     ]
    },
    {
     "name": "stderr",
     "output_type": "stream",
     "text": [
      "Loss: 0.7810721397399902: 100%|██████████| 25/25 [00:59<00:00,  2.38s/it]\n",
      "  0%|          | 0/25 [00:00<?, ?it/s]"
     ]
    },
    {
     "name": "stdout",
     "output_type": "stream",
     "text": [
      "Epoch stats:\n",
      "[[3.19636151e+08 0.00000000e+00 1.08845480e+07]\n",
      " [1.51050400e+06 0.00000000e+00 1.15843000e+05]\n",
      " [5.46656400e+06 0.00000000e+00 1.45113180e+07]]\n",
      "IOUs:  [0.94707634 0.         0.46843534] , mean:  0.47183722938879064\n",
      "Epoch 18:\n"
     ]
    },
    {
     "name": "stderr",
     "output_type": "stream",
     "text": [
      "Loss: 0.783646821975708: 100%|██████████| 25/25 [00:55<00:00,  2.22s/it] \n",
      "  0%|          | 0/25 [00:00<?, ?it/s]"
     ]
    },
    {
     "name": "stdout",
     "output_type": "stream",
     "text": [
      "Epoch stats:\n",
      "[[3.19583461e+08 0.00000000e+00 1.09372380e+07]\n",
      " [1.49381900e+06 0.00000000e+00 1.32528000e+05]\n",
      " [5.28747200e+06 0.00000000e+00 1.46904100e+07]]\n",
      "IOUs:  [0.94746984 0.         0.47315694] , mean:  0.4735422572121362\n",
      "Epoch 19:\n"
     ]
    },
    {
     "name": "stderr",
     "output_type": "stream",
     "text": [
      "Loss: 0.7785817384719849: 100%|██████████| 25/25 [00:57<00:00,  2.31s/it]\n",
      "  0%|          | 0/25 [00:00<?, ?it/s]"
     ]
    },
    {
     "name": "stdout",
     "output_type": "stream",
     "text": [
      "Epoch stats:\n",
      "[[3.19838486e+08 0.00000000e+00 1.06822130e+07]\n",
      " [1.50151900e+06 1.40000000e+01 1.24814000e+05]\n",
      " [5.37105700e+06 0.00000000e+00 1.46068250e+07]]\n",
      "IOUs:  [9.47969357e-01 8.60824904e-06 4.74480045e-01] , mean:  0.47415267004189765\n",
      "Epoch 20:\n"
     ]
    },
    {
     "name": "stderr",
     "output_type": "stream",
     "text": [
      "Loss: 0.7837892174720764: 100%|██████████| 25/25 [01:03<00:00,  2.53s/it]"
     ]
    },
    {
     "name": "stdout",
     "output_type": "stream",
     "text": [
      "Epoch stats:\n",
      "[[3.19462395e+08 6.00000000e+00 1.10582980e+07]\n",
      " [1.48727600e+06 0.00000000e+00 1.39071000e+05]\n",
      " [5.10564100e+06 0.00000000e+00 1.48722410e+07]]\n",
      "IOUs:  [0.94764014 0.         0.47705281] , mean:  0.47489764974583665\n",
      "CPU times: user 10min 16s, sys: 5min 36s, total: 15min 53s\n",
      "Wall time: 18min 50s\n"
     ]
    },
    {
     "name": "stderr",
     "output_type": "stream",
     "text": [
      "\n"
     ]
    }
   ],
   "source": [
    "%%time\n",
    "cgnet.train(train)"
   ]
  },
  {
   "cell_type": "markdown",
   "metadata": {},
   "source": [
    "9/20/23: Training is maxing out at 0.4749 IOU mean at last epoch"
   ]
  },
  {
   "cell_type": "markdown",
   "metadata": {
    "jp-MarkdownHeadingCollapsed": true,
    "tags": []
   },
   "source": [
    "### TO DO: output masks during training so we can visually check match between training data and what model predicts?\n",
    "Instead of simply relying on IOU. Also check the loss function here.\\\n",
    "Below, have found a way to save out testing data masks to compare predictions vs. labels on the test data.\n",
    "\n",
    "### TO DO: increase # epochs? play with batch size, other hyperparameters; random seed for spread\n",
    "See CGnet papers (Kapp-Schwoerer et al. and Lacombe et al.)"
   ]
  },
  {
   "cell_type": "markdown",
   "metadata": {},
   "source": [
    "## Evaluate model on test data - TMQ, U850, V850, PSL"
   ]
  },
  {
   "cell_type": "code",
   "execution_count": 15,
   "metadata": {},
   "outputs": [
    {
     "data": {
      "text/plain": [
       "{'TMQ': {'mean': 19.218494415283203, 'std': 15.817276954650879},\n",
       " 'U850': {'mean': 1.5530235767364502, 'std': 8.29762077331543},\n",
       " 'V850': {'mean': 0.2541317045688629, 'std': 6.231630802154541},\n",
       " 'PSL': {'mean': 100814.078125, 'std': 1461.225830078125}}"
      ]
     },
     "execution_count": 15,
     "metadata": {},
     "output_type": "execute_result"
    }
   ],
   "source": [
    "test.fields"
   ]
  },
  {
   "cell_type": "code",
   "execution_count": 16,
   "metadata": {},
   "outputs": [
    {
     "data": {
      "text/plain": [
       "61"
      ]
     },
     "execution_count": 16,
     "metadata": {},
     "output_type": "execute_result"
    }
   ],
   "source": [
    "test.length"
   ]
  },
  {
   "cell_type": "code",
   "execution_count": 16,
   "metadata": {},
   "outputs": [
    {
     "name": "stderr",
     "output_type": "stream",
     "text": [
      "100%|██████████| 4/4 [00:09<00:00,  2.49s/it]"
     ]
    },
    {
     "name": "stdout",
     "output_type": "stream",
     "text": [
      "Evaluation stats:\n",
      "[[4.9207437e+07 1.6860800e+05 1.2782570e+06]\n",
      " [1.2489300e+05 1.6929100e+05 2.4100000e+03]\n",
      " [1.2919190e+06 1.5389000e+04 1.7106920e+06]]\n",
      "IOUs:  [0.9450045  0.35225587 0.39795872] , mean:  0.5650730277914003\n",
      "CPU times: user 1.64 s, sys: 1.65 s, total: 3.29 s\n",
      "Wall time: 9.97 s\n"
     ]
    },
    {
     "name": "stderr",
     "output_type": "stream",
     "text": [
      "\n"
     ]
    }
   ],
   "source": [
    "%%time\n",
    "cgnet.evaluate(test)"
   ]
  },
  {
   "cell_type": "markdown",
   "metadata": {},
   "source": [
    "2/15/23: Testing data is at 0.55 IOU mean\\\n",
    "4/5/23: Testing data is at 0.56 IOU mean"
   ]
  },
  {
   "cell_type": "markdown",
   "metadata": {},
   "source": [
    "## Evaluate model on test data - TMQ, V850"
   ]
  },
  {
   "cell_type": "code",
   "execution_count": 12,
   "metadata": {},
   "outputs": [
    {
     "data": {
      "text/plain": [
       "{'TMQ': {'mean': 19.218494415283203, 'std': 15.817276954650879},\n",
       " 'V850': {'mean': 0.2541317045688629, 'std': 6.231630802154541}}"
      ]
     },
     "execution_count": 12,
     "metadata": {},
     "output_type": "execute_result"
    }
   ],
   "source": [
    "test.fields"
   ]
  },
  {
   "cell_type": "code",
   "execution_count": 15,
   "metadata": {},
   "outputs": [
    {
     "name": "stderr",
     "output_type": "stream",
     "text": [
      "100%|██████████| 4/4 [00:09<00:00,  2.31s/it]"
     ]
    },
    {
     "name": "stdout",
     "output_type": "stream",
     "text": [
      "Evaluation stats:\n",
      "[[4.8270906e+07 1.7247800e+05 2.2109180e+06]\n",
      " [1.2835800e+05 1.6712400e+05 1.1120000e+03]\n",
      " [9.6592800e+05 1.7096000e+04 2.0349760e+06]]\n",
      "IOUs:  [0.93279658 0.34375771 0.38909452] , mean:  0.5552162709391156\n",
      "CPU times: user 1.42 s, sys: 1.16 s, total: 2.59 s\n",
      "Wall time: 9.23 s\n"
     ]
    },
    {
     "name": "stderr",
     "output_type": "stream",
     "text": [
      "\n"
     ]
    }
   ],
   "source": [
    "%%time\n",
    "cgnet.evaluate(test)"
   ]
  },
  {
   "cell_type": "markdown",
   "metadata": {},
   "source": [
    "9/20/23: Testing data is at 0.55 IOU mean\\\n",
    "Similar (perhaps slightly degraded) performance to 4 input fields version"
   ]
  },
  {
   "cell_type": "markdown",
   "metadata": {},
   "source": [
    "## Evaluate model on test data - TMQ"
   ]
  },
  {
   "cell_type": "code",
   "execution_count": 82,
   "metadata": {},
   "outputs": [
    {
     "data": {
      "text/plain": [
       "{'TMQ': {'mean': 19.218494415283203, 'std': 15.817276954650879}}"
      ]
     },
     "execution_count": 82,
     "metadata": {},
     "output_type": "execute_result"
    }
   ],
   "source": [
    "test.fields"
   ]
  },
  {
   "cell_type": "code",
   "execution_count": 83,
   "metadata": {},
   "outputs": [
    {
     "name": "stderr",
     "output_type": "stream",
     "text": [
      "100%|██████████| 4/4 [00:15<00:00,  3.77s/it]"
     ]
    },
    {
     "name": "stdout",
     "output_type": "stream",
     "text": [
      "Evaluation stats:\n",
      "[[4.9289379e+07 0.0000000e+00 1.3649230e+06]\n",
      " [2.9495600e+05 0.0000000e+00 1.6380000e+03]\n",
      " [1.3877350e+06 0.0000000e+00 1.6302650e+06]]\n",
      "IOUs:  [0.94176941 0.         0.37181944] , mean:  0.4378629486893792\n",
      "CPU times: user 1.24 s, sys: 985 ms, total: 2.22 s\n",
      "Wall time: 15.1 s\n"
     ]
    },
    {
     "name": "stderr",
     "output_type": "stream",
     "text": [
      "\n"
     ]
    }
   ],
   "source": [
    "%%time\n",
    "cgnet.evaluate(test)"
   ]
  },
  {
   "cell_type": "markdown",
   "metadata": {},
   "source": [
    "9/20/23: Testing data is at 0.43 IOU mean\\\n",
    "Unable to detect TCs with just TMQ but AR performance is similar (slightly degraded as you remove input fields)"
   ]
  },
  {
   "cell_type": "markdown",
   "metadata": {},
   "source": [
    "## Save out model"
   ]
  },
  {
   "cell_type": "code",
   "execution_count": 84,
   "metadata": {},
   "outputs": [],
   "source": [
    "# makes a folder by the name specified, puts the trained model and config file in there\n",
    "#cgnet.save_model('/glade/work/kdagon/ML-extremes/trained_models/trained_cgnet.021523') # TMQ, U850, V850, PSL; weighted means and unweighted std in config file\n",
    "#cgnet.save_model('/glade/work/kdagon/ML-extremes/trained_models/trained_cgnet.040523') # TMQ, U850, V850, PSL; unweighted means/std in config file\n",
    "#cgnet.save_model('/glade/work/kdagon/ML-extremes/trained_models/trained_cgnet.092023_TMQ_V850') # TMQ, V850; unweighted means/std in config file\n",
    "#cgnet.save_model('/glade/work/kdagon/ML-extremes/trained_models/trained_cgnet.092023_TMQ') # TMQ; unweighted means/std in config file\n",
    "\n",
    "cgnet.save_model('/glade/work/tking/cgnet/ML-extremes/trained_models/trained_cgnet.012024_TMQ_unweighted_mean_std')"
   ]
  },
  {
   "cell_type": "markdown",
   "metadata": {},
   "source": [
    "## Load in previously trained model"
   ]
  },
  {
   "cell_type": "code",
   "execution_count": 13,
   "metadata": {},
   "outputs": [],
   "source": [
    "#cgnet.load_model('/glade/work/kdagon/ML-extremes/trained_models/trained_cgnet.021523') # TMQ, U850, V850, PSL; weighted means and unweighted std in config file\n",
    "#cgnet.load_model('/glade/work/kdagon/ML-extremes/trained_models/trained_cgnet.040523') # TMQ, U850, V850, PSL; unweighted means/std in config file\n",
    "\n",
    "cgnet.load_model('/glade/work/tking/cgnet/ML-extremes/trained_models/trained_cgnet.012024_TMQ_unweighted_mean_std')"
   ]
  },
  {
   "cell_type": "markdown",
   "metadata": {},
   "source": [
    "## Predict on test data\n",
    "Need to reload test data as `ClimateDataset` in order to use `.predict`"
   ]
  },
  {
   "cell_type": "code",
   "execution_count": 19,
   "metadata": {},
   "outputs": [],
   "source": [
    "test_path = \"/glade/campaign/cgd/amp/jet/ClimateNet_12012020/portal.nersc.gov/project/ClimateNet/climatenet_new/test\"\n",
    "test_data = ClimateDataset(test_path, config)"
   ]
  },
  {
   "cell_type": "code",
   "execution_count": 20,
   "metadata": {},
   "outputs": [
    {
     "name": "stderr",
     "output_type": "stream",
     "text": [
      "100%|██████████| 4/4 [00:21<00:00,  5.25s/it]"
     ]
    },
    {
     "name": "stdout",
     "output_type": "stream",
     "text": [
      "CPU times: user 2.74 s, sys: 2.05 s, total: 4.79 s\n",
      "Wall time: 21.2 s\n"
     ]
    },
    {
     "name": "stderr",
     "output_type": "stream",
     "text": [
      "\n"
     ]
    }
   ],
   "source": [
    "%%time\n",
    "test_masks = cgnet.predict(test_data)"
   ]
  },
  {
   "cell_type": "code",
   "execution_count": 32,
   "metadata": {},
   "outputs": [
    {
     "data": {
      "image/png": "[encoded data removed]",
      "text/plain": [
       "<Figure size 432x288 with 2 Axes>"
      ]
     },
     "metadata": {
      "needs_background": "light"
     },
     "output_type": "display_data"
    }
   ],
   "source": [
    "test_masks.isel(time=0).plot();"
   ]
  },
  {
   "cell_type": "markdown",
   "metadata": {},
   "source": [
    "## Save out test data masks"
   ]
  },
  {
   "cell_type": "code",
   "execution_count": 35,
   "metadata": {},
   "outputs": [
    {
     "name": "stdout",
     "output_type": "stream",
     "text": [
      "CPU times: user 2.35 ms, sys: 142 ms, total: 144 ms\n",
      "Wall time: 168 ms\n"
     ]
    }
   ],
   "source": [
    "%%time\n",
    "test_masks.name = 'masks'\n",
    "test_masks.to_netcdf(\"/glade/campaign/cgd/ccr/kdagon/cgnet/evaluate/test_masks.040523.nc\") # trained_cgnet.040523 applied to test data to evaluate predictions vs. labels"
   ]
  },
  {
   "cell_type": "markdown",
   "metadata": {},
   "source": [
    "## Set inference data"
   ]
  },
  {
   "cell_type": "code",
   "execution_count": 38,
   "metadata": {},
   "outputs": [],
   "source": [
    "year=2000\n",
    "#inference_path = \"/glade/campaign/cgd/amp/jet/ClimateNet/Climate_data_\"+str(year)\n",
    "#inference_path = \"/glade/scratch/tking/cgnet/historical_2000_2005/split_files\"\n",
    "inference_path = \"/glade/campaign/cgd/ccr/kdagon/cgnet/B20TRC5CN/\"+str(year)\n",
    "\n",
    "inference = ClimateDataset(inference_path, config)  # could test different config with std/means for inference data"
   ]
  },
  {
   "cell_type": "code",
   "execution_count": 39,
   "metadata": {},
   "outputs": [
    {
     "data": {
      "text/plain": [
       "{'TMQ': {'mean': 24.927238169017997, 'std': 15.817276954650879},\n",
       " 'U850': {'mean': 1.0356735863118816, 'std': 8.29762077331543},\n",
       " 'V850': {'mean': 0.20847854977498861, 'std': 6.231630802154541},\n",
       " 'PSL': {'mean': 101095.03520124489, 'std': 1461.225830078125}}"
      ]
     },
     "execution_count": 39,
     "metadata": {},
     "output_type": "execute_result"
    }
   ],
   "source": [
    "inference.fields"
   ]
  },
  {
   "cell_type": "code",
   "execution_count": 40,
   "metadata": {},
   "outputs": [
    {
     "data": {
      "text/plain": [
       "17520"
      ]
     },
     "execution_count": 40,
     "metadata": {},
     "output_type": "execute_result"
    }
   ],
   "source": [
    "inference.length"
   ]
  },
  {
   "cell_type": "markdown",
   "metadata": {},
   "source": [
    "## Inference mode\n",
    "This is now done more systematically in `cgnet_run_pre_trained_model.ipynb`."
   ]
  },
  {
   "cell_type": "code",
   "execution_count": 35,
   "metadata": {},
   "outputs": [
    {
     "name": "stderr",
     "output_type": "stream",
     "text": [
      "100%|██████████| 183/183 [06:38<00:00,  2.18s/it]\n"
     ]
    },
    {
     "name": "stdout",
     "output_type": "stream",
     "text": [
      "CPU times: user 2min 17s, sys: 1min 8s, total: 3min 26s\n",
      "Wall time: 6min 46s\n"
     ]
    }
   ],
   "source": [
    "%%time\n",
    "class_masks = cgnet.predict(inference) # masks with 1==TC, 2==AR"
   ]
  },
  {
   "cell_type": "markdown",
   "metadata": {},
   "source": [
    "## Save out masks"
   ]
  },
  {
   "cell_type": "code",
   "execution_count": 36,
   "metadata": {},
   "outputs": [
    {
     "name": "stdout",
     "output_type": "stream",
     "text": [
      "CPU times: user 55.9 ms, sys: 4.16 s, total: 4.22 s\n",
      "Wall time: 7.53 s\n"
     ]
    }
   ],
   "source": [
    "%%time\n",
    "class_masks.to_netcdf(\"/glade/scratch/kdagon/cgnet/class_masks.\"+str(year)+\".nc\")"
   ]
  },
  {
   "cell_type": "markdown",
   "metadata": {},
   "source": [
    "## Track events\n",
    "Create masks with event IDs"
   ]
  },
  {
   "cell_type": "markdown",
   "metadata": {},
   "source": [
    "Note: memory spikes here - resource intensive!"
   ]
  },
  {
   "cell_type": "code",
   "execution_count": null,
   "metadata": {},
   "outputs": [],
   "source": [
    "%%time\n",
    "event_masks = track_events(class_masks)"
   ]
  },
  {
   "cell_type": "code",
   "execution_count": null,
   "metadata": {},
   "outputs": [],
   "source": [
    "%%time\n",
    "event_masks.to_netcdf(\"/glade/scratch/kdagon/cgnet/event_masks.\"+str(year)+\".test.nc\")"
   ]
  },
  {
   "cell_type": "markdown",
   "metadata": {},
   "source": [
    "## Analyze events\n",
    "Produce some visualizations"
   ]
  },
  {
   "cell_type": "code",
   "execution_count": null,
   "metadata": {},
   "outputs": [],
   "source": [
    "analyze_events(event_masks, class_masks, \"/glade/scratch/kdagon/cgnet/\")"
   ]
  },
  {
   "cell_type": "code",
   "execution_count": null,
   "metadata": {},
   "outputs": [],
   "source": [
    "visualize_events(event_masks, inference, \"/glade/scratch/kdagon/cgnet/\")   "
   ]
  },
  {
   "cell_type": "markdown",
   "metadata": {},
   "source": [
    "## Weights and Biases\n",
    "https://docs.wandb.ai/quickstart \\\n",
    "Potential tool for hyperparameter optimization\\\n",
    "Still figuring out how this works..."
   ]
  },
  {
   "cell_type": "code",
   "execution_count": 42,
   "metadata": {},
   "outputs": [],
   "source": [
    "import wandb"
   ]
  },
  {
   "cell_type": "code",
   "execution_count": 44,
   "metadata": {},
   "outputs": [
    {
     "name": "stderr",
     "output_type": "stream",
     "text": [
      "\u001b[34m\u001b[1mwandb\u001b[0m: You can find your API key in your browser here: https://wandb.ai/authorize\n"
     ]
    },
    {
     "name": "stdin",
     "output_type": "stream",
     "text": [
      "\u001b[34m\u001b[1mwandb\u001b[0m: Paste an API key from your profile and hit enter:  ········\n"
     ]
    },
    {
     "name": "stderr",
     "output_type": "stream",
     "text": [
      "\u001b[34m\u001b[1mwandb\u001b[0m: Appending key for api.wandb.ai to your netrc file: /glade/u/home/kdagon/.netrc\n"
     ]
    },
    {
     "data": {
      "text/plain": [
       "True"
      ]
     },
     "execution_count": 44,
     "metadata": {},
     "output_type": "execute_result"
    }
   ],
   "source": [
    "wandb.login()"
   ]
  },
  {
   "cell_type": "code",
   "execution_count": 46,
   "metadata": {
    "tags": []
   },
   "outputs": [
    {
     "name": "stderr",
     "output_type": "stream",
     "text": [
      "Ignoring settings passed to wandb.setup() which has already been configured.\n",
      "\u001b[34m\u001b[1mwandb\u001b[0m: You can find your API key in your browser here: https://wandb.ai/authorize\n"
     ]
    },
    {
     "name": "stdin",
     "output_type": "stream",
     "text": [
      "\u001b[34m\u001b[1mwandb\u001b[0m: Paste an API key from your profile and hit enter:  ········\n"
     ]
    },
    {
     "name": "stderr",
     "output_type": "stream",
     "text": [
      "\u001b[34m\u001b[1mwandb\u001b[0m: Appending key for api.wandb.ai to your netrc file: /glade/u/home/kdagon/.netrc\n",
      "\u001b[34m\u001b[1mwandb\u001b[0m: wandb version 0.13.10 is available!  To upgrade, please run:\n",
      "\u001b[34m\u001b[1mwandb\u001b[0m:  $ pip install wandb --upgrade\n",
      "\u001b[34m\u001b[1mwandb\u001b[0m: Tracking run with wandb version 0.10.2\n",
      "\u001b[34m\u001b[1mwandb\u001b[0m: Run data is saved locally in wandb/run-20230215_172859-2auiboc1\n",
      "\u001b[34m\u001b[1mwandb\u001b[0m: Syncing run \u001b[33mdecent-river-1\u001b[0m\n"
     ]
    },
    {
     "data": {
      "text/html": [
       "\n",
       "                Logging results to <a href=\"https://wandb.com\" target=\"_blank\">Weights & Biases</a> <a href=\"https://docs.wandb.com/integrations/jupyter.html\" target=\"_blank\">(Documentation)</a>.<br/>\n",
       "                Project page: <a href=\"https://wandb.ai/katie-dagon/climatenet-test\" target=\"_blank\">https://wandb.ai/katie-dagon/climatenet-test</a><br/>\n",
       "                Run page: <a href=\"https://wandb.ai/katie-dagon/climatenet-test/runs/2auiboc1\" target=\"_blank\">https://wandb.ai/katie-dagon/climatenet-test/runs/2auiboc1</a><br/>\n",
       "            "
      ],
      "text/plain": [
       "<IPython.core.display.HTML object>"
      ]
     },
     "metadata": {},
     "output_type": "display_data"
    },
    {
     "name": "stdout",
     "output_type": "stream",
     "text": [
      "\n"
     ]
    },
    {
     "data": {
      "text/html": [
       "<h1>Run(2auiboc1)</h1><p></p><iframe src=\"https://wandb.ai/katie-dagon/climatenet-test/runs/2auiboc1\" style=\"border:none;width:100%;height:400px\"></iframe>"
      ],
      "text/plain": [
       "<wandb.sdk.wandb_run.Run at 0x2ab0106bc0f0>"
      ]
     },
     "execution_count": 46,
     "metadata": {},
     "output_type": "execute_result"
    }
   ],
   "source": [
    "wandb.init(project=\"climatenet-test\", entity=\"katie-dagon\")"
   ]
  },
  {
   "cell_type": "code",
   "execution_count": 47,
   "metadata": {},
   "outputs": [],
   "source": [
    "wandb.config = {\n",
    "  \"learning_rate\": 0.001,\n",
    "  \"epochs\": 20,\n",
    "  \"batch_size\": 16\n",
    "}"
   ]
  },
  {
   "cell_type": "code",
   "execution_count": 49,
   "metadata": {},
   "outputs": [
    {
     "ename": "NameError",
     "evalue": "name 'loss' is not defined",
     "output_type": "error",
     "traceback": [
      "\u001b[0;31m---------------------------------------------------------------------------\u001b[0m",
      "\u001b[0;31mNameError\u001b[0m                                 Traceback (most recent call last)",
      "\u001b[0;32m<ipython-input-49-f16444db75fa>\u001b[0m in \u001b[0;36m<module>\u001b[0;34m\u001b[0m\n\u001b[0;32m----> 1\u001b[0;31m \u001b[0mwandb\u001b[0m\u001b[0;34m.\u001b[0m\u001b[0mlog\u001b[0m\u001b[0;34m(\u001b[0m\u001b[0;34m{\u001b[0m\u001b[0;34m\"loss\"\u001b[0m\u001b[0;34m:\u001b[0m \u001b[0mloss\u001b[0m\u001b[0;34m}\u001b[0m\u001b[0;34m)\u001b[0m\u001b[0;34m\u001b[0m\u001b[0;34m\u001b[0m\u001b[0m\n\u001b[0m",
      "\u001b[0;31mNameError\u001b[0m: name 'loss' is not defined"
     ]
    }
   ],
   "source": [
    "wandb.log({\"loss\": loss})"
   ]
  },
  {
   "cell_type": "code",
   "execution_count": null,
   "metadata": {},
   "outputs": [],
   "source": []
  },
  {
   "cell_type": "code",
   "execution_count": null,
   "metadata": {},
   "outputs": [],
   "source": []
  }
 ],
 "metadata": {
  "kernelspec": {
   "display_name": "lbltorchplus",
   "language": "python",
   "name": "lbltorchplus"
  },
  "language_info": {
   "codemirror_mode": {
    "name": "ipython",
    "version": 3
   },
   "file_extension": ".py",
   "mimetype": "text/x-python",
   "name": "python",
   "nbconvert_exporter": "python",
   "pygments_lexer": "ipython3",
   "version": "3.6.10"
  }
 },
 "nbformat": 4,
 "nbformat_minor": 4
}
