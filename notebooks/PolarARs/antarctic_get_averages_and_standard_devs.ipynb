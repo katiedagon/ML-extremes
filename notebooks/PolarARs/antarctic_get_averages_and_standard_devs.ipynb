{
 "cells": [
  {
   "cell_type": "markdown",
   "metadata": {},
   "source": [
    "# Calculating averages and standard deviations\n",
    "\n",
    "Purpose:\n",
    "--------\n",
    "The purpose of this notebook is to calculate averages and standard deviations for the configuration file used to train CGnet for machine learning detection of atmospheric rivers and tropical cyclones.\\\n",
    "See ClimateNet repo here: https://github.com/andregraubner/ClimateNet\n",
    "\n",
    "Authors/Contributors:\n",
    "---------------------\n",
    "* Teagan King\n",
    "* John Truesdale\n",
    "* Katie Dagon"
   ]
  },
  {
   "cell_type": "markdown",
   "metadata": {},
   "source": [
    "## Import libraries"
   ]
  },
  {
   "cell_type": "code",
   "execution_count": 1,
   "metadata": {},
   "outputs": [],
   "source": [
    "import xarray as xr\n",
    "import numpy as np"
   ]
  },
  {
   "cell_type": "markdown",
   "metadata": {},
   "source": [
    "### Set up Dask"
   ]
  },
  {
   "cell_type": "code",
   "execution_count": 10,
   "metadata": {
    "tags": []
   },
   "outputs": [
    {
     "name": "stderr",
     "output_type": "stream",
     "text": [
      "/glade/u/home/tking/.conda/envs/polar_ARs/lib/python3.9/site-packages/distributed/node.py:180: UserWarning: Port 8787 is already in use.\n",
      "Perhaps you already have a cluster running?\n",
      "Hosting the HTTP server on port 37141 instead\n",
      "  warnings.warn(\n"
     ]
    }
   ],
   "source": [
    "# Import dask\n",
    "import dask\n",
    "\n",
    "# Use dask jobqueue\n",
    "from dask_jobqueue import PBSCluster\n",
    "\n",
    "# Import a client\n",
    "from dask.distributed import Client\n",
    "\n",
    "# Setup your PBSCluster\n",
    "nmem1 = '10GiB' # PBSCluster specification\n",
    "nmem2 = '10GB' # pbs specification\n",
    "cluster = PBSCluster(\n",
    "    cores=1, # The number of cores you want\n",
    "    memory=nmem1, # Amount of memory\n",
    "    processes=1, # How many processes\n",
    "    queue='casper', # The type of queue to utilize (/glade/u/apps/dav/opt/usr/bin/execcasper)\n",
    "    local_directory='/glade/scratch/$USER/local_dask', # Use your local directory\n",
    "    resource_spec='select=1:ncpus=1:mem='+nmem2, # Specify resources\n",
    "    account='P06010014', # Input your project ID here, previously this was known as 'project', now is 'account'\n",
    "    walltime='02:00:00', # Amount of wall time\n",
    "    # interface='ib0', # Interface to use\n",
    ")\n",
    "\n",
    "# Scale up\n",
    "cluster.scale(30)\n",
    "\n",
    "# Change your url to the dask dashboard so you can see it\n",
    "dask.config.set({'distributed.dashboard.link':'https://jupyterhub.hpc.ucar.edu/stable/user/{USER}/proxy/{port}/status'})\n",
    "\n",
    "# Setup your client\n",
    "client = Client(cluster)"
   ]
  },
  {
   "cell_type": "code",
   "execution_count": 11,
   "metadata": {},
   "outputs": [
    {
     "data": {
      "text/plain": [
       "<dask.config.set at 0x151ebfc99850>"
      ]
     },
     "execution_count": 11,
     "metadata": {},
     "output_type": "execute_result"
    }
   ],
   "source": [
    "dask.config.set({'distributed.dashboard.link':'https://jupyterhub.hpc.ucar.edu/stable/user/{USER}/GPU/proxy/{port}/status'}) # need to include name of server if named!"
   ]
  },
  {
   "cell_type": "code",
   "execution_count": 12,
   "metadata": {
    "tags": []
   },
   "outputs": [
    {
     "data": {
      "text/html": [
       "<div>\n",
       "    <div style=\"width: 24px; height: 24px; background-color: #e1e1e1; border: 3px solid #9D9D9D; border-radius: 5px; position: absolute;\"> </div>\n",
       "    <div style=\"margin-left: 48px;\">\n",
       "        <h3 style=\"margin-bottom: 0px;\">Client</h3>\n",
       "        <p style=\"color: #9D9D9D; margin-bottom: 0px;\">Client-108cb3f4-b199-11ee-8a28-3cecef1b11fa</p>\n",
       "        <table style=\"width: 100%; text-align: left;\">\n",
       "\n",
       "        <tr>\n",
       "        \n",
       "            <td style=\"text-align: left;\"><strong>Connection method:</strong> Cluster object</td>\n",
       "            <td style=\"text-align: left;\"><strong>Cluster type:</strong> dask_jobqueue.PBSCluster</td>\n",
       "        \n",
       "        </tr>\n",
       "\n",
       "        \n",
       "            <tr>\n",
       "                <td style=\"text-align: left;\">\n",
       "                    <strong>Dashboard: </strong> <a href=\"https://jupyterhub.hpc.ucar.edu/stable/user/tking/GPU/proxy/37141/status\" target=\"_blank\">https://jupyterhub.hpc.ucar.edu/stable/user/tking/GPU/proxy/37141/status</a>\n",
       "                </td>\n",
       "                <td style=\"text-align: left;\"></td>\n",
       "            </tr>\n",
       "        \n",
       "\n",
       "        </table>\n",
       "\n",
       "        \n",
       "            <details>\n",
       "            <summary style=\"margin-bottom: 20px;\"><h3 style=\"display: inline;\">Cluster Info</h3></summary>\n",
       "            <div class=\"jp-RenderedHTMLCommon jp-RenderedHTML jp-mod-trusted jp-OutputArea-output\">\n",
       "    <div style=\"width: 24px; height: 24px; background-color: #e1e1e1; border: 3px solid #9D9D9D; border-radius: 5px; position: absolute;\">\n",
       "    </div>\n",
       "    <div style=\"margin-left: 48px;\">\n",
       "        <h3 style=\"margin-bottom: 0px; margin-top: 0px;\">PBSCluster</h3>\n",
       "        <p style=\"color: #9D9D9D; margin-bottom: 0px;\">72760ed6</p>\n",
       "        <table style=\"width: 100%; text-align: left;\">\n",
       "            <tr>\n",
       "                <td style=\"text-align: left;\">\n",
       "                    <strong>Dashboard:</strong> <a href=\"https://jupyterhub.hpc.ucar.edu/stable/user/tking/GPU/proxy/37141/status\" target=\"_blank\">https://jupyterhub.hpc.ucar.edu/stable/user/tking/GPU/proxy/37141/status</a>\n",
       "                </td>\n",
       "                <td style=\"text-align: left;\">\n",
       "                    <strong>Workers:</strong> 0\n",
       "                </td>\n",
       "            </tr>\n",
       "            <tr>\n",
       "                <td style=\"text-align: left;\">\n",
       "                    <strong>Total threads:</strong> 0\n",
       "                </td>\n",
       "                <td style=\"text-align: left;\">\n",
       "                    <strong>Total memory:</strong> 0 B\n",
       "                </td>\n",
       "            </tr>\n",
       "            \n",
       "        </table>\n",
       "\n",
       "        <details>\n",
       "            <summary style=\"margin-bottom: 20px;\">\n",
       "                <h3 style=\"display: inline;\">Scheduler Info</h3>\n",
       "            </summary>\n",
       "\n",
       "            <div style=\"\">\n",
       "    <div>\n",
       "        <div style=\"width: 24px; height: 24px; background-color: #FFF7E5; border: 3px solid #FF6132; border-radius: 5px; position: absolute;\"> </div>\n",
       "        <div style=\"margin-left: 48px;\">\n",
       "            <h3 style=\"margin-bottom: 0px;\">Scheduler</h3>\n",
       "            <p style=\"color: #9D9D9D; margin-bottom: 0px;\">Scheduler-58975ce0-b49d-401f-bff1-77ff266a03eb</p>\n",
       "            <table style=\"width: 100%; text-align: left;\">\n",
       "                <tr>\n",
       "                    <td style=\"text-align: left;\">\n",
       "                        <strong>Comm:</strong> tcp://128.117.208.103:42285\n",
       "                    </td>\n",
       "                    <td style=\"text-align: left;\">\n",
       "                        <strong>Workers:</strong> 0\n",
       "                    </td>\n",
       "                </tr>\n",
       "                <tr>\n",
       "                    <td style=\"text-align: left;\">\n",
       "                        <strong>Dashboard:</strong> <a href=\"https://jupyterhub.hpc.ucar.edu/stable/user/tking/GPU/proxy/37141/status\" target=\"_blank\">https://jupyterhub.hpc.ucar.edu/stable/user/tking/GPU/proxy/37141/status</a>\n",
       "                    </td>\n",
       "                    <td style=\"text-align: left;\">\n",
       "                        <strong>Total threads:</strong> 0\n",
       "                    </td>\n",
       "                </tr>\n",
       "                <tr>\n",
       "                    <td style=\"text-align: left;\">\n",
       "                        <strong>Started:</strong> Just now\n",
       "                    </td>\n",
       "                    <td style=\"text-align: left;\">\n",
       "                        <strong>Total memory:</strong> 0 B\n",
       "                    </td>\n",
       "                </tr>\n",
       "            </table>\n",
       "        </div>\n",
       "    </div>\n",
       "\n",
       "    <details style=\"margin-left: 48px;\">\n",
       "        <summary style=\"margin-bottom: 20px;\">\n",
       "            <h3 style=\"display: inline;\">Workers</h3>\n",
       "        </summary>\n",
       "\n",
       "        \n",
       "\n",
       "    </details>\n",
       "</div>\n",
       "\n",
       "        </details>\n",
       "    </div>\n",
       "</div>\n",
       "            </details>\n",
       "        \n",
       "\n",
       "    </div>\n",
       "</div>"
      ],
      "text/plain": [
       "<Client: 'tcp://128.117.208.103:42285' processes=0 threads=0, memory=0 B>"
      ]
     },
     "execution_count": 12,
     "metadata": {},
     "output_type": "execute_result"
    }
   ],
   "source": [
    "client"
   ]
  },
  {
   "cell_type": "markdown",
   "metadata": {},
   "source": [
    "## Set file paths"
   ]
  },
  {
   "cell_type": "code",
   "execution_count": 22,
   "metadata": {},
   "outputs": [],
   "source": [
    "# original training data from NERSC\n",
    "# file_path = \"/glade/campaign/cgd/amp/jet/ClimateNet_12012020/portal.nersc.gov/project/ClimateNet/climatenet_new/train/\"\n",
    "# file_path = \"/glade/derecho/scratch/tking/cgnet/high_lat_QC/from_nersc/2dlatlon/polar/renamed/\"\n",
    "file_path = '/glade/work/tking/cgnet/QA_xml/all_antarctic_converted_masks/split_files/*/'"
   ]
  },
  {
   "cell_type": "markdown",
   "metadata": {},
   "source": [
    "## Open training data"
   ]
  },
  {
   "cell_type": "markdown",
   "metadata": {},
   "source": [
    "### Original training data from NERSC"
   ]
  },
  {
   "cell_type": "code",
   "execution_count": 23,
   "metadata": {
    "tags": []
   },
   "outputs": [
    {
     "name": "stderr",
     "output_type": "stream",
     "text": [
      "Task exception was never retrieved\n",
      "future: <Task finished name='Task-48727' coro=<Client._gather.<locals>.wait() done, defined at /glade/u/home/tking/.conda/envs/polar_ARs/lib/python3.9/site-packages/distributed/client.py:1994> exception=AllExit()>\n",
      "Traceback (most recent call last):\n",
      "  File \"/glade/u/home/tking/.conda/envs/polar_ARs/lib/python3.9/site-packages/distributed/client.py\", line 1999, in wait\n",
      "    raise AllExit()\n",
      "distributed.client.AllExit\n"
     ]
    },
    {
     "name": "stdout",
     "output_type": "stream",
     "text": [
      "CPU times: user 15 s, sys: 7.26 s, total: 22.3 s\n",
      "Wall time: 2min 27s\n"
     ]
    }
   ],
   "source": [
    "%%time\n",
    "# ds_pr = xr.open_mfdataset(file_path+\"pr_*.nc\", concat_dim='time', combine='nested', parallel=True)\n",
    "# ds_prw = xr.open_mfdataset(file_path+\"prw_*.nc\", concat_dim='time', combine='nested', parallel=True)\n",
    "# ds_psl = xr.open_mfdataset(file_path+\"psl_*.nc\", concat_dim='time', combine='nested', parallel=True)\n",
    "# ds_ua850 = xr.open_mfdataset(file_path+\"ua850_*.nc\", concat_dim='time', combine='nested', parallel=True)\n",
    "# ds_va850 = xr.open_mfdataset(file_path+\"va850_*.nc\", concat_dim='time', combine='nested', parallel=True)\n",
    "# ds_windhusavi = xr.open_mfdataset(file_path+\"windhusavi_*.nc\", concat_dim='time', combine='nested', parallel=True)\n",
    "\n",
    "ds = xr.open_mfdataset(file_path+\"*.nc\", concat_dim='time', combine='nested', parallel=True)\n",
    "\n",
    "# The polar files are separated by variable instead of containing all vars"
   ]
  },
  {
   "cell_type": "markdown",
   "metadata": {},
   "source": [
    "## Function to calculate weighted global mean and standard deviation"
   ]
  },
  {
   "cell_type": "code",
   "execution_count": 24,
   "metadata": {},
   "outputs": [],
   "source": [
    "def wgt_mean_std(ds, var):\n",
    "    # weights = np.cos(np.deg2rad(ds.lat))\n",
    "    # weights.name = \"weights\"\n",
    "\n",
    "    # option 1: mean across time at each point, then weighted global mean of those means\n",
    "    # var_wgt_mean = ds[var].mean(dim='time').weighted(weights).mean((\"lon\", \"lat\")).compute()\n",
    "\n",
    "    # option 2: unweighted mean across time/space\n",
    "    var_mean = ds[var].mean().compute()\n",
    "\n",
    "    # option 1: std across time at each point, then weighted global mean of those std's\n",
    "    # var_wgt_std = ds[var].std(dim='time').weighted(weights).mean((\"lon\", \"lat\")).compute()\n",
    "\n",
    "    # option 2: std across time/space\n",
    "    var_std = ds[var].std().compute()\n",
    "\n",
    "    # return(var_wgt_mean, var_mean, var_wgt_std, var_std)\n",
    "    # return(var_wgt_mean, var_std)\n",
    "    return (var_mean, var_std)"
   ]
  },
  {
   "cell_type": "markdown",
   "metadata": {},
   "source": [
    "## Calculate values"
   ]
  },
  {
   "cell_type": "markdown",
   "metadata": {},
   "source": [
    "### Original NERSC training data"
   ]
  },
  {
   "cell_type": "code",
   "execution_count": 33,
   "metadata": {},
   "outputs": [
    {
     "name": "stdout",
     "output_type": "stream",
     "text": [
      "CPU times: user 7.69 s, sys: 468 ms, total: 8.16 s\n",
      "Wall time: 39 s\n"
     ]
    }
   ],
   "source": [
    "%%time\n",
    "all_w_means = {}\n",
    "all_means = {}\n",
    "all_w_std = {}\n",
    "all_std = {}\n",
    "for var in ['pr', 'tmq', 'ivt', 'psl']:\n",
    "    # if var == 'pr':\n",
    "    #     w_means, means, w_std, std = wgt_mean_std(ds_pr, var)\n",
    "    # if var == 'prw':\n",
    "    #     w_means, means, w_std, std = wgt_mean_std(ds_prw, var)\n",
    "    # if var == 'psl':\n",
    "    #     w_means, means, w_std, std = wgt_mean_std(ds_psl, var)\n",
    "    # if var == 'ua850':\n",
    "    #     w_means, means, w_std, std = wgt_mean_std(ds_ua850, var)\n",
    "    # if var == 'va850':\n",
    "    #     w_means, means, w_std, std = wgt_mean_std(ds_va850, var)\n",
    "    # if var == 'windhusavi':\n",
    "    #     w_means, means, w_std, std = wgt_mean_std(ds_windhusavi, var)\n",
    "    means, std = wgt_mean_std(ds, var)\n",
    "    all_means[var] = means\n",
    "    all_std[var] = std"
   ]
  },
  {
   "cell_type": "code",
   "execution_count": 35,
   "metadata": {},
   "outputs": [
    {
     "name": "stdout",
     "output_type": "stream",
     "text": [
      "pr unweighted global mean: 3.307231634227589e-05\n",
      "pr unweighted std: 0.00013132695522992795\n",
      "\n",
      "tmq unweighted global mean: 21.593790761325735\n",
      "tmq unweighted std: 13.6215941728325\n",
      "\n",
      "ivt unweighted global mean: 175.08854037051293\n",
      "ivt unweighted std: 147.9106153573991\n",
      "\n",
      "psl unweighted global mean: 101001.37087934873\n",
      "psl unweighted std: 1387.3006430965993\n",
      "\n"
     ]
    }
   ],
   "source": [
    "for i, var in enumerate(['pr', 'tmq', 'ivt', 'psl']):\n",
    "    print(\"{} unweighted global mean: {}\".format(var, all_means[var].values))\n",
    "    print(\"{} unweighted std: {}\".format(var, all_std[var].values))"
   ]
  }
 ],
 "metadata": {
  "kernelspec": {
   "display_name": "PolarARs",
   "language": "python",
   "name": "polarars"
  },
  "language_info": {
   "codemirror_mode": {
    "name": "ipython",
    "version": 3
   },
   "file_extension": ".py",
   "mimetype": "text/x-python",
   "name": "python",
   "nbconvert_exporter": "python",
   "pygments_lexer": "ipython3",
   "version": "3.9.16"
  }
 },
 "nbformat": 4,
 "nbformat_minor": 4
}
