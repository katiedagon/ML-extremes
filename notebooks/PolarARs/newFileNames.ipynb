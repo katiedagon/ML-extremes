{
 "cells": [
  {
   "cell_type": "code",
   "execution_count": null,
   "metadata": {},
   "outputs": [],
   "source": [
    "import glob\n",
    "from datetime import date\n",
    "from datetime import datetime\n",
    "import stat\n",
    "from datetime import timedelta\n",
    "import random\n",
    "import sys\n",
    "import os"
   ]
  },
  {
   "cell_type": "code",
   "execution_count": null,
   "metadata": {},
   "outputs": [],
   "source": [
    "fileNameDir = \"/glade/scratch/tking/06\""
   ]
  },
  {
   "cell_type": "code",
   "execution_count": null,
   "metadata": {},
   "outputs": [],
   "source": [
    "old = [\"2000.txt\", \"2001.txt\", \"2002.txt\", \"2003.txt\", \"2004.txt\"]\n",
    "new = [\"2000new.txt\", \"2001new.txt\", \"2002new.txt\", \"2003new.txt\", \"2004new.txt\"]\n",
    "days = [i for i in range(1, 366)]  # This was 363 originally\n",
    "start = date(1979, 1, 1)\n",
    "# start_times = [7665, 8030, 8395, 8760, 9125] # 21, 22, 23... years after 1979 = 2000, 2001, 2002, etc\n",
    "start_times = [7669, 8035, 8400, 8765, 9130] # updated for leap years & index was 1 off\n",
    "s = dict()\n",
    "# leap years: 1980, 1984, 1988, 1992, 1996, 2000 (each of these has 366 days)\n"
   ]
  },
  {
   "cell_type": "code",
   "execution_count": null,
   "metadata": {
    "tags": []
   },
   "outputs": [],
   "source": [
    "# loop through years 2000-2004\n",
    "for i in range(5):\n",
    "    # open and read file fi, write to fw\n",
    "    fi = open(fileNameDir + \"/\" + old[i], \"r\")\n",
    "    fw = open(fileNameDir + \"/\" + new[i], \"w+\")\n",
    "    fi_lines = fi.readlines()\n",
    "    s[i] = set([])\n",
    "    # each line has an index and date, add index to set s[i] if it is not yet in set\n",
    "    for x in fi_lines:\n",
    "        idx, fn = x.split()\n",
    "        s[i].add(int(idx))\n",
    "    fi.close()\n",
    "    j = 0\n",
    "    temp = []\n",
    "    while j < 60: # why randomly assign 60 times that are not in s? to randomize order of indices? seems like indices change but order doesnt\n",
    "        # while j < 365: # use to check all dates\n",
    "        # there are 60 total lines...\n",
    "        day = random.sample(days,1)[0]\n",
    "        # day = days[j]\n",
    "        hour = random.sample([1,2,3,4,5,6,7,8],1)[0]  # use the index corresponding to 3hourly files\n",
    "        time = (day * 8) + hour   # time index is the number of days multiplied by 8 because it's 3hourly data\n",
    "        if not (time in s[i]):\n",
    "            temp.append((day, time, hour))\n",
    "            j += 1\n",
    "    temp.sort(key=lambda x: x[1])\n",
    "    for d, t, h in temp:\n",
    "        fname = (start + timedelta(days=start_times[i]+d)).strftime(\"data-%Y-%m-%d-{}-0.jpg\".format(h))\n",
    "        print(\"{} {}\".format(t, fname))\n",
    "        fw.write(\"{} {}\\n\".format(t, fname))\n",
    "    fw.close()"
   ]
  },
  {
   "cell_type": "code",
   "execution_count": null,
   "metadata": {},
   "outputs": [],
   "source": [
    "index = glob.glob('/global/project/projectdirs/ClimateNet/image_scripts/second200_filenames.txt')"
   ]
  },
  {
   "cell_type": "code",
   "execution_count": null,
   "metadata": {},
   "outputs": [],
   "source": [
    "index"
   ]
  },
  {
   "cell_type": "markdown",
   "metadata": {},
   "source": [
    "# Move old filenames to corrected filenames where index aligns with date"
   ]
  },
  {
   "cell_type": "code",
   "execution_count": null,
   "metadata": {},
   "outputs": [],
   "source": [
    "old_filenames_qa1_antarctic = [\"data-2001-01-01-00-2_0.nc\",  \"data-2001-05-14-00-2_0.nc\",  \"data-2001-09-08-00-2_0.nc\",\n",
    "    \"data-2001-01-24-00-2_0.nc\",  \"data-2001-05-14-00-2_1.nc\",  \"data-2001-09-09-00-2_0.nc\",\n",
    "    \"data-2001-01-24-00-2_1.nc\",  \"data-2001-05-28-00-2_0.nc\",  \"data-2001-09-26-00-2_0.nc\",\n",
    "    \"data-2001-01-24-00-2_2.nc\",  \"data-2001-06-20-00-2_0.nc\",  \"data-2001-10-03-00-2_0.nc\",\n",
    "    \"data-2001-02-14-00-2_0.nc\",  \"data-2001-06-20-00-2_1.nc\",  \"data-2001-10-06-00-2_0.nc\",\n",
    "    \"data-2001-02-14-00-2_1.nc\",  \"data-2001-06-23-00-2_0.nc\",  \"data-2001-10-25-00-2_0.nc\",\n",
    "    \"data-2001-02-17-00-2_0.nc\",  \"data-2001-06-23-00-2_1.nc\",  \"data-2001-10-25-00-2_1.nc\",\n",
    "    \"data-2001-02-17-00-2_1.nc\",  \"data-2001-06-30-00-2_0.nc\",  \"data-2001-11-04-00-2_0.nc\",\n",
    "    \"data-2001-02-20-00-2_0.nc\",  \"data-2001-06-30-00-2_1.nc\",  \"data-2001-11-08-00-2_0.nc\",\n",
    "    \"data-2001-03-01-00-2_0.nc\",  \"data-2001-07-14-00-2_0.nc\",  \"data-2001-11-12-00-2_0.nc\",\n",
    "    \"data-2001-03-01-00-2_1.nc\",  \"data-2001-07-14-00-2_1.nc\",  \"data-2001-11-22-00-2_0.nc\",\n",
    "    \"data-2001-03-01-00-2_2.nc\",  \"data-2001-07-23-00-2_0.nc\",  \"data-2001-12-03-00-2_0.nc\",\n",
    "    \"data-2001-03-01-00-2_3.nc\",  \"data-2001-07-23-00-2_1.nc\",  \"data-2001-12-05-00-2_0.nc\",\n",
    "    \"data-2001-03-03-00-2_0.nc\",  \"data-2001-07-23-00-2_2.nc\",  \"data-2001-12-23-00-2_0.nc\",\n",
    "    \"data-2001-03-03-00-2_1.nc\",  \"data-2001-07-23-00-2_3.nc\",  \"data-2001-12-23-00-2_1.nc\",\n",
    "    \"data-2001-03-03-00-2_2.nc\",  \"data-2001-08-03-00-2_0.nc\",  \"data-2002-01-09-00-2_0.nc\",\n",
    "    \"data-2001-03-12-00-2_0.nc\",  \"data-2001-08-03-00-2_1.nc\",  \"data-2002-01-10-00-2_0.nc\",\n",
    "    \"data-2001-03-15-00-2_0.nc\",  \"data-2001-08-03-00-2_2.nc\",  \"data-2002-01-30-00-2_0.nc\",\n",
    "    \"data-2001-03-15-00-2_1.nc\",  \"data-2001-08-14-00-2_0.nc\",  \"data-2002-02-07-00-2_0.nc\",\n",
    "    \"data-2001-03-25-00-2_0.nc\",  \"data-2001-08-15-00-2_0.nc\",  \"data-2002-02-17-00-2_0.nc\",\n",
    "    \"data-2001-03-25-00-2_1.nc\",  \"data-2001-08-21-00-2_0.nc\",  \"data-2002-02-22-00-2_0.nc\",\n",
    "    \"data-2001-03-25-00-2_2.nc\",  \"data-2001-08-25-00-2_0.nc\",  \"data-2002-02-22-00-2_1.nc\",\n",
    "    \"data-2001-04-05-00-2_0.nc\",  \"data-2001-09-07-00-2_0.nc\"]"
   ]
  },
  {
   "cell_type": "code",
   "execution_count": null,
   "metadata": {},
   "outputs": [],
   "source": [
    "# calculate what index would have (incorrectly) been\n",
    "first_file = 'data-2003-01-15-02-0.jpg' # old_filenames_qa1_antarctic[0]\n",
    "first_file_year = first_file.split(\"-\")[1]\n",
    "first_file_month = first_file.split(\"-\")[2]\n",
    "first_file_day = first_file.split(\"-\")[3]\n",
    "\n",
    "# [7670, 8036, 8401, 8766, 9131]\n",
    "if first_file_year == '2000':\n",
    "    start_time = 7669\n",
    "if first_file_year == '2001':\n",
    "    start_time = 8035\n",
    "if first_file_year == '2002':\n",
    "    start_time = 8400\n",
    "if first_file_year == '2003':\n",
    "    start_time = 8765\n",
    "if first_file_year == '2004':\n",
    "    start_time = 9130\n",
    "\n",
    "time_index_used = int(first_file_day) * 8\n",
    "\n",
    "print(first_file_day)\n",
    "print(\"day, time: {}, {}\".format(first_file_day, time_index_used))\n",
    "time_index_used\n",
    "\n",
    "print(start_time+int(first_file_day))\n",
    "print(timedelta(days=start_time+int(first_file_day)))\n",
    "\n",
    "fname = (date(1979, 1, 1) + timedelta(days=start_time+int(first_file_day))).strftime(\"data-%Y-%m-%d-02-0.jpg\")\n",
    "print(fname)\n",
    "\n",
    "# maybe corrected dates are just off by 5 for 2000 and 6 for 2001+??? So, for year 2000, add 5 days, and for other years, add 6 days?\n",
    "# but then indexing was off by one as well to return the same filetime, so actually +4 and +5\n"
   ]
  },
  {
   "cell_type": "code",
   "execution_count": null,
   "metadata": {},
   "outputs": [],
   "source": [
    "# use index to calculate what date/time should have been\n"
   ]
  },
  {
   "cell_type": "code",
   "execution_count": null,
   "metadata": {},
   "outputs": [],
   "source": [
    "# write out name of corrected file\n"
   ]
  },
  {
   "cell_type": "code",
   "execution_count": null,
   "metadata": {},
   "outputs": [],
   "source": [
    "for i in range(len(old_filenames))\n",
    "    print(\"mv {} {}\".format(old_filenames[i], new_filenames[i]))"
   ]
  }
 ],
 "metadata": {
  "kernelspec": {
   "display_name": "Python 3 (ipykernel)",
   "language": "python",
   "name": "python3"
  },
  "language_info": {
   "codemirror_mode": {
    "name": "ipython",
    "version": 3
   },
   "file_extension": ".py",
   "mimetype": "text/x-python",
   "name": "python",
   "nbconvert_exporter": "python",
   "pygments_lexer": "ipython3",
   "version": "3.9.12"
  }
 },
 "nbformat": 4,
 "nbformat_minor": 4
}
