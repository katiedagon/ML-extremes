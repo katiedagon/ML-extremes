{
 "cells": [
  {
   "cell_type": "markdown",
   "metadata": {},
   "source": [
    "# Export animation of fronts"
   ]
  },
  {
   "cell_type": "code",
   "execution_count": 45,
   "metadata": {},
   "outputs": [],
   "source": [
    "import xarray as xr\n",
    "import numpy as np\n",
    "import matplotlib.pyplot as plt\n",
    "import matplotlib.pylab as pl\n",
    "import pandas as pd\n",
    "import matplotlib as mpl\n",
    "from itertools import product\n",
    "import matplotlib.colors as color\n",
    "from matplotlib.lines import Line2D\n",
    "import cartopy.crs as ccrs\n",
    "from matplotlib import cm\n",
    "from cartopy.util import add_cyclic_point"
   ]
  },
  {
   "cell_type": "code",
   "execution_count": 2,
   "metadata": {},
   "outputs": [],
   "source": [
    "#open the prepared dataset (1981/12/15-2019/2/15)\n",
    "data = xr.open_dataset('/glade/work/molina/DATA/jan2017_synoptic/case_study_ssts.nc', decode_cf=True)"
   ]
  },
  {
   "cell_type": "code",
   "execution_count": 5,
   "metadata": {},
   "outputs": [
    {
     "data": {
      "text/html": [
       "<pre>&lt;xarray.DataArray &#x27;sst&#x27; (T: 2394, lat: 300, lon: 520)&gt;\n",
       "[373464000 values with dtype=float32]\n",
       "Coordinates:\n",
       "    zlev     float32 ...\n",
       "  * lat      (lat) float32 -9.875 -9.625 -9.375 -9.125 ... 64.375 64.625 64.875\n",
       "  * lon      (lon) float32 160.125 160.375 160.625 ... 289.375 289.625 289.875\n",
       "  * T        (T) datetime64[ns] 1981-12-15T12:00:00 ... 2019-02-15\n",
       "Attributes:\n",
       "    valid_min:  -300\n",
       "    valid_max:  4500\n",
       "    long_name:  Daily sea surface temperature</pre>"
      ],
      "text/plain": [
       "<xarray.DataArray 'sst' (T: 2394, lat: 300, lon: 520)>\n",
       "[373464000 values with dtype=float32]\n",
       "Coordinates:\n",
       "    zlev     float32 ...\n",
       "  * lat      (lat) float32 -9.875 -9.625 -9.375 -9.125 ... 64.375 64.625 64.875\n",
       "  * lon      (lon) float32 160.125 160.375 160.625 ... 289.375 289.625 289.875\n",
       "  * T        (T) datetime64[ns] 1981-12-15T12:00:00 ... 2019-02-15\n",
       "Attributes:\n",
       "    valid_min:  -300\n",
       "    valid_max:  4500\n",
       "    long_name:  Daily sea surface temperature"
      ]
     },
     "execution_count": 5,
     "metadata": {},
     "output_type": "execute_result"
    }
   ],
   "source": [
    "data.sst[counter,:,:]"
   ]
  },
  {
   "cell_type": "code",
   "execution_count": 5,
   "metadata": {},
   "outputs": [],
   "source": [
    "file_path = \"/glade/work/kdagon/FrontDetector/CESMOutputs/\""
   ]
  },
  {
   "cell_type": "code",
   "execution_count": 6,
   "metadata": {},
   "outputs": [],
   "source": [
    "fronts_file = \"cesm_fronts_2000-2005.nc\"\n",
    "onehot_file = \"cesm_frontsOneHot_2000-2005.nc\"\n",
    "rates_file = \"cesm_frontRates_2000-2005.nc\""
   ]
  },
  {
   "cell_type": "code",
   "execution_count": 59,
   "metadata": {},
   "outputs": [],
   "source": [
    "pred_fronts = xr.open_dataset(file_path+fronts_file)"
   ]
  },
  {
   "cell_type": "code",
   "execution_count": 9,
   "metadata": {},
   "outputs": [
    {
     "data": {
      "text/plain": [
       "<xarray.DataArray 'predicted_fronts' (time: 17520, front: 5, lat: 68, lon: 141)>\n",
       "[839908800 values with dtype=float32]\n",
       "Coordinates:\n",
       "  * time        (time) object 2000-01-01 03:00:00 ... 2006-01-01 00:00:00\n",
       "  * lat         (lat) float64 10.0 11.0 12.0 13.0 14.0 ... 74.0 75.0 76.0 77.0\n",
       "  * lon         (lon) float64 189.0 190.0 191.0 192.0 ... 327.0 328.0 329.0\n",
       "    front_type  (front) object ...\n",
       "Dimensions without coordinates: front\n",
       "Attributes:\n",
       "    long_name:  Predicted frontal boundary probability\n",
       "    valid_min:  0.0\n",
       "    valid_max:  1.0\n",
       "    units:      1"
      ]
     },
     "execution_count": 9,
     "metadata": {},
     "output_type": "execute_result"
    }
   ],
   "source": [
    "pfronts = pred_fronts.predicted_fronts\n",
    "pfronts"
   ]
  },
  {
   "cell_type": "code",
   "execution_count": 60,
   "metadata": {},
   "outputs": [],
   "source": [
    "onehot = xr.open_dataset(file_path+onehot_file)"
   ]
  },
  {
   "cell_type": "code",
   "execution_count": 61,
   "metadata": {},
   "outputs": [
    {
     "data": {
      "text/plain": [
       "<xarray.DataArray 'fronts' (time: 17520, front: 5, lat: 68, lon: 141)>\n",
       "[839908800 values with dtype=float32]\n",
       "Coordinates:\n",
       "  * time        (time) object 2000-01-01 03:00:00 ... 2006-01-01 00:00:00\n",
       "  * lat         (lat) float64 10.0 11.0 12.0 13.0 14.0 ... 74.0 75.0 76.0 77.0\n",
       "  * lon         (lon) float64 189.0 190.0 191.0 192.0 ... 327.0 328.0 329.0\n",
       "    front_type  (front) object ...\n",
       "Dimensions without coordinates: front\n",
       "Attributes:\n",
       "    long_name:     one-hot predicted fronts\n",
       "    grid_mapping:  crs\n",
       "    valid_min:     0\n",
       "    valid_max:     1"
      ]
     },
     "execution_count": 61,
     "metadata": {},
     "output_type": "execute_result"
    }
   ],
   "source": [
    "fronts = onehot.fronts\n",
    "fronts"
   ]
  },
  {
   "cell_type": "code",
   "execution_count": 67,
   "metadata": {},
   "outputs": [
    {
     "data": {
      "text/plain": [
       "<xarray.DataArray 'fronts' (time: 2919, lat: 68, lon: 141)>\n",
       "[27987372 values with dtype=float32]\n",
       "Coordinates:\n",
       "  * time        (time) object 2000-01-01 03:00:00 ... 2000-12-31 21:00:00\n",
       "  * lat         (lat) float64 10.0 11.0 12.0 13.0 14.0 ... 74.0 75.0 76.0 77.0\n",
       "  * lon         (lon) float64 189.0 190.0 191.0 192.0 ... 327.0 328.0 329.0\n",
       "    front_type  object ...\n",
       "Attributes:\n",
       "    long_name:     one-hot predicted fronts\n",
       "    grid_mapping:  crs\n",
       "    valid_min:     0\n",
       "    valid_max:     1"
      ]
     },
     "execution_count": 67,
     "metadata": {},
     "output_type": "execute_result"
    }
   ],
   "source": [
    "# selecting cold fronts; the first year\n",
    "cold_fronts_2000 = fronts.sel(time=slice(\"2000-01-01\", \"2000-12-31\"), front=0)\n",
    "cold_fronts_2000"
   ]
  },
  {
   "cell_type": "code",
   "execution_count": 103,
   "metadata": {},
   "outputs": [
    {
     "data": {
      "text/plain": [
       "<xarray.DataArray 'fronts' (time: 247, lat: 68, lon: 141)>\n",
       "[2368236 values with dtype=float32]\n",
       "Coordinates:\n",
       "  * time        (time) object 2000-01-01 03:00:00 ... 2000-01-31 21:00:00\n",
       "  * lat         (lat) float64 10.0 11.0 12.0 13.0 14.0 ... 74.0 75.0 76.0 77.0\n",
       "  * lon         (lon) float64 189.0 190.0 191.0 192.0 ... 327.0 328.0 329.0\n",
       "    front_type  object ...\n",
       "Attributes:\n",
       "    long_name:     one-hot predicted fronts\n",
       "    grid_mapping:  crs\n",
       "    valid_min:     0\n",
       "    valid_max:     1"
      ]
     },
     "execution_count": 103,
     "metadata": {},
     "output_type": "execute_result"
    }
   ],
   "source": [
    "cold_fronts_2000_jan = fronts.sel(time=slice(\"2000-01-01\", \"2000-01-31\"), front=0)\n",
    "cold_fronts_2000_jan"
   ]
  },
  {
   "cell_type": "code",
   "execution_count": 110,
   "metadata": {},
   "outputs": [
    {
     "data": {
      "image/png": "[encoded data removed]",
      "text/plain": [
       "<Figure size 576x720 with 1 Axes>"
      ]
     },
     "metadata": {
      "needs_background": "light"
     },
     "output_type": "display_data"
    }
   ],
   "source": [
    "# test plot of first time index to customize\n",
    "fig = plt.figure(figsize=(8,10))\n",
    "ax = fig.add_subplot(projection=ccrs.PlateCarree())\n",
    "\n",
    "field, lon = add_cyclic_point(cold_fronts_2000_jan[0,:,:], coord=pfronts.lon)\n",
    "lat = pfronts.lat\n",
    "\n",
    "ax.contourf(lon, lat, field, cmap=cm.Blues, transform=ccrs.PlateCarree())\n",
    "ax.coastlines();\n",
    "\n",
    "# haven't gotten the datetime to work yet\n",
    "#ax.set_title('Cold Fronts', fontsize=16)\n",
    "#ax.text(0.9, 1.015,'Jan '+pd.to_datetime(data['T'].values[numerate]).strftime(\"%d\"), \n",
    "            #fontsize=16,\n",
    "            #transform=ax.transAxes)\n",
    "        \n",
    "#plt.savefig(f'../figures/cold_fronts_animation/pred_fronts_cold_2000_jan_0.png', bbox_inches='tight', dpi=200)"
   ]
  },
  {
   "cell_type": "code",
   "execution_count": null,
   "metadata": {},
   "outputs": [],
   "source": [
    "#########################################################################################\n",
    "#########################################################################################\n",
    "#########################################################################################\n",
    "\n",
    "\n",
    "for counter, ind in enumerate(np.arange(0,len(cold_fronts_2000_jan))):\n",
    "    \n",
    "    iterate = \"{:02d}\".format(counter)\n",
    "\n",
    "    fig = plt.figure(figsize=(8,10))\n",
    "    ax = fig.add_subplot(projection=ccrs.PlateCarree())\n",
    "    \n",
    "    field, lon = add_cyclic_point(cold_fronts_2000[ind,:,:], coord=pfronts.lon)\n",
    "    lat = pfronts.lat\n",
    "\n",
    "    ax.contourf(lon, lat, field, cmap=cm.Blues, transform=ccrs.PlateCarree())\n",
    "    ax.coastlines();\n",
    "    \n",
    "    plt.savefig(f'../figures/cold_fronts_animation/pred_fronts_cold_2000_jan_{iterate}.png', bbox_inches='tight', dpi=200)\n",
    "    #plt.show()\n",
    "    plt.close()\n",
    "\n",
    "\n",
    "#########################################################################################\n",
    "#########################################################################################\n",
    "#########################################################################################"
   ]
  },
  {
   "cell_type": "code",
   "execution_count": 112,
   "metadata": {},
   "outputs": [],
   "source": [
    "import subprocess\n",
    "\n",
    "def grid2gif(image_str, output_gif):\n",
    "    str1 = 'convert -delay 8 -loop 0 ' + image_str  + ' ' + output_gif\n",
    "    subprocess.call(str1, shell=True)\n",
    "\n",
    "grid2gif(\"../figures/cold_fronts_animation/pred_fronts_cold_2000_jan_{00..246}.png\", \"../figures/cold_fronts_animation/fronts_cold_2000_jan.gif\")"
   ]
  },
  {
   "cell_type": "code",
   "execution_count": null,
   "metadata": {},
   "outputs": [],
   "source": []
  }
 ],
 "metadata": {
  "kernelspec": {
   "display_name": "Python (conda-python-tutorial)",
   "language": "python",
   "name": "python-tutorial"
  },
  "language_info": {
   "codemirror_mode": {
    "name": "ipython",
    "version": 3
   },
   "file_extension": ".py",
   "mimetype": "text/x-python",
   "name": "python",
   "nbconvert_exporter": "python",
   "pygments_lexer": "ipython3",
   "version": "3.7.3"
  }
 },
 "nbformat": 4,
 "nbformat_minor": 4
}
