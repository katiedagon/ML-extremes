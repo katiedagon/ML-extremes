{
 "cells": [
  {
   "cell_type": "markdown",
   "metadata": {},
   "source": [
    "# Data Processing"
   ]
  },
  {
   "cell_type": "markdown",
   "metadata": {},
   "source": [
    "Files took long time to process --> had been broken into 10 smaller files, then processed, but hopefully python/dask can deal with full file size!"
   ]
  },
  {
   "cell_type": "markdown",
   "metadata": {},
   "source": [
    "use 3hr averages for 2086-2100"
   ]
  },
  {
   "cell_type": "markdown",
   "metadata": {},
   "source": [
    "#### PSL"
   ]
  },
  {
   "cell_type": "markdown",
   "metadata": {},
   "source": [
    "As for the last field PSL we don't have 3hrly averages only 3hrly\n",
    "instantaneous which will have to be close enough.  PSL can be taken\n",
    "from the h5 files under the same directory as the other fields."
   ]
  },
  {
   "cell_type": "code",
   "execution_count": 1,
   "metadata": {},
   "outputs": [],
   "source": [
    "# ls /glade/campaign/cgd/amp/jet/ClimateNet/data_processing/extend/2085-2100/*h5.PSL*\n",
    "# move to same dir as others?\n",
    "\n",
    "# They are on other history tapes that were output for the experiment (h1 thru h5). John is checking which one? \n",
    "# We just have to make sure PS is temporarily averaged the same as the data.\n",
    "# If you're using 3hrly averaged data then we need to pull PS off one of the history files that is 3hrly averaged. "
   ]
  },
  {
   "cell_type": "code",
   "execution_count": 7,
   "metadata": {},
   "outputs": [],
   "source": [
    "# ls /glade/scratch/tking/cgnet/*/*PSL*"
   ]
  },
  {
   "cell_type": "code",
   "execution_count": 8,
   "metadata": {},
   "outputs": [
    {
     "name": "stdout",
     "output_type": "stream",
     "text": [
      "/glade/campaign/cgd/ccr/jet/nanr_forKatie/3hrly/b.e13.B20TRC5CN.ne120_g16.003/b.e13.B20TRC5CN.ne120_g16.003.cam.h4.PSL.2000010100Z-2000123121Z.nc\n",
      "/glade/campaign/cgd/ccr/jet/nanr_forKatie/3hrly/b.e13.B20TRC5CN.ne120_g16.003/b.e13.B20TRC5CN.ne120_g16.003.cam.h4.PSL.2001010100Z-2001123121Z.nc\n",
      "/glade/campaign/cgd/ccr/jet/nanr_forKatie/3hrly/b.e13.B20TRC5CN.ne120_g16.003/b.e13.B20TRC5CN.ne120_g16.003.cam.h4.PSL.2002010100Z-2002123121Z.nc\n",
      "/glade/campaign/cgd/ccr/jet/nanr_forKatie/3hrly/b.e13.B20TRC5CN.ne120_g16.003/b.e13.B20TRC5CN.ne120_g16.003.cam.h4.PSL.2003010100Z-2003123121Z.nc\n",
      "/glade/campaign/cgd/ccr/jet/nanr_forKatie/3hrly/b.e13.B20TRC5CN.ne120_g16.003/b.e13.B20TRC5CN.ne120_g16.003.cam.h4.PSL.2004010100Z-2004123121Z.nc\n",
      "/glade/campaign/cgd/ccr/jet/nanr_forKatie/3hrly/b.e13.B20TRC5CN.ne120_g16.003/b.e13.B20TRC5CN.ne120_g16.003.cam.h4.PSL.2005010100Z-2005123121Z.nc\n"
     ]
    }
   ],
   "source": [
    "# Historical data:\n",
    "ls /glade/campaign/cgd/ccr/jet/nanr_forKatie/3hrly/b.e13.B20TRC5CN.ne120_g16.003/*PSL.2*"
   ]
  },
  {
   "cell_type": "code",
   "execution_count": 10,
   "metadata": {},
   "outputs": [
    {
     "name": "stdout",
     "output_type": "stream",
     "text": [
      "ncremap -m /glade/campaign/cgd/amp/jet/ClimateNet/data_processing/maps/map_ne120_to_0.23x0.31_bilinear.nc -i /glade/campaign/cgd/ccr/jet/nanr_forKatie/3hrly/b.e13.B20TRC5CN.ne120_g16.003/b.e13.B20TRC5CN.ne120_g16.003.cam.h4.PSL.2000010100Z-2000123121Z.nc -o /glade/scratch/tking/cgnet/historical_2000_2005/regridded_PSL//glade/campaign/cgd/ccr/jet/nanr_forKatie/3hrly/b.e13.B20TRC5CN.ne120_g16.003/b.e13.B20TRC5CN.ne120_g16.003.cam.h4.PSL.2000010100Z-2000123121Z.nc\n",
      "ncremap -m /glade/campaign/cgd/amp/jet/ClimateNet/data_processing/maps/map_ne120_to_0.23x0.31_bilinear.nc -i /glade/campaign/cgd/ccr/jet/nanr_forKatie/3hrly/b.e13.B20TRC5CN.ne120_g16.003/b.e13.B20TRC5CN.ne120_g16.003.cam.h4.PSL.2001010100Z-2001123121Z.nc -o /glade/scratch/tking/cgnet/historical_2000_2005/regridded_PSL//glade/campaign/cgd/ccr/jet/nanr_forKatie/3hrly/b.e13.B20TRC5CN.ne120_g16.003/b.e13.B20TRC5CN.ne120_g16.003.cam.h4.PSL.2001010100Z-2001123121Z.nc\n",
      "ncremap -m /glade/campaign/cgd/amp/jet/ClimateNet/data_processing/maps/map_ne120_to_0.23x0.31_bilinear.nc -i /glade/campaign/cgd/ccr/jet/nanr_forKatie/3hrly/b.e13.B20TRC5CN.ne120_g16.003/b.e13.B20TRC5CN.ne120_g16.003.cam.h4.PSL.2002010100Z-2002123121Z.nc -o /glade/scratch/tking/cgnet/historical_2000_2005/regridded_PSL//glade/campaign/cgd/ccr/jet/nanr_forKatie/3hrly/b.e13.B20TRC5CN.ne120_g16.003/b.e13.B20TRC5CN.ne120_g16.003.cam.h4.PSL.2002010100Z-2002123121Z.nc\n",
      "ncremap -m /glade/campaign/cgd/amp/jet/ClimateNet/data_processing/maps/map_ne120_to_0.23x0.31_bilinear.nc -i /glade/campaign/cgd/ccr/jet/nanr_forKatie/3hrly/b.e13.B20TRC5CN.ne120_g16.003/b.e13.B20TRC5CN.ne120_g16.003.cam.h4.PSL.2003010100Z-2003123121Z.nc -o /glade/scratch/tking/cgnet/historical_2000_2005/regridded_PSL//glade/campaign/cgd/ccr/jet/nanr_forKatie/3hrly/b.e13.B20TRC5CN.ne120_g16.003/b.e13.B20TRC5CN.ne120_g16.003.cam.h4.PSL.2003010100Z-2003123121Z.nc\n",
      "ncremap -m /glade/campaign/cgd/amp/jet/ClimateNet/data_processing/maps/map_ne120_to_0.23x0.31_bilinear.nc -i /glade/campaign/cgd/ccr/jet/nanr_forKatie/3hrly/b.e13.B20TRC5CN.ne120_g16.003/b.e13.B20TRC5CN.ne120_g16.003.cam.h4.PSL.2004010100Z-2004123121Z.nc -o /glade/scratch/tking/cgnet/historical_2000_2005/regridded_PSL//glade/campaign/cgd/ccr/jet/nanr_forKatie/3hrly/b.e13.B20TRC5CN.ne120_g16.003/b.e13.B20TRC5CN.ne120_g16.003.cam.h4.PSL.2004010100Z-2004123121Z.nc\n",
      "ncremap -m /glade/campaign/cgd/amp/jet/ClimateNet/data_processing/maps/map_ne120_to_0.23x0.31_bilinear.nc -i /glade/campaign/cgd/ccr/jet/nanr_forKatie/3hrly/b.e13.B20TRC5CN.ne120_g16.003/b.e13.B20TRC5CN.ne120_g16.003.cam.h4.PSL.2005010100Z-2005123121Z.nc -o /glade/scratch/tking/cgnet/historical_2000_2005/regridded_PSL//glade/campaign/cgd/ccr/jet/nanr_forKatie/3hrly/b.e13.B20TRC5CN.ne120_g16.003/b.e13.B20TRC5CN.ne120_g16.003.cam.h4.PSL.2005010100Z-2005123121Z.nc\n"
     ]
    }
   ],
   "source": [
    "# %%bash\n",
    "\n",
    "PSL_to_regrid = ['/glade/campaign/cgd/ccr/jet/nanr_forKatie/3hrly/b.e13.B20TRC5CN.ne120_g16.003/b.e13.B20TRC5CN.ne120_g16.003.cam.h4.PSL.2000010100Z-2000123121Z.nc',\n",
    "                 '/glade/campaign/cgd/ccr/jet/nanr_forKatie/3hrly/b.e13.B20TRC5CN.ne120_g16.003/b.e13.B20TRC5CN.ne120_g16.003.cam.h4.PSL.2001010100Z-2001123121Z.nc',\n",
    "                 '/glade/campaign/cgd/ccr/jet/nanr_forKatie/3hrly/b.e13.B20TRC5CN.ne120_g16.003/b.e13.B20TRC5CN.ne120_g16.003.cam.h4.PSL.2002010100Z-2002123121Z.nc',\n",
    "                 '/glade/campaign/cgd/ccr/jet/nanr_forKatie/3hrly/b.e13.B20TRC5CN.ne120_g16.003/b.e13.B20TRC5CN.ne120_g16.003.cam.h4.PSL.2003010100Z-2003123121Z.nc',\n",
    "                 '/glade/campaign/cgd/ccr/jet/nanr_forKatie/3hrly/b.e13.B20TRC5CN.ne120_g16.003/b.e13.B20TRC5CN.ne120_g16.003.cam.h4.PSL.2004010100Z-2004123121Z.nc',\n",
    "                 '/glade/campaign/cgd/ccr/jet/nanr_forKatie/3hrly/b.e13.B20TRC5CN.ne120_g16.003/b.e13.B20TRC5CN.ne120_g16.003.cam.h4.PSL.2005010100Z-2005123121Z.nc']\n",
    "\n",
    "for file in PSL_to_regrid:\n",
    "    print('ncremap -m /glade/campaign/cgd/amp/jet/ClimateNet/data_processing/maps/map_ne120_to_0.23x0.31_bilinear.nc -i {} -o /glade/scratch/tking/cgnet/historical_2000_2005/regridded_PSL/{}'.format(file, file))\n",
    "\n",
    "# paste commands below into psl script... jobs will be killed if done all at once\n",
    "# module load nco/4.7.9\n"
   ]
  },
  {
   "cell_type": "code",
   "execution_count": 9,
   "metadata": {},
   "outputs": [],
   "source": [
    "# RCP8.5 data:\n",
    "# ls /glade/campaign/cgd/amp/jet/ClimateNet/data_processing/extend/2085-2100/*h5.PSL*Z.nc"
   ]
  },
  {
   "cell_type": "code",
   "execution_count": 3,
   "metadata": {},
   "outputs": [
    {
     "name": "stdout",
     "output_type": "stream",
     "text": [
      "ncremap -m /glade/campaign/cgd/amp/jet/ClimateNet/data_processing/maps/map_ne120_to_0.23x0.31_bilinear.nc -i /glade/campaign/cgd/amp/jet/ClimateNet/data_processing/extend/2085-2100/b.e13.BRCP85C5CN.ne120_g16.003a.cam.h5.PSL.2085010100Z-2085123121Z.nc -o /glade/scratch/tking/cgnet/regridded_PSL/b.e13.BRCP85C5CN.ne120_g16.003a.cam.h5.PSL.2085010100Z-2085123121Z.nc\n",
      "ncremap -m /glade/campaign/cgd/amp/jet/ClimateNet/data_processing/maps/map_ne120_to_0.23x0.31_bilinear.nc -i /glade/campaign/cgd/amp/jet/ClimateNet/data_processing/extend/2085-2100/b.e13.BRCP85C5CN.ne120_g16.003a.cam.h5.PSL.2086010100Z-2086123121Z.nc -o /glade/scratch/tking/cgnet/regridded_PSL/b.e13.BRCP85C5CN.ne120_g16.003a.cam.h5.PSL.2086010100Z-2086123121Z.nc\n",
      "ncremap -m /glade/campaign/cgd/amp/jet/ClimateNet/data_processing/maps/map_ne120_to_0.23x0.31_bilinear.nc -i /glade/campaign/cgd/amp/jet/ClimateNet/data_processing/extend/2085-2100/b.e13.BRCP85C5CN.ne120_g16.003a.cam.h5.PSL.2087010100Z-2087123121Z.nc -o /glade/scratch/tking/cgnet/regridded_PSL/b.e13.BRCP85C5CN.ne120_g16.003a.cam.h5.PSL.2087010100Z-2087123121Z.nc\n",
      "ncremap -m /glade/campaign/cgd/amp/jet/ClimateNet/data_processing/maps/map_ne120_to_0.23x0.31_bilinear.nc -i /glade/campaign/cgd/amp/jet/ClimateNet/data_processing/extend/2085-2100/b.e13.BRCP85C5CN.ne120_g16.003a.cam.h5.PSL.2088010100Z-2088123121Z.nc -o /glade/scratch/tking/cgnet/regridded_PSL/b.e13.BRCP85C5CN.ne120_g16.003a.cam.h5.PSL.2088010100Z-2088123121Z.nc\n",
      "ncremap -m /glade/campaign/cgd/amp/jet/ClimateNet/data_processing/maps/map_ne120_to_0.23x0.31_bilinear.nc -i /glade/campaign/cgd/amp/jet/ClimateNet/data_processing/extend/2085-2100/b.e13.BRCP85C5CN.ne120_g16.003a.cam.h5.PSL.2089010100Z-2089123121Z.nc -o /glade/scratch/tking/cgnet/regridded_PSL/b.e13.BRCP85C5CN.ne120_g16.003a.cam.h5.PSL.2089010100Z-2089123121Z.nc\n",
      "ncremap -m /glade/campaign/cgd/amp/jet/ClimateNet/data_processing/maps/map_ne120_to_0.23x0.31_bilinear.nc -i /glade/campaign/cgd/amp/jet/ClimateNet/data_processing/extend/2085-2100/b.e13.BRCP85C5CN.ne120_g16.003a.cam.h5.PSL.2090010100Z-2090123121Z.nc -o /glade/scratch/tking/cgnet/regridded_PSL/b.e13.BRCP85C5CN.ne120_g16.003a.cam.h5.PSL.2090010100Z-2090123121Z.nc\n",
      "ncremap -m /glade/campaign/cgd/amp/jet/ClimateNet/data_processing/maps/map_ne120_to_0.23x0.31_bilinear.nc -i /glade/campaign/cgd/amp/jet/ClimateNet/data_processing/extend/2085-2100/b.e13.BRCP85C5CN.ne120_g16.003a.cam.h5.PSL.2091010100Z-2091123121Z.nc -o /glade/scratch/tking/cgnet/regridded_PSL/b.e13.BRCP85C5CN.ne120_g16.003a.cam.h5.PSL.2091010100Z-2091123121Z.nc\n",
      "ncremap -m /glade/campaign/cgd/amp/jet/ClimateNet/data_processing/maps/map_ne120_to_0.23x0.31_bilinear.nc -i /glade/campaign/cgd/amp/jet/ClimateNet/data_processing/extend/2085-2100/b.e13.BRCP85C5CN.ne120_g16.003a.cam.h5.PSL.2092010100Z-2092123121Z.nc -o /glade/scratch/tking/cgnet/regridded_PSL/b.e13.BRCP85C5CN.ne120_g16.003a.cam.h5.PSL.2092010100Z-2092123121Z.nc\n",
      "ncremap -m /glade/campaign/cgd/amp/jet/ClimateNet/data_processing/maps/map_ne120_to_0.23x0.31_bilinear.nc -i /glade/campaign/cgd/amp/jet/ClimateNet/data_processing/extend/2085-2100/b.e13.BRCP85C5CN.ne120_g16.003a.cam.h5.PSL.2093010100Z-2093123121Z.nc -o /glade/scratch/tking/cgnet/regridded_PSL/b.e13.BRCP85C5CN.ne120_g16.003a.cam.h5.PSL.2093010100Z-2093123121Z.nc\n",
      "ncremap -m /glade/campaign/cgd/amp/jet/ClimateNet/data_processing/maps/map_ne120_to_0.23x0.31_bilinear.nc -i /glade/campaign/cgd/amp/jet/ClimateNet/data_processing/extend/2085-2100/b.e13.BRCP85C5CN.ne120_g16.003a.cam.h5.PSL.2094010100Z-2094123121Z.nc -o /glade/scratch/tking/cgnet/regridded_PSL/b.e13.BRCP85C5CN.ne120_g16.003a.cam.h5.PSL.2094010100Z-2094123121Z.nc\n",
      "ncremap -m /glade/campaign/cgd/amp/jet/ClimateNet/data_processing/maps/map_ne120_to_0.23x0.31_bilinear.nc -i /glade/campaign/cgd/amp/jet/ClimateNet/data_processing/extend/2085-2100/b.e13.BRCP85C5CN.ne120_g16.003a.cam.h5.PSL.2095010100Z-2095123121Z.nc -o /glade/scratch/tking/cgnet/regridded_PSL/b.e13.BRCP85C5CN.ne120_g16.003a.cam.h5.PSL.2095010100Z-2095123121Z.nc\n",
      "ncremap -m /glade/campaign/cgd/amp/jet/ClimateNet/data_processing/maps/map_ne120_to_0.23x0.31_bilinear.nc -i /glade/campaign/cgd/amp/jet/ClimateNet/data_processing/extend/2085-2100/b.e13.BRCP85C5CN.ne120_g16.003a.cam.h5.PSL.2096010100Z-2096123121Z.nc -o /glade/scratch/tking/cgnet/regridded_PSL/b.e13.BRCP85C5CN.ne120_g16.003a.cam.h5.PSL.2096010100Z-2096123121Z.nc\n",
      "ncremap -m /glade/campaign/cgd/amp/jet/ClimateNet/data_processing/maps/map_ne120_to_0.23x0.31_bilinear.nc -i /glade/campaign/cgd/amp/jet/ClimateNet/data_processing/extend/2085-2100/b.e13.BRCP85C5CN.ne120_g16.003a.cam.h5.PSL.2097010100Z-2097123121Z.nc -o /glade/scratch/tking/cgnet/regridded_PSL/b.e13.BRCP85C5CN.ne120_g16.003a.cam.h5.PSL.2097010100Z-2097123121Z.nc\n",
      "ncremap -m /glade/campaign/cgd/amp/jet/ClimateNet/data_processing/maps/map_ne120_to_0.23x0.31_bilinear.nc -i /glade/campaign/cgd/amp/jet/ClimateNet/data_processing/extend/2085-2100/b.e13.BRCP85C5CN.ne120_g16.003a.cam.h5.PSL.2098010100Z-2098123121Z.nc -o /glade/scratch/tking/cgnet/regridded_PSL/b.e13.BRCP85C5CN.ne120_g16.003a.cam.h5.PSL.2098010100Z-2098123121Z.nc\n",
      "ncremap -m /glade/campaign/cgd/amp/jet/ClimateNet/data_processing/maps/map_ne120_to_0.23x0.31_bilinear.nc -i /glade/campaign/cgd/amp/jet/ClimateNet/data_processing/extend/2085-2100/b.e13.BRCP85C5CN.ne120_g16.003a.cam.h5.PSL.2099010100Z-2099123121Z.nc -o /glade/scratch/tking/cgnet/regridded_PSL/b.e13.BRCP85C5CN.ne120_g16.003a.cam.h5.PSL.2099010100Z-2099123121Z.nc\n",
      "ncremap -m /glade/campaign/cgd/amp/jet/ClimateNet/data_processing/maps/map_ne120_to_0.23x0.31_bilinear.nc -i /glade/campaign/cgd/amp/jet/ClimateNet/data_processing/extend/2085-2100/b.e13.BRCP85C5CN.ne120_g16.003a.cam.h5.PSL.2100010100Z-2100123121Z.nc -o /glade/scratch/tking/cgnet/regridded_PSL/b.e13.BRCP85C5CN.ne120_g16.003a.cam.h5.PSL.2100010100Z-2100123121Z.nc\n"
     ]
    }
   ],
   "source": [
    "# %%bash\n",
    "\n",
    "PSL_to_regrid = ['b.e13.BRCP85C5CN.ne120_g16.003a.cam.h5.PSL.2085010100Z-2085123121Z.nc',\n",
    "'b.e13.BRCP85C5CN.ne120_g16.003a.cam.h5.PSL.2086010100Z-2086123121Z.nc',\n",
    "'b.e13.BRCP85C5CN.ne120_g16.003a.cam.h5.PSL.2087010100Z-2087123121Z.nc',\n",
    "'b.e13.BRCP85C5CN.ne120_g16.003a.cam.h5.PSL.2088010100Z-2088123121Z.nc',\n",
    "'b.e13.BRCP85C5CN.ne120_g16.003a.cam.h5.PSL.2089010100Z-2089123121Z.nc',\n",
    "'b.e13.BRCP85C5CN.ne120_g16.003a.cam.h5.PSL.2090010100Z-2090123121Z.nc',\n",
    "'b.e13.BRCP85C5CN.ne120_g16.003a.cam.h5.PSL.2091010100Z-2091123121Z.nc',\n",
    "'b.e13.BRCP85C5CN.ne120_g16.003a.cam.h5.PSL.2092010100Z-2092123121Z.nc',\n",
    "'b.e13.BRCP85C5CN.ne120_g16.003a.cam.h5.PSL.2093010100Z-2093123121Z.nc',\n",
    "'b.e13.BRCP85C5CN.ne120_g16.003a.cam.h5.PSL.2094010100Z-2094123121Z.nc',\n",
    "'b.e13.BRCP85C5CN.ne120_g16.003a.cam.h5.PSL.2095010100Z-2095123121Z.nc',\n",
    "'b.e13.BRCP85C5CN.ne120_g16.003a.cam.h5.PSL.2096010100Z-2096123121Z.nc',\n",
    "'b.e13.BRCP85C5CN.ne120_g16.003a.cam.h5.PSL.2097010100Z-2097123121Z.nc',\n",
    "'b.e13.BRCP85C5CN.ne120_g16.003a.cam.h5.PSL.2098010100Z-2098123121Z.nc',\n",
    "'b.e13.BRCP85C5CN.ne120_g16.003a.cam.h5.PSL.2099010100Z-2099123121Z.nc',\n",
    "'b.e13.BRCP85C5CN.ne120_g16.003a.cam.h5.PSL.2100010100Z-2100123121Z.nc']\n",
    "\n",
    "for file in PSL_to_regrid:\n",
    "    print('ncremap -m /glade/campaign/cgd/amp/jet/ClimateNet/data_processing/maps/map_ne120_to_0.23x0.31_bilinear.nc -i /glade/campaign/cgd/amp/jet/ClimateNet/data_processing/extend/2085-2100/{} -o /glade/scratch/tking/cgnet/regridded_PSL/{}'.format(file, file))\n",
    "\n",
    "# paste commands below into psl script... jobs will be killed if done all at once\n",
    "# module load nco/4.7.9\n"
   ]
  },
  {
   "cell_type": "code",
   "execution_count": null,
   "metadata": {},
   "outputs": [],
   "source": [
    "# put commands in psl_remap_script\n",
    "# qsub -A <ACCT> psl_remap_script"
   ]
  }
 ],
 "metadata": {
  "kernelspec": {
   "display_name": "geocat_f2py",
   "language": "python",
   "name": "geocat_f2py"
  },
  "language_info": {
   "codemirror_mode": {
    "name": "ipython",
    "version": 3
   },
   "file_extension": ".py",
   "mimetype": "text/x-python",
   "name": "python",
   "nbconvert_exporter": "python",
   "pygments_lexer": "ipython3",
   "version": "3.10.5"
  }
 },
 "nbformat": 4,
 "nbformat_minor": 4
}
