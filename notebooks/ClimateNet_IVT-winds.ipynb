{
 "cells": [
  {
   "cell_type": "markdown",
   "id": "a013e085-314b-4a20-b5b1-da5ea66b8fd2",
   "metadata": {},
   "source": [
    "### TO DO for IVT:\n",
    "- CESM \"IVT\" output along with AR conditions? Would need to derive 3hrly IVT from existing output or use 6hrly IVT (not avail for RCP2.6, 2006-2015)\n",
    "- Looking on NERSC HPSS for IVT output: `/home/c/ccsm/csm/CESM1.3_ne120_g16_runs/`\n",
    "  - For example, to query historical output: `hsi ls /home/c/ccsm/csm/CESM1.3_ne120_g16_runs/b.e13.B20TRC5CN.ne120_g16.003`"
   ]
  },
  {
   "cell_type": "markdown",
   "id": "1986172c-7a01-4f86-84cf-22443591b943",
   "metadata": {},
   "source": [
    "### TO DO for winds:\n",
    "- Decide what plots are best / feasible with current data availability (see google doc for notes/file locations)"
   ]
  },
  {
   "cell_type": "markdown",
   "id": "f2225b7c-91b0-4003-b564-484a611f77ed",
   "metadata": {},
   "source": [
    "# ClimateNet AR Analysis: IVT & Winds"
   ]
  },
  {
   "cell_type": "code",
   "execution_count": null,
   "id": "950069da-09b4-4848-b1aa-56ea6144a210",
   "metadata": {},
   "outputs": [],
   "source": [
    "import numpy as np\n",
    "import xarray as xr\n",
    "import matplotlib.pyplot as plt\n",
    "import xesmf as xe\n",
    "import nc_time_axis\n",
    "import cftime \n",
    "import cartopy.crs as ccrs\n",
    "import cartopy.feature as cfeature\n",
    "from cartopy.util import add_cyclic_point\n",
    "import matplotlib.colors as mcolors\n",
    "import matplotlib as mpl"
   ]
  },
  {
   "cell_type": "code",
   "execution_count": null,
   "id": "ba3e0aaf-38cf-4b46-b30a-ae5ec80f399f",
   "metadata": {},
   "outputs": [],
   "source": [
    "# Import dask\n",
    "import dask\n",
    "\n",
    "# Use dask jobqueue\n",
    "from dask_jobqueue import PBSCluster\n",
    "\n",
    "# Import a client\n",
    "from dask.distributed import Client\n",
    "\n",
    "# Setup your PBSCluster\n",
    "nmem1 = '4GiB' # PBSCluster specification\n",
    "nmem2 = '4GB' # pbs specification\n",
    "cluster = PBSCluster(\n",
    "    cores=1, # The number of cores you want\n",
    "    memory=nmem1, # Amount of memory\n",
    "    processes=1, # How many processes\n",
    "    queue='casper', # The type of queue to utilize (/glade/u/apps/dav/opt/usr/bin/execcasper)\n",
    "    local_directory='/glade/derecho/scratch/kdagon/dask-local', # Use your local directory\n",
    "    resource_spec='select=1:ncpus=1:mem='+nmem2, # Specify resources\n",
    "    account='P06010014', # Input your project ID here\n",
    "    walltime='02:30:00', # Amount of wall time\n",
    "    interface='ext', # Interface to use\n",
    ")\n",
    "\n",
    "# Scale up -- how to determine this number?\n",
    "cluster.scale(10)\n",
    "\n",
    "# Setup your client\n",
    "client = Client(cluster)"
   ]
  },
  {
   "cell_type": "code",
   "execution_count": null,
   "id": "3ba46a5f-7820-488e-b851-38e0db821ccd",
   "metadata": {},
   "outputs": [],
   "source": [
    "client"
   ]
  },
  {
   "cell_type": "code",
   "execution_count": null,
   "id": "a8d736b4-32c6-4e4e-a60b-1977a87a6b3d",
   "metadata": {},
   "outputs": [],
   "source": []
  }
 ],
 "metadata": {
  "kernelspec": {
   "display_name": "Python [conda env:PEx_v2]",
   "language": "python",
   "name": "conda-env-PEx_v2-py"
  },
  "language_info": {
   "codemirror_mode": {
    "name": "ipython",
    "version": 3
   },
   "file_extension": ".py",
   "mimetype": "text/x-python",
   "name": "python",
   "nbconvert_exporter": "python",
   "pygments_lexer": "ipython3",
   "version": "3.11.7"
  }
 },
 "nbformat": 4,
 "nbformat_minor": 5
}
